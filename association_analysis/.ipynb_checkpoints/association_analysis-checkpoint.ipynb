{
  "nbformat": 4,
  "nbformat_minor": 0,
  "metadata": {
    "kernelspec": {
      "display_name": "Python 3",
      "language": "python",
      "name": "python3"
    },
    "language_info": {
      "codemirror_mode": {
        "name": "ipython",
        "version": 3
      },
      "file_extension": ".py",
      "mimetype": "text/x-python",
      "name": "python",
      "nbconvert_exporter": "python",
      "pygments_lexer": "ipython3",
      "version": "3.7.4"
    },
    "colab": {
      "provenance": [],
      "toc_visible": true
    }
  },
  "cells": [
    {
      "cell_type": "markdown",
      "metadata": {
        "id": "qEYNF7XK27V5"
      },
      "source": [
        "# Lab session 6: Association Analysis"
      ]
    },
    {
      "cell_type": "markdown",
      "metadata": {
        "id": "QCcGe9WI27V9"
      },
      "source": [
        "## Introduction\n",
        "\n",
        "The purpose of this lab session is to provide you with an opportunity to gain experience in **association analysis**, covered in week 8, using typical Python libraries.\n",
        "\n",
        "- This lab is the first part of a **two-week assignment** that covers weeks 8 and 9, which is due on **Friday 3rd December 10am**.\n",
        "- The assignment will account for 10% of your overall grade. Questions in this lab sheet will contribute to 5% of your overall grade; questions in the lab sheet for week 9 will cover for another 5% of your overall grade.\n",
        "- <font color = 'maroon'>The last section of this notebook includes the questions that are assessed towards your final grade.</font> \n",
        "\n",
        "This session starts with a tutorial that uses examples to introduce you to the practical knowledge that you will need for the corresponding assignment. We highly recommend that you read the following tutorials if you need a gentler introduction to the libraries that we use:\n",
        "- [Mlxtend: Apriori](http://rasbt.github.io/mlxtend/user_guide/frequent_patterns/apriori/)\n",
        "- [Numpy quickstart tutorial](https://numpy.org/devdocs/user/quickstart.html)\n",
        "- [Numpy: basic broadcasting](https://numpy.org/doc/stable/user/basics.broadcasting.html)\n",
        "- [Pandas](https://pandas.pydata.org/pandas-docs/stable/user_guide/10min.html)\n",
        "- [Matplotlib](https://matplotlib.org/tutorials/introductory/pyplot.html)\n",
        "- [Seaborn](https://seaborn.pydata.org/tutorial/relational.html)\n",
        "- [Scikit-learn](https://scikit-learn.org/stable/tutorial/basic/tutorial.html)"
      ]
    },
    {
      "cell_type": "markdown",
      "metadata": {
        "id": "Q_wJcB2k27V-"
      },
      "source": [
        "## Important notes about the assignment: \n",
        "\n",
        "- **PLAGIARISM** <ins>is an irreversible non-negotiable failure in the course</ins> (if in doubt of what constitutes plagiarism, ask!). \n",
        "- The total assessed coursework is worth 40% of your final grade.\n",
        "- There will be 9 lab sessions and 4 assignments.\n",
        "- One assignment will cover 2 consecutive lab sessions and will be worth 10 marks (percentages of your final grade).\n",
        "- The submission cut-off date will be 7 days after the deadline and penalties will be applied for late submissions in accordance with the School policy on late submissions.\n",
        "- You are asked to submit a **report** that should answer the questions specified in the last section of this notebook. The report should be in a **single PDF document** (so **NOT** *doc, docx, notebook* etc). This single PDF document will include your answers to both the week 8 and week 9 labs.\n",
        "- No other means of submission other than submitting your assignment through the appropriate QM+ link are acceptable at any time. Submissions sent via email will **not** be considered.\n",
        "- Please name your report as follows: Assignment3-StudentName-StudentNumber.pdf\n",
        "- Cases of **Extenuating Circumstances (ECs)** have to go through the proper procedure of the School in due time. Only cases approved by the School in due time can be considered."
      ]
    },
    {
      "cell_type": "markdown",
      "metadata": {
        "id": "P-yc4eWZ27V_"
      },
      "source": [
        "## 1. Frequent itemsets"
      ]
    },
    {
      "cell_type": "markdown",
      "metadata": {
        "id": "nGYV9JHG27V_"
      },
      "source": [
        "In order to present functionalities for association analysis in Python, we adapt an example from the ``mlxtend`` documentation.\n",
        "\n",
        "Consider a dataset composed of five transactions. This dataset is represented by a list of five elements, each of which is a list of items bought during a trip to a supermarket."
      ]
    },
    {
      "cell_type": "code",
      "metadata": {
        "id": "bjvpeRXf27V_"
      },
      "source": [
        "dataset = [['Milk', 'Onion', 'Nutmeg', 'Kidney Beans', 'Eggs', 'Yogurt'],\n",
        "           ['Dill', 'Onion', 'Nutmeg', 'Kidney Beans', 'Eggs', 'Yogurt'],\n",
        "           ['Milk', 'Apple', 'Kidney Beans', 'Eggs'],\n",
        "           ['Milk', 'Unicorn', 'Corn', 'Kidney Beans', 'Yogurt'],\n",
        "           ['Corn', 'Onion', 'Onion', 'Kidney Beans', 'Ice cream', 'Eggs']]"
      ],
      "execution_count": null,
      "outputs": []
    },
    {
      "cell_type": "code",
      "metadata": {
        "colab": {
          "base_uri": "https://localhost:8080/"
        },
        "id": "b3o9Vx3U5UlK",
        "outputId": "2a204416-460e-4fc6-a1c7-0de9dcfa0a11"
      },
      "source": [
        "dataset"
      ],
      "execution_count": null,
      "outputs": [
        {
          "output_type": "execute_result",
          "data": {
            "text/plain": [
              "[['Milk', 'Onion', 'Nutmeg', 'Kidney Beans', 'Eggs', 'Yogurt'],\n",
              " ['Dill', 'Onion', 'Nutmeg', 'Kidney Beans', 'Eggs', 'Yogurt'],\n",
              " ['Milk', 'Apple', 'Kidney Beans', 'Eggs'],\n",
              " ['Milk', 'Unicorn', 'Corn', 'Kidney Beans', 'Yogurt'],\n",
              " ['Corn', 'Onion', 'Onion', 'Kidney Beans', 'Ice cream', 'Eggs']]"
            ]
          },
          "metadata": {},
          "execution_count": 2
        }
      ]
    },
    {
      "cell_type": "markdown",
      "metadata": {
        "id": "DqQeNJuN27WB"
      },
      "source": [
        "The library ``mlxtend`` requires that each transaction is represented by a binary vector where each element indicates the presence or absence of a specific item.\n",
        "\n",
        "The method ``TransactionEncoder.fit_transform`` can be used to convert the dataset created above into this expected format. This method returns a binary matrix (numpy array) where each transaction corresponds to a row and each column corresponds to an item."
      ]
    },
    {
      "cell_type": "code",
      "metadata": {
        "colab": {
          "base_uri": "https://localhost:8080/"
        },
        "id": "zYh96oAp27WC",
        "outputId": "afd57630-ec65-4195-ea0c-33804512ed55"
      },
      "source": [
        "from mlxtend.preprocessing import TransactionEncoder\n",
        "\n",
        "te = TransactionEncoder()\n",
        "te_ary = te.fit_transform(dataset)\n",
        "print(te_ary)"
      ],
      "execution_count": null,
      "outputs": [
        {
          "output_type": "stream",
          "name": "stdout",
          "text": [
            "[[False False False  True False  True  True  True  True False  True]\n",
            " [False False  True  True False  True False  True  True False  True]\n",
            " [ True False False  True False  True  True False False False False]\n",
            " [False  True False False False  True  True False False  True  True]\n",
            " [False  True False  True  True  True False False  True False False]]\n"
          ]
        }
      ]
    },
    {
      "cell_type": "markdown",
      "metadata": {
        "id": "C9VD9Y2q27WC"
      },
      "source": [
        "The item corresponding to each column is stored by the ``TransactionEncoder`` object in a variable called ``columns_``. This variable can be used to create a ``DataFrame`` that conveniently represents the transaction dataset."
      ]
    },
    {
      "cell_type": "code",
      "metadata": {
        "colab": {
          "base_uri": "https://localhost:8080/",
          "height": 206
        },
        "id": "amTrcNzZ27WD",
        "outputId": "b0fd6fa6-60b2-4d92-8cd4-baf1d169af10"
      },
      "source": [
        "import pandas as pd\n",
        "\n",
        "df = pd.DataFrame(te_ary, columns=te.columns_)\n",
        "display(df)"
      ],
      "execution_count": null,
      "outputs": [
        {
          "output_type": "display_data",
          "data": {
            "text/html": [
              "<div>\n",
              "<style scoped>\n",
              "    .dataframe tbody tr th:only-of-type {\n",
              "        vertical-align: middle;\n",
              "    }\n",
              "\n",
              "    .dataframe tbody tr th {\n",
              "        vertical-align: top;\n",
              "    }\n",
              "\n",
              "    .dataframe thead th {\n",
              "        text-align: right;\n",
              "    }\n",
              "</style>\n",
              "<table border=\"1\" class=\"dataframe\">\n",
              "  <thead>\n",
              "    <tr style=\"text-align: right;\">\n",
              "      <th></th>\n",
              "      <th>Apple</th>\n",
              "      <th>Corn</th>\n",
              "      <th>Dill</th>\n",
              "      <th>Eggs</th>\n",
              "      <th>Ice cream</th>\n",
              "      <th>Kidney Beans</th>\n",
              "      <th>Milk</th>\n",
              "      <th>Nutmeg</th>\n",
              "      <th>Onion</th>\n",
              "      <th>Unicorn</th>\n",
              "      <th>Yogurt</th>\n",
              "    </tr>\n",
              "  </thead>\n",
              "  <tbody>\n",
              "    <tr>\n",
              "      <th>0</th>\n",
              "      <td>False</td>\n",
              "      <td>False</td>\n",
              "      <td>False</td>\n",
              "      <td>True</td>\n",
              "      <td>False</td>\n",
              "      <td>True</td>\n",
              "      <td>True</td>\n",
              "      <td>True</td>\n",
              "      <td>True</td>\n",
              "      <td>False</td>\n",
              "      <td>True</td>\n",
              "    </tr>\n",
              "    <tr>\n",
              "      <th>1</th>\n",
              "      <td>False</td>\n",
              "      <td>False</td>\n",
              "      <td>True</td>\n",
              "      <td>True</td>\n",
              "      <td>False</td>\n",
              "      <td>True</td>\n",
              "      <td>False</td>\n",
              "      <td>True</td>\n",
              "      <td>True</td>\n",
              "      <td>False</td>\n",
              "      <td>True</td>\n",
              "    </tr>\n",
              "    <tr>\n",
              "      <th>2</th>\n",
              "      <td>True</td>\n",
              "      <td>False</td>\n",
              "      <td>False</td>\n",
              "      <td>True</td>\n",
              "      <td>False</td>\n",
              "      <td>True</td>\n",
              "      <td>True</td>\n",
              "      <td>False</td>\n",
              "      <td>False</td>\n",
              "      <td>False</td>\n",
              "      <td>False</td>\n",
              "    </tr>\n",
              "    <tr>\n",
              "      <th>3</th>\n",
              "      <td>False</td>\n",
              "      <td>True</td>\n",
              "      <td>False</td>\n",
              "      <td>False</td>\n",
              "      <td>False</td>\n",
              "      <td>True</td>\n",
              "      <td>True</td>\n",
              "      <td>False</td>\n",
              "      <td>False</td>\n",
              "      <td>True</td>\n",
              "      <td>True</td>\n",
              "    </tr>\n",
              "    <tr>\n",
              "      <th>4</th>\n",
              "      <td>False</td>\n",
              "      <td>True</td>\n",
              "      <td>False</td>\n",
              "      <td>True</td>\n",
              "      <td>True</td>\n",
              "      <td>True</td>\n",
              "      <td>False</td>\n",
              "      <td>False</td>\n",
              "      <td>True</td>\n",
              "      <td>False</td>\n",
              "      <td>False</td>\n",
              "    </tr>\n",
              "  </tbody>\n",
              "</table>\n",
              "</div>"
            ],
            "text/plain": [
              "   Apple   Corn   Dill   Eggs  Ice cream  ...   Milk  Nutmeg  Onion  Unicorn  Yogurt\n",
              "0  False  False  False   True      False  ...   True    True   True    False    True\n",
              "1  False  False   True   True      False  ...  False    True   True    False    True\n",
              "2   True  False  False   True      False  ...   True   False  False    False   False\n",
              "3  False   True  False  False      False  ...   True   False  False     True    True\n",
              "4  False   True  False   True       True  ...  False   False   True    False   False\n",
              "\n",
              "[5 rows x 11 columns]"
            ]
          },
          "metadata": {}
        }
      ]
    },
    {
      "cell_type": "markdown",
      "metadata": {
        "id": "gTU_uYVz27WD"
      },
      "source": [
        "The ``mlxtend`` function ``apriori`` receives a ``DataFrame`` that represents a transaction dataset and a parameter that specifies the support threshold. This function returns a ``DataFrame`` that contains one row for each frequent itemset. Each row contains a python ``frozenset`` that represents the itemset (by column indices) and a number that represents the support of this itemset."
      ]
    },
    {
      "cell_type": "code",
      "metadata": {
        "colab": {
          "base_uri": "https://localhost:8080/",
          "height": 413
        },
        "id": "VKlL9cya27WD",
        "outputId": "29276458-98ff-4f3d-b647-48d8c7de2671"
      },
      "source": [
        "from mlxtend.frequent_patterns import apriori\n",
        "\n",
        "frequent_itemsets = apriori(df, min_support=0.6)\n",
        "display(frequent_itemsets)\n",
        "\n",
        "itemset = frequent_itemsets.loc[5]\n",
        "print('Itemset: {0}. Support: {1}.'.format(itemset['itemsets'], itemset['support']))"
      ],
      "execution_count": null,
      "outputs": [
        {
          "output_type": "display_data",
          "data": {
            "text/html": [
              "<div>\n",
              "<style scoped>\n",
              "    .dataframe tbody tr th:only-of-type {\n",
              "        vertical-align: middle;\n",
              "    }\n",
              "\n",
              "    .dataframe tbody tr th {\n",
              "        vertical-align: top;\n",
              "    }\n",
              "\n",
              "    .dataframe thead th {\n",
              "        text-align: right;\n",
              "    }\n",
              "</style>\n",
              "<table border=\"1\" class=\"dataframe\">\n",
              "  <thead>\n",
              "    <tr style=\"text-align: right;\">\n",
              "      <th></th>\n",
              "      <th>support</th>\n",
              "      <th>itemsets</th>\n",
              "    </tr>\n",
              "  </thead>\n",
              "  <tbody>\n",
              "    <tr>\n",
              "      <th>0</th>\n",
              "      <td>0.8</td>\n",
              "      <td>(3)</td>\n",
              "    </tr>\n",
              "    <tr>\n",
              "      <th>1</th>\n",
              "      <td>1.0</td>\n",
              "      <td>(5)</td>\n",
              "    </tr>\n",
              "    <tr>\n",
              "      <th>2</th>\n",
              "      <td>0.6</td>\n",
              "      <td>(6)</td>\n",
              "    </tr>\n",
              "    <tr>\n",
              "      <th>3</th>\n",
              "      <td>0.6</td>\n",
              "      <td>(8)</td>\n",
              "    </tr>\n",
              "    <tr>\n",
              "      <th>4</th>\n",
              "      <td>0.6</td>\n",
              "      <td>(10)</td>\n",
              "    </tr>\n",
              "    <tr>\n",
              "      <th>5</th>\n",
              "      <td>0.8</td>\n",
              "      <td>(3, 5)</td>\n",
              "    </tr>\n",
              "    <tr>\n",
              "      <th>6</th>\n",
              "      <td>0.6</td>\n",
              "      <td>(8, 3)</td>\n",
              "    </tr>\n",
              "    <tr>\n",
              "      <th>7</th>\n",
              "      <td>0.6</td>\n",
              "      <td>(5, 6)</td>\n",
              "    </tr>\n",
              "    <tr>\n",
              "      <th>8</th>\n",
              "      <td>0.6</td>\n",
              "      <td>(8, 5)</td>\n",
              "    </tr>\n",
              "    <tr>\n",
              "      <th>9</th>\n",
              "      <td>0.6</td>\n",
              "      <td>(10, 5)</td>\n",
              "    </tr>\n",
              "    <tr>\n",
              "      <th>10</th>\n",
              "      <td>0.6</td>\n",
              "      <td>(8, 3, 5)</td>\n",
              "    </tr>\n",
              "  </tbody>\n",
              "</table>\n",
              "</div>"
            ],
            "text/plain": [
              "    support   itemsets\n",
              "0       0.8        (3)\n",
              "1       1.0        (5)\n",
              "2       0.6        (6)\n",
              "3       0.6        (8)\n",
              "4       0.6       (10)\n",
              "5       0.8     (3, 5)\n",
              "6       0.6     (8, 3)\n",
              "7       0.6     (5, 6)\n",
              "8       0.6     (8, 5)\n",
              "9       0.6    (10, 5)\n",
              "10      0.6  (8, 3, 5)"
            ]
          },
          "metadata": {}
        },
        {
          "output_type": "stream",
          "name": "stdout",
          "text": [
            "Itemset: frozenset({3, 5}). Support: 0.8.\n"
          ]
        }
      ]
    },
    {
      "cell_type": "code",
      "metadata": {
        "colab": {
          "base_uri": "https://localhost:8080/"
        },
        "id": "No4mUAUnCM_f",
        "outputId": "48e2489f-d3bc-449a-c472-5bbd7f5f006f"
      },
      "source": [
        "frequent_itemsets.loc[5]['itemsets']"
      ],
      "execution_count": null,
      "outputs": [
        {
          "output_type": "execute_result",
          "data": {
            "text/plain": [
              "frozenset({3, 5})"
            ]
          },
          "metadata": {},
          "execution_count": 26
        }
      ]
    },
    {
      "cell_type": "markdown",
      "metadata": {
        "id": "9Xo6Vh7A27WD"
      },
      "source": [
        "Conveniently, if the parameter ``use_colnames`` is set to ``True``,  the ``mlxtend`` function ``apriori`` may instead return a ``DataFrame`` that represents itemsets by ``frozensets`` of item names."
      ]
    },
    {
      "cell_type": "code",
      "metadata": {
        "colab": {
          "base_uri": "https://localhost:8080/",
          "height": 394
        },
        "id": "_f1WxOtp27WD",
        "outputId": "c4d53327-52e0-4a25-c87b-ff90b2456f85"
      },
      "source": [
        "frequent_itemsets = apriori(df, min_support=0.6, use_colnames=True)\n",
        "display(frequent_itemsets)"
      ],
      "execution_count": null,
      "outputs": [
        {
          "output_type": "display_data",
          "data": {
            "text/html": [
              "<div>\n",
              "<style scoped>\n",
              "    .dataframe tbody tr th:only-of-type {\n",
              "        vertical-align: middle;\n",
              "    }\n",
              "\n",
              "    .dataframe tbody tr th {\n",
              "        vertical-align: top;\n",
              "    }\n",
              "\n",
              "    .dataframe thead th {\n",
              "        text-align: right;\n",
              "    }\n",
              "</style>\n",
              "<table border=\"1\" class=\"dataframe\">\n",
              "  <thead>\n",
              "    <tr style=\"text-align: right;\">\n",
              "      <th></th>\n",
              "      <th>support</th>\n",
              "      <th>itemsets</th>\n",
              "    </tr>\n",
              "  </thead>\n",
              "  <tbody>\n",
              "    <tr>\n",
              "      <th>0</th>\n",
              "      <td>0.8</td>\n",
              "      <td>(Eggs)</td>\n",
              "    </tr>\n",
              "    <tr>\n",
              "      <th>1</th>\n",
              "      <td>1.0</td>\n",
              "      <td>(Kidney Beans)</td>\n",
              "    </tr>\n",
              "    <tr>\n",
              "      <th>2</th>\n",
              "      <td>0.6</td>\n",
              "      <td>(Milk)</td>\n",
              "    </tr>\n",
              "    <tr>\n",
              "      <th>3</th>\n",
              "      <td>0.6</td>\n",
              "      <td>(Onion)</td>\n",
              "    </tr>\n",
              "    <tr>\n",
              "      <th>4</th>\n",
              "      <td>0.6</td>\n",
              "      <td>(Yogurt)</td>\n",
              "    </tr>\n",
              "    <tr>\n",
              "      <th>5</th>\n",
              "      <td>0.8</td>\n",
              "      <td>(Eggs, Kidney Beans)</td>\n",
              "    </tr>\n",
              "    <tr>\n",
              "      <th>6</th>\n",
              "      <td>0.6</td>\n",
              "      <td>(Eggs, Onion)</td>\n",
              "    </tr>\n",
              "    <tr>\n",
              "      <th>7</th>\n",
              "      <td>0.6</td>\n",
              "      <td>(Milk, Kidney Beans)</td>\n",
              "    </tr>\n",
              "    <tr>\n",
              "      <th>8</th>\n",
              "      <td>0.6</td>\n",
              "      <td>(Kidney Beans, Onion)</td>\n",
              "    </tr>\n",
              "    <tr>\n",
              "      <th>9</th>\n",
              "      <td>0.6</td>\n",
              "      <td>(Yogurt, Kidney Beans)</td>\n",
              "    </tr>\n",
              "    <tr>\n",
              "      <th>10</th>\n",
              "      <td>0.6</td>\n",
              "      <td>(Eggs, Kidney Beans, Onion)</td>\n",
              "    </tr>\n",
              "  </tbody>\n",
              "</table>\n",
              "</div>"
            ],
            "text/plain": [
              "    support                     itemsets\n",
              "0       0.8                       (Eggs)\n",
              "1       1.0               (Kidney Beans)\n",
              "2       0.6                       (Milk)\n",
              "3       0.6                      (Onion)\n",
              "4       0.6                     (Yogurt)\n",
              "5       0.8         (Eggs, Kidney Beans)\n",
              "6       0.6                (Eggs, Onion)\n",
              "7       0.6         (Milk, Kidney Beans)\n",
              "8       0.6        (Kidney Beans, Onion)\n",
              "9       0.6       (Yogurt, Kidney Beans)\n",
              "10      0.6  (Eggs, Kidney Beans, Onion)"
            ]
          },
          "metadata": {}
        }
      ]
    },
    {
      "cell_type": "markdown",
      "metadata": {
        "id": "nnS2H5r427WE"
      },
      "source": [
        "Using typical ``pandas`` functionalities, it is easy to include a column in such a ``DataFrame`` to register the number of items in each frequent itemset, which can be used to filter itemsets by length."
      ]
    },
    {
      "cell_type": "code",
      "metadata": {
        "colab": {
          "base_uri": "https://localhost:8080/",
          "height": 99
        },
        "id": "_ssv0U2A27WE",
        "outputId": "77693259-aa0c-47bd-d5a7-f5ea1e1dfeb3"
      },
      "source": [
        "frequent_itemsets['length'] = frequent_itemsets['itemsets'].apply(lambda x: len(x)) # length of each frozenset\n",
        "print('Frequent 3-itemsets:')\n",
        "display(frequent_itemsets[frequent_itemsets['length'] == 3])"
      ],
      "execution_count": null,
      "outputs": [
        {
          "output_type": "stream",
          "name": "stdout",
          "text": [
            "Frequent 3-itemsets:\n"
          ]
        },
        {
          "output_type": "display_data",
          "data": {
            "text/html": [
              "<div>\n",
              "<style scoped>\n",
              "    .dataframe tbody tr th:only-of-type {\n",
              "        vertical-align: middle;\n",
              "    }\n",
              "\n",
              "    .dataframe tbody tr th {\n",
              "        vertical-align: top;\n",
              "    }\n",
              "\n",
              "    .dataframe thead th {\n",
              "        text-align: right;\n",
              "    }\n",
              "</style>\n",
              "<table border=\"1\" class=\"dataframe\">\n",
              "  <thead>\n",
              "    <tr style=\"text-align: right;\">\n",
              "      <th></th>\n",
              "      <th>support</th>\n",
              "      <th>itemsets</th>\n",
              "      <th>length</th>\n",
              "    </tr>\n",
              "  </thead>\n",
              "  <tbody>\n",
              "    <tr>\n",
              "      <th>10</th>\n",
              "      <td>0.6</td>\n",
              "      <td>(Onion, Kidney Beans, Eggs)</td>\n",
              "      <td>3</td>\n",
              "    </tr>\n",
              "  </tbody>\n",
              "</table>\n",
              "</div>"
            ],
            "text/plain": [
              "    support                     itemsets  length\n",
              "10      0.6  (Onion, Kidney Beans, Eggs)       3"
            ]
          },
          "metadata": {}
        }
      ]
    },
    {
      "cell_type": "code",
      "metadata": {
        "colab": {
          "base_uri": "https://localhost:8080/"
        },
        "id": "qqROWseGBc0A",
        "outputId": "24f9114c-02f4-4cfe-bf6a-6f6e6f29c1dd"
      },
      "source": [
        "frequent_itemsets.iterrows()"
      ],
      "execution_count": null,
      "outputs": [
        {
          "output_type": "execute_result",
          "data": {
            "text/plain": [
              "<generator object DataFrame.iterrows at 0x7fd26e1e59d0>"
            ]
          },
          "metadata": {},
          "execution_count": 12
        }
      ]
    },
    {
      "cell_type": "markdown",
      "metadata": {
        "id": "FIHUsjEz27WE"
      },
      "source": [
        "It is also easy to create a ``dict`` that maps any frequent itemset (represented by a ``frozenset``) to its support."
      ]
    },
    {
      "cell_type": "code",
      "metadata": {
        "colab": {
          "base_uri": "https://localhost:8080/"
        },
        "id": "DTzwUiPH27WE",
        "outputId": "f67392f7-9de3-4832-8b66-16e62eb8048e"
      },
      "source": [
        "support = {}\n",
        "for _, row in frequent_itemsets.iterrows():\n",
        "    support[row['itemsets']] = row['support']\n",
        "    print(row['itemsets'])\n",
        "\n",
        "itemset = frozenset(['Onion', 'Eggs'])\n",
        "print('Itemset: {0}. Support: {1}.'.format(itemset, support[itemset]))"
      ],
      "execution_count": null,
      "outputs": [
        {
          "output_type": "stream",
          "name": "stdout",
          "text": [
            "frozenset({'Eggs'})\n",
            "frozenset({'Kidney Beans'})\n",
            "frozenset({'Milk'})\n",
            "frozenset({'Onion'})\n",
            "frozenset({'Yogurt'})\n",
            "frozenset({'Eggs', 'Kidney Beans'})\n",
            "frozenset({'Onion', 'Eggs'})\n",
            "frozenset({'Milk', 'Kidney Beans'})\n",
            "frozenset({'Onion', 'Kidney Beans'})\n",
            "frozenset({'Yogurt', 'Kidney Beans'})\n",
            "frozenset({'Onion', 'Eggs', 'Kidney Beans'})\n",
            "Itemset: frozenset({'Onion', 'Eggs'}). Support: 0.6.\n"
          ]
        }
      ]
    },
    {
      "cell_type": "code",
      "metadata": {
        "colab": {
          "base_uri": "https://localhost:8080/"
        },
        "id": "nuSO9Un84MdV",
        "outputId": "c5d0ea99-15e5-412b-f05d-ccd8e7f3cd04"
      },
      "source": [
        "support"
      ],
      "execution_count": null,
      "outputs": [
        {
          "output_type": "execute_result",
          "data": {
            "text/plain": [
              "{frozenset({'Eggs'}): 0.8,\n",
              " frozenset({'Kidney Beans'}): 1.0,\n",
              " frozenset({'Milk'}): 0.6,\n",
              " frozenset({'Onion'}): 0.6,\n",
              " frozenset({'Yogurt'}): 0.6,\n",
              " frozenset({'Eggs', 'Kidney Beans'}): 0.8,\n",
              " frozenset({'Eggs', 'Onion'}): 0.6,\n",
              " frozenset({'Kidney Beans', 'Milk'}): 0.6,\n",
              " frozenset({'Kidney Beans', 'Onion'}): 0.6,\n",
              " frozenset({'Kidney Beans', 'Yogurt'}): 0.6,\n",
              " frozenset({'Eggs', 'Kidney Beans', 'Onion'}): 0.6}"
            ]
          },
          "metadata": {},
          "execution_count": 20
        }
      ]
    },
    {
      "cell_type": "markdown",
      "metadata": {
        "id": "A732DQxM27WE"
      },
      "source": [
        "## 2. Association rules"
      ]
    },
    {
      "cell_type": "markdown",
      "metadata": {
        "id": "AsHBxYQp27WE"
      },
      "source": [
        "The ``mlxtend`` function ``association_rules`` receives a ``DataFrame`` that represents the set of frequent itemsets and returns a ``DataFrame`` that represents strong association rules for a specified confidence threshold. Each row in the resulting  ``DataFrame`` contains an association rule together with some potentially useful measures (we have not covered lift, leverage, or conviction). "
      ]
    },
    {
      "cell_type": "code",
      "metadata": {
        "colab": {
          "base_uri": "https://localhost:8080/",
          "height": 425
        },
        "id": "vNHDJp1q27WE",
        "outputId": "8f048783-d81d-4f9f-a841-c428c5a42e97"
      },
      "source": [
        "from mlxtend.frequent_patterns import association_rules\n",
        "\n",
        "strong_rules = association_rules(frequent_itemsets, metric=\"confidence\", min_threshold=0.7)\n",
        "display(strong_rules)"
      ],
      "execution_count": null,
      "outputs": [
        {
          "output_type": "display_data",
          "data": {
            "text/html": [
              "<div>\n",
              "<style scoped>\n",
              "    .dataframe tbody tr th:only-of-type {\n",
              "        vertical-align: middle;\n",
              "    }\n",
              "\n",
              "    .dataframe tbody tr th {\n",
              "        vertical-align: top;\n",
              "    }\n",
              "\n",
              "    .dataframe thead th {\n",
              "        text-align: right;\n",
              "    }\n",
              "</style>\n",
              "<table border=\"1\" class=\"dataframe\">\n",
              "  <thead>\n",
              "    <tr style=\"text-align: right;\">\n",
              "      <th></th>\n",
              "      <th>antecedents</th>\n",
              "      <th>consequents</th>\n",
              "      <th>antecedent support</th>\n",
              "      <th>consequent support</th>\n",
              "      <th>support</th>\n",
              "      <th>confidence</th>\n",
              "      <th>lift</th>\n",
              "      <th>leverage</th>\n",
              "      <th>conviction</th>\n",
              "    </tr>\n",
              "  </thead>\n",
              "  <tbody>\n",
              "    <tr>\n",
              "      <th>0</th>\n",
              "      <td>(Eggs)</td>\n",
              "      <td>(Kidney Beans)</td>\n",
              "      <td>0.8</td>\n",
              "      <td>1.0</td>\n",
              "      <td>0.8</td>\n",
              "      <td>1.00</td>\n",
              "      <td>1.00</td>\n",
              "      <td>0.00</td>\n",
              "      <td>inf</td>\n",
              "    </tr>\n",
              "    <tr>\n",
              "      <th>1</th>\n",
              "      <td>(Kidney Beans)</td>\n",
              "      <td>(Eggs)</td>\n",
              "      <td>1.0</td>\n",
              "      <td>0.8</td>\n",
              "      <td>0.8</td>\n",
              "      <td>0.80</td>\n",
              "      <td>1.00</td>\n",
              "      <td>0.00</td>\n",
              "      <td>1.0</td>\n",
              "    </tr>\n",
              "    <tr>\n",
              "      <th>2</th>\n",
              "      <td>(Eggs)</td>\n",
              "      <td>(Onion)</td>\n",
              "      <td>0.8</td>\n",
              "      <td>0.6</td>\n",
              "      <td>0.6</td>\n",
              "      <td>0.75</td>\n",
              "      <td>1.25</td>\n",
              "      <td>0.12</td>\n",
              "      <td>1.6</td>\n",
              "    </tr>\n",
              "    <tr>\n",
              "      <th>3</th>\n",
              "      <td>(Onion)</td>\n",
              "      <td>(Eggs)</td>\n",
              "      <td>0.6</td>\n",
              "      <td>0.8</td>\n",
              "      <td>0.6</td>\n",
              "      <td>1.00</td>\n",
              "      <td>1.25</td>\n",
              "      <td>0.12</td>\n",
              "      <td>inf</td>\n",
              "    </tr>\n",
              "    <tr>\n",
              "      <th>4</th>\n",
              "      <td>(Milk)</td>\n",
              "      <td>(Kidney Beans)</td>\n",
              "      <td>0.6</td>\n",
              "      <td>1.0</td>\n",
              "      <td>0.6</td>\n",
              "      <td>1.00</td>\n",
              "      <td>1.00</td>\n",
              "      <td>0.00</td>\n",
              "      <td>inf</td>\n",
              "    </tr>\n",
              "    <tr>\n",
              "      <th>5</th>\n",
              "      <td>(Onion)</td>\n",
              "      <td>(Kidney Beans)</td>\n",
              "      <td>0.6</td>\n",
              "      <td>1.0</td>\n",
              "      <td>0.6</td>\n",
              "      <td>1.00</td>\n",
              "      <td>1.00</td>\n",
              "      <td>0.00</td>\n",
              "      <td>inf</td>\n",
              "    </tr>\n",
              "    <tr>\n",
              "      <th>6</th>\n",
              "      <td>(Yogurt)</td>\n",
              "      <td>(Kidney Beans)</td>\n",
              "      <td>0.6</td>\n",
              "      <td>1.0</td>\n",
              "      <td>0.6</td>\n",
              "      <td>1.00</td>\n",
              "      <td>1.00</td>\n",
              "      <td>0.00</td>\n",
              "      <td>inf</td>\n",
              "    </tr>\n",
              "    <tr>\n",
              "      <th>7</th>\n",
              "      <td>(Eggs, Kidney Beans)</td>\n",
              "      <td>(Onion)</td>\n",
              "      <td>0.8</td>\n",
              "      <td>0.6</td>\n",
              "      <td>0.6</td>\n",
              "      <td>0.75</td>\n",
              "      <td>1.25</td>\n",
              "      <td>0.12</td>\n",
              "      <td>1.6</td>\n",
              "    </tr>\n",
              "    <tr>\n",
              "      <th>8</th>\n",
              "      <td>(Eggs, Onion)</td>\n",
              "      <td>(Kidney Beans)</td>\n",
              "      <td>0.6</td>\n",
              "      <td>1.0</td>\n",
              "      <td>0.6</td>\n",
              "      <td>1.00</td>\n",
              "      <td>1.00</td>\n",
              "      <td>0.00</td>\n",
              "      <td>inf</td>\n",
              "    </tr>\n",
              "    <tr>\n",
              "      <th>9</th>\n",
              "      <td>(Onion, Kidney Beans)</td>\n",
              "      <td>(Eggs)</td>\n",
              "      <td>0.6</td>\n",
              "      <td>0.8</td>\n",
              "      <td>0.6</td>\n",
              "      <td>1.00</td>\n",
              "      <td>1.25</td>\n",
              "      <td>0.12</td>\n",
              "      <td>inf</td>\n",
              "    </tr>\n",
              "    <tr>\n",
              "      <th>10</th>\n",
              "      <td>(Eggs)</td>\n",
              "      <td>(Onion, Kidney Beans)</td>\n",
              "      <td>0.8</td>\n",
              "      <td>0.6</td>\n",
              "      <td>0.6</td>\n",
              "      <td>0.75</td>\n",
              "      <td>1.25</td>\n",
              "      <td>0.12</td>\n",
              "      <td>1.6</td>\n",
              "    </tr>\n",
              "    <tr>\n",
              "      <th>11</th>\n",
              "      <td>(Onion)</td>\n",
              "      <td>(Eggs, Kidney Beans)</td>\n",
              "      <td>0.6</td>\n",
              "      <td>0.8</td>\n",
              "      <td>0.6</td>\n",
              "      <td>1.00</td>\n",
              "      <td>1.25</td>\n",
              "      <td>0.12</td>\n",
              "      <td>inf</td>\n",
              "    </tr>\n",
              "  </tbody>\n",
              "</table>\n",
              "</div>"
            ],
            "text/plain": [
              "              antecedents            consequents  ...  leverage  conviction\n",
              "0                  (Eggs)         (Kidney Beans)  ...      0.00         inf\n",
              "1          (Kidney Beans)                 (Eggs)  ...      0.00         1.0\n",
              "2                  (Eggs)                (Onion)  ...      0.12         1.6\n",
              "3                 (Onion)                 (Eggs)  ...      0.12         inf\n",
              "4                  (Milk)         (Kidney Beans)  ...      0.00         inf\n",
              "5                 (Onion)         (Kidney Beans)  ...      0.00         inf\n",
              "6                (Yogurt)         (Kidney Beans)  ...      0.00         inf\n",
              "7    (Eggs, Kidney Beans)                (Onion)  ...      0.12         1.6\n",
              "8           (Eggs, Onion)         (Kidney Beans)  ...      0.00         inf\n",
              "9   (Onion, Kidney Beans)                 (Eggs)  ...      0.12         inf\n",
              "10                 (Eggs)  (Onion, Kidney Beans)  ...      0.12         1.6\n",
              "11                (Onion)   (Eggs, Kidney Beans)  ...      0.12         inf\n",
              "\n",
              "[12 rows x 9 columns]"
            ]
          },
          "metadata": {}
        }
      ]
    },
    {
      "cell_type": "code",
      "metadata": {
        "colab": {
          "base_uri": "https://localhost:8080/"
        },
        "id": "g8Sud324-rZG",
        "outputId": "e247d39f-0d53-4324-8ffa-c14aa5512f64"
      },
      "source": [],
      "execution_count": null,
      "outputs": [
        {
          "output_type": "stream",
          "name": "stdout",
          "text": [
            "the imbalance ratio for A and B is:  0.2500000000000001\n"
          ]
        }
      ]
    },
    {
      "cell_type": "markdown",
      "metadata": {
        "id": "kOpteCGx27WF"
      },
      "source": [
        "## <font color = 'maroon'>Assignment 3 [Part 1 of 2]</font>\n",
        "\n",
        "Questions 1-6 are pen-and-paper exercises (brief answers and justifications are expected). Questions 7-8 are coding exercises. In all responses, please show your workings (equations, justifications, or code when applicable).\n",
        "\n",
        "1. What is the advantage of using the Apriori algorithm in comparison with computing the support of every subset of an itemset in order to find the frequent itemsets in a transaction dataset? [0.5 marks out of 5]\n",
        "2. Let $\\mathcal{L}_1$ denote the set of frequent $1$-itemsets. For $k \\geq 2$, why must every frequent $k$-itemset be a superset of an itemset in $\\mathcal{L}_1$? [0.5 marks out of 5]\n",
        "3. Let $\\mathcal{L}_2 = \\{ \\{1,2\\}, \\{1,4\\}, \\{2, 3\\}, \\{2, 4\\}, \\{3, 5\\}\\}$. Compute the set of candidates $\\mathcal{C}_3$ that is obtained by joining every pair of joinable itemsets from $\\mathcal{L}_2$. [0.5 marks out of 5]\n",
        "4. Let $S_1$ denote the support of the association rule $\\{ \\text{boarding pass, passport} \\} \\Rightarrow \\{ \\text{flight} \\}$. Let $S_2$ denote the support of the association rule $\\{ \\text{boarding pass} \\} \\Rightarrow \\{ \\text{flight} \\}$. What is the relationship between $S_1$ and $S_2$? [0.5 marks out of 5]\n",
        "5. What is the support of the rule $\\{  \\} \\Rightarrow \\{ \\text{Eggs} \\}$ in the transaction dataset used in Section 1 of this lab notebook? [0.5 marks out of 5]\n",
        "6. In the transaction dataset used in the tutorial presented above, what is the maximum length of a frequent itemset for a support threshold of 0.2? [0.5 marks out of 5]\n",
        "7. Implement a function that computes the Kulczynski measure of two itemsets $\\mathcal{A}$ and $\\mathcal{B}$. Use your function to compute the Kulczynski measure for itemsets $\\mathcal{A} = \\{\\text{Onion}\\}$ and $\\mathcal{B} = \\{\\text{Kidney Beans}, \\text{Eggs}\\}$ in the transaction dataset used in this lab notebook. [1 mark out of 5]\n",
        "8. Implement a function that computes the imbalance ratio of two itemsets $\\mathcal{A}$ and $\\mathcal{B}$. Use your function to compute the imbalance ratio for itemsets $\\mathcal{A} = \\{\\text{Onion}\\}$ and $\\mathcal{B} = \\{\\text{Kidney Beans}, \\text{Eggs}\\}$ in the transaction dataset used in this lab notebook. [1 mark out of 5]\n"
      ]
    },
    {
      "cell_type": "code",
      "metadata": {
        "colab": {
          "base_uri": "https://localhost:8080/",
          "height": 803
        },
        "id": "JMb4kPjhy-Fk",
        "outputId": "dd054683-3f82-4b3b-ddc1-1ce4aa9e3ddc"
      },
      "source": [
        "#Q7.copy the existing code from the lab session\n",
        "dataset = [['Milk', 'Onion', 'Nutmeg', 'Kidney Beans', 'Eggs', 'Yogurt'],\n",
        "           ['Dill', 'Onion', 'Nutmeg', 'Kidney Beans', 'Eggs', 'Yogurt'],\n",
        "           ['Milk', 'Apple', 'Kidney Beans', 'Eggs'],\n",
        "           ['Milk', 'Unicorn', 'Corn', 'Kidney Beans', 'Yogurt'],\n",
        "           ['Corn', 'Onion', 'Onion', 'Kidney Beans', 'Ice cream', 'Eggs']]\n",
        "\n",
        "from mlxtend.preprocessing import TransactionEncoder\n",
        "te = TransactionEncoder()\n",
        "te_ary = te.fit_transform(dataset)\n",
        "\n",
        "import pandas as pd\n",
        "df = pd.DataFrame(te_ary, columns=te.columns_)\n",
        "\n",
        "from mlxtend.frequent_patterns import apriori\n",
        "frequent_itemsets = apriori(df, min_support=0.6)\n",
        "\n",
        "frequent_itemsets = apriori(df, min_support=0.6, use_colnames=True)\n",
        "display(frequent_itemsets)\n",
        "\n",
        "from mlxtend.frequent_patterns import association_rules\n",
        "strong_rules = association_rules(frequent_itemsets, metric=\"confidence\", min_threshold=0.7)\n",
        "display(strong_rules)\n"
      ],
      "execution_count": null,
      "outputs": [
        {
          "output_type": "display_data",
          "data": {
            "text/html": [
              "<div>\n",
              "<style scoped>\n",
              "    .dataframe tbody tr th:only-of-type {\n",
              "        vertical-align: middle;\n",
              "    }\n",
              "\n",
              "    .dataframe tbody tr th {\n",
              "        vertical-align: top;\n",
              "    }\n",
              "\n",
              "    .dataframe thead th {\n",
              "        text-align: right;\n",
              "    }\n",
              "</style>\n",
              "<table border=\"1\" class=\"dataframe\">\n",
              "  <thead>\n",
              "    <tr style=\"text-align: right;\">\n",
              "      <th></th>\n",
              "      <th>support</th>\n",
              "      <th>itemsets</th>\n",
              "    </tr>\n",
              "  </thead>\n",
              "  <tbody>\n",
              "    <tr>\n",
              "      <th>0</th>\n",
              "      <td>0.8</td>\n",
              "      <td>(Eggs)</td>\n",
              "    </tr>\n",
              "    <tr>\n",
              "      <th>1</th>\n",
              "      <td>1.0</td>\n",
              "      <td>(Kidney Beans)</td>\n",
              "    </tr>\n",
              "    <tr>\n",
              "      <th>2</th>\n",
              "      <td>0.6</td>\n",
              "      <td>(Milk)</td>\n",
              "    </tr>\n",
              "    <tr>\n",
              "      <th>3</th>\n",
              "      <td>0.6</td>\n",
              "      <td>(Onion)</td>\n",
              "    </tr>\n",
              "    <tr>\n",
              "      <th>4</th>\n",
              "      <td>0.6</td>\n",
              "      <td>(Yogurt)</td>\n",
              "    </tr>\n",
              "    <tr>\n",
              "      <th>5</th>\n",
              "      <td>0.8</td>\n",
              "      <td>(Kidney Beans, Eggs)</td>\n",
              "    </tr>\n",
              "    <tr>\n",
              "      <th>6</th>\n",
              "      <td>0.6</td>\n",
              "      <td>(Onion, Eggs)</td>\n",
              "    </tr>\n",
              "    <tr>\n",
              "      <th>7</th>\n",
              "      <td>0.6</td>\n",
              "      <td>(Milk, Kidney Beans)</td>\n",
              "    </tr>\n",
              "    <tr>\n",
              "      <th>8</th>\n",
              "      <td>0.6</td>\n",
              "      <td>(Onion, Kidney Beans)</td>\n",
              "    </tr>\n",
              "    <tr>\n",
              "      <th>9</th>\n",
              "      <td>0.6</td>\n",
              "      <td>(Yogurt, Kidney Beans)</td>\n",
              "    </tr>\n",
              "    <tr>\n",
              "      <th>10</th>\n",
              "      <td>0.6</td>\n",
              "      <td>(Onion, Kidney Beans, Eggs)</td>\n",
              "    </tr>\n",
              "  </tbody>\n",
              "</table>\n",
              "</div>"
            ],
            "text/plain": [
              "    support                     itemsets\n",
              "0       0.8                       (Eggs)\n",
              "1       1.0               (Kidney Beans)\n",
              "2       0.6                       (Milk)\n",
              "3       0.6                      (Onion)\n",
              "4       0.6                     (Yogurt)\n",
              "5       0.8         (Kidney Beans, Eggs)\n",
              "6       0.6                (Onion, Eggs)\n",
              "7       0.6         (Milk, Kidney Beans)\n",
              "8       0.6        (Onion, Kidney Beans)\n",
              "9       0.6       (Yogurt, Kidney Beans)\n",
              "10      0.6  (Onion, Kidney Beans, Eggs)"
            ]
          },
          "metadata": {}
        },
        {
          "output_type": "display_data",
          "data": {
            "text/html": [
              "<div>\n",
              "<style scoped>\n",
              "    .dataframe tbody tr th:only-of-type {\n",
              "        vertical-align: middle;\n",
              "    }\n",
              "\n",
              "    .dataframe tbody tr th {\n",
              "        vertical-align: top;\n",
              "    }\n",
              "\n",
              "    .dataframe thead th {\n",
              "        text-align: right;\n",
              "    }\n",
              "</style>\n",
              "<table border=\"1\" class=\"dataframe\">\n",
              "  <thead>\n",
              "    <tr style=\"text-align: right;\">\n",
              "      <th></th>\n",
              "      <th>antecedents</th>\n",
              "      <th>consequents</th>\n",
              "      <th>antecedent support</th>\n",
              "      <th>consequent support</th>\n",
              "      <th>support</th>\n",
              "      <th>confidence</th>\n",
              "      <th>lift</th>\n",
              "      <th>leverage</th>\n",
              "      <th>conviction</th>\n",
              "    </tr>\n",
              "  </thead>\n",
              "  <tbody>\n",
              "    <tr>\n",
              "      <th>0</th>\n",
              "      <td>(Kidney Beans)</td>\n",
              "      <td>(Eggs)</td>\n",
              "      <td>1.0</td>\n",
              "      <td>0.8</td>\n",
              "      <td>0.8</td>\n",
              "      <td>0.80</td>\n",
              "      <td>1.00</td>\n",
              "      <td>0.00</td>\n",
              "      <td>1.0</td>\n",
              "    </tr>\n",
              "    <tr>\n",
              "      <th>1</th>\n",
              "      <td>(Eggs)</td>\n",
              "      <td>(Kidney Beans)</td>\n",
              "      <td>0.8</td>\n",
              "      <td>1.0</td>\n",
              "      <td>0.8</td>\n",
              "      <td>1.00</td>\n",
              "      <td>1.00</td>\n",
              "      <td>0.00</td>\n",
              "      <td>inf</td>\n",
              "    </tr>\n",
              "    <tr>\n",
              "      <th>2</th>\n",
              "      <td>(Onion)</td>\n",
              "      <td>(Eggs)</td>\n",
              "      <td>0.6</td>\n",
              "      <td>0.8</td>\n",
              "      <td>0.6</td>\n",
              "      <td>1.00</td>\n",
              "      <td>1.25</td>\n",
              "      <td>0.12</td>\n",
              "      <td>inf</td>\n",
              "    </tr>\n",
              "    <tr>\n",
              "      <th>3</th>\n",
              "      <td>(Eggs)</td>\n",
              "      <td>(Onion)</td>\n",
              "      <td>0.8</td>\n",
              "      <td>0.6</td>\n",
              "      <td>0.6</td>\n",
              "      <td>0.75</td>\n",
              "      <td>1.25</td>\n",
              "      <td>0.12</td>\n",
              "      <td>1.6</td>\n",
              "    </tr>\n",
              "    <tr>\n",
              "      <th>4</th>\n",
              "      <td>(Milk)</td>\n",
              "      <td>(Kidney Beans)</td>\n",
              "      <td>0.6</td>\n",
              "      <td>1.0</td>\n",
              "      <td>0.6</td>\n",
              "      <td>1.00</td>\n",
              "      <td>1.00</td>\n",
              "      <td>0.00</td>\n",
              "      <td>inf</td>\n",
              "    </tr>\n",
              "    <tr>\n",
              "      <th>5</th>\n",
              "      <td>(Onion)</td>\n",
              "      <td>(Kidney Beans)</td>\n",
              "      <td>0.6</td>\n",
              "      <td>1.0</td>\n",
              "      <td>0.6</td>\n",
              "      <td>1.00</td>\n",
              "      <td>1.00</td>\n",
              "      <td>0.00</td>\n",
              "      <td>inf</td>\n",
              "    </tr>\n",
              "    <tr>\n",
              "      <th>6</th>\n",
              "      <td>(Yogurt)</td>\n",
              "      <td>(Kidney Beans)</td>\n",
              "      <td>0.6</td>\n",
              "      <td>1.0</td>\n",
              "      <td>0.6</td>\n",
              "      <td>1.00</td>\n",
              "      <td>1.00</td>\n",
              "      <td>0.00</td>\n",
              "      <td>inf</td>\n",
              "    </tr>\n",
              "    <tr>\n",
              "      <th>7</th>\n",
              "      <td>(Onion, Kidney Beans)</td>\n",
              "      <td>(Eggs)</td>\n",
              "      <td>0.6</td>\n",
              "      <td>0.8</td>\n",
              "      <td>0.6</td>\n",
              "      <td>1.00</td>\n",
              "      <td>1.25</td>\n",
              "      <td>0.12</td>\n",
              "      <td>inf</td>\n",
              "    </tr>\n",
              "    <tr>\n",
              "      <th>8</th>\n",
              "      <td>(Onion, Eggs)</td>\n",
              "      <td>(Kidney Beans)</td>\n",
              "      <td>0.6</td>\n",
              "      <td>1.0</td>\n",
              "      <td>0.6</td>\n",
              "      <td>1.00</td>\n",
              "      <td>1.00</td>\n",
              "      <td>0.00</td>\n",
              "      <td>inf</td>\n",
              "    </tr>\n",
              "    <tr>\n",
              "      <th>9</th>\n",
              "      <td>(Kidney Beans, Eggs)</td>\n",
              "      <td>(Onion)</td>\n",
              "      <td>0.8</td>\n",
              "      <td>0.6</td>\n",
              "      <td>0.6</td>\n",
              "      <td>0.75</td>\n",
              "      <td>1.25</td>\n",
              "      <td>0.12</td>\n",
              "      <td>1.6</td>\n",
              "    </tr>\n",
              "    <tr>\n",
              "      <th>10</th>\n",
              "      <td>(Onion)</td>\n",
              "      <td>(Kidney Beans, Eggs)</td>\n",
              "      <td>0.6</td>\n",
              "      <td>0.8</td>\n",
              "      <td>0.6</td>\n",
              "      <td>1.00</td>\n",
              "      <td>1.25</td>\n",
              "      <td>0.12</td>\n",
              "      <td>inf</td>\n",
              "    </tr>\n",
              "    <tr>\n",
              "      <th>11</th>\n",
              "      <td>(Eggs)</td>\n",
              "      <td>(Onion, Kidney Beans)</td>\n",
              "      <td>0.8</td>\n",
              "      <td>0.6</td>\n",
              "      <td>0.6</td>\n",
              "      <td>0.75</td>\n",
              "      <td>1.25</td>\n",
              "      <td>0.12</td>\n",
              "      <td>1.6</td>\n",
              "    </tr>\n",
              "  </tbody>\n",
              "</table>\n",
              "</div>"
            ],
            "text/plain": [
              "              antecedents            consequents  ...  leverage  conviction\n",
              "0          (Kidney Beans)                 (Eggs)  ...      0.00         1.0\n",
              "1                  (Eggs)         (Kidney Beans)  ...      0.00         inf\n",
              "2                 (Onion)                 (Eggs)  ...      0.12         inf\n",
              "3                  (Eggs)                (Onion)  ...      0.12         1.6\n",
              "4                  (Milk)         (Kidney Beans)  ...      0.00         inf\n",
              "5                 (Onion)         (Kidney Beans)  ...      0.00         inf\n",
              "6                (Yogurt)         (Kidney Beans)  ...      0.00         inf\n",
              "7   (Onion, Kidney Beans)                 (Eggs)  ...      0.12         inf\n",
              "8           (Onion, Eggs)         (Kidney Beans)  ...      0.00         inf\n",
              "9    (Kidney Beans, Eggs)                (Onion)  ...      0.12         1.6\n",
              "10                (Onion)   (Kidney Beans, Eggs)  ...      0.12         inf\n",
              "11                 (Eggs)  (Onion, Kidney Beans)  ...      0.12         1.6\n",
              "\n",
              "[12 rows x 9 columns]"
            ]
          },
          "metadata": {}
        }
      ]
    },
    {
      "cell_type": "code",
      "metadata": {
        "id": "jUweR__ozBY5",
        "colab": {
          "base_uri": "https://localhost:8080/"
        },
        "outputId": "2bbfcc90-ebab-4948-b440-b3590401e60a"
      },
      "source": [
        "#Q7. the Kulczynski measure for itemset A and B based on strong_rules\n",
        "A = frozenset({'Onion'})\n",
        "B = frozenset({'Kidney Beans','Eggs'})\n",
        "\n",
        "for i in range(strong_rules.shape[0]):\n",
        "\n",
        "  if (strong_rules.iloc[i,0] == A) & (strong_rules.iloc[i,1] == B):\n",
        "    v1 = strong_rules.iloc[i,5] #v1 is the confidence of A=>B\n",
        "  if (strong_rules.iloc[i,0] == B) & (strong_rules.iloc[i,1] == A):\n",
        "    v2 = strong_rules.iloc[i,5] #v2 is the confidence of B=>A\n",
        "\n",
        "\n",
        "print('condifence of A=>B is: ',v1)\n",
        "print('condifence of B=>A is: ',v2)\n",
        "print('the Kulczynski measure for A and B is: ',0.5*(v1+v2))"
      ],
      "execution_count": null,
      "outputs": [
        {
          "output_type": "stream",
          "name": "stdout",
          "text": [
            "condifence of A=>B is:  1.0\n",
            "condifence of B=>A is:  0.7499999999999999\n",
            "the Kulczynski measure for A and B is:  0.875\n"
          ]
        }
      ]
    },
    {
      "cell_type": "code",
      "metadata": {
        "colab": {
          "base_uri": "https://localhost:8080/"
        },
        "id": "3kAyNWohHWEw",
        "outputId": "e4b99b8f-6b5e-4ce4-97b5-51fc3f6f6cf6"
      },
      "source": [
        "#Q8. Imbalance ratio for itemset A and B based on strong_rules\n",
        "A = frozenset({'Onion'})\n",
        "B = frozenset({'Kidney Beans','Eggs'})\n",
        "for i in range(strong_rules.shape[0]):\n",
        "  if strong_rules.iloc[i,0] == A:\n",
        "    SA = strong_rules.iloc[i,2] #SA is the support of itemset A\n",
        "    #print('1',i,SA)\n",
        "  if strong_rules.iloc[i,0] == B:\n",
        "    SB = strong_rules.iloc[i,2] #SB is the support of itemset B\n",
        "    #print('2',i,SB)\n",
        "  if (strong_rules.iloc[i,0] == A) & (strong_rules.iloc[i,1] == B):\n",
        "    SAB = strong_rules.iloc[i,4] #SAB is the support of A=>B\n",
        "    #print('3',i,SAB)\n",
        "print('the support of A is: ',SA)\n",
        "print('the support of B is: ',SB)\n",
        "print('the support of A=>B (equal to the support of A union B) is: ',SAB)\n",
        "print(\"the imbalance ratio for A and B is: \",((abs(SA-SB))/(SA+SB-SAB)))"
      ],
      "execution_count": null,
      "outputs": [
        {
          "output_type": "stream",
          "name": "stdout",
          "text": [
            "the support of A is:  0.6\n",
            "the support of B is:  0.8\n",
            "the support of A=>B (equal to the support of A union B) is:  0.6\n",
            "the imbalance ratio for A and B is:  0.2500000000000001\n"
          ]
        }
      ]
    }
  ]
}