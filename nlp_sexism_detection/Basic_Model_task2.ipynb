{
  "cells": [
    {
      "cell_type": "markdown",
      "metadata": {
        "id": "VzkpqXZGtfYO"
      },
      "source": [
        "# Pre-processing of Raw Data"
      ]
    },
    {
      "cell_type": "code",
      "execution_count": null,
      "metadata": {
        "colab": {
          "base_uri": "https://localhost:8080/"
        },
        "id": "Qy-WFg9-5EKI",
        "outputId": "a94d0bab-fa6d-46c9-f369-07c7b328b232"
      },
      "outputs": [
        {
          "output_type": "stream",
          "name": "stdout",
          "text": [
            "Looking in indexes: https://pypi.org/simple, https://us-python.pkg.dev/colab-wheels/public/simple/\n",
            "Collecting transformers\n",
            "  Downloading transformers-4.21.1-py3-none-any.whl (4.7 MB)\n",
            "\u001b[K     |████████████████████████████████| 4.7 MB 5.4 MB/s \n",
            "\u001b[?25hRequirement already satisfied: filelock in /usr/local/lib/python3.7/dist-packages (from transformers) (3.7.1)\n",
            "Requirement already satisfied: regex!=2019.12.17 in /usr/local/lib/python3.7/dist-packages (from transformers) (2022.6.2)\n",
            "Requirement already satisfied: importlib-metadata in /usr/local/lib/python3.7/dist-packages (from transformers) (4.12.0)\n",
            "Requirement already satisfied: numpy>=1.17 in /usr/local/lib/python3.7/dist-packages (from transformers) (1.21.6)\n",
            "Requirement already satisfied: tqdm>=4.27 in /usr/local/lib/python3.7/dist-packages (from transformers) (4.64.0)\n",
            "Collecting tokenizers!=0.11.3,<0.13,>=0.11.1\n",
            "  Downloading tokenizers-0.12.1-cp37-cp37m-manylinux_2_12_x86_64.manylinux2010_x86_64.whl (6.6 MB)\n",
            "\u001b[K     |████████████████████████████████| 6.6 MB 39.0 MB/s \n",
            "\u001b[?25hRequirement already satisfied: requests in /usr/local/lib/python3.7/dist-packages (from transformers) (2.23.0)\n",
            "Collecting pyyaml>=5.1\n",
            "  Downloading PyYAML-6.0-cp37-cp37m-manylinux_2_5_x86_64.manylinux1_x86_64.manylinux_2_12_x86_64.manylinux2010_x86_64.whl (596 kB)\n",
            "\u001b[K     |████████████████████████████████| 596 kB 38.5 MB/s \n",
            "\u001b[?25hCollecting huggingface-hub<1.0,>=0.1.0\n",
            "  Downloading huggingface_hub-0.8.1-py3-none-any.whl (101 kB)\n",
            "\u001b[K     |████████████████████████████████| 101 kB 7.6 MB/s \n",
            "\u001b[?25hRequirement already satisfied: packaging>=20.0 in /usr/local/lib/python3.7/dist-packages (from transformers) (21.3)\n",
            "Requirement already satisfied: typing-extensions>=3.7.4.3 in /usr/local/lib/python3.7/dist-packages (from huggingface-hub<1.0,>=0.1.0->transformers) (4.1.1)\n",
            "Requirement already satisfied: pyparsing!=3.0.5,>=2.0.2 in /usr/local/lib/python3.7/dist-packages (from packaging>=20.0->transformers) (3.0.9)\n",
            "Requirement already satisfied: zipp>=0.5 in /usr/local/lib/python3.7/dist-packages (from importlib-metadata->transformers) (3.8.1)\n",
            "Requirement already satisfied: urllib3!=1.25.0,!=1.25.1,<1.26,>=1.21.1 in /usr/local/lib/python3.7/dist-packages (from requests->transformers) (1.24.3)\n",
            "Requirement already satisfied: certifi>=2017.4.17 in /usr/local/lib/python3.7/dist-packages (from requests->transformers) (2022.6.15)\n",
            "Requirement already satisfied: idna<3,>=2.5 in /usr/local/lib/python3.7/dist-packages (from requests->transformers) (2.10)\n",
            "Requirement already satisfied: chardet<4,>=3.0.2 in /usr/local/lib/python3.7/dist-packages (from requests->transformers) (3.0.4)\n",
            "Installing collected packages: pyyaml, tokenizers, huggingface-hub, transformers\n",
            "  Attempting uninstall: pyyaml\n",
            "    Found existing installation: PyYAML 3.13\n",
            "    Uninstalling PyYAML-3.13:\n",
            "      Successfully uninstalled PyYAML-3.13\n",
            "Successfully installed huggingface-hub-0.8.1 pyyaml-6.0 tokenizers-0.12.1 transformers-4.21.1\n"
          ]
        }
      ],
      "source": [
        "import re\n",
        "import pandas as pd\n",
        "import csv\n",
        "import numpy as np\n",
        "from sklearn.model_selection import train_test_split\n",
        "#!pip install emoji\n",
        "#import emoji as emoji\n",
        "import keras\n",
        "from keras.layers import Lambda, GlobalAveragePooling1D, Dense, Embedding, GlobalMaxPooling1D\n",
        "from keras import backend as K\n",
        "from keras.models import Sequential\n",
        "import matplotlib.pyplot as plt\n",
        "from keras.layers import LSTM, RNN, Dropout, Input, LeakyReLU, Bidirectional,Conv1D, GlobalMaxPooling1D\n",
        "from keras.layers.core import Dense\n",
        "from keras.models import Model\n",
        "!pip install transformers\n",
        "import tensorflow as tf"
      ]
    },
    {
      "cell_type": "markdown",
      "metadata": {
        "id": "f_osGIygBDSz"
      },
      "source": [
        "Add relevant file path"
      ]
    },
    {
      "cell_type": "code",
      "execution_count": null,
      "metadata": {
        "colab": {
          "base_uri": "https://localhost:8080/"
        },
        "id": "Csa3yA1t_O68",
        "outputId": "c9a6ad88-4e4e-4ff3-ad06-433d56d1b404"
      },
      "outputs": [
        {
          "output_type": "stream",
          "name": "stdout",
          "text": [
            "Mounted at /content/drive/\n"
          ]
        }
      ],
      "source": [
        "from google.colab import drive, output\n",
        "drive.mount('/content/drive/')\n",
        "PATH_TO_FOLDER = \"/content/drive/MyDrive/Colab Notebooks/msc_project/\"\n",
        "import sys\n",
        "sys.path.append(PATH_TO_FOLDER)\n",
        "TRAIN_PATH = PATH_TO_FOLDER + 'EXIST2021_training.tsv'\n",
        "TEST_PATH = PATH_TO_FOLDER + 'EXIST2021_test_labeled.tsv'"
      ]
    },
    {
      "cell_type": "markdown",
      "metadata": {
        "id": "w8Inwo9QBOi7"
      },
      "source": [
        "create label to ID mapping dict"
      ]
    },
    {
      "cell_type": "code",
      "execution_count": null,
      "metadata": {
        "id": "LuJhudQ_KV7-"
      },
      "outputs": [],
      "source": [
        "#task 1 binary label map word to ID \n",
        "labelToID1 = {\"non-sexist\":0, \"sexist\":1}\n",
        "\n",
        "#task 2 multi-class label map word to ID using one-hot vector representation\n",
        "#labeltoID2 = {\"non-sexist\":0, \"ideological-inequality\":1, \"stereotyping-dominance\":2, \"objectification\":3, \"sexual-violence\":4, \"misogyny-non-sexual-violence\":5}\n",
        "labeltoID2 = {\"non-sexist\":[0,0,0,0,0,1], \"ideological-inequality\":[0,0,0,0,1,0], \"stereotyping-dominance\":[0,0,0,1,0,0], \"objectification\":[0,0,1,0,0,0], \"sexual-violence\":[0,1,0,0,0,0], \"misogyny-non-sexual-violence\":[1,0,0,0,0,0]}"
      ]
    },
    {
      "cell_type": "markdown",
      "metadata": {
        "id": "r9XPr6I0Vrwq"
      },
      "source": [
        "load the data"
      ]
    },
    {
      "cell_type": "code",
      "execution_count": null,
      "metadata": {
        "id": "HKiBDjThEqsB"
      },
      "outputs": [],
      "source": [
        "#load the data and return twitter content, task1 & task2 labels\n",
        "def read_dataset(filepath):\n",
        "  x = [] #twitter content\n",
        "  y1= [] #task1 label\n",
        "  y2= [] #task2 label\n",
        "  with open(filepath) as fd:\n",
        "    data = csv.reader(fd, delimiter=\"\\t\", quotechar='\"')\n",
        "    for line in data:\n",
        "      if line[3] == 'en':\n",
        "        x.append([line[4]])\n",
        "        y1.append(labelToID1[line[5]])\n",
        "        y2.append(labeltoID2[line[6]])\n",
        "  return x, y1, y2"
      ]
    },
    {
      "cell_type": "markdown",
      "metadata": {
        "id": "JLrtQNicn27-"
      },
      "source": [
        "Datasets:\n",
        "* x_train: the raw 'x data' the twitter content for training and validating use\n",
        "* y_train1: true labels for task1 for training and validating use\n",
        "* y_train2: true labels for task2 for training and validating use\n",
        "\n",
        "* x_test: the raw 'x data' the twitter content for test use\n",
        "* y_test1: true labels for task1 for test use\n",
        "* y_test2: true labels for task2 for test use"
      ]
    },
    {
      "cell_type": "code",
      "execution_count": null,
      "metadata": {
        "id": "3Wmn1bp2F6be"
      },
      "outputs": [],
      "source": [
        "x_train, y_train1, y_train2 = read_dataset(TRAIN_PATH)"
      ]
    },
    {
      "cell_type": "code",
      "source": [
        ""
      ],
      "metadata": {
        "id": "uKORsYy1WzUY"
      },
      "execution_count": null,
      "outputs": []
    },
    {
      "cell_type": "code",
      "execution_count": null,
      "metadata": {
        "id": "hB5X2gtbGLio"
      },
      "outputs": [],
      "source": [
        "x_test, y_test1, y_test2 = read_dataset(TEST_PATH)"
      ]
    },
    {
      "cell_type": "code",
      "execution_count": null,
      "metadata": {
        "colab": {
          "base_uri": "https://localhost:8080/"
        },
        "id": "u_KYJkad-2h_",
        "outputId": "a6053152-d968-4d81-e8d6-a9eb7fabe553"
      },
      "outputs": [
        {
          "output_type": "stream",
          "name": "stdout",
          "text": [
            "number of training twitters: 3436\n",
            "number of training labels for task1: 3436\n",
            "number of training labels for task2: 3436\n",
            "the first 5 training twitters are: [['She calls herself \"anti-feminazi\" how about shut the fucking up on your vile commentary on an elderly responsible citizen tu sach muuch ghani baawri-bewdi hai bey https://t.co/ZMxTDwsY5D'], ['Now, back to these women, the brave and the beautiful, @Clare_Crawley and @tayshia. These bad ass babes, are deserve so much credit for how this season has gone. As a woman, I’ve learned so much from them and feel more empowered to expect more in future relationships.'], [\"@CurvyBandida @Xalynne_B Wow, your skirt is very short. What is it's length? 5 inch or more?\"], ['@AurelieGuiboud Incredible!  Beautiful!But I laughed so much when I read about you drifting in your wheelchair.I can just picture it  https://t.co/uvl5HhbmbR'], ['i find it extremely hard to believe that kelly or a 66 yr old mum would believe any of this, so it makes me question what the fuck their game was? especially as none of them have apologised or tried to explain? &amp; their immediate response was to like tweets attacking the victims']]\n",
            "task1 label for the first 5 training twitters are: [1, 0, 1, 0, 0]\n",
            "task2 label for the first 5 training twitters are: [[0, 0, 0, 0, 1, 0], [0, 0, 0, 0, 0, 1], [0, 0, 1, 0, 0, 0], [0, 0, 0, 0, 0, 1], [0, 0, 0, 0, 0, 1]]\n"
          ]
        }
      ],
      "source": [
        "print('number of training twitters:', len(x_train))\n",
        "print('number of training labels for task1:', len(y_train1))\n",
        "print('number of training labels for task2:', len(y_train2))\n",
        "print('the first 5 training twitters are:', x_train[0:5])\n",
        "print('task1 label for the first 5 training twitters are:', y_train1[0:5])\n",
        "print('task2 label for the first 5 training twitters are:', y_train2[0:5])"
      ]
    },
    {
      "cell_type": "code",
      "execution_count": null,
      "metadata": {
        "colab": {
          "base_uri": "https://localhost:8080/"
        },
        "id": "pSoH6zFUGUSg",
        "outputId": "5b0769e4-8518-4a49-e549-42f9c86d590a"
      },
      "outputs": [
        {
          "output_type": "stream",
          "name": "stdout",
          "text": [
            "number of testing twitters: 2208\n",
            "number of testing labels for task1: 2208\n",
            "number of testing labels for task2: 2208\n",
            "the first 5 testing twitters is: [[\"Pennsylvania State Rep horrifies with opening prayermooslime politican Movita Johnson-Harrell offended by the word 'Jesus' and 'God'.In a mainly Christian country praying to God/Jesus - what a scandal /sarc. It's the well-known mooslime strategy: playing the victim card and make demands.https://truepundit.com/pennsylvania-state-rep-horrifies-democrats-with-opening-prayer-at-the-name-of-jesus-every-knee-will-bow/\"], ['@iilovegrapes He sounds like as ass, and very condescending.'], ['@averyangryskel1 @4ARealistParty LOL! \"This behavior of not letting men tell you women what feminism is and redefine it to center us is EXACTLY why you gals don\\'t get taken seriously!\"You are sad. So sad.'], [\"@WanderOrange @stalliontwink Rights?I mean yeah most women especially the women in african and middle east region are discriminatedBut what basic human right do men have that women don't?Thanks to feminism\"], ['the jack manifold appreciation i’m seeing is on my tl tonight so beautiful']]\n",
            "task1 label for the first 5 testing twitters is: [0, 0, 1, 1, 0]\n",
            "task2 label for the first 5 testing twitters is: [[0, 0, 0, 0, 0, 1], [0, 0, 0, 0, 0, 1], [0, 0, 0, 0, 1, 0], [0, 0, 0, 0, 1, 0], [0, 0, 0, 0, 0, 1]]\n"
          ]
        }
      ],
      "source": [
        "print('number of testing twitters:', len(x_test))\n",
        "print('number of testing labels for task1:', len(y_test1))\n",
        "print('number of testing labels for task2:', len(y_test2))\n",
        "print('the first 5 testing twitters is:', x_test[0:5])\n",
        "print('task1 label for the first 5 testing twitters is:', y_test1[0:5])\n",
        "print('task2 label for the first 5 testing twitters is:', y_test2[0:5])"
      ]
    },
    {
      "cell_type": "code",
      "execution_count": null,
      "metadata": {
        "id": "zUwmSmC2JE8f"
      },
      "outputs": [],
      "source": [
        "#corpus = [[\"abc.\"],[\"@apple He is\"],['http://www.google.com xxx :) #\"I’ve I\\'M']]"
      ]
    },
    {
      "cell_type": "code",
      "execution_count": null,
      "metadata": {
        "id": "ScJCOGsbIIpv"
      },
      "outputs": [],
      "source": [
        "def pre_process_dataset(corpus):\n",
        "  # Emoticons\n",
        "  emoticons = [':-)', ':)', '(:', '(-:', ':))', '((:', ':-D', ':D', 'X-D', 'XD', 'xD', 'xD', '<3', '</3', ':\\*',\n",
        "                 ';-)',\n",
        "                 ';)', ';-D', ';D', '(;', '(-;', ':-(', ':(', '(:', '(-:', ':,(', ':\\'(', ':\"(', ':((', ':D', '=D',\n",
        "                 '=)',\n",
        "                 '(=', '=(', ')=', '=-O', 'O-=', ':o', 'o:', 'O:', 'O:', ':-o', 'o-:', ':P', ':p', ':S', ':s', ':@',\n",
        "                 ':>',\n",
        "                 ':<', '^_^', '^.^', '>.>', 'T_T', 'T-T', '-.-', '*.*', '~.~', ':*', ':-*', 'xP', 'XP', 'XP', 'Xp',\n",
        "                 ':-|',\n",
        "                 ':->', ':-<', '$_$', '8-)', ':-P', ':-p', '=P', '=p', ':*)', '*-*', 'B-)', 'O.o', 'X-(', ')-X']\n",
        "\n",
        "  newcorpus = []\n",
        "  for sent in corpus:\n",
        "    newsent = [text.lower() for text in sent]\n",
        "    for text in newsent:\n",
        "      users = re.findall(\"[@]\\w+\", text)\n",
        "      #print(users)\n",
        "    \n",
        "    #replace all '@user' to '<user>'\n",
        "    for user in users:\n",
        "      newsent = [text.replace(user, \" <user> \") for text in newsent]\n",
        "\n",
        "    #replace urls to '<url>'\n",
        "    urls = re.findall(r'(https?://[^\\s]+)', text)\n",
        "    for url in urls:\n",
        "      newsent = [text.replace(url, \" <url> \") for text in newsent]\n",
        "    \n",
        "    #for emo in emoji.UNICODE_EMOJI:\n",
        "      #newsent = [text.replace(emo, \" <emotion> \") for text in newsent]\n",
        "    \n",
        "    #replace all emotions with '<emotion>'\n",
        "    for emo in emoticons:\n",
        "      newsent = [text.replace(emo, \" <emotion> \") for text in newsent]\n",
        "    \n",
        "    #replace all # to <hashtag>\n",
        "    newsent = [text.replace('#', \" <hashtag> \") for text in newsent]\n",
        "    \n",
        "    #replace '-' with a space\n",
        "    newsent = [text.replace('-', \" \") for text in newsent]\n",
        "    \n",
        "    newsent = [text.replace('\\xa0', \" \") for text in newsent]\n",
        "\n",
        "    #remove these symbols !*^&()%$,.:;[]{}=~_+?\\|/\n",
        "    symbols = '!*^&()%$,.:;[]{}=~_+?\\|/\"''‘’“”'\n",
        "    for symbol in symbols:\n",
        "      newsent = [text.replace(symbol, \"\") for text in newsent]\n",
        "    \n",
        "    newcorpus.append(newsent)\n",
        "  return newcorpus"
      ]
    },
    {
      "cell_type": "code",
      "execution_count": null,
      "metadata": {
        "id": "pzsq2RgGIIs0"
      },
      "outputs": [],
      "source": [
        "#pre-processing of the 'x' data\n",
        "x_train = pre_process_dataset(x_train)\n",
        "x_test = pre_process_dataset(x_test)"
      ]
    },
    {
      "cell_type": "markdown",
      "metadata": {
        "id": "XkKXiWJ6tyv3"
      },
      "source": [
        "split x_train to training and validation data with ratio 80:20"
      ]
    },
    {
      "cell_type": "code",
      "execution_count": null,
      "metadata": {
        "id": "qp8qIZLeDBk4"
      },
      "outputs": [],
      "source": [
        "#data for task1\n",
        "#x_train1, x_val1, y_train1, y_val1 = train_test_split(x_train, y_train1, test_size=0.2, random_state=42)"
      ]
    },
    {
      "cell_type": "code",
      "execution_count": null,
      "metadata": {
        "id": "31N-f_imo7u6"
      },
      "outputs": [],
      "source": [
        "#data for task2\n",
        "x_train2, x_val2, y_train2, y_val2 = train_test_split(x_train, y_train2, test_size=0.2, random_state=42)"
      ]
    },
    {
      "cell_type": "code",
      "execution_count": null,
      "metadata": {
        "id": "bzBNAYrHOm6K"
      },
      "outputs": [],
      "source": [
        "y_train2 = np.array(y_train2)\n",
        "y_val2= np.array(y_val2)\n",
        "y_test2= np.array(y_test2)"
      ]
    },
    {
      "cell_type": "code",
      "source": [
        "#frequency in each class\n",
        "for label in labeltoID2.values():\n",
        "  print(label, y_train2.tolist().count(label), y_val2.tolist().count(label), y_train2.tolist().count(label) + y_val2.tolist().count(label))"
      ],
      "metadata": {
        "colab": {
          "base_uri": "https://localhost:8080/"
        },
        "id": "zFeMEgVwXnFz",
        "outputId": "e4060389-fbec-4b76-bb44-632b6d1c3c34"
      },
      "execution_count": null,
      "outputs": [
        {
          "output_type": "stream",
          "name": "stdout",
          "text": [
            "[0, 0, 0, 0, 0, 1] 1435 365 1800\n",
            "[0, 0, 0, 0, 1, 0] 303 83 386\n",
            "[0, 0, 0, 1, 0, 0] 290 76 366\n",
            "[0, 0, 1, 0, 0, 0] 213 43 256\n",
            "[0, 1, 0, 0, 0, 0] 275 69 344\n",
            "[1, 0, 0, 0, 0, 0] 232 52 284\n"
          ]
        }
      ]
    },
    {
      "cell_type": "code",
      "source": [
        "#frequency in each class\n",
        "for label in labeltoID2.values():\n",
        "  print(label, y_test2.tolist().count(label))"
      ],
      "metadata": {
        "id": "XQ3i2AAO0OWv",
        "outputId": "a0594b39-e9b5-4896-e9a2-5c696e290f3b",
        "colab": {
          "base_uri": "https://localhost:8080/"
        }
      },
      "execution_count": null,
      "outputs": [
        {
          "output_type": "stream",
          "name": "stdout",
          "text": [
            "[0, 0, 0, 0, 0, 1] 1050\n",
            "[0, 0, 0, 0, 1, 0] 333\n",
            "[0, 0, 0, 1, 0, 0] 262\n",
            "[0, 0, 1, 0, 0, 0] 150\n",
            "[0, 1, 0, 0, 0, 0] 198\n",
            "[1, 0, 0, 0, 0, 0] 215\n"
          ]
        }
      ]
    },
    {
      "cell_type": "markdown",
      "source": [
        "# More data processing for non-Bert related models"
      ],
      "metadata": {
        "id": "rFNX6aPUcuFT"
      }
    },
    {
      "cell_type": "markdown",
      "source": [
        "build a vocabulary based on the training dataset"
      ],
      "metadata": {
        "id": "cjMxmvjnf8c3"
      }
    },
    {
      "cell_type": "code",
      "source": [
        "voc = []\n",
        "from keras.preprocessing.text import text_to_word_sequence\n",
        "for example in x_train2:\n",
        "  text_tokens = text_to_word_sequence(example[0])\n",
        "  voc.extend(text_tokens)\n",
        "voc = set(voc)\n",
        "print(len(voc))\n",
        "\n",
        "word_index = dict()\n",
        "word_index[\"<PAD>\"] = 0\n",
        "word_index[\"<START>\"] = 1\n",
        "word_index[\"<UNK>\"] = 2\n",
        "word_index[\"<EOS>\"] = 3\n",
        "for w in voc:\n",
        "  word_index[w] = len(word_index)\n",
        "print(len(word_index))  "
      ],
      "metadata": {
        "colab": {
          "base_uri": "https://localhost:8080/"
        },
        "id": "XByRMNZDc5hq",
        "outputId": "94d9b845-a153-41ee-ee21-ee35068554db"
      },
      "execution_count": null,
      "outputs": [
        {
          "output_type": "stream",
          "name": "stdout",
          "text": [
            "10867\n",
            "10871\n"
          ]
        }
      ]
    },
    {
      "cell_type": "markdown",
      "source": [
        "According to the word_index and the tokenizer function (text_to_word_sequence), we can convert the text to word tokens and integers separately:"
      ],
      "metadata": {
        "id": "DpRV5yscjrip"
      }
    },
    {
      "cell_type": "code",
      "source": [
        "def w2i(text):\n",
        "  tokens = text_to_word_sequence(text)\n",
        "  idxs = []\n",
        "  for t in tokens:\n",
        "    if t not in word_index:\n",
        "      idxs.append(word_index[\"<UNK>\"])\n",
        "    else:\n",
        "      idxs.append(word_index[t])\n",
        "  return tokens, idxs\n",
        "\n",
        "def tokenize2(dataset):\n",
        "  tokens_list = []\n",
        "  idxs_list = []\n",
        "  for example in dataset:\n",
        "    tokens, idxs = w2i(example[0])\n",
        "    tokens_list.append(tokens)\n",
        "    idxs_list.append(idxs)\n",
        "\n",
        "  return tokens_list, idxs_list\n",
        "\n",
        "x_train2_token, x_train2_int = tokenize2(x_train2)\n",
        "x_val2_token, x_val2_int = tokenize2(x_val2)\n",
        "x_test_token, x_test_int = tokenize2(x_test)\n",
        "\n",
        "#verify and show sample result\n",
        "assert len(x_train2) == len(x_train2_token)\n",
        "assert len(x_train2) == len(x_train2_int)\n",
        "assert len(x_val2) == len(x_val2_token)\n",
        "assert len(x_val2) == len(x_val2_int)\n",
        "assert len(x_test) == len(x_test_token)\n",
        "assert len(x_test) == len(x_test_int) \n",
        "print(\"x_train2_token[0]:\")\n",
        "print(x_train2_token[0])\n",
        "print(\"x_train2_int[0]:\")\n",
        "print(x_train2_int[0])\n"
      ],
      "metadata": {
        "colab": {
          "base_uri": "https://localhost:8080/"
        },
        "id": "D4L6IFMwjq5c",
        "outputId": "1fb5a8d7-be96-48a0-9375-ab8d1016ceba"
      },
      "execution_count": null,
      "outputs": [
        {
          "output_type": "stream",
          "name": "stdout",
          "text": [
            "x_train2_token[0]:\n",
            "['my', 'favorite', 'url']\n",
            "x_train2_int[0]:\n",
            "[4055, 9810, 5905]\n"
          ]
        }
      ]
    },
    {
      "cell_type": "code",
      "source": [
        "MAX_SEQUENCE_LENGTH = 128\n",
        "x_train2_pad = keras.preprocessing.sequence.pad_sequences(x_train2_int,\n",
        "                                                        value=word_index[\"<PAD>\"],\n",
        "                                                        padding='post',\n",
        "                                                        maxlen=128)\n",
        "\n",
        "x_val2_pad = keras.preprocessing.sequence.pad_sequences(x_val2_int,\n",
        "                                                        value=word_index[\"<PAD>\"],\n",
        "                                                        padding='post',\n",
        "                                                        maxlen=128)\n",
        "\n",
        "x_test_pad = keras.preprocessing.sequence.pad_sequences(x_test_int,\n",
        "                                                        value=word_index[\"<PAD>\"],\n",
        "                                                        padding='post',\n",
        "                                                        maxlen=128)\n",
        "x_train2_pad = np.array(x_train2_pad)\n",
        "x_val2_pad = np.array(x_val2_pad)\n",
        "x_test_pad = np.array(x_test_pad)\n",
        "print(\"Before paded:\")\n",
        "print(x_train2_token[0])\n",
        "print(x_train2_int[0])\n",
        "print(\"After paded:\")\n",
        "print(x_train2_pad[0])"
      ],
      "metadata": {
        "colab": {
          "base_uri": "https://localhost:8080/"
        },
        "id": "Hi8uBCfm01EW",
        "outputId": "b568be4d-0365-4059-b236-7bb8fbd739e1"
      },
      "execution_count": null,
      "outputs": [
        {
          "output_type": "stream",
          "name": "stdout",
          "text": [
            "Before paded:\n",
            "['my', 'favorite', 'url']\n",
            "[4055, 9810, 5905]\n",
            "After paded:\n",
            "[4055 9810 5905    0    0    0    0    0    0    0    0    0    0    0\n",
            "    0    0    0    0    0    0    0    0    0    0    0    0    0    0\n",
            "    0    0    0    0    0    0    0    0    0    0    0    0    0    0\n",
            "    0    0    0    0    0    0    0    0    0    0    0    0    0    0\n",
            "    0    0    0    0    0    0    0    0    0    0    0    0    0    0\n",
            "    0    0    0    0    0    0    0    0    0    0    0    0    0    0\n",
            "    0    0    0    0    0    0    0    0    0    0    0    0    0    0\n",
            "    0    0    0    0    0    0    0    0    0    0    0    0    0    0\n",
            "    0    0    0    0    0    0    0    0    0    0    0    0    0    0\n",
            "    0    0]\n"
          ]
        }
      ]
    },
    {
      "cell_type": "markdown",
      "source": [
        "# More data processing for Bert related models"
      ],
      "metadata": {
        "id": "FX6W8qEacg5t"
      }
    },
    {
      "cell_type": "markdown",
      "metadata": {
        "id": "QxpLBDhHquVb"
      },
      "source": [
        "example for train&val data"
      ]
    },
    {
      "cell_type": "code",
      "execution_count": null,
      "metadata": {
        "colab": {
          "base_uri": "https://localhost:8080/"
        },
        "id": "wl8xBmseEIIn",
        "outputId": "0dbe2048-422a-4f1b-ea82-9de19f6a8625"
      },
      "outputs": [
        {
          "output_type": "stream",
          "name": "stdout",
          "text": [
            "number of training twitters: 2748\n",
            "number of training labels for task2: 2748\n",
            "the first 5 training twitters are: [['my favorite  <url> '], ['eminem im going to chain you up in my basement sodomize you and then pop a xanny to relax while jerking off to disney original childrens showswhite people no rapper alive is touching this mans bars  <url> '], ['jimin manspreading   <url> '], [\" <user>  but of course you shouldn't have to perception is however socially conditioned into people so it becomes expectations loads of women of all colours rely on the mother instinct myth to get by esp religious fundamentalism has jacked up white women innate altruism so high\"], ['uh uh— k—koo oh my— koos comin comin his other hand harshly cups his crotch hoping to block his little cock from coming but its obviously useless koo cant take it anymore and he abandons himself to the pleasure']]\n",
            "task2 label for the first 5 training twitters are: [[0 0 0 0 0 1]\n",
            " [0 1 0 0 0 0]\n",
            " [0 0 0 0 0 1]\n",
            " [0 0 0 0 1 0]\n",
            " [0 0 0 0 0 1]]\n"
          ]
        }
      ],
      "source": [
        "print('number of training twitters:', len(x_train2))\n",
        "print('number of training labels for task2:', len(y_train2))\n",
        "print('the first 5 training twitters are:', x_train2[0:5])\n",
        "print('task2 label for the first 5 training twitters are:', y_train2[0:5])"
      ]
    },
    {
      "cell_type": "markdown",
      "metadata": {
        "id": "5ET0-pZYqzKv"
      },
      "source": [
        "example for test data"
      ]
    },
    {
      "cell_type": "code",
      "execution_count": null,
      "metadata": {
        "colab": {
          "base_uri": "https://localhost:8080/"
        },
        "id": "dPkIi13yoaIC",
        "outputId": "c3dfeb3c-bbae-4e11-b0d2-d3c7a5665a51"
      },
      "outputs": [
        {
          "output_type": "stream",
          "name": "stdout",
          "text": [
            "number of testing twitters: 2208\n",
            "number of testing labels for task2: 2208\n",
            "the first 5 testing twitters is: [[\"pennsylvania state rep horrifies with opening prayermooslime politican movita johnson harrell offended by the word 'jesus' and 'god'in a mainly christian country praying to godjesus   what a scandal sarc it's the well known mooslime strategy playing the victim card and make demands <url> \"], [' <user>  he sounds like as ass and very condescending'], [\" <user>   <user>  lol this behavior of not letting men tell you women what feminism is and redefine it to center us is exactly why you gals don't get taken seriouslyyou are sad so sad\"], [\" <user>   <user>  rightsi mean yeah most women especially the women in african and middle east region are discriminatedbut what basic human right do men have that women don'tthanks to feminism\"], ['the jack manifold appreciation im seeing is on my tl tonight so beautiful']]\n",
            "task2 label for the first 5 testing twitters is:\n",
            " [[0 0 0 0 0 1]\n",
            " [0 0 0 0 0 1]\n",
            " [0 0 0 0 1 0]\n",
            " [0 0 0 0 1 0]\n",
            " [0 0 0 0 0 1]]\n"
          ]
        }
      ],
      "source": [
        "print('number of testing twitters:', len(x_test))\n",
        "\n",
        "print('number of testing labels for task2:', len(y_test2))\n",
        "print('the first 5 testing twitters is:', x_test[0:5])\n",
        "\n",
        "print('task2 label for the first 5 testing twitters is:\\n', y_test2[0:5])"
      ]
    },
    {
      "cell_type": "markdown",
      "source": [
        "# DistilBert Tokenization"
      ],
      "metadata": {
        "id": "IXZ2k2WtUCtp"
      }
    },
    {
      "cell_type": "markdown",
      "metadata": {
        "id": "LoEyF9zruSso"
      },
      "source": [
        "DistilBERT is a small, fast, cheap and light Transformer model trained by distilling BERT base. It has 40% less parameters than bert-base-uncased, and runs 60% faster, while preserving over 95% of BERT’s performance as measured on the GLUE language understanding benchmark."
      ]
    },
    {
      "cell_type": "code",
      "execution_count": null,
      "metadata": {
        "id": "Y5edg-DQol_h",
        "colab": {
          "base_uri": "https://localhost:8080/",
          "height": 113,
          "referenced_widgets": [
            "bdd1152292464445827c13888811126b",
            "8658de2bf70d4d549bebc16191c0cc27",
            "41502bb4f88546419058e17b18e03984",
            "4208a0ab7f9345cb982ae69987684d78",
            "69d659a1b6ae471d9a9d4154c4856235",
            "4479c341e1484e71aeb9f182c07361ca",
            "b2f197b36f2648a88c60dc64f776fc08",
            "40206696d9474fc499dba187171aedbc",
            "e510d96a63e8472e801e875def1713e6",
            "c8339fd91815472298a3dde143b053f7",
            "632175524bc54f41b51d58179478a696",
            "6cf91362c8ed42acbf599998c4b655e7",
            "7f05625bce7a4264b13757fe92811f7d",
            "4252c5cf85d54e6288ce8da34a3fdf36",
            "3fd6c50b65d7408f88f9a5ec0c853719",
            "63defdd96e39488ba1997d0ceecdaf7b",
            "16520263527745d6b84d69f9693c12db",
            "f99a660c5f394da68c7544054af515e4",
            "469bda556f6c4604be0c11c6e2b02167",
            "145235ed2ed94ac5b1c3f05318c5c2fd",
            "9b69ea60ae5e43d495da81983e952955",
            "8be1017f1c6342299596a69b561398e9",
            "62d2e996ff224f4b8657a999cd641072",
            "be7d5524dc6f49c7bca603ab67f5784d",
            "dac7aefc6b5b449e987ee4dd9f005d35",
            "0cdcaba3e58b4108a75556731d0ea22b",
            "9f32405e8056447187cbbc0a4e802a2f",
            "9fe217c75d56446582265bca9d79c507",
            "af9d5b199dfb4e5a9a746d61788b5508",
            "c0abc500e2934ec1aba9aa7fc74fe6f7",
            "7d01ee4c1fbc4c988a5055bf2bd62d03",
            "6aca0bc7564945f4ae4afc8da63fc100",
            "e3e0986d60a14508ad50a3d1ee1ca78c"
          ]
        },
        "outputId": "beffa124-f1d6-4ae0-bf27-ef346dc6f2cf"
      },
      "outputs": [
        {
          "output_type": "display_data",
          "data": {
            "text/plain": [
              "Downloading vocab.txt:   0%|          | 0.00/226k [00:00<?, ?B/s]"
            ],
            "application/vnd.jupyter.widget-view+json": {
              "version_major": 2,
              "version_minor": 0,
              "model_id": "bdd1152292464445827c13888811126b"
            }
          },
          "metadata": {}
        },
        {
          "output_type": "display_data",
          "data": {
            "text/plain": [
              "Downloading tokenizer_config.json:   0%|          | 0.00/28.0 [00:00<?, ?B/s]"
            ],
            "application/vnd.jupyter.widget-view+json": {
              "version_major": 2,
              "version_minor": 0,
              "model_id": "6cf91362c8ed42acbf599998c4b655e7"
            }
          },
          "metadata": {}
        },
        {
          "output_type": "display_data",
          "data": {
            "text/plain": [
              "Downloading config.json:   0%|          | 0.00/483 [00:00<?, ?B/s]"
            ],
            "application/vnd.jupyter.widget-view+json": {
              "version_major": 2,
              "version_minor": 0,
              "model_id": "62d2e996ff224f4b8657a999cd641072"
            }
          },
          "metadata": {}
        }
      ],
      "source": [
        "from transformers import DistilBertTokenizer, RobertaTokenizer \n",
        "import tqdm\n",
        "distil_bert = 'distilbert-base-uncased' # Pick any desired pre-trained model\n",
        "\n",
        "# Defining DistilBERT tokonizer\n",
        "tokenizer = DistilBertTokenizer.from_pretrained(distil_bert, do_lower_case=True, add_special_tokens=True,\n",
        "                                                max_length=128, pad_to_max_length=True)\n",
        "\n",
        "def tokenize(sentences, tokenizer, pad_length=128, pad_to_max_length=True ):\n",
        "    if type(sentences) == str:\n",
        "        inputs = tokenizer.encode_plus(sentences, add_special_tokens=True, max_length=pad_length, pad_to_max_length=pad_to_max_length, \n",
        "                                             return_attention_mask=True, return_token_type_ids=True)\n",
        "        #print(inputs,'end of inputs')\n",
        "        return np.asarray(inputs['input_ids'], dtype='int32'), np.asarray(inputs['attention_mask'], dtype='int32'), np.asarray(inputs['token_type_ids'], dtype='int32')\n",
        "    input_ids, input_masks, input_segments = [],[],[]\n",
        "    for sentence in sentences:\n",
        "        inputs = tokenizer.encode_plus(sentence, add_special_tokens=True, max_length=pad_length, pad_to_max_length=pad_to_max_length, \n",
        "                                             return_attention_mask=True, return_token_type_ids=True)\n",
        "        input_ids.append(inputs['input_ids'])\n",
        "        input_masks.append(inputs['attention_mask'])\n",
        "        input_segments.append(inputs['token_type_ids']) \n",
        "        #print(inputs,'end of inputs')       \n",
        "        \n",
        "    return np.asarray(input_ids, dtype='int32'), np.asarray(input_masks, dtype='int32'), np.asarray(input_segments, dtype='int32')"
      ]
    },
    {
      "cell_type": "code",
      "execution_count": null,
      "metadata": {
        "colab": {
          "base_uri": "https://localhost:8080/"
        },
        "id": "G8Bnu0TtwYlN",
        "outputId": "424c57a7-cb5e-48b3-b0b0-fe44724fe55b"
      },
      "outputs": [
        {
          "output_type": "stream",
          "name": "stdout",
          "text": [
            "['the', 'capital', 'of', 'france', 'is', '[MASK]', '.'] \n",
            "\n"
          ]
        }
      ],
      "source": [
        "#example testing\n",
        "inputs = tokenizer.tokenize(\"The capital of France is [MASK].\")\n",
        "print(inputs,'\\n')\n",
        "#corpus = [[\"abc.\"],[\"@apple He is\"],['http://www.google.com xxx :) #\"I’ve I\\'M']]\n",
        "ids,masks,segments = tokenize(\"The capital of France is [MASK].\", tokenizer)\n",
        "print(ids)\n",
        "print(masks)\n",
        "print(tokenizer.convert_ids_to_tokens(ids),\"\\n\")"
      ]
    },
    {
      "cell_type": "code",
      "execution_count": null,
      "metadata": {
        "colab": {
          "base_uri": "https://localhost:8080/"
        },
        "id": "Xrb_GpetwoB1",
        "outputId": "a564779f-0932-4a8e-e21c-0e929c9ea728"
      },
      "outputs": [
        {
          "output_type": "stream",
          "name": "stderr",
          "text": [
            "Truncation was not explicitly activated but `max_length` is provided a specific value, please use `truncation=True` to explicitly truncate examples to max length. Defaulting to 'longest_first' truncation strategy. If you encode pairs of sequences (GLUE-style) with the tokenizer you can select this strategy more precisely by providing a specific strategy to `truncation`.\n",
            "/usr/local/lib/python3.7/dist-packages/transformers/tokenization_utils_base.py:2329: FutureWarning: The `pad_to_max_length` argument is deprecated and will be removed in a future version, use `padding=True` or `padding='longest'` to pad to the longest sequence in the batch, or use `padding='max_length'` to pad to a max length. In this case, you can give a specific length with `max_length` (e.g. `max_length=45`) or leave max_length to None to pad to the maximal input size of the model (e.g. 512 for Bert).\n",
            "  FutureWarning,\n"
          ]
        }
      ],
      "source": [
        "x_train2_int = [tokenize(x_train2[i[0]][0],tokenizer)[0] for i in enumerate(x_train2)]\n",
        "x_train2_mask = [tokenize(x_train2[i[0]][0],tokenizer)[1] for i in enumerate(x_train2)]\n",
        "\n",
        "x_val2_int = [tokenize(x_val2[i[0]][0],tokenizer)[0] for i in enumerate(x_val2)]\n",
        "x_val2_mask = [tokenize(x_val2[i[0]][0],tokenizer)[1] for i in enumerate(x_val2)]\n",
        "\n",
        "x_test2_int = [tokenize(x_test[i[0]][0],tokenizer)[0] for i in enumerate(x_test)]\n",
        "x_test2_mask = [tokenize(x_test[i[0]][0],tokenizer)[1] for i in enumerate(x_test)]\n",
        "\n",
        "x_train2_int_np = np.array(x_train2_int)\n",
        "x_train2_mask_np = np.array(x_train2_mask)\n",
        "x_val2_int_np = np.array(x_val2_int)\n",
        "x_val2_mask_np = np.array(x_val2_mask)\n",
        "x_test2_int_np = np.array(x_test2_int)\n",
        "x_test2_mask_np = np.array(x_test2_mask)"
      ]
    },
    {
      "cell_type": "markdown",
      "source": [
        "# Model 0 -baseline"
      ],
      "metadata": {
        "id": "fgyflpJf37ug"
      }
    },
    {
      "cell_type": "markdown",
      "source": [
        "## Model0-1 - NBOW without pre-trained word embeddings"
      ],
      "metadata": {
        "id": "hhDgNmOXejWd"
      }
    },
    {
      "cell_type": "code",
      "source": [
        "class GlobalAveragePooling1DMasked(GlobalAveragePooling1D):\n",
        "    def call(self, x, mask=None):\n",
        "        if mask != None:\n",
        "            return K.sum(x, axis=1) / K.sum(mask, axis=1)\n",
        "        else:\n",
        "            return super().call(x)"
      ],
      "metadata": {
        "id": "rQ8_kBlo4dzO"
      },
      "execution_count": null,
      "outputs": []
    },
    {
      "cell_type": "code",
      "source": [
        "VOCAB_SIZE= len(word_index)\n",
        "EMBED_SIZE=100\n",
        "hidden_layer=50\n",
        "MAX_SEQUENCE_LENGTH = 128\n",
        "\n",
        "input_sent=Input(shape=(MAX_SEQUENCE_LENGTH,),dtype='int32', name='Input')\n",
        "embedded_sent= Embedding(VOCAB_SIZE, EMBED_SIZE, name='Embedding',\n",
        "embeddings_initializer='glorot_uniform', input_length=MAX_SEQUENCE_LENGTH)(input_sent)\n",
        "pooled_sent=GlobalAveragePooling1DMasked()(embedded_sent)\n",
        "\n",
        "hidden_output=Dense(hidden_layer,input_shape=(MAX_SEQUENCE_LENGTH,EMBED_SIZE),kernel_initializer='glorot_uniform', activation='relu',name='Hidden_1')(pooled_sent)\n",
        "label=Dense(6,input_shape=(hidden_layer,),activation='softmax',name='Output')(hidden_output)\n",
        "model0_1 = Model(inputs=input_sent, outputs=[label],name='Model_0_1')\n",
        "model0_1.summary()\n",
        "optimizer0 = tf.keras.optimizers.Adam(learning_rate=2e-5)\n",
        "model0_1.compile(optimizer=optimizer0, loss='binary_crossentropy', metrics=['accuracy'])\n",
        "\n",
        "history = model0_1.fit(x_train2_pad,\n",
        "                    y_train2,\n",
        "                    epochs=30,\n",
        "                    batch_size=8,\n",
        "                    validation_data=(x_val2_pad, y_val2),\n",
        "                    verbose=1)\n",
        "\n",
        "results = model0_1.evaluate(x_test_pad, y_test2)\n",
        "print(results)\n"
      ],
      "metadata": {
        "id": "AZS7u0V64eEx",
        "colab": {
          "base_uri": "https://localhost:8080/"
        },
        "outputId": "966af279-7f71-4a7c-d2df-0bcfcaa12462"
      },
      "execution_count": null,
      "outputs": [
        {
          "output_type": "stream",
          "name": "stdout",
          "text": [
            "Model: \"Model_0_1\"\n",
            "_________________________________________________________________\n",
            " Layer (type)                Output Shape              Param #   \n",
            "=================================================================\n",
            " Input (InputLayer)          [(None, 128)]             0         \n",
            "                                                                 \n",
            " Embedding (Embedding)       (None, 128, 100)          1087100   \n",
            "                                                                 \n",
            " global_average_pooling1d_ma  (None, 100)              0         \n",
            " sked_6 (GlobalAveragePoolin                                     \n",
            " g1DMasked)                                                      \n",
            "                                                                 \n",
            " Hidden_1 (Dense)            (None, 50)                5050      \n",
            "                                                                 \n",
            " Output (Dense)              (None, 6)                 306       \n",
            "                                                                 \n",
            "=================================================================\n",
            "Total params: 1,092,456\n",
            "Trainable params: 1,092,456\n",
            "Non-trainable params: 0\n",
            "_________________________________________________________________\n",
            "Epoch 1/30\n",
            "344/344 [==============================] - 7s 17ms/step - loss: 0.6866 - accuracy: 0.4865 - val_loss: 0.6802 - val_accuracy: 0.5262\n",
            "Epoch 2/30\n",
            "344/344 [==============================] - 6s 18ms/step - loss: 0.6723 - accuracy: 0.5222 - val_loss: 0.6629 - val_accuracy: 0.5305\n",
            "Epoch 3/30\n",
            "344/344 [==============================] - 6s 16ms/step - loss: 0.6504 - accuracy: 0.5222 - val_loss: 0.6361 - val_accuracy: 0.5305\n",
            "Epoch 4/30\n",
            "344/344 [==============================] - 6s 17ms/step - loss: 0.6185 - accuracy: 0.5222 - val_loss: 0.5990 - val_accuracy: 0.5305\n",
            "Epoch 5/30\n",
            "344/344 [==============================] - 6s 17ms/step - loss: 0.5771 - accuracy: 0.5222 - val_loss: 0.5539 - val_accuracy: 0.5305\n",
            "Epoch 6/30\n",
            "344/344 [==============================] - 6s 16ms/step - loss: 0.5307 - accuracy: 0.5222 - val_loss: 0.5070 - val_accuracy: 0.5305\n",
            "Epoch 7/30\n",
            "344/344 [==============================] - 6s 17ms/step - loss: 0.4858 - accuracy: 0.5222 - val_loss: 0.4647 - val_accuracy: 0.5305\n",
            "Epoch 8/30\n",
            "344/344 [==============================] - 6s 18ms/step - loss: 0.4480 - accuracy: 0.5222 - val_loss: 0.4313 - val_accuracy: 0.5305\n",
            "Epoch 9/30\n",
            "344/344 [==============================] - 6s 16ms/step - loss: 0.4200 - accuracy: 0.5222 - val_loss: 0.4079 - val_accuracy: 0.5305\n",
            "Epoch 10/30\n",
            "344/344 [==============================] - 6s 17ms/step - loss: 0.4015 - accuracy: 0.5222 - val_loss: 0.3932 - val_accuracy: 0.5305\n",
            "Epoch 11/30\n",
            "344/344 [==============================] - 6s 16ms/step - loss: 0.3904 - accuracy: 0.5222 - val_loss: 0.3846 - val_accuracy: 0.5305\n",
            "Epoch 12/30\n",
            "344/344 [==============================] - 5s 16ms/step - loss: 0.3842 - accuracy: 0.5222 - val_loss: 0.3799 - val_accuracy: 0.5305\n",
            "Epoch 13/30\n",
            "344/344 [==============================] - 6s 19ms/step - loss: 0.3810 - accuracy: 0.5222 - val_loss: 0.3775 - val_accuracy: 0.5305\n",
            "Epoch 14/30\n",
            "344/344 [==============================] - 6s 17ms/step - loss: 0.3794 - accuracy: 0.5222 - val_loss: 0.3762 - val_accuracy: 0.5305\n",
            "Epoch 15/30\n",
            "344/344 [==============================] - 6s 16ms/step - loss: 0.3787 - accuracy: 0.5222 - val_loss: 0.3756 - val_accuracy: 0.5305\n",
            "Epoch 16/30\n",
            "344/344 [==============================] - 6s 17ms/step - loss: 0.3782 - accuracy: 0.5222 - val_loss: 0.3752 - val_accuracy: 0.5305\n",
            "Epoch 17/30\n",
            "344/344 [==============================] - 6s 19ms/step - loss: 0.3780 - accuracy: 0.5222 - val_loss: 0.3749 - val_accuracy: 0.5305\n",
            "Epoch 18/30\n",
            "344/344 [==============================] - 6s 16ms/step - loss: 0.3778 - accuracy: 0.5222 - val_loss: 0.3748 - val_accuracy: 0.5305\n",
            "Epoch 19/30\n",
            "344/344 [==============================] - 6s 16ms/step - loss: 0.3777 - accuracy: 0.5222 - val_loss: 0.3746 - val_accuracy: 0.5305\n",
            "Epoch 20/30\n",
            "344/344 [==============================] - 6s 17ms/step - loss: 0.3776 - accuracy: 0.5222 - val_loss: 0.3745 - val_accuracy: 0.5305\n",
            "Epoch 21/30\n",
            "344/344 [==============================] - 6s 16ms/step - loss: 0.3774 - accuracy: 0.5222 - val_loss: 0.3744 - val_accuracy: 0.5305\n",
            "Epoch 22/30\n",
            "344/344 [==============================] - 6s 16ms/step - loss: 0.3773 - accuracy: 0.5222 - val_loss: 0.3743 - val_accuracy: 0.5305\n",
            "Epoch 23/30\n",
            "344/344 [==============================] - 5s 16ms/step - loss: 0.3772 - accuracy: 0.5222 - val_loss: 0.3742 - val_accuracy: 0.5305\n",
            "Epoch 24/30\n",
            "344/344 [==============================] - 5s 16ms/step - loss: 0.3771 - accuracy: 0.5222 - val_loss: 0.3741 - val_accuracy: 0.5305\n",
            "Epoch 25/30\n",
            "344/344 [==============================] - 6s 17ms/step - loss: 0.3770 - accuracy: 0.5222 - val_loss: 0.3740 - val_accuracy: 0.5305\n",
            "Epoch 26/30\n",
            "344/344 [==============================] - 6s 17ms/step - loss: 0.3769 - accuracy: 0.5222 - val_loss: 0.3739 - val_accuracy: 0.5305\n",
            "Epoch 27/30\n",
            "344/344 [==============================] - 6s 17ms/step - loss: 0.3768 - accuracy: 0.5222 - val_loss: 0.3738 - val_accuracy: 0.5305\n",
            "Epoch 28/30\n",
            "344/344 [==============================] - 6s 17ms/step - loss: 0.3767 - accuracy: 0.5222 - val_loss: 0.3738 - val_accuracy: 0.5305\n",
            "Epoch 29/30\n",
            "344/344 [==============================] - 5s 16ms/step - loss: 0.3766 - accuracy: 0.5222 - val_loss: 0.3737 - val_accuracy: 0.5305\n",
            "Epoch 30/30\n",
            "344/344 [==============================] - 5s 16ms/step - loss: 0.3765 - accuracy: 0.5222 - val_loss: 0.3736 - val_accuracy: 0.5305\n",
            "69/69 [==============================] - 0s 4ms/step - loss: 0.3943 - accuracy: 0.4755\n",
            "[0.3943275809288025, 0.47554346919059753]\n"
          ]
        }
      ]
    },
    {
      "cell_type": "code",
      "source": [
        "y_pred01 = model0_1.predict(x_test_pad)\n",
        "from sklearn.metrics import classification_report, accuracy_score\n",
        "y_pred01_bool = np.argmax(y_pred01, axis=1)\n",
        "print(classification_report(np.argmax(y_test2,axis=1), y_pred01_bool, digits=4))\n",
        "#print(\"Accuracy: \" + str(accuracy_score(y_test1, y_pred_bool)))\n",
        "\n",
        "# Build the confusion matrix off these predictions\n",
        "import seaborn as sns\n",
        "from sklearn.metrics import confusion_matrix\n",
        "import pandas as pd\n",
        "matrix = confusion_matrix(np.argmax(y_test2,axis=1), y_pred01_bool)\n",
        "fig, ax = plt.subplots(figsize=(5,5))\n",
        "\n",
        "plot = sns.heatmap(matrix, square=True, annot=True, cmap='Blues', fmt='d', cbar=False, linewidths=10, ax=ax, annot_kws={\"size\":10},xticklabels=['non-sexist','ideological-inequality','stereotyping-dominance','objectification', 'sexual-violence', 'misogyny-non-sexual-violence'], yticklabels=['non-sexist','ideological-inequality','stereotyping-dominance','objectification', 'sexual-violence', 'misogyny-non-sexual-violence'])\n",
        "plot.set_title('Confusion Matrix\\n\\n');\n",
        "plot.set_xlabel('\\nPrediction')\n",
        "plot.set_ylabel('\\nTruth');"
      ],
      "metadata": {
        "colab": {
          "base_uri": "https://localhost:8080/",
          "height": 883
        },
        "id": "XjkkT2OTkLGv",
        "outputId": "09ebf344-76fc-4b95-acf3-c9487b6c725c"
      },
      "execution_count": null,
      "outputs": [
        {
          "output_type": "stream",
          "name": "stderr",
          "text": [
            "/usr/local/lib/python3.7/dist-packages/sklearn/metrics/_classification.py:1318: UndefinedMetricWarning: Precision and F-score are ill-defined and being set to 0.0 in labels with no predicted samples. Use `zero_division` parameter to control this behavior.\n",
            "  _warn_prf(average, modifier, msg_start, len(result))\n",
            "/usr/local/lib/python3.7/dist-packages/sklearn/metrics/_classification.py:1318: UndefinedMetricWarning: Precision and F-score are ill-defined and being set to 0.0 in labels with no predicted samples. Use `zero_division` parameter to control this behavior.\n",
            "  _warn_prf(average, modifier, msg_start, len(result))\n",
            "/usr/local/lib/python3.7/dist-packages/sklearn/metrics/_classification.py:1318: UndefinedMetricWarning: Precision and F-score are ill-defined and being set to 0.0 in labels with no predicted samples. Use `zero_division` parameter to control this behavior.\n",
            "  _warn_prf(average, modifier, msg_start, len(result))\n"
          ]
        },
        {
          "output_type": "stream",
          "name": "stdout",
          "text": [
            "              precision    recall  f1-score   support\n",
            "\n",
            "           0     0.0000    0.0000    0.0000       215\n",
            "           1     0.0000    0.0000    0.0000       198\n",
            "           2     0.0000    0.0000    0.0000       150\n",
            "           3     0.0000    0.0000    0.0000       262\n",
            "           4     0.0000    0.0000    0.0000       333\n",
            "           5     0.4755    1.0000    0.6446      1050\n",
            "\n",
            "    accuracy                         0.4755      2208\n",
            "   macro avg     0.0793    0.1667    0.1074      2208\n",
            "weighted avg     0.2261    0.4755    0.3065      2208\n",
            "\n"
          ]
        },
        {
          "output_type": "display_data",
          "data": {
            "text/plain": [
              "<Figure size 360x360 with 1 Axes>"
            ],
            "image/png": "[encoded data removed]"
          },
          "metadata": {
            "needs_background": "light"
          }
        }
      ]
    },
    {
      "cell_type": "markdown",
      "source": [
        "## Model0-2 - NBOW using pre-trained word embeddings"
      ],
      "metadata": {
        "id": "S7l4XMielPYd"
      }
    },
    {
      "cell_type": "markdown",
      "source": [
        "### Preparing pre-trained word embeddings (GLOVE)"
      ],
      "metadata": {
        "id": "xG5Kw_XvlzOs"
      }
    },
    {
      "cell_type": "code",
      "source": [
        "def readGloveFile(gloveFile):\n",
        "    with open(gloveFile, 'r') as f:\n",
        "        wordToGlove = {}  \n",
        "        wordToIndex = {}  \n",
        "        indexToWord = {}  \n",
        "\n",
        "        for line in f:\n",
        "            record = line.strip().split()\n",
        "            token = record[0] \n",
        "            wordToGlove[token] = np.array(record[1:], dtype=np.float64) \n",
        "            \n",
        "        tokens = sorted(wordToGlove.keys())\n",
        "        for idx, tok in enumerate(tokens):\n",
        "            kerasIdx = idx + 1  \n",
        "            wordToIndex[tok] = kerasIdx \n",
        "            indexToWord[kerasIdx] = tok \n",
        "\n",
        "    return wordToIndex, indexToWord, wordToGlove"
      ],
      "metadata": {
        "id": "2n1GzhQyllM0"
      },
      "execution_count": null,
      "outputs": []
    },
    {
      "cell_type": "markdown",
      "source": [
        "Now, we create our pre-trained Embedding layer:"
      ],
      "metadata": {
        "id": "nMOhja1Pl-gw"
      }
    },
    {
      "cell_type": "code",
      "source": [
        "from keras.initializers import Constant\n",
        "\n",
        "def createPretrainedEmbeddingLayer(wordToGlove, wordToIndex, isTrainable):\n",
        "    vocabLen = len(wordToIndex) + 1  \n",
        "    embDim = next(iter(wordToGlove.values())).shape[0]  \n",
        "   \n",
        "    embeddingMatrix = np.zeros((vocabLen, embDim))  \n",
        "    for word, index in wordToIndex.items():\n",
        "        embeddingMatrix[index, :] = wordToGlove[word] \n",
        "\n",
        "    embeddingLayer = Embedding(vocabLen, embDim, embeddings_initializer=Constant(embeddingMatrix), trainable=isTrainable, name='GloVe_Embeddings')\n",
        "    return embeddingLayer"
      ],
      "metadata": {
        "id": "LuSNeihellaS"
      },
      "execution_count": null,
      "outputs": []
    },
    {
      "cell_type": "code",
      "source": [
        "!wget http://nlp.stanford.edu/data/glove.6B.zip\n",
        "!unzip '/content/glove.6B.zip'"
      ],
      "metadata": {
        "colab": {
          "base_uri": "https://localhost:8080/"
        },
        "id": "_SsVwvjhlldJ",
        "outputId": "7b8634bb-83f3-4789-baff-104cdeb5bce5"
      },
      "execution_count": null,
      "outputs": [
        {
          "output_type": "stream",
          "name": "stdout",
          "text": [
            "--2022-08-08 13:35:08--  http://nlp.stanford.edu/data/glove.6B.zip\n",
            "Resolving nlp.stanford.edu (nlp.stanford.edu)... 171.64.67.140\n",
            "Connecting to nlp.stanford.edu (nlp.stanford.edu)|171.64.67.140|:80... connected.\n",
            "HTTP request sent, awaiting response... 302 Found\n",
            "Location: https://nlp.stanford.edu/data/glove.6B.zip [following]\n",
            "--2022-08-08 13:35:08--  https://nlp.stanford.edu/data/glove.6B.zip\n",
            "Connecting to nlp.stanford.edu (nlp.stanford.edu)|171.64.67.140|:443... connected.\n",
            "HTTP request sent, awaiting response... 301 Moved Permanently\n",
            "Location: https://downloads.cs.stanford.edu/nlp/data/glove.6B.zip [following]\n",
            "--2022-08-08 13:35:08--  https://downloads.cs.stanford.edu/nlp/data/glove.6B.zip\n",
            "Resolving downloads.cs.stanford.edu (downloads.cs.stanford.edu)... 171.64.64.22\n",
            "Connecting to downloads.cs.stanford.edu (downloads.cs.stanford.edu)|171.64.64.22|:443... connected.\n",
            "HTTP request sent, awaiting response... 200 OK\n",
            "Length: 862182613 (822M) [application/zip]\n",
            "Saving to: ‘glove.6B.zip’\n",
            "\n",
            "glove.6B.zip        100%[===================>] 822.24M  5.02MB/s    in 2m 38s  \n",
            "\n",
            "2022-08-08 13:37:47 (5.19 MB/s) - ‘glove.6B.zip’ saved [862182613/862182613]\n",
            "\n",
            "Archive:  /content/glove.6B.zip\n",
            "  inflating: glove.6B.50d.txt        \n",
            "  inflating: glove.6B.100d.txt       \n",
            "  inflating: glove.6B.200d.txt       \n",
            "  inflating: glove.6B.300d.txt       \n"
          ]
        }
      ]
    },
    {
      "cell_type": "markdown",
      "source": [
        "We freeze the weights. To create the model:"
      ],
      "metadata": {
        "id": "0qzezqaSmEs0"
      }
    },
    {
      "cell_type": "code",
      "source": [
        "# wordToIndex,indexToWord,wordToGlove=readGloveFile('/content/glove.6B.50d.txt')\n",
        "# wordToIndex,indexToWord,wordToGlove=readGloveFile('/content/glove.6B.100d.txt')\n",
        "wordToIndex,indexToWord,wordToGlove=readGloveFile('/content/glove.6B.300d.txt')\n",
        "\n",
        "# vocabLen = len(wordToIndex) + 1 \n",
        "\n",
        "EMBED_SIZE = next(iter(wordToGlove.values())).shape[0]\n",
        "print('Size of Embedding: ',EMBED_SIZE)\n",
        "\n",
        "embeddingLayer=createPretrainedEmbeddingLayer(wordToGlove,wordToIndex,isTrainable=False)"
      ],
      "metadata": {
        "colab": {
          "base_uri": "https://localhost:8080/"
        },
        "id": "HjXkzJ0hllgR",
        "outputId": "049f7050-fb13-40cf-d8c0-d1cf04882077"
      },
      "execution_count": null,
      "outputs": [
        {
          "output_type": "stream",
          "name": "stdout",
          "text": [
            "Size of Embedding:  300\n"
          ]
        }
      ]
    },
    {
      "cell_type": "markdown",
      "source": [
        "### model"
      ],
      "metadata": {
        "id": "aKgS-DHkmRvD"
      }
    },
    {
      "cell_type": "code",
      "source": [
        "hdepth=50\n",
        "MAX_SEQUENCE_LENGTH = 128\n",
        "\n",
        "input_sent=Input(shape=(MAX_SEQUENCE_LENGTH,),dtype='int32')\n",
        "embedded_sent= embeddingLayer(input_sent)\n",
        "pooled_sent=GlobalAveragePooling1DMasked()(embedded_sent)\n",
        "hidden_output=Dense(hdepth,input_shape=(MAX_SEQUENCE_LENGTH,EMBED_SIZE),activation='relu',kernel_initializer='glorot_uniform')(pooled_sent) # Sigmoid\n",
        "label=Dense(6,input_shape=(hdepth,),activation='sigmoid',kernel_initializer='glorot_uniform')(hidden_output)\n",
        "model02 = Model(inputs=input_sent, outputs=[label],name='Model_0-2')\n",
        "model02.summary()"
      ],
      "metadata": {
        "colab": {
          "base_uri": "https://localhost:8080/"
        },
        "id": "NvhHK5hglljR",
        "outputId": "9068e78d-e2e3-42a3-efec-086f4b6135fc"
      },
      "execution_count": null,
      "outputs": [
        {
          "output_type": "stream",
          "name": "stdout",
          "text": [
            "Model: \"Model_0-2\"\n",
            "_________________________________________________________________\n",
            " Layer (type)                Output Shape              Param #   \n",
            "=================================================================\n",
            " input_2 (InputLayer)        [(None, 128)]             0         \n",
            "                                                                 \n",
            " GloVe_Embeddings (Embedding  (None, 128, 300)         120000300 \n",
            " )                                                               \n",
            "                                                                 \n",
            " global_average_pooling1d_ma  (None, 300)              0         \n",
            " sked_7 (GlobalAveragePoolin                                     \n",
            " g1DMasked)                                                      \n",
            "                                                                 \n",
            " dense_2 (Dense)             (None, 50)                15050     \n",
            "                                                                 \n",
            " dense_3 (Dense)             (None, 6)                 306       \n",
            "                                                                 \n",
            "=================================================================\n",
            "Total params: 120,015,656\n",
            "Trainable params: 15,356\n",
            "Non-trainable params: 120,000,300\n",
            "_________________________________________________________________\n"
          ]
        }
      ]
    },
    {
      "cell_type": "code",
      "source": [
        "optimizer0 = tf.keras.optimizers.Adam(learning_rate=2e-5)\n",
        "model02.compile(optimizer=optimizer0, loss='binary_crossentropy', metrics=['accuracy'])"
      ],
      "metadata": {
        "id": "EnxsIxzloQbJ"
      },
      "execution_count": null,
      "outputs": []
    },
    {
      "cell_type": "code",
      "source": [
        "history = model02.fit(x_train2_pad,\n",
        "                    y_train2,\n",
        "                    epochs=30,\n",
        "                    batch_size=8,\n",
        "                    validation_data=(x_val2_pad, y_val2),\n",
        "                    verbose=1)"
      ],
      "metadata": {
        "colab": {
          "base_uri": "https://localhost:8080/"
        },
        "id": "Q6Pv6H2koQef",
        "outputId": "21cdd1d0-124b-43d5-d832-fc4e898488fc"
      },
      "execution_count": null,
      "outputs": [
        {
          "output_type": "stream",
          "name": "stdout",
          "text": [
            "Epoch 1/30\n",
            "344/344 [==============================] - 2s 5ms/step - loss: 0.6705 - accuracy: 0.1161 - val_loss: 0.6607 - val_accuracy: 0.1221\n",
            "Epoch 2/30\n",
            "344/344 [==============================] - 2s 6ms/step - loss: 0.6360 - accuracy: 0.1550 - val_loss: 0.6241 - val_accuracy: 0.1875\n",
            "Epoch 3/30\n",
            "344/344 [==============================] - 2s 5ms/step - loss: 0.5957 - accuracy: 0.4192 - val_loss: 0.5854 - val_accuracy: 0.4360\n",
            "Epoch 4/30\n",
            "344/344 [==============================] - 1s 4ms/step - loss: 0.5590 - accuracy: 0.5222 - val_loss: 0.5512 - val_accuracy: 0.5262\n",
            "Epoch 5/30\n",
            "344/344 [==============================] - 1s 4ms/step - loss: 0.5275 - accuracy: 0.5222 - val_loss: 0.5216 - val_accuracy: 0.5305\n",
            "Epoch 6/30\n",
            "344/344 [==============================] - 1s 4ms/step - loss: 0.4994 - accuracy: 0.5222 - val_loss: 0.4946 - val_accuracy: 0.5305\n",
            "Epoch 7/30\n",
            "344/344 [==============================] - 2s 4ms/step - loss: 0.4770 - accuracy: 0.5222 - val_loss: 0.4741 - val_accuracy: 0.5305\n",
            "Epoch 8/30\n",
            "344/344 [==============================] - 2s 5ms/step - loss: 0.4600 - accuracy: 0.5222 - val_loss: 0.4579 - val_accuracy: 0.5305\n",
            "Epoch 9/30\n",
            "344/344 [==============================] - 1s 4ms/step - loss: 0.4472 - accuracy: 0.5222 - val_loss: 0.4455 - val_accuracy: 0.5305\n",
            "Epoch 10/30\n",
            "344/344 [==============================] - 1s 4ms/step - loss: 0.4378 - accuracy: 0.5222 - val_loss: 0.4362 - val_accuracy: 0.5305\n",
            "Epoch 11/30\n",
            "344/344 [==============================] - 2s 5ms/step - loss: 0.4310 - accuracy: 0.5222 - val_loss: 0.4293 - val_accuracy: 0.5305\n",
            "Epoch 12/30\n",
            "344/344 [==============================] - 2s 4ms/step - loss: 0.4261 - accuracy: 0.5222 - val_loss: 0.4240 - val_accuracy: 0.5305\n",
            "Epoch 13/30\n",
            "344/344 [==============================] - 2s 5ms/step - loss: 0.4225 - accuracy: 0.5222 - val_loss: 0.4200 - val_accuracy: 0.5305\n",
            "Epoch 14/30\n",
            "344/344 [==============================] - 1s 4ms/step - loss: 0.4199 - accuracy: 0.5222 - val_loss: 0.4168 - val_accuracy: 0.5305\n",
            "Epoch 15/30\n",
            "344/344 [==============================] - 1s 4ms/step - loss: 0.4178 - accuracy: 0.5222 - val_loss: 0.4144 - val_accuracy: 0.5305\n",
            "Epoch 16/30\n",
            "344/344 [==============================] - 1s 4ms/step - loss: 0.4162 - accuracy: 0.5222 - val_loss: 0.4123 - val_accuracy: 0.5305\n",
            "Epoch 17/30\n",
            "344/344 [==============================] - 1s 4ms/step - loss: 0.4149 - accuracy: 0.5222 - val_loss: 0.4106 - val_accuracy: 0.5305\n",
            "Epoch 18/30\n",
            "344/344 [==============================] - 1s 4ms/step - loss: 0.4138 - accuracy: 0.5222 - val_loss: 0.4091 - val_accuracy: 0.5305\n",
            "Epoch 19/30\n",
            "344/344 [==============================] - 1s 4ms/step - loss: 0.4127 - accuracy: 0.5222 - val_loss: 0.4078 - val_accuracy: 0.5305\n",
            "Epoch 20/30\n",
            "344/344 [==============================] - 2s 5ms/step - loss: 0.4118 - accuracy: 0.5222 - val_loss: 0.4066 - val_accuracy: 0.5305\n",
            "Epoch 21/30\n",
            "344/344 [==============================] - 1s 4ms/step - loss: 0.4109 - accuracy: 0.5222 - val_loss: 0.4055 - val_accuracy: 0.5305\n",
            "Epoch 22/30\n",
            "344/344 [==============================] - 1s 4ms/step - loss: 0.4100 - accuracy: 0.5222 - val_loss: 0.4045 - val_accuracy: 0.5305\n",
            "Epoch 23/30\n",
            "344/344 [==============================] - 1s 4ms/step - loss: 0.4092 - accuracy: 0.5222 - val_loss: 0.4035 - val_accuracy: 0.5305\n",
            "Epoch 24/30\n",
            "344/344 [==============================] - 1s 4ms/step - loss: 0.4084 - accuracy: 0.5222 - val_loss: 0.4026 - val_accuracy: 0.5305\n",
            "Epoch 25/30\n",
            "344/344 [==============================] - 1s 4ms/step - loss: 0.4076 - accuracy: 0.5222 - val_loss: 0.4017 - val_accuracy: 0.5305\n",
            "Epoch 26/30\n",
            "344/344 [==============================] - 1s 4ms/step - loss: 0.4068 - accuracy: 0.5222 - val_loss: 0.4009 - val_accuracy: 0.5305\n",
            "Epoch 27/30\n",
            "344/344 [==============================] - 1s 4ms/step - loss: 0.4060 - accuracy: 0.5222 - val_loss: 0.4001 - val_accuracy: 0.5305\n",
            "Epoch 28/30\n",
            "344/344 [==============================] - 1s 4ms/step - loss: 0.4052 - accuracy: 0.5222 - val_loss: 0.3993 - val_accuracy: 0.5305\n",
            "Epoch 29/30\n",
            "344/344 [==============================] - 1s 4ms/step - loss: 0.4045 - accuracy: 0.5222 - val_loss: 0.3985 - val_accuracy: 0.5305\n",
            "Epoch 30/30\n",
            "344/344 [==============================] - 1s 4ms/step - loss: 0.4038 - accuracy: 0.5222 - val_loss: 0.3977 - val_accuracy: 0.5305\n"
          ]
        }
      ]
    },
    {
      "cell_type": "code",
      "source": [
        "y_pred02 = model02.predict(x_test_pad)\n"
      ],
      "metadata": {
        "id": "h0wF961hoQlE"
      },
      "execution_count": null,
      "outputs": []
    },
    {
      "cell_type": "code",
      "source": [
        "from sklearn.metrics import classification_report, accuracy_score\n",
        "y_pred02_bool = np.argmax(y_pred02, axis=1)\n",
        "print(classification_report(np.argmax(y_test2, axis=1), y_pred02_bool,digits=4))\n",
        "#print(\"Accuracy: \" + str(accuracy_score(y_test1, y_pred_bool)))\n",
        "\n",
        "# Build the confusion matrix off these predictions\n",
        "import seaborn as sns\n",
        "from sklearn.metrics import confusion_matrix\n",
        "import pandas as pd\n",
        "matrix = confusion_matrix(np.argmax(y_test2, axis=1), y_pred02_bool)\n",
        "fig, ax = plt.subplots(figsize=(5,5))\n",
        "plot = sns.heatmap(matrix, square=True, annot=True, cmap='Blues', fmt='d', cbar=False, linewidths=10, ax=ax, annot_kws={\"size\":10},xticklabels=['non-sexist','ideological-inequality','stereotyping-dominance','objectification', 'sexual-violence', 'misogyny-non-sexual-violence'], yticklabels=['non-sexist','ideological-inequality','stereotyping-dominance','objectification', 'sexual-violence', 'misogyny-non-sexual-violence'])\n",
        "plot.set_title('Confusion Matrix\\n\\n');\n",
        "plot.set_xlabel('\\nPrediction')\n",
        "plot.set_ylabel('\\nTruth');"
      ],
      "metadata": {
        "colab": {
          "base_uri": "https://localhost:8080/",
          "height": 883
        },
        "id": "D47bhvFypEqI",
        "outputId": "e5c52d89-4cf7-4879-bc42-a22a6fb1c8f8"
      },
      "execution_count": null,
      "outputs": [
        {
          "output_type": "stream",
          "name": "stderr",
          "text": [
            "/usr/local/lib/python3.7/dist-packages/sklearn/metrics/_classification.py:1318: UndefinedMetricWarning: Precision and F-score are ill-defined and being set to 0.0 in labels with no predicted samples. Use `zero_division` parameter to control this behavior.\n",
            "  _warn_prf(average, modifier, msg_start, len(result))\n",
            "/usr/local/lib/python3.7/dist-packages/sklearn/metrics/_classification.py:1318: UndefinedMetricWarning: Precision and F-score are ill-defined and being set to 0.0 in labels with no predicted samples. Use `zero_division` parameter to control this behavior.\n",
            "  _warn_prf(average, modifier, msg_start, len(result))\n",
            "/usr/local/lib/python3.7/dist-packages/sklearn/metrics/_classification.py:1318: UndefinedMetricWarning: Precision and F-score are ill-defined and being set to 0.0 in labels with no predicted samples. Use `zero_division` parameter to control this behavior.\n",
            "  _warn_prf(average, modifier, msg_start, len(result))\n"
          ]
        },
        {
          "output_type": "stream",
          "name": "stdout",
          "text": [
            "              precision    recall  f1-score   support\n",
            "\n",
            "           0     0.0000    0.0000    0.0000       215\n",
            "           1     0.0000    0.0000    0.0000       198\n",
            "           2     0.0000    0.0000    0.0000       150\n",
            "           3     0.0000    0.0000    0.0000       262\n",
            "           4     0.0000    0.0000    0.0000       333\n",
            "           5     0.4755    1.0000    0.6446      1050\n",
            "\n",
            "    accuracy                         0.4755      2208\n",
            "   macro avg     0.0793    0.1667    0.1074      2208\n",
            "weighted avg     0.2261    0.4755    0.3065      2208\n",
            "\n"
          ]
        },
        {
          "output_type": "display_data",
          "data": {
            "text/plain": [
              "<Figure size 360x360 with 1 Axes>"
            ],
            "image/png": "[encoded data removed]"
          },
          "metadata": {
            "needs_background": "light"
          }
        }
      ]
    },
    {
      "cell_type": "code",
      "source": [
        "a = np.argmax(y_test2, axis=1)\n",
        "np.count_nonzero(a == 5)"
      ],
      "metadata": {
        "colab": {
          "base_uri": "https://localhost:8080/"
        },
        "id": "MGC-ce2J_yEV",
        "outputId": "8d24949c-1e54-4b57-e1da-e75e3163a021"
      },
      "execution_count": null,
      "outputs": [
        {
          "output_type": "execute_result",
          "data": {
            "text/plain": [
              "1050"
            ]
          },
          "metadata": {},
          "execution_count": 73
        }
      ]
    },
    {
      "cell_type": "markdown",
      "metadata": {
        "id": "gUqlYDJjuI_k"
      },
      "source": [
        "# Model1 - DistilBERT sequence classification"
      ]
    },
    {
      "cell_type": "code",
      "execution_count": null,
      "metadata": {
        "colab": {
          "base_uri": "https://localhost:8080/",
          "height": 833,
          "referenced_widgets": [
            "e4b277cfcdde4ae5bfcfb3853b5fdacf",
            "4bf8c0baa2f444419f55e07aa19a2c1a",
            "3409ed2b991a44a8a63fc169fd2fd100",
            "80bf68ade34143d6be14f167a575f717",
            "66702c95b21849f8a2c3dc3d3f45b126",
            "56e609db2cb24bea9fc5fc4254454f0b",
            "4bc07af174c14b4bb17c039edbbc2239",
            "7d58bc2181dd4a848d3633ef6b45793d",
            "88b788b4ca96482c97bbe11025eeb589",
            "887c525f713f4f19bc83720fd808c923",
            "f93ba9afd04d4ebebb7e0c9d32980a40"
          ]
        },
        "id": "uf_fSoUUz4zG",
        "outputId": "ea4702db-96c8-4b88-e055-aa8cd8aa52f9"
      },
      "outputs": [
        {
          "output_type": "stream",
          "name": "stdout",
          "text": [
            "INFO:tensorflow:Deallocate tpu buffers before initializing tpu system.\n"
          ]
        },
        {
          "output_type": "stream",
          "name": "stderr",
          "text": [
            "INFO:tensorflow:Deallocate tpu buffers before initializing tpu system.\n"
          ]
        },
        {
          "output_type": "stream",
          "name": "stdout",
          "text": [
            "INFO:tensorflow:Initializing the TPU system: grpc://10.122.89.50:8470\n"
          ]
        },
        {
          "output_type": "stream",
          "name": "stderr",
          "text": [
            "INFO:tensorflow:Initializing the TPU system: grpc://10.122.89.50:8470\n"
          ]
        },
        {
          "output_type": "stream",
          "name": "stdout",
          "text": [
            "INFO:tensorflow:Finished initializing TPU system.\n"
          ]
        },
        {
          "output_type": "stream",
          "name": "stderr",
          "text": [
            "INFO:tensorflow:Finished initializing TPU system.\n",
            "WARNING:absl:`tf.distribute.experimental.TPUStrategy` is deprecated, please use  the non experimental symbol `tf.distribute.TPUStrategy` instead.\n"
          ]
        },
        {
          "output_type": "stream",
          "name": "stdout",
          "text": [
            "INFO:tensorflow:Found TPU system:\n"
          ]
        },
        {
          "output_type": "stream",
          "name": "stderr",
          "text": [
            "INFO:tensorflow:Found TPU system:\n"
          ]
        },
        {
          "output_type": "stream",
          "name": "stdout",
          "text": [
            "INFO:tensorflow:*** Num TPU Cores: 8\n"
          ]
        },
        {
          "output_type": "stream",
          "name": "stderr",
          "text": [
            "INFO:tensorflow:*** Num TPU Cores: 8\n"
          ]
        },
        {
          "output_type": "stream",
          "name": "stdout",
          "text": [
            "INFO:tensorflow:*** Num TPU Workers: 1\n"
          ]
        },
        {
          "output_type": "stream",
          "name": "stderr",
          "text": [
            "INFO:tensorflow:*** Num TPU Workers: 1\n"
          ]
        },
        {
          "output_type": "stream",
          "name": "stdout",
          "text": [
            "INFO:tensorflow:*** Num TPU Cores Per Worker: 8\n"
          ]
        },
        {
          "output_type": "stream",
          "name": "stderr",
          "text": [
            "INFO:tensorflow:*** Num TPU Cores Per Worker: 8\n"
          ]
        },
        {
          "output_type": "stream",
          "name": "stdout",
          "text": [
            "INFO:tensorflow:*** Available Device: _DeviceAttributes(/job:localhost/replica:0/task:0/device:CPU:0, CPU, 0, 0)\n"
          ]
        },
        {
          "output_type": "stream",
          "name": "stderr",
          "text": [
            "INFO:tensorflow:*** Available Device: _DeviceAttributes(/job:localhost/replica:0/task:0/device:CPU:0, CPU, 0, 0)\n"
          ]
        },
        {
          "output_type": "stream",
          "name": "stdout",
          "text": [
            "INFO:tensorflow:*** Available Device: _DeviceAttributes(/job:worker/replica:0/task:0/device:CPU:0, CPU, 0, 0)\n"
          ]
        },
        {
          "output_type": "stream",
          "name": "stderr",
          "text": [
            "INFO:tensorflow:*** Available Device: _DeviceAttributes(/job:worker/replica:0/task:0/device:CPU:0, CPU, 0, 0)\n"
          ]
        },
        {
          "output_type": "stream",
          "name": "stdout",
          "text": [
            "INFO:tensorflow:*** Available Device: _DeviceAttributes(/job:worker/replica:0/task:0/device:TPU:0, TPU, 0, 0)\n"
          ]
        },
        {
          "output_type": "stream",
          "name": "stderr",
          "text": [
            "INFO:tensorflow:*** Available Device: _DeviceAttributes(/job:worker/replica:0/task:0/device:TPU:0, TPU, 0, 0)\n"
          ]
        },
        {
          "output_type": "stream",
          "name": "stdout",
          "text": [
            "INFO:tensorflow:*** Available Device: _DeviceAttributes(/job:worker/replica:0/task:0/device:TPU:1, TPU, 0, 0)\n"
          ]
        },
        {
          "output_type": "stream",
          "name": "stderr",
          "text": [
            "INFO:tensorflow:*** Available Device: _DeviceAttributes(/job:worker/replica:0/task:0/device:TPU:1, TPU, 0, 0)\n"
          ]
        },
        {
          "output_type": "stream",
          "name": "stdout",
          "text": [
            "INFO:tensorflow:*** Available Device: _DeviceAttributes(/job:worker/replica:0/task:0/device:TPU:2, TPU, 0, 0)\n"
          ]
        },
        {
          "output_type": "stream",
          "name": "stderr",
          "text": [
            "INFO:tensorflow:*** Available Device: _DeviceAttributes(/job:worker/replica:0/task:0/device:TPU:2, TPU, 0, 0)\n"
          ]
        },
        {
          "output_type": "stream",
          "name": "stdout",
          "text": [
            "INFO:tensorflow:*** Available Device: _DeviceAttributes(/job:worker/replica:0/task:0/device:TPU:3, TPU, 0, 0)\n"
          ]
        },
        {
          "output_type": "stream",
          "name": "stderr",
          "text": [
            "INFO:tensorflow:*** Available Device: _DeviceAttributes(/job:worker/replica:0/task:0/device:TPU:3, TPU, 0, 0)\n"
          ]
        },
        {
          "output_type": "stream",
          "name": "stdout",
          "text": [
            "INFO:tensorflow:*** Available Device: _DeviceAttributes(/job:worker/replica:0/task:0/device:TPU:4, TPU, 0, 0)\n"
          ]
        },
        {
          "output_type": "stream",
          "name": "stderr",
          "text": [
            "INFO:tensorflow:*** Available Device: _DeviceAttributes(/job:worker/replica:0/task:0/device:TPU:4, TPU, 0, 0)\n"
          ]
        },
        {
          "output_type": "stream",
          "name": "stdout",
          "text": [
            "INFO:tensorflow:*** Available Device: _DeviceAttributes(/job:worker/replica:0/task:0/device:TPU:5, TPU, 0, 0)\n"
          ]
        },
        {
          "output_type": "stream",
          "name": "stderr",
          "text": [
            "INFO:tensorflow:*** Available Device: _DeviceAttributes(/job:worker/replica:0/task:0/device:TPU:5, TPU, 0, 0)\n"
          ]
        },
        {
          "output_type": "stream",
          "name": "stdout",
          "text": [
            "INFO:tensorflow:*** Available Device: _DeviceAttributes(/job:worker/replica:0/task:0/device:TPU:6, TPU, 0, 0)\n"
          ]
        },
        {
          "output_type": "stream",
          "name": "stderr",
          "text": [
            "INFO:tensorflow:*** Available Device: _DeviceAttributes(/job:worker/replica:0/task:0/device:TPU:6, TPU, 0, 0)\n"
          ]
        },
        {
          "output_type": "stream",
          "name": "stdout",
          "text": [
            "INFO:tensorflow:*** Available Device: _DeviceAttributes(/job:worker/replica:0/task:0/device:TPU:7, TPU, 0, 0)\n"
          ]
        },
        {
          "output_type": "stream",
          "name": "stderr",
          "text": [
            "INFO:tensorflow:*** Available Device: _DeviceAttributes(/job:worker/replica:0/task:0/device:TPU:7, TPU, 0, 0)\n"
          ]
        },
        {
          "output_type": "stream",
          "name": "stdout",
          "text": [
            "INFO:tensorflow:*** Available Device: _DeviceAttributes(/job:worker/replica:0/task:0/device:TPU_SYSTEM:0, TPU_SYSTEM, 0, 0)\n"
          ]
        },
        {
          "output_type": "stream",
          "name": "stderr",
          "text": [
            "INFO:tensorflow:*** Available Device: _DeviceAttributes(/job:worker/replica:0/task:0/device:TPU_SYSTEM:0, TPU_SYSTEM, 0, 0)\n"
          ]
        },
        {
          "output_type": "stream",
          "name": "stdout",
          "text": [
            "INFO:tensorflow:*** Available Device: _DeviceAttributes(/job:worker/replica:0/task:0/device:XLA_CPU:0, XLA_CPU, 0, 0)\n"
          ]
        },
        {
          "output_type": "stream",
          "name": "stderr",
          "text": [
            "INFO:tensorflow:*** Available Device: _DeviceAttributes(/job:worker/replica:0/task:0/device:XLA_CPU:0, XLA_CPU, 0, 0)\n"
          ]
        },
        {
          "output_type": "display_data",
          "data": {
            "text/plain": [
              "Downloading tf_model.h5:   0%|          | 0.00/347M [00:00<?, ?B/s]"
            ],
            "application/vnd.jupyter.widget-view+json": {
              "version_major": 2,
              "version_minor": 0,
              "model_id": "e4b277cfcdde4ae5bfcfb3853b5fdacf"
            }
          },
          "metadata": {}
        },
        {
          "output_type": "stream",
          "name": "stderr",
          "text": [
            "Some layers from the model checkpoint at distilbert-base-uncased were not used when initializing TFDistilBertForSequenceClassification: ['vocab_layer_norm', 'vocab_projector', 'activation_13', 'vocab_transform']\n",
            "- This IS expected if you are initializing TFDistilBertForSequenceClassification from the checkpoint of a model trained on another task or with another architecture (e.g. initializing a BertForSequenceClassification model from a BertForPreTraining model).\n",
            "- This IS NOT expected if you are initializing TFDistilBertForSequenceClassification from the checkpoint of a model that you expect to be exactly identical (initializing a BertForSequenceClassification model from a BertForSequenceClassification model).\n",
            "Some layers of TFDistilBertForSequenceClassification were not initialized from the model checkpoint at distilbert-base-uncased and are newly initialized: ['dropout_19', 'pre_classifier', 'classifier']\n",
            "You should probably TRAIN this model on a down-stream task to be able to use it for predictions and inference.\n"
          ]
        }
      ],
      "source": [
        "from transformers import TFDistilBertForSequenceClassification, DistilBertConfig\n",
        "import tensorflow as tf\n",
        "\n",
        "distil_bert = 'distilbert-base-uncased'\n",
        "\n",
        "config = DistilBertConfig(num_labels=6)\n",
        "config.output_hidden_states = False\n",
        "\n",
        "def create_TFDistilBertForSequenceClassification():\n",
        "  transformer_model = TFDistilBertForSequenceClassification.from_pretrained(distil_bert, config = config)\n",
        "  input_ids = tf.keras.layers.Input(shape=(128,), name='input_token', dtype='int32')\n",
        "  input_masks_ids = tf.keras.layers.Input(shape=(128,), name='masked_token', dtype='int32')\n",
        "  X = transformer_model(input_ids, input_masks_ids)\n",
        "  return tf.keras.Model(inputs=[input_ids, input_masks_ids], outputs = X)\n",
        "\n",
        "use_tpu = True\n",
        "if use_tpu:\n",
        "  # Create distribution strategy\n",
        "  tpu = tf.distribute.cluster_resolver.TPUClusterResolver()\n",
        "  tf.config.experimental_connect_to_cluster(tpu)\n",
        "  tf.tpu.experimental.initialize_tpu_system(tpu)\n",
        "  strategy = tf.distribute.experimental.TPUStrategy(tpu)\n",
        "\n",
        "  # Create model on TPU:\n",
        "  with strategy.scope():\n",
        "    model = create_TFDistilBertForSequenceClassification()\n",
        "    optimizer = tf.keras.optimizers.Adam(learning_rate=2e-5)\n",
        "    model.compile(optimizer=optimizer, loss='binary_crossentropy', metrics=['accuracy'])\n",
        "else:\n",
        "  model = create_TFDistilBertForSequenceClassification()\n",
        "  model.compile(optimizer='adam',\n",
        "              loss='binary_crossentropy',\n",
        "              metrics=['accuracy'])\n"
      ]
    },
    {
      "cell_type": "code",
      "execution_count": null,
      "metadata": {
        "colab": {
          "base_uri": "https://localhost:8080/"
        },
        "id": "X8gvk281Iv8e",
        "outputId": "2b4f6a84-8794-472a-bccd-67fed30ce2d9"
      },
      "outputs": [
        {
          "output_type": "stream",
          "name": "stdout",
          "text": [
            "Model: \"model\"\n",
            "__________________________________________________________________________________________________\n",
            " Layer (type)                   Output Shape         Param #     Connected to                     \n",
            "==================================================================================================\n",
            " input_token (InputLayer)       [(None, 128)]        0           []                               \n",
            "                                                                                                  \n",
            " masked_token (InputLayer)      [(None, 128)]        0           []                               \n",
            "                                                                                                  \n",
            " tf_distil_bert_for_sequence_cl  TFSequenceClassifie  66958086   ['input_token[0][0]',            \n",
            " assification (TFDistilBertForS  rOutput(loss=None,               'masked_token[0][0]']           \n",
            " equenceClassification)         logits=(None, 6),                                                 \n",
            "                                 hidden_states=None                                               \n",
            "                                , attentions=None)                                                \n",
            "                                                                                                  \n",
            "==================================================================================================\n",
            "Total params: 66,958,086\n",
            "Trainable params: 66,958,086\n",
            "Non-trainable params: 0\n",
            "__________________________________________________________________________________________________\n"
          ]
        }
      ],
      "source": [
        "model.summary()"
      ]
    },
    {
      "cell_type": "code",
      "execution_count": null,
      "metadata": {
        "id": "ES6li52mMlE1",
        "colab": {
          "base_uri": "https://localhost:8080/"
        },
        "outputId": "44600409-10b3-4503-d21a-83ed0447e35f"
      },
      "outputs": [
        {
          "output_type": "stream",
          "name": "stdout",
          "text": [
            "Epoch 1/10\n",
            "344/344 [==============================] - 18s 53ms/step - loss: 2.2421 - accuracy: 0.5222 - val_loss: 2.1821 - val_accuracy: 0.5305\n",
            "Epoch 2/10\n",
            "344/344 [==============================] - 17s 49ms/step - loss: 2.2316 - accuracy: 0.5222 - val_loss: 2.1767 - val_accuracy: 0.5305\n",
            "Epoch 3/10\n",
            "344/344 [==============================] - 17s 49ms/step - loss: 2.2283 - accuracy: 0.5222 - val_loss: 2.1747 - val_accuracy: 0.5305\n",
            "Epoch 4/10\n",
            "344/344 [==============================] - 17s 50ms/step - loss: 2.2237 - accuracy: 0.5222 - val_loss: 2.1813 - val_accuracy: 0.5305\n",
            "Epoch 5/10\n",
            "344/344 [==============================] - 17s 50ms/step - loss: 2.2165 - accuracy: 0.5222 - val_loss: 2.1741 - val_accuracy: 0.5305\n",
            "Epoch 6/10\n",
            "344/344 [==============================] - 18s 51ms/step - loss: 1.0439 - accuracy: 0.5175 - val_loss: 0.9215 - val_accuracy: 0.5480\n",
            "Epoch 7/10\n",
            "344/344 [==============================] - 18s 51ms/step - loss: 0.8817 - accuracy: 0.6117 - val_loss: 1.0504 - val_accuracy: 0.5145\n",
            "Epoch 8/10\n",
            "344/344 [==============================] - 17s 49ms/step - loss: 0.4010 - accuracy: 0.7482 - val_loss: 0.6953 - val_accuracy: 0.6453\n",
            "Epoch 9/10\n",
            "344/344 [==============================] - 17s 50ms/step - loss: 0.2650 - accuracy: 0.7948 - val_loss: 0.4354 - val_accuracy: 0.4317\n",
            "Epoch 10/10\n",
            "344/344 [==============================] - 17s 50ms/step - loss: 0.1798 - accuracy: 0.8042 - val_loss: 0.6656 - val_accuracy: 0.6294\n"
          ]
        }
      ],
      "source": [
        "history = model.fit([x_train2_int_np,x_train2_mask_np],\n",
        "                    y_train2,\n",
        "                    epochs=10,\n",
        "                    batch_size=8,\n",
        "                    validation_data=([x_val2_int_np,x_val2_mask_np], y_val2),\n",
        "                    verbose=1)"
      ]
    },
    {
      "cell_type": "code",
      "execution_count": null,
      "metadata": {
        "id": "LESxJ-65bGbg"
      },
      "outputs": [],
      "source": [
        "#results = model.evaluate([x_test1_int_np,x_test1_mask_np], y_test1, batch_size=512)\n",
        "#print(results)"
      ]
    },
    {
      "cell_type": "code",
      "execution_count": null,
      "metadata": {
        "id": "2Lc0N6ZhfcXx"
      },
      "outputs": [],
      "source": [
        "y_pred = model.predict([x_test2_int_np,x_test2_mask_np],batch_size=512)"
      ]
    },
    {
      "cell_type": "code",
      "source": [
        "from sklearn.metrics import classification_report, accuracy_score\n",
        "y_pred_bool = np.argmax(y_pred.logits, axis=1)\n",
        "#y_pred_bool = np.argmax(y_pred, axis=1)\n",
        "print(classification_report(np.argmax(y_test2, axis=1), y_pred_bool,digits=4))\n",
        "#print(\"Accuracy: \" + str(accuracy_score(y_test1, y_pred_bool)))\n",
        "\n",
        "# Build the confusion matrix off these predictions\n",
        "import seaborn as sns\n",
        "from sklearn.metrics import confusion_matrix\n",
        "import pandas as pd\n",
        "matrix = confusion_matrix(np.argmax(y_test2, axis=1), y_pred_bool)\n",
        "fig, ax = plt.subplots(figsize=(5,5))\n",
        "plot = sns.heatmap(matrix, square=True, annot=True, cmap='Blues', fmt='d', cbar=False, linewidths=10, ax=ax, annot_kws={\"size\":10},xticklabels=['non-sexist','ideological-inequality','stereotyping-dominance','objectification', 'sexual-violence', 'misogyny-non-sexual-violence'], yticklabels=['non-sexist','ideological-inequality','stereotyping-dominance','objectification', 'sexual-violence', 'misogyny-non-sexual-violence'])\n",
        "plot.set_title('Confusion Matrix\\n\\n');\n",
        "plot.set_xlabel('\\nPrediction')\n",
        "plot.set_ylabel('\\nTruth');"
      ],
      "metadata": {
        "colab": {
          "base_uri": "https://localhost:8080/",
          "height": 759
        },
        "id": "fBR1aqc1El_s",
        "outputId": "4da0b758-8c83-4a9d-958f-2796baf20774"
      },
      "execution_count": null,
      "outputs": [
        {
          "output_type": "stream",
          "name": "stdout",
          "text": [
            "              precision    recall  f1-score   support\n",
            "\n",
            "           0     0.3333    0.2419    0.2803       215\n",
            "           1     0.3921    0.4495    0.4188       198\n",
            "           2     0.4722    0.2267    0.3063       150\n",
            "           3     0.3854    0.4427    0.4121       262\n",
            "           4     0.5497    0.5646    0.5570       333\n",
            "           5     0.6811    0.7200    0.7000      1050\n",
            "\n",
            "    accuracy                         0.5593      2208\n",
            "   macro avg     0.4690    0.4409    0.4458      2208\n",
            "weighted avg     0.5522    0.5593    0.5514      2208\n",
            "\n"
          ]
        },
        {
          "output_type": "display_data",
          "data": {
            "text/plain": [
              "<Figure size 360x360 with 1 Axes>"
            ],
            "image/png": "[encoded data removed]"
          },
          "metadata": {
            "needs_background": "light"
          }
        }
      ]
    },
    {
      "cell_type": "markdown",
      "metadata": {
        "id": "qKpJDt4fhAlj"
      },
      "source": [
        "# Model2 - DistilBERT+NBOW"
      ]
    },
    {
      "cell_type": "code",
      "execution_count": null,
      "metadata": {
        "id": "g9XCnPvwhF3E"
      },
      "outputs": [],
      "source": [
        "class GlobalAveragePooling1DMasked(GlobalAveragePooling1D):\n",
        "    def call(self, x, mask=None):\n",
        "        if mask != None:\n",
        "            return K.sum(x, axis=1) / K.sum(mask, axis=1)\n",
        "        else:\n",
        "            return super().call(x)"
      ]
    },
    {
      "cell_type": "code",
      "execution_count": null,
      "metadata": {
        "id": "5AjEZHAZnhJJ"
      },
      "outputs": [],
      "source": [
        "from transformers import TFDistilBertModel, DistilBertConfig\n",
        "\n",
        "def get_BERT_layer():\n",
        "  distil_bert = 'distilbert-base-uncased'\n",
        "  config = DistilBertConfig(dropout=0.2, attention_dropout=0.2)\n",
        "  config.output_hidden_states = False\n",
        "  return TFDistilBertModel.from_pretrained(distil_bert, config = config)\n"
      ]
    },
    {
      "cell_type": "code",
      "execution_count": null,
      "metadata": {
        "colab": {
          "base_uri": "https://localhost:8080/"
        },
        "id": "kTseKl6Vno_T",
        "outputId": "3bdc6cb7-0824-4890-be32-2ed96af61754"
      },
      "outputs": [
        {
          "output_type": "stream",
          "name": "stdout",
          "text": [
            "INFO:tensorflow:Deallocate tpu buffers before initializing tpu system.\n"
          ]
        },
        {
          "output_type": "stream",
          "name": "stderr",
          "text": [
            "INFO:tensorflow:Deallocate tpu buffers before initializing tpu system.\n"
          ]
        },
        {
          "output_type": "stream",
          "name": "stdout",
          "text": [
            "WARNING:tensorflow:TPU system grpc://10.56.92.226:8470 has already been initialized. Reinitializing the TPU can cause previously created variables on TPU to be lost.\n"
          ]
        },
        {
          "output_type": "stream",
          "name": "stderr",
          "text": [
            "WARNING:tensorflow:TPU system grpc://10.56.92.226:8470 has already been initialized. Reinitializing the TPU can cause previously created variables on TPU to be lost.\n"
          ]
        },
        {
          "output_type": "stream",
          "name": "stdout",
          "text": [
            "INFO:tensorflow:Initializing the TPU system: grpc://10.56.92.226:8470\n"
          ]
        },
        {
          "output_type": "stream",
          "name": "stderr",
          "text": [
            "INFO:tensorflow:Initializing the TPU system: grpc://10.56.92.226:8470\n"
          ]
        },
        {
          "output_type": "stream",
          "name": "stdout",
          "text": [
            "INFO:tensorflow:Finished initializing TPU system.\n"
          ]
        },
        {
          "output_type": "stream",
          "name": "stderr",
          "text": [
            "INFO:tensorflow:Finished initializing TPU system.\n",
            "WARNING:absl:`tf.distribute.experimental.TPUStrategy` is deprecated, please use  the non experimental symbol `tf.distribute.TPUStrategy` instead.\n"
          ]
        },
        {
          "output_type": "stream",
          "name": "stdout",
          "text": [
            "INFO:tensorflow:Found TPU system:\n"
          ]
        },
        {
          "output_type": "stream",
          "name": "stderr",
          "text": [
            "INFO:tensorflow:Found TPU system:\n"
          ]
        },
        {
          "output_type": "stream",
          "name": "stdout",
          "text": [
            "INFO:tensorflow:*** Num TPU Cores: 8\n"
          ]
        },
        {
          "output_type": "stream",
          "name": "stderr",
          "text": [
            "INFO:tensorflow:*** Num TPU Cores: 8\n"
          ]
        },
        {
          "output_type": "stream",
          "name": "stdout",
          "text": [
            "INFO:tensorflow:*** Num TPU Workers: 1\n"
          ]
        },
        {
          "output_type": "stream",
          "name": "stderr",
          "text": [
            "INFO:tensorflow:*** Num TPU Workers: 1\n"
          ]
        },
        {
          "output_type": "stream",
          "name": "stdout",
          "text": [
            "INFO:tensorflow:*** Num TPU Cores Per Worker: 8\n"
          ]
        },
        {
          "output_type": "stream",
          "name": "stderr",
          "text": [
            "INFO:tensorflow:*** Num TPU Cores Per Worker: 8\n"
          ]
        },
        {
          "output_type": "stream",
          "name": "stdout",
          "text": [
            "INFO:tensorflow:*** Available Device: _DeviceAttributes(/job:localhost/replica:0/task:0/device:CPU:0, CPU, 0, 0)\n"
          ]
        },
        {
          "output_type": "stream",
          "name": "stderr",
          "text": [
            "INFO:tensorflow:*** Available Device: _DeviceAttributes(/job:localhost/replica:0/task:0/device:CPU:0, CPU, 0, 0)\n"
          ]
        },
        {
          "output_type": "stream",
          "name": "stdout",
          "text": [
            "INFO:tensorflow:*** Available Device: _DeviceAttributes(/job:worker/replica:0/task:0/device:CPU:0, CPU, 0, 0)\n"
          ]
        },
        {
          "output_type": "stream",
          "name": "stderr",
          "text": [
            "INFO:tensorflow:*** Available Device: _DeviceAttributes(/job:worker/replica:0/task:0/device:CPU:0, CPU, 0, 0)\n"
          ]
        },
        {
          "output_type": "stream",
          "name": "stdout",
          "text": [
            "INFO:tensorflow:*** Available Device: _DeviceAttributes(/job:worker/replica:0/task:0/device:TPU:0, TPU, 0, 0)\n"
          ]
        },
        {
          "output_type": "stream",
          "name": "stderr",
          "text": [
            "INFO:tensorflow:*** Available Device: _DeviceAttributes(/job:worker/replica:0/task:0/device:TPU:0, TPU, 0, 0)\n"
          ]
        },
        {
          "output_type": "stream",
          "name": "stdout",
          "text": [
            "INFO:tensorflow:*** Available Device: _DeviceAttributes(/job:worker/replica:0/task:0/device:TPU:1, TPU, 0, 0)\n"
          ]
        },
        {
          "output_type": "stream",
          "name": "stderr",
          "text": [
            "INFO:tensorflow:*** Available Device: _DeviceAttributes(/job:worker/replica:0/task:0/device:TPU:1, TPU, 0, 0)\n"
          ]
        },
        {
          "output_type": "stream",
          "name": "stdout",
          "text": [
            "INFO:tensorflow:*** Available Device: _DeviceAttributes(/job:worker/replica:0/task:0/device:TPU:2, TPU, 0, 0)\n"
          ]
        },
        {
          "output_type": "stream",
          "name": "stderr",
          "text": [
            "INFO:tensorflow:*** Available Device: _DeviceAttributes(/job:worker/replica:0/task:0/device:TPU:2, TPU, 0, 0)\n"
          ]
        },
        {
          "output_type": "stream",
          "name": "stdout",
          "text": [
            "INFO:tensorflow:*** Available Device: _DeviceAttributes(/job:worker/replica:0/task:0/device:TPU:3, TPU, 0, 0)\n"
          ]
        },
        {
          "output_type": "stream",
          "name": "stderr",
          "text": [
            "INFO:tensorflow:*** Available Device: _DeviceAttributes(/job:worker/replica:0/task:0/device:TPU:3, TPU, 0, 0)\n"
          ]
        },
        {
          "output_type": "stream",
          "name": "stdout",
          "text": [
            "INFO:tensorflow:*** Available Device: _DeviceAttributes(/job:worker/replica:0/task:0/device:TPU:4, TPU, 0, 0)\n"
          ]
        },
        {
          "output_type": "stream",
          "name": "stderr",
          "text": [
            "INFO:tensorflow:*** Available Device: _DeviceAttributes(/job:worker/replica:0/task:0/device:TPU:4, TPU, 0, 0)\n"
          ]
        },
        {
          "output_type": "stream",
          "name": "stdout",
          "text": [
            "INFO:tensorflow:*** Available Device: _DeviceAttributes(/job:worker/replica:0/task:0/device:TPU:5, TPU, 0, 0)\n"
          ]
        },
        {
          "output_type": "stream",
          "name": "stderr",
          "text": [
            "INFO:tensorflow:*** Available Device: _DeviceAttributes(/job:worker/replica:0/task:0/device:TPU:5, TPU, 0, 0)\n"
          ]
        },
        {
          "output_type": "stream",
          "name": "stdout",
          "text": [
            "INFO:tensorflow:*** Available Device: _DeviceAttributes(/job:worker/replica:0/task:0/device:TPU:6, TPU, 0, 0)\n"
          ]
        },
        {
          "output_type": "stream",
          "name": "stderr",
          "text": [
            "INFO:tensorflow:*** Available Device: _DeviceAttributes(/job:worker/replica:0/task:0/device:TPU:6, TPU, 0, 0)\n"
          ]
        },
        {
          "output_type": "stream",
          "name": "stdout",
          "text": [
            "INFO:tensorflow:*** Available Device: _DeviceAttributes(/job:worker/replica:0/task:0/device:TPU:7, TPU, 0, 0)\n"
          ]
        },
        {
          "output_type": "stream",
          "name": "stderr",
          "text": [
            "INFO:tensorflow:*** Available Device: _DeviceAttributes(/job:worker/replica:0/task:0/device:TPU:7, TPU, 0, 0)\n"
          ]
        },
        {
          "output_type": "stream",
          "name": "stdout",
          "text": [
            "INFO:tensorflow:*** Available Device: _DeviceAttributes(/job:worker/replica:0/task:0/device:TPU_SYSTEM:0, TPU_SYSTEM, 0, 0)\n"
          ]
        },
        {
          "output_type": "stream",
          "name": "stderr",
          "text": [
            "INFO:tensorflow:*** Available Device: _DeviceAttributes(/job:worker/replica:0/task:0/device:TPU_SYSTEM:0, TPU_SYSTEM, 0, 0)\n"
          ]
        },
        {
          "output_type": "stream",
          "name": "stdout",
          "text": [
            "INFO:tensorflow:*** Available Device: _DeviceAttributes(/job:worker/replica:0/task:0/device:XLA_CPU:0, XLA_CPU, 0, 0)\n"
          ]
        },
        {
          "output_type": "stream",
          "name": "stderr",
          "text": [
            "INFO:tensorflow:*** Available Device: _DeviceAttributes(/job:worker/replica:0/task:0/device:XLA_CPU:0, XLA_CPU, 0, 0)\n",
            "Some layers from the model checkpoint at distilbert-base-uncased were not used when initializing TFDistilBertModel: ['vocab_transform', 'activation_13', 'vocab_layer_norm', 'vocab_projector']\n",
            "- This IS expected if you are initializing TFDistilBertModel from the checkpoint of a model trained on another task or with another architecture (e.g. initializing a BertForSequenceClassification model from a BertForPreTraining model).\n",
            "- This IS NOT expected if you are initializing TFDistilBertModel from the checkpoint of a model that you expect to be exactly identical (initializing a BertForSequenceClassification model from a BertForSequenceClassification model).\n",
            "All the layers of TFDistilBertModel were initialized from the model checkpoint at distilbert-base-uncased.\n",
            "If your task is similar to the task the model of the checkpoint was trained on, you can already use TFDistilBertModel for predictions without further training.\n"
          ]
        }
      ],
      "source": [
        "import tensorflow as tf\n",
        "hdepth=50\n",
        "MAX_SEQUENCE_LENGTH = 128\n",
        "EMBED_SIZE=100\n",
        "\n",
        "\n",
        "def create_bag_of_words_BERT():\n",
        "  input_ids_in = tf.keras.layers.Input(shape=(128,), name='input_token', dtype='int32')\n",
        "  input_masks_in = tf.keras.layers.Input(shape=(128,), name='masked_token', dtype='int32') \n",
        "\n",
        "  bert_embeddings = get_BERT_layer()\n",
        "  embedded_sent = bert_embeddings(input_ids_in, attention_mask=input_masks_in)[0]\n",
        "\n",
        "  pooled_sent=GlobalAveragePooling1DMasked()(embedded_sent)\n",
        "  hidden_output=Dense(hdepth,input_shape=(MAX_SEQUENCE_LENGTH,EMBED_SIZE),activation='relu',kernel_initializer='glorot_uniform')(pooled_sent) # relu\n",
        "  label=Dense(6,input_shape=(hdepth,),activation='softmax',kernel_initializer='glorot_uniform')(hidden_output)\n",
        "  return Model(inputs=[input_ids_in,input_masks_in], outputs=[label],name='Model2_BERT')\n",
        "\n",
        "use_tpu = True\n",
        "if use_tpu:\n",
        "  # Create distribution strategy\n",
        "  tpu = tf.distribute.cluster_resolver.TPUClusterResolver()\n",
        "  tf.config.experimental_connect_to_cluster(tpu)\n",
        "  tf.tpu.experimental.initialize_tpu_system(tpu)\n",
        "  strategy = tf.distribute.experimental.TPUStrategy(tpu)\n",
        "\n",
        "  # Create model\n",
        "  with strategy.scope():\n",
        "    model2 = create_bag_of_words_BERT()\n",
        "    optimizer2 = tf.keras.optimizers.Adam(learning_rate = 5e-5)\n",
        "    model2.compile(optimizer=optimizer2, loss='categorical_crossentropy', metrics=['accuracy'])\n",
        "else:\n",
        "  model2 = create_bag_of_words_BERT()\n",
        "  model2.compile(optimizer='adam',\n",
        "              loss='categorical_crossentropy',\n",
        "              metrics=['accuracy'])\n",
        "\n"
      ]
    },
    {
      "cell_type": "code",
      "execution_count": null,
      "metadata": {
        "colab": {
          "base_uri": "https://localhost:8080/"
        },
        "id": "Ey_dNHv2GG42",
        "outputId": "054c3ba2-d3b2-41a2-b54b-c96cf1d69d05"
      },
      "outputs": [
        {
          "output_type": "stream",
          "name": "stdout",
          "text": [
            "Model: \"Model2_BERT\"\n",
            "__________________________________________________________________________________________________\n",
            " Layer (type)                   Output Shape         Param #     Connected to                     \n",
            "==================================================================================================\n",
            " input_token (InputLayer)       [(None, 128)]        0           []                               \n",
            "                                                                                                  \n",
            " masked_token (InputLayer)      [(None, 128)]        0           []                               \n",
            "                                                                                                  \n",
            " tf_distil_bert_model (TFDistil  TFBaseModelOutput(l  66362880   ['input_token[0][0]',            \n",
            " BertModel)                     ast_hidden_state=(N               'masked_token[0][0]']           \n",
            "                                one, 128, 768),                                                   \n",
            "                                 hidden_states=None                                               \n",
            "                                , attentions=None)                                                \n",
            "                                                                                                  \n",
            " global_average_pooling1d_maske  (None, 768)         0           ['tf_distil_bert_model[0][0]']   \n",
            " d (GlobalAveragePooling1DMaske                                                                   \n",
            " d)                                                                                               \n",
            "                                                                                                  \n",
            " dense (Dense)                  (None, 50)           38450       ['global_average_pooling1d_masked\n",
            "                                                                 [0][0]']                         \n",
            "                                                                                                  \n",
            " dense_1 (Dense)                (None, 6)            306         ['dense[0][0]']                  \n",
            "                                                                                                  \n",
            "==================================================================================================\n",
            "Total params: 66,401,636\n",
            "Trainable params: 66,401,636\n",
            "Non-trainable params: 0\n",
            "__________________________________________________________________________________________________\n"
          ]
        }
      ],
      "source": [
        "model2.summary() "
      ]
    },
    {
      "cell_type": "code",
      "source": [
        "history = model2.fit([x_train2_int_np,x_train2_mask_np],\n",
        "                    y_train2,\n",
        "                    epochs=10,\n",
        "                    batch_size=8,\n",
        "                    validation_data=([x_val2_int_np,x_val2_mask_np], y_val2),\n",
        "                    verbose=1)"
      ],
      "metadata": {
        "colab": {
          "base_uri": "https://localhost:8080/"
        },
        "id": "0x6N9rofS88a",
        "outputId": "a0ca0ab2-2edf-45b5-c15b-b54345aae728"
      },
      "execution_count": null,
      "outputs": [
        {
          "output_type": "stream",
          "name": "stdout",
          "text": [
            "Epoch 1/10\n",
            "344/344 [==============================] - 20s 59ms/step - loss: 0.0409 - accuracy: 0.9869 - val_loss: 2.5410 - val_accuracy: 0.5901\n",
            "Epoch 2/10\n",
            "344/344 [==============================] - 18s 53ms/step - loss: 0.0349 - accuracy: 0.9876 - val_loss: 2.7540 - val_accuracy: 0.6090\n",
            "Epoch 3/10\n",
            "344/344 [==============================] - 18s 53ms/step - loss: 0.0341 - accuracy: 0.9902 - val_loss: 2.2812 - val_accuracy: 0.5887\n",
            "Epoch 4/10\n",
            "344/344 [==============================] - 20s 59ms/step - loss: 0.0363 - accuracy: 0.9905 - val_loss: 2.0329 - val_accuracy: 0.6148\n",
            "Epoch 5/10\n",
            "344/344 [==============================] - 17s 50ms/step - loss: 0.0276 - accuracy: 0.9916 - val_loss: 2.2342 - val_accuracy: 0.5741\n",
            "Epoch 6/10\n",
            "344/344 [==============================] - 17s 50ms/step - loss: 0.0374 - accuracy: 0.9869 - val_loss: 2.3249 - val_accuracy: 0.5959\n",
            "Epoch 7/10\n",
            "344/344 [==============================] - 17s 50ms/step - loss: 0.0264 - accuracy: 0.9916 - val_loss: 2.6186 - val_accuracy: 0.5770\n",
            "Epoch 8/10\n",
            "344/344 [==============================] - 17s 50ms/step - loss: 0.0340 - accuracy: 0.9894 - val_loss: 2.4186 - val_accuracy: 0.6090\n",
            "Epoch 9/10\n",
            "344/344 [==============================] - 17s 50ms/step - loss: 0.0107 - accuracy: 0.9960 - val_loss: 2.7288 - val_accuracy: 0.6076\n",
            "Epoch 10/10\n",
            "344/344 [==============================] - 17s 50ms/step - loss: 0.0297 - accuracy: 0.9927 - val_loss: 2.6743 - val_accuracy: 0.6105\n"
          ]
        }
      ]
    },
    {
      "cell_type": "code",
      "source": [
        "y_pred2 = model2.predict([x_test2_int_np,x_test2_mask_np],batch_size=512)"
      ],
      "metadata": {
        "id": "oWwPogRGVys-"
      },
      "execution_count": null,
      "outputs": []
    },
    {
      "cell_type": "code",
      "source": [
        "from sklearn.metrics import classification_report, accuracy_score\n",
        "#y_pred2_bool = np.argmax(y_pred2.logits, axis=1)\n",
        "y_pred2_bool = np.argmax(y_pred2, axis=1)\n",
        "print(classification_report(np.argmax(y_test2, axis=1), y_pred2_bool, digits=4))\n",
        "\n",
        "# Build the confusion matrix off these predictions\n",
        "import seaborn as sns\n",
        "from sklearn.metrics import confusion_matrix\n",
        "import pandas as pd\n",
        "matrix = confusion_matrix(np.argmax(y_test2, axis=1), y_pred2_bool)\n",
        "fig, ax = plt.subplots(figsize=(5,5))\n",
        "plot = sns.heatmap(matrix, square=True, annot=True, cmap='Blues', fmt='d', cbar=False, linewidths=10, ax=ax, annot_kws={\"size\":10},xticklabels=['non-sexist','ideological-inequality','stereotyping-dominance','objectification', 'sexual-violence', 'misogyny-non-sexual-violence'], yticklabels=['non-sexist','ideological-inequality','stereotyping-dominance','objectification', 'sexual-violence', 'misogyny-non-sexual-violence'])\n",
        "plot.set_title('Confusion Matrix\\n\\n');\n",
        "plot.set_xlabel('\\nPrediction')\n",
        "plot.set_ylabel('\\nTruth');"
      ],
      "metadata": {
        "colab": {
          "base_uri": "https://localhost:8080/",
          "height": 759
        },
        "id": "zOPx3V05V56G",
        "outputId": "0368be3e-751d-4641-c7a4-ca6205a8f7f5"
      },
      "execution_count": null,
      "outputs": [
        {
          "output_type": "stream",
          "name": "stdout",
          "text": [
            "              precision    recall  f1-score   support\n",
            "\n",
            "           0     0.3355    0.4698    0.3915       215\n",
            "           1     0.4967    0.3788    0.4298       198\n",
            "           2     0.4909    0.3600    0.4154       150\n",
            "           3     0.3971    0.4198    0.4082       262\n",
            "           4     0.5619    0.5586    0.5602       333\n",
            "           5     0.6908    0.6829    0.6868      1050\n",
            "\n",
            "    accuracy                         0.5630      2208\n",
            "   macro avg     0.4955    0.4783    0.4820      2208\n",
            "weighted avg     0.5709    0.5630    0.5644      2208\n",
            "\n"
          ]
        },
        {
          "output_type": "display_data",
          "data": {
            "text/plain": [
              "<Figure size 360x360 with 1 Axes>"
            ],
            "image/png": "[encoded data removed]"
          },
          "metadata": {
            "needs_background": "light"
          }
        }
      ]
    },
    {
      "cell_type": "code",
      "source": [
        ""
      ],
      "metadata": {
        "id": "h5CZ4rFYXA_9"
      },
      "execution_count": null,
      "outputs": []
    },
    {
      "cell_type": "code",
      "source": [
        ""
      ],
      "metadata": {
        "id": "yDHkGT_PXBED"
      },
      "execution_count": null,
      "outputs": []
    },
    {
      "cell_type": "code",
      "source": [
        ""
      ],
      "metadata": {
        "id": "o8eIM_9DXBK-"
      },
      "execution_count": null,
      "outputs": []
    },
    {
      "cell_type": "code",
      "execution_count": null,
      "metadata": {
        "colab": {
          "base_uri": "https://localhost:8080/"
        },
        "id": "Vr9F6rAJoCCM",
        "outputId": "d24fd2b3-2de3-4322-d8e3-2197c426256e"
      },
      "outputs": [
        {
          "output_type": "stream",
          "name": "stdout",
          "text": [
            "Epoch 1/30\n",
            "6/6 [==============================] - 102s 9s/step - loss: 1.5626 - accuracy: 0.4538 - val_loss: 1.3826 - val_accuracy: 0.5305\n",
            "Epoch 2/30\n",
            "6/6 [==============================] - 2s 310ms/step - loss: 1.4028 - accuracy: 0.5222 - val_loss: 1.2960 - val_accuracy: 0.5320\n",
            "Epoch 3/30\n",
            "6/6 [==============================] - 2s 312ms/step - loss: 1.2645 - accuracy: 0.5349 - val_loss: 1.1467 - val_accuracy: 0.5814\n",
            "Epoch 4/30\n",
            "6/6 [==============================] - 2s 315ms/step - loss: 1.0975 - accuracy: 0.5953 - val_loss: 1.0689 - val_accuracy: 0.5712\n",
            "Epoch 5/30\n",
            "6/6 [==============================] - 2s 312ms/step - loss: 0.9558 - accuracy: 0.6459 - val_loss: 0.9531 - val_accuracy: 0.6453\n",
            "Epoch 6/30\n",
            "6/6 [==============================] - 2s 312ms/step - loss: 0.8274 - accuracy: 0.6914 - val_loss: 0.9328 - val_accuracy: 0.6468\n",
            "Epoch 7/30\n",
            "6/6 [==============================] - 2s 313ms/step - loss: 0.7401 - accuracy: 0.7271 - val_loss: 0.9107 - val_accuracy: 0.6846\n",
            "Epoch 8/30\n",
            "6/6 [==============================] - 2s 312ms/step - loss: 0.6460 - accuracy: 0.7635 - val_loss: 0.9443 - val_accuracy: 0.6730\n",
            "Epoch 9/30\n",
            "6/6 [==============================] - 2s 310ms/step - loss: 0.5669 - accuracy: 0.7900 - val_loss: 0.9362 - val_accuracy: 0.6599\n",
            "Epoch 10/30\n",
            "6/6 [==============================] - 2s 309ms/step - loss: 0.4630 - accuracy: 0.8333 - val_loss: 0.9776 - val_accuracy: 0.6642\n",
            "Epoch 11/30\n",
            "6/6 [==============================] - 2s 311ms/step - loss: 0.3897 - accuracy: 0.8664 - val_loss: 1.0236 - val_accuracy: 0.6526\n",
            "Epoch 12/30\n",
            "6/6 [==============================] - 2s 309ms/step - loss: 0.3215 - accuracy: 0.8923 - val_loss: 1.0984 - val_accuracy: 0.6584\n",
            "Epoch 13/30\n",
            "6/6 [==============================] - 2s 306ms/step - loss: 0.2438 - accuracy: 0.9203 - val_loss: 1.1363 - val_accuracy: 0.6541\n",
            "Epoch 14/30\n",
            "6/6 [==============================] - 2s 308ms/step - loss: 0.1948 - accuracy: 0.9392 - val_loss: 1.2204 - val_accuracy: 0.6468\n",
            "Epoch 15/30\n",
            "6/6 [==============================] - 2s 310ms/step - loss: 0.1499 - accuracy: 0.9538 - val_loss: 1.2776 - val_accuracy: 0.6497\n",
            "Epoch 16/30\n",
            "6/6 [==============================] - 2s 308ms/step - loss: 0.1201 - accuracy: 0.9676 - val_loss: 1.3323 - val_accuracy: 0.6570\n",
            "Epoch 17/30\n",
            "6/6 [==============================] - 2s 309ms/step - loss: 0.0939 - accuracy: 0.9753 - val_loss: 1.3696 - val_accuracy: 0.6555\n",
            "Epoch 18/30\n",
            "6/6 [==============================] - 2s 311ms/step - loss: 0.0781 - accuracy: 0.9771 - val_loss: 1.4119 - val_accuracy: 0.6570\n",
            "Epoch 19/30\n",
            "6/6 [==============================] - 2s 313ms/step - loss: 0.0614 - accuracy: 0.9854 - val_loss: 1.4855 - val_accuracy: 0.6555\n",
            "Epoch 20/30\n",
            "6/6 [==============================] - 2s 314ms/step - loss: 0.0543 - accuracy: 0.9836 - val_loss: 1.5316 - val_accuracy: 0.6468\n",
            "Epoch 21/30\n",
            "6/6 [==============================] - 2s 310ms/step - loss: 0.0512 - accuracy: 0.9858 - val_loss: 1.5836 - val_accuracy: 0.6497\n",
            "Epoch 22/30\n",
            "6/6 [==============================] - 2s 309ms/step - loss: 0.0402 - accuracy: 0.9905 - val_loss: 1.5589 - val_accuracy: 0.6555\n",
            "Epoch 23/30\n",
            "6/6 [==============================] - 2s 315ms/step - loss: 0.0355 - accuracy: 0.9891 - val_loss: 1.6999 - val_accuracy: 0.6410\n",
            "Epoch 24/30\n",
            "6/6 [==============================] - 2s 309ms/step - loss: 0.0371 - accuracy: 0.9876 - val_loss: 1.6725 - val_accuracy: 0.6468\n",
            "Epoch 25/30\n",
            "6/6 [==============================] - 2s 310ms/step - loss: 0.0317 - accuracy: 0.9909 - val_loss: 1.6565 - val_accuracy: 0.6512\n",
            "Epoch 26/30\n",
            "6/6 [==============================] - 2s 314ms/step - loss: 0.0365 - accuracy: 0.9905 - val_loss: 1.6992 - val_accuracy: 0.6453\n",
            "Epoch 27/30\n",
            "6/6 [==============================] - 2s 313ms/step - loss: 0.0330 - accuracy: 0.9887 - val_loss: 1.6142 - val_accuracy: 0.6628\n",
            "Epoch 28/30\n",
            "6/6 [==============================] - 2s 313ms/step - loss: 0.0219 - accuracy: 0.9953 - val_loss: 1.8372 - val_accuracy: 0.6424\n",
            "Epoch 29/30\n",
            "6/6 [==============================] - 2s 311ms/step - loss: 0.0270 - accuracy: 0.9920 - val_loss: 1.7126 - val_accuracy: 0.6657\n",
            "Epoch 30/30\n",
            "6/6 [==============================] - 2s 311ms/step - loss: 0.0205 - accuracy: 0.9938 - val_loss: 1.6652 - val_accuracy: 0.6672\n"
          ]
        }
      ],
      "source": [
        "history = model2.fit([x_train2_int_np,x_train2_mask_np],\n",
        "                    y_train2,\n",
        "                    epochs=30,\n",
        "                    batch_size=512,\n",
        "                    validation_data=([x_val2_int_np,x_val2_mask_np], y_val2),\n",
        "                    verbose=1)"
      ]
    },
    {
      "cell_type": "code",
      "execution_count": null,
      "metadata": {
        "id": "q32CIsSHsh8G"
      },
      "outputs": [],
      "source": [
        "y_pred2 = model2.predict([x_test2_int_np,x_test2_mask_np],batch_size=512)"
      ]
    },
    {
      "cell_type": "code",
      "execution_count": null,
      "metadata": {
        "id": "hq7oNUOTYCei",
        "colab": {
          "base_uri": "https://localhost:8080/",
          "height": 759
        },
        "outputId": "5cd280a4-8f11-4cbb-ff74-16bb27048061"
      },
      "outputs": [
        {
          "output_type": "stream",
          "name": "stdout",
          "text": [
            "              precision    recall  f1-score   support\n",
            "\n",
            "           0       0.35      0.43      0.39       215\n",
            "           1       0.51      0.46      0.48       198\n",
            "           2       0.47      0.37      0.41       150\n",
            "           3       0.44      0.44      0.44       262\n",
            "           4       0.64      0.52      0.58       333\n",
            "           5       0.71      0.75      0.73      1050\n",
            "\n",
            "    accuracy                           0.60      2208\n",
            "   macro avg       0.52      0.50      0.51      2208\n",
            "weighted avg       0.60      0.60      0.60      2208\n",
            "\n"
          ]
        },
        {
          "output_type": "display_data",
          "data": {
            "text/plain": [
              "<Figure size 360x360 with 1 Axes>"
            ],
            "image/png": "[encoded data removed]"
          },
          "metadata": {
            "needs_background": "light"
          }
        }
      ],
      "source": [
        "from sklearn.metrics import classification_report, accuracy_score\n",
        "#y_pred2_bool = np.argmax(y_pred2.logits, axis=1)\n",
        "y_pred2_bool = np.argmax(y_pred2, axis=1)\n",
        "print(classification_report(np.argmax(y_test2, axis=1), y_pred2_bool))\n",
        "\n",
        "# Build the confusion matrix off these predictions\n",
        "import seaborn as sns\n",
        "from sklearn.metrics import confusion_matrix\n",
        "import pandas as pd\n",
        "matrix = confusion_matrix(np.argmax(y_test2, axis=1), y_pred2_bool)\n",
        "fig, ax = plt.subplots(figsize=(5,5))\n",
        "plot = sns.heatmap(matrix, square=True, annot=True, cmap='Blues', fmt='d', cbar=False, linewidths=10, ax=ax, annot_kws={\"size\":10},xticklabels=['non-sexist','ideological-inequality','stereotyping-dominance','objectification', 'sexual-violence', 'misogyny-non-sexual-violence'], yticklabels=['non-sexist','ideological-inequality','stereotyping-dominance','objectification', 'sexual-violence', 'misogyny-non-sexual-violence'])\n",
        "plot.set_title('Confusion Matrix\\n\\n');\n",
        "plot.set_xlabel('\\nPrediction')\n",
        "plot.set_ylabel('\\nTruth');"
      ]
    },
    {
      "cell_type": "code",
      "execution_count": null,
      "metadata": {
        "colab": {
          "base_uri": "https://localhost:8080/"
        },
        "id": "9i2g0szfXqoU",
        "outputId": "01a5be20-e235-4b69-abff-2a5b9195b0c2"
      },
      "outputs": [
        {
          "data": {
            "text/plain": [
              "array([[0.13199544],\n",
              "       [0.13272032],\n",
              "       [0.94434655],\n",
              "       [0.94384617]], dtype=float32)"
            ]
          },
          "execution_count": 138,
          "metadata": {},
          "output_type": "execute_result"
        }
      ],
      "source": [
        "y_pred2[0:4]"
      ]
    },
    {
      "cell_type": "code",
      "execution_count": null,
      "metadata": {
        "colab": {
          "base_uri": "https://localhost:8080/"
        },
        "id": "lpXfM0oZXmnO",
        "outputId": "5d2343b2-05a9-41a2-e12a-0158c5a1de80"
      },
      "outputs": [
        {
          "data": {
            "text/plain": [
              "array([[0.],\n",
              "       [0.],\n",
              "       [1.],\n",
              "       [1.]], dtype=float32)"
            ]
          },
          "execution_count": 139,
          "metadata": {},
          "output_type": "execute_result"
        }
      ],
      "source": [
        "y_pred2_bool[0:4]"
      ]
    },
    {
      "cell_type": "code",
      "execution_count": null,
      "metadata": {
        "colab": {
          "base_uri": "https://localhost:8080/"
        },
        "id": "tfgpI0gfyieO",
        "outputId": "22be846f-0437-4c97-ccf4-201385b12466"
      },
      "outputs": [
        {
          "name": "stdout",
          "output_type": "stream",
          "text": [
            "              precision    recall  f1-score   support\n",
            "\n",
            "           0       0.73      0.69      0.71      1050\n",
            "           1       0.73      0.77      0.75      1158\n",
            "\n",
            "    accuracy                           0.73      2208\n",
            "   macro avg       0.73      0.73      0.73      2208\n",
            "weighted avg       0.73      0.73      0.73      2208\n",
            "\n"
          ]
        }
      ],
      "source": [
        "from sklearn.metrics import classification_report, accuracy_score\n",
        "#y_pred_bool = np.argmax(y_pred2, axis=1)\n",
        "print(classification_report(y_test1, y_pred2_bool))\n",
        "#print(\"Accuracy: \" + str(accuracy_score(y_test1, y_pred_bool)))"
      ]
    },
    {
      "cell_type": "code",
      "execution_count": null,
      "metadata": {
        "colab": {
          "base_uri": "https://localhost:8080/",
          "height": 391
        },
        "id": "fAONHXpIzTPc",
        "outputId": "93b78d44-b8b5-4877-fb6f-714c2969e0e9"
      },
      "outputs": [
        {
          "data": {
            "image/png": "[encoded data removed]",
            "text/plain": [
              "<Figure size 360x360 with 1 Axes>"
            ]
          },
          "metadata": {},
          "output_type": "display_data"
        }
      ],
      "source": [
        "# Build the confusion matrix off these predictions\n",
        "import seaborn as sns\n",
        "from sklearn.metrics import confusion_matrix\n",
        "import pandas as pd\n",
        "matrix = confusion_matrix(y_test1, y_pred2_bool)\n",
        "fig, ax = plt.subplots(figsize=(5,5))\n",
        "plot = sns.heatmap(matrix, square=True, annot=True, cmap='Blues', fmt='d', cbar=False, linewidths=10, ax=ax, annot_kws={\"size\":10},xticklabels=['non-sexist','sexist'], yticklabels=['non-sexist','sexist'])\n",
        "plot.set_title('Confusion Matrix\\n\\n');\n",
        "plot.set_xlabel('\\nPrediction')\n",
        "plot.set_ylabel('\\nTruth');"
      ]
    },
    {
      "cell_type": "markdown",
      "metadata": {
        "id": "Pp2Ek8U8UjBn"
      },
      "source": [
        "# Model3 - DistilBERT + LSTM "
      ]
    },
    {
      "cell_type": "code",
      "execution_count": null,
      "metadata": {
        "colab": {
          "base_uri": "https://localhost:8080/"
        },
        "id": "7xiMc5B4UoDA",
        "outputId": "5f5af337-4f3f-44e9-bd82-fbfa2bc27dec"
      },
      "outputs": [
        {
          "output_type": "stream",
          "name": "stdout",
          "text": [
            "INFO:tensorflow:Deallocate tpu buffers before initializing tpu system.\n"
          ]
        },
        {
          "output_type": "stream",
          "name": "stderr",
          "text": [
            "INFO:tensorflow:Deallocate tpu buffers before initializing tpu system.\n"
          ]
        },
        {
          "output_type": "stream",
          "name": "stdout",
          "text": [
            "WARNING:tensorflow:TPU system grpc://10.122.89.50:8470 has already been initialized. Reinitializing the TPU can cause previously created variables on TPU to be lost.\n"
          ]
        },
        {
          "output_type": "stream",
          "name": "stderr",
          "text": [
            "WARNING:tensorflow:TPU system grpc://10.122.89.50:8470 has already been initialized. Reinitializing the TPU can cause previously created variables on TPU to be lost.\n"
          ]
        },
        {
          "output_type": "stream",
          "name": "stdout",
          "text": [
            "INFO:tensorflow:Initializing the TPU system: grpc://10.122.89.50:8470\n"
          ]
        },
        {
          "output_type": "stream",
          "name": "stderr",
          "text": [
            "INFO:tensorflow:Initializing the TPU system: grpc://10.122.89.50:8470\n"
          ]
        },
        {
          "output_type": "stream",
          "name": "stdout",
          "text": [
            "INFO:tensorflow:Finished initializing TPU system.\n"
          ]
        },
        {
          "output_type": "stream",
          "name": "stderr",
          "text": [
            "INFO:tensorflow:Finished initializing TPU system.\n",
            "WARNING:absl:`tf.distribute.experimental.TPUStrategy` is deprecated, please use  the non experimental symbol `tf.distribute.TPUStrategy` instead.\n"
          ]
        },
        {
          "output_type": "stream",
          "name": "stdout",
          "text": [
            "INFO:tensorflow:Found TPU system:\n"
          ]
        },
        {
          "output_type": "stream",
          "name": "stderr",
          "text": [
            "INFO:tensorflow:Found TPU system:\n"
          ]
        },
        {
          "output_type": "stream",
          "name": "stdout",
          "text": [
            "INFO:tensorflow:*** Num TPU Cores: 8\n"
          ]
        },
        {
          "output_type": "stream",
          "name": "stderr",
          "text": [
            "INFO:tensorflow:*** Num TPU Cores: 8\n"
          ]
        },
        {
          "output_type": "stream",
          "name": "stdout",
          "text": [
            "INFO:tensorflow:*** Num TPU Workers: 1\n"
          ]
        },
        {
          "output_type": "stream",
          "name": "stderr",
          "text": [
            "INFO:tensorflow:*** Num TPU Workers: 1\n"
          ]
        },
        {
          "output_type": "stream",
          "name": "stdout",
          "text": [
            "INFO:tensorflow:*** Num TPU Cores Per Worker: 8\n"
          ]
        },
        {
          "output_type": "stream",
          "name": "stderr",
          "text": [
            "INFO:tensorflow:*** Num TPU Cores Per Worker: 8\n"
          ]
        },
        {
          "output_type": "stream",
          "name": "stdout",
          "text": [
            "INFO:tensorflow:*** Available Device: _DeviceAttributes(/job:localhost/replica:0/task:0/device:CPU:0, CPU, 0, 0)\n"
          ]
        },
        {
          "output_type": "stream",
          "name": "stderr",
          "text": [
            "INFO:tensorflow:*** Available Device: _DeviceAttributes(/job:localhost/replica:0/task:0/device:CPU:0, CPU, 0, 0)\n"
          ]
        },
        {
          "output_type": "stream",
          "name": "stdout",
          "text": [
            "INFO:tensorflow:*** Available Device: _DeviceAttributes(/job:worker/replica:0/task:0/device:CPU:0, CPU, 0, 0)\n"
          ]
        },
        {
          "output_type": "stream",
          "name": "stderr",
          "text": [
            "INFO:tensorflow:*** Available Device: _DeviceAttributes(/job:worker/replica:0/task:0/device:CPU:0, CPU, 0, 0)\n"
          ]
        },
        {
          "output_type": "stream",
          "name": "stdout",
          "text": [
            "INFO:tensorflow:*** Available Device: _DeviceAttributes(/job:worker/replica:0/task:0/device:TPU:0, TPU, 0, 0)\n"
          ]
        },
        {
          "output_type": "stream",
          "name": "stderr",
          "text": [
            "INFO:tensorflow:*** Available Device: _DeviceAttributes(/job:worker/replica:0/task:0/device:TPU:0, TPU, 0, 0)\n"
          ]
        },
        {
          "output_type": "stream",
          "name": "stdout",
          "text": [
            "INFO:tensorflow:*** Available Device: _DeviceAttributes(/job:worker/replica:0/task:0/device:TPU:1, TPU, 0, 0)\n"
          ]
        },
        {
          "output_type": "stream",
          "name": "stderr",
          "text": [
            "INFO:tensorflow:*** Available Device: _DeviceAttributes(/job:worker/replica:0/task:0/device:TPU:1, TPU, 0, 0)\n"
          ]
        },
        {
          "output_type": "stream",
          "name": "stdout",
          "text": [
            "INFO:tensorflow:*** Available Device: _DeviceAttributes(/job:worker/replica:0/task:0/device:TPU:2, TPU, 0, 0)\n"
          ]
        },
        {
          "output_type": "stream",
          "name": "stderr",
          "text": [
            "INFO:tensorflow:*** Available Device: _DeviceAttributes(/job:worker/replica:0/task:0/device:TPU:2, TPU, 0, 0)\n"
          ]
        },
        {
          "output_type": "stream",
          "name": "stdout",
          "text": [
            "INFO:tensorflow:*** Available Device: _DeviceAttributes(/job:worker/replica:0/task:0/device:TPU:3, TPU, 0, 0)\n"
          ]
        },
        {
          "output_type": "stream",
          "name": "stderr",
          "text": [
            "INFO:tensorflow:*** Available Device: _DeviceAttributes(/job:worker/replica:0/task:0/device:TPU:3, TPU, 0, 0)\n"
          ]
        },
        {
          "output_type": "stream",
          "name": "stdout",
          "text": [
            "INFO:tensorflow:*** Available Device: _DeviceAttributes(/job:worker/replica:0/task:0/device:TPU:4, TPU, 0, 0)\n"
          ]
        },
        {
          "output_type": "stream",
          "name": "stderr",
          "text": [
            "INFO:tensorflow:*** Available Device: _DeviceAttributes(/job:worker/replica:0/task:0/device:TPU:4, TPU, 0, 0)\n"
          ]
        },
        {
          "output_type": "stream",
          "name": "stdout",
          "text": [
            "INFO:tensorflow:*** Available Device: _DeviceAttributes(/job:worker/replica:0/task:0/device:TPU:5, TPU, 0, 0)\n"
          ]
        },
        {
          "output_type": "stream",
          "name": "stderr",
          "text": [
            "INFO:tensorflow:*** Available Device: _DeviceAttributes(/job:worker/replica:0/task:0/device:TPU:5, TPU, 0, 0)\n"
          ]
        },
        {
          "output_type": "stream",
          "name": "stdout",
          "text": [
            "INFO:tensorflow:*** Available Device: _DeviceAttributes(/job:worker/replica:0/task:0/device:TPU:6, TPU, 0, 0)\n"
          ]
        },
        {
          "output_type": "stream",
          "name": "stderr",
          "text": [
            "INFO:tensorflow:*** Available Device: _DeviceAttributes(/job:worker/replica:0/task:0/device:TPU:6, TPU, 0, 0)\n"
          ]
        },
        {
          "output_type": "stream",
          "name": "stdout",
          "text": [
            "INFO:tensorflow:*** Available Device: _DeviceAttributes(/job:worker/replica:0/task:0/device:TPU:7, TPU, 0, 0)\n"
          ]
        },
        {
          "output_type": "stream",
          "name": "stderr",
          "text": [
            "INFO:tensorflow:*** Available Device: _DeviceAttributes(/job:worker/replica:0/task:0/device:TPU:7, TPU, 0, 0)\n"
          ]
        },
        {
          "output_type": "stream",
          "name": "stdout",
          "text": [
            "INFO:tensorflow:*** Available Device: _DeviceAttributes(/job:worker/replica:0/task:0/device:TPU_SYSTEM:0, TPU_SYSTEM, 0, 0)\n"
          ]
        },
        {
          "output_type": "stream",
          "name": "stderr",
          "text": [
            "INFO:tensorflow:*** Available Device: _DeviceAttributes(/job:worker/replica:0/task:0/device:TPU_SYSTEM:0, TPU_SYSTEM, 0, 0)\n"
          ]
        },
        {
          "output_type": "stream",
          "name": "stdout",
          "text": [
            "INFO:tensorflow:*** Available Device: _DeviceAttributes(/job:worker/replica:0/task:0/device:XLA_CPU:0, XLA_CPU, 0, 0)\n"
          ]
        },
        {
          "output_type": "stream",
          "name": "stderr",
          "text": [
            "INFO:tensorflow:*** Available Device: _DeviceAttributes(/job:worker/replica:0/task:0/device:XLA_CPU:0, XLA_CPU, 0, 0)\n",
            "Some layers from the model checkpoint at distilbert-base-uncased were not used when initializing TFDistilBertModel: ['vocab_layer_norm', 'vocab_projector', 'activation_13', 'vocab_transform']\n",
            "- This IS expected if you are initializing TFDistilBertModel from the checkpoint of a model trained on another task or with another architecture (e.g. initializing a BertForSequenceClassification model from a BertForPreTraining model).\n",
            "- This IS NOT expected if you are initializing TFDistilBertModel from the checkpoint of a model that you expect to be exactly identical (initializing a BertForSequenceClassification model from a BertForSequenceClassification model).\n",
            "All the layers of TFDistilBertModel were initialized from the model checkpoint at distilbert-base-uncased.\n",
            "If your task is similar to the task the model of the checkpoint was trained on, you can already use TFDistilBertModel for predictions without further training.\n"
          ]
        },
        {
          "output_type": "stream",
          "name": "stdout",
          "text": [
            "Model: \"Model3_LSTM\"\n",
            "__________________________________________________________________________________________________\n",
            " Layer (type)                   Output Shape         Param #     Connected to                     \n",
            "==================================================================================================\n",
            " input_token (InputLayer)       [(None, 128)]        0           []                               \n",
            "                                                                                                  \n",
            " masked_token (InputLayer)      [(None, 128)]        0           []                               \n",
            "                                                                                                  \n",
            " tf_distil_bert_model (TFDistil  TFBaseModelOutput(l  66362880   ['input_token[0][0]',            \n",
            " BertModel)                     ast_hidden_state=(N               'masked_token[0][0]']           \n",
            "                                one, 128, 768),                                                   \n",
            "                                 hidden_states=None                                               \n",
            "                                , attentions=None)                                                \n",
            "                                                                                                  \n",
            " LSTM (LSTM)                    (None, 100)          347600      ['tf_distil_bert_model[0][0]']   \n",
            "                                                                                                  \n",
            " Hidden_1 (Dense)               (None, 50)           5050        ['LSTM[0][0]']                   \n",
            "                                                                                                  \n",
            " Output (Dense)                 (None, 6)            306         ['Hidden_1[0][0]']               \n",
            "                                                                                                  \n",
            "==================================================================================================\n",
            "Total params: 66,715,836\n",
            "Trainable params: 66,715,836\n",
            "Non-trainable params: 0\n",
            "__________________________________________________________________________________________________\n"
          ]
        }
      ],
      "source": [
        "# your code goes here\n",
        "import tensorflow as tf\n",
        "EMBED_SIZE = 100\n",
        "hidden_layer = 50\n",
        "\n",
        "def lstm():\n",
        "  input_ids_in = tf.keras.layers.Input(shape=(128,), name='input_token', dtype='int32')\n",
        "  input_masks_in = tf.keras.layers.Input(shape=(128,), name='masked_token', dtype='int32') \n",
        "\n",
        "  bert_embeddings = get_BERT_layer()\n",
        "  embedded_sent = bert_embeddings(input_ids_in, attention_mask=input_masks_in)[0]\n",
        "\n",
        "  LSTM_sent=LSTM(100,name='LSTM')(embedded_sent)                             # LSTM\n",
        "  hidden_output=Dense(50,input_shape=(EMBED_SIZE,),activation='relu',kernel_initializer='glorot_uniform',name='Hidden_1')(LSTM_sent)\n",
        "  label=Dense(6,input_shape=(hidden_layer,),activation='softmax',kernel_initializer='glorot_uniform',name='Output')(hidden_output)\n",
        "  #label=Dense(3,input_shape=(EMBED_SIZE,),activation='softmax',kernel_initializer='glorot_uniform',name='Output')(LSTM_sent)\n",
        "  return Model(inputs=[input_ids_in,input_masks_in], outputs=[label],name='Model3_LSTM')\n",
        "\n",
        "\n",
        "use_tpu = True\n",
        "if use_tpu:\n",
        "  # Create distribution strategy\n",
        "  tpu = tf.distribute.cluster_resolver.TPUClusterResolver()\n",
        "  tf.config.experimental_connect_to_cluster(tpu)\n",
        "  tf.tpu.experimental.initialize_tpu_system(tpu)\n",
        "  strategy = tf.distribute.experimental.TPUStrategy(tpu)\n",
        "\n",
        "  # Create model\n",
        "  with strategy.scope():\n",
        "    model3 = lstm()\n",
        "    optimizer3 = tf.keras.optimizers.Adam(learning_rate=2e-5)\n",
        "    model3.compile(optimizer=optimizer3, loss='categorical_crossentropy', metrics=['accuracy'])\n",
        "else:\n",
        "  model3 = lstm()\n",
        "  model3.compile(optimizer='adam',\n",
        "              loss='categorical_crossentropy',\n",
        "              metrics=['accuracy'])\n",
        "\n",
        "model3.summary() \n"
      ]
    },
    {
      "cell_type": "code",
      "execution_count": null,
      "metadata": {
        "colab": {
          "base_uri": "https://localhost:8080/"
        },
        "id": "6BV_EB9dVHVf",
        "outputId": "73e81403-1198-4493-c6c8-4ef909efae89"
      },
      "outputs": [
        {
          "output_type": "stream",
          "name": "stdout",
          "text": [
            "Epoch 1/10\n",
            "344/344 [==============================] - 80s 74ms/step - loss: 1.2947 - accuracy: 0.5531 - val_loss: 1.0697 - val_accuracy: 0.6221\n",
            "Epoch 2/10\n",
            "344/344 [==============================] - 21s 62ms/step - loss: 0.9788 - accuracy: 0.6507 - val_loss: 0.9299 - val_accuracy: 0.6555\n",
            "Epoch 3/10\n",
            "344/344 [==============================] - 21s 62ms/step - loss: 0.7740 - accuracy: 0.7234 - val_loss: 0.9215 - val_accuracy: 0.6570\n",
            "Epoch 4/10\n",
            "344/344 [==============================] - 21s 62ms/step - loss: 0.6091 - accuracy: 0.7969 - val_loss: 0.9650 - val_accuracy: 0.6453\n",
            "Epoch 5/10\n",
            "344/344 [==============================] - 21s 62ms/step - loss: 0.4190 - accuracy: 0.8657 - val_loss: 1.0350 - val_accuracy: 0.6657\n",
            "Epoch 6/10\n",
            "344/344 [==============================] - 21s 61ms/step - loss: 0.3125 - accuracy: 0.9098 - val_loss: 1.1096 - val_accuracy: 0.6512\n",
            "Epoch 7/10\n",
            "344/344 [==============================] - 21s 62ms/step - loss: 0.2496 - accuracy: 0.9225 - val_loss: 1.1340 - val_accuracy: 0.6497\n",
            "Epoch 8/10\n",
            "344/344 [==============================] - 21s 61ms/step - loss: 0.1766 - accuracy: 0.9531 - val_loss: 1.2177 - val_accuracy: 0.6657\n",
            "Epoch 9/10\n",
            "344/344 [==============================] - 21s 62ms/step - loss: 0.1284 - accuracy: 0.9632 - val_loss: 1.4134 - val_accuracy: 0.6381\n",
            "Epoch 10/10\n",
            "344/344 [==============================] - 21s 62ms/step - loss: 0.1244 - accuracy: 0.9654 - val_loss: 1.3955 - val_accuracy: 0.6483\n"
          ]
        }
      ],
      "source": [
        "history = model3.fit([x_train2_int_np,x_train2_mask_np],\n",
        "                    y_train2,\n",
        "                    epochs=10,\n",
        "                    batch_size=8,\n",
        "                    validation_data=([x_val2_int_np,x_val2_mask_np], y_val2),\n",
        "                    verbose=1)"
      ]
    },
    {
      "cell_type": "code",
      "execution_count": null,
      "metadata": {
        "id": "vAs8REBah8dh"
      },
      "outputs": [],
      "source": [
        "y_pred3 = model3.predict([x_test2_int_np,x_test2_mask_np],batch_size=512)"
      ]
    },
    {
      "cell_type": "code",
      "execution_count": null,
      "metadata": {
        "id": "0IDln3T7iNV2",
        "colab": {
          "base_uri": "https://localhost:8080/",
          "height": 759
        },
        "outputId": "27bf1a4d-63a9-4016-b574-b00aa8ecfacc"
      },
      "outputs": [
        {
          "output_type": "stream",
          "name": "stdout",
          "text": [
            "              precision    recall  f1-score   support\n",
            "\n",
            "           0     0.4236    0.2837    0.3398       215\n",
            "           1     0.4611    0.3889    0.4219       198\n",
            "           2     0.4069    0.3933    0.4000       150\n",
            "           3     0.5023    0.4122    0.4528       262\n",
            "           4     0.6478    0.4805    0.5517       333\n",
            "           5     0.6620    0.8133    0.7299      1050\n",
            "\n",
            "    accuracy                         0.5974      2208\n",
            "   macro avg     0.5173    0.4620    0.4827      2208\n",
            "weighted avg     0.5824    0.5974    0.5821      2208\n",
            "\n"
          ]
        },
        {
          "output_type": "display_data",
          "data": {
            "text/plain": [
              "<Figure size 360x360 with 1 Axes>"
            ],
            "image/png": "[encoded data removed]"
          },
          "metadata": {
            "needs_background": "light"
          }
        }
      ],
      "source": [
        "from sklearn.metrics import classification_report, accuracy_score\n",
        "y_pred3_bool = np.argmax(y_pred3, axis=1)\n",
        "print(classification_report(np.argmax(y_test2, axis=1), y_pred3_bool,digits=4))\n",
        "#print(\"Accuracy: \" + str(accuracy_score(y_test1, y_pred3_bool)))\n",
        "\n",
        "# Build the confusion matrix off these predictions\n",
        "import seaborn as sns\n",
        "from sklearn.metrics import confusion_matrix\n",
        "import pandas as pd\n",
        "matrix = confusion_matrix(np.argmax(y_test2, axis=1), y_pred3_bool)\n",
        "fig, ax = plt.subplots(figsize=(5,5))\n",
        "plot = sns.heatmap(matrix, square=True, annot=True, cmap='Blues', fmt='d', cbar=False, linewidths=10, ax=ax, annot_kws={\"size\":10},xticklabels=['non-sexist','ideological-inequality','stereotyping-dominance','objectification', 'sexual-violence', 'misogyny-non-sexual-violence'], yticklabels=['non-sexist','ideological-inequality','stereotyping-dominance','objectification', 'sexual-violence', 'misogyny-non-sexual-violence'])\n",
        "plot.set_title('Confusion Matrix\\n\\n');\n",
        "plot.set_xlabel('\\nPrediction')\n",
        "plot.set_ylabel('\\nTruth');"
      ]
    },
    {
      "cell_type": "markdown",
      "metadata": {
        "id": "QjrEeUNJwrVJ"
      },
      "source": [
        "# Model4 - DistilBERT + single CNN"
      ]
    },
    {
      "cell_type": "code",
      "execution_count": null,
      "metadata": {
        "id": "aWalVfj0wrVR"
      },
      "outputs": [],
      "source": [
        "class GlobalAveragePooling1DMasked(GlobalAveragePooling1D):\n",
        "    def call(self, x, mask=None):\n",
        "        if mask != None:\n",
        "            return K.sum(x, axis=1) / K.sum(mask, axis=1)\n",
        "        else:\n",
        "            return super().call(x)"
      ]
    },
    {
      "cell_type": "code",
      "execution_count": null,
      "metadata": {
        "id": "R1FQnKeawrVR"
      },
      "outputs": [],
      "source": [
        "from transformers import TFDistilBertModel, DistilBertConfig\n",
        "\n",
        "def get_BERT_layer():\n",
        "  distil_bert = 'distilbert-base-uncased'\n",
        "  config = DistilBertConfig(dropout=0.2, attention_dropout=0.2)\n",
        "  config.output_hidden_states = False\n",
        "  return TFDistilBertModel.from_pretrained(distil_bert, config = config)\n"
      ]
    },
    {
      "cell_type": "code",
      "execution_count": null,
      "metadata": {
        "colab": {
          "base_uri": "https://localhost:8080/"
        },
        "outputId": "e3ceb32c-31b3-461b-ef28-246205e6bc8f",
        "id": "UPy2cp7HwrVS"
      },
      "outputs": [
        {
          "output_type": "stream",
          "name": "stdout",
          "text": [
            "INFO:tensorflow:Deallocate tpu buffers before initializing tpu system.\n"
          ]
        },
        {
          "output_type": "stream",
          "name": "stderr",
          "text": [
            "INFO:tensorflow:Deallocate tpu buffers before initializing tpu system.\n"
          ]
        },
        {
          "output_type": "stream",
          "name": "stdout",
          "text": [
            "WARNING:tensorflow:TPU system grpc://10.122.89.50:8470 has already been initialized. Reinitializing the TPU can cause previously created variables on TPU to be lost.\n"
          ]
        },
        {
          "output_type": "stream",
          "name": "stderr",
          "text": [
            "WARNING:tensorflow:TPU system grpc://10.122.89.50:8470 has already been initialized. Reinitializing the TPU can cause previously created variables on TPU to be lost.\n"
          ]
        },
        {
          "output_type": "stream",
          "name": "stdout",
          "text": [
            "INFO:tensorflow:Initializing the TPU system: grpc://10.122.89.50:8470\n"
          ]
        },
        {
          "output_type": "stream",
          "name": "stderr",
          "text": [
            "INFO:tensorflow:Initializing the TPU system: grpc://10.122.89.50:8470\n"
          ]
        },
        {
          "output_type": "stream",
          "name": "stdout",
          "text": [
            "INFO:tensorflow:Finished initializing TPU system.\n"
          ]
        },
        {
          "output_type": "stream",
          "name": "stderr",
          "text": [
            "INFO:tensorflow:Finished initializing TPU system.\n",
            "WARNING:absl:`tf.distribute.experimental.TPUStrategy` is deprecated, please use  the non experimental symbol `tf.distribute.TPUStrategy` instead.\n"
          ]
        },
        {
          "output_type": "stream",
          "name": "stdout",
          "text": [
            "INFO:tensorflow:Found TPU system:\n"
          ]
        },
        {
          "output_type": "stream",
          "name": "stderr",
          "text": [
            "INFO:tensorflow:Found TPU system:\n"
          ]
        },
        {
          "output_type": "stream",
          "name": "stdout",
          "text": [
            "INFO:tensorflow:*** Num TPU Cores: 8\n"
          ]
        },
        {
          "output_type": "stream",
          "name": "stderr",
          "text": [
            "INFO:tensorflow:*** Num TPU Cores: 8\n"
          ]
        },
        {
          "output_type": "stream",
          "name": "stdout",
          "text": [
            "INFO:tensorflow:*** Num TPU Workers: 1\n"
          ]
        },
        {
          "output_type": "stream",
          "name": "stderr",
          "text": [
            "INFO:tensorflow:*** Num TPU Workers: 1\n"
          ]
        },
        {
          "output_type": "stream",
          "name": "stdout",
          "text": [
            "INFO:tensorflow:*** Num TPU Cores Per Worker: 8\n"
          ]
        },
        {
          "output_type": "stream",
          "name": "stderr",
          "text": [
            "INFO:tensorflow:*** Num TPU Cores Per Worker: 8\n"
          ]
        },
        {
          "output_type": "stream",
          "name": "stdout",
          "text": [
            "INFO:tensorflow:*** Available Device: _DeviceAttributes(/job:localhost/replica:0/task:0/device:CPU:0, CPU, 0, 0)\n"
          ]
        },
        {
          "output_type": "stream",
          "name": "stderr",
          "text": [
            "INFO:tensorflow:*** Available Device: _DeviceAttributes(/job:localhost/replica:0/task:0/device:CPU:0, CPU, 0, 0)\n"
          ]
        },
        {
          "output_type": "stream",
          "name": "stdout",
          "text": [
            "INFO:tensorflow:*** Available Device: _DeviceAttributes(/job:worker/replica:0/task:0/device:CPU:0, CPU, 0, 0)\n"
          ]
        },
        {
          "output_type": "stream",
          "name": "stderr",
          "text": [
            "INFO:tensorflow:*** Available Device: _DeviceAttributes(/job:worker/replica:0/task:0/device:CPU:0, CPU, 0, 0)\n"
          ]
        },
        {
          "output_type": "stream",
          "name": "stdout",
          "text": [
            "INFO:tensorflow:*** Available Device: _DeviceAttributes(/job:worker/replica:0/task:0/device:TPU:0, TPU, 0, 0)\n"
          ]
        },
        {
          "output_type": "stream",
          "name": "stderr",
          "text": [
            "INFO:tensorflow:*** Available Device: _DeviceAttributes(/job:worker/replica:0/task:0/device:TPU:0, TPU, 0, 0)\n"
          ]
        },
        {
          "output_type": "stream",
          "name": "stdout",
          "text": [
            "INFO:tensorflow:*** Available Device: _DeviceAttributes(/job:worker/replica:0/task:0/device:TPU:1, TPU, 0, 0)\n"
          ]
        },
        {
          "output_type": "stream",
          "name": "stderr",
          "text": [
            "INFO:tensorflow:*** Available Device: _DeviceAttributes(/job:worker/replica:0/task:0/device:TPU:1, TPU, 0, 0)\n"
          ]
        },
        {
          "output_type": "stream",
          "name": "stdout",
          "text": [
            "INFO:tensorflow:*** Available Device: _DeviceAttributes(/job:worker/replica:0/task:0/device:TPU:2, TPU, 0, 0)\n"
          ]
        },
        {
          "output_type": "stream",
          "name": "stderr",
          "text": [
            "INFO:tensorflow:*** Available Device: _DeviceAttributes(/job:worker/replica:0/task:0/device:TPU:2, TPU, 0, 0)\n"
          ]
        },
        {
          "output_type": "stream",
          "name": "stdout",
          "text": [
            "INFO:tensorflow:*** Available Device: _DeviceAttributes(/job:worker/replica:0/task:0/device:TPU:3, TPU, 0, 0)\n"
          ]
        },
        {
          "output_type": "stream",
          "name": "stderr",
          "text": [
            "INFO:tensorflow:*** Available Device: _DeviceAttributes(/job:worker/replica:0/task:0/device:TPU:3, TPU, 0, 0)\n"
          ]
        },
        {
          "output_type": "stream",
          "name": "stdout",
          "text": [
            "INFO:tensorflow:*** Available Device: _DeviceAttributes(/job:worker/replica:0/task:0/device:TPU:4, TPU, 0, 0)\n"
          ]
        },
        {
          "output_type": "stream",
          "name": "stderr",
          "text": [
            "INFO:tensorflow:*** Available Device: _DeviceAttributes(/job:worker/replica:0/task:0/device:TPU:4, TPU, 0, 0)\n"
          ]
        },
        {
          "output_type": "stream",
          "name": "stdout",
          "text": [
            "INFO:tensorflow:*** Available Device: _DeviceAttributes(/job:worker/replica:0/task:0/device:TPU:5, TPU, 0, 0)\n"
          ]
        },
        {
          "output_type": "stream",
          "name": "stderr",
          "text": [
            "INFO:tensorflow:*** Available Device: _DeviceAttributes(/job:worker/replica:0/task:0/device:TPU:5, TPU, 0, 0)\n"
          ]
        },
        {
          "output_type": "stream",
          "name": "stdout",
          "text": [
            "INFO:tensorflow:*** Available Device: _DeviceAttributes(/job:worker/replica:0/task:0/device:TPU:6, TPU, 0, 0)\n"
          ]
        },
        {
          "output_type": "stream",
          "name": "stderr",
          "text": [
            "INFO:tensorflow:*** Available Device: _DeviceAttributes(/job:worker/replica:0/task:0/device:TPU:6, TPU, 0, 0)\n"
          ]
        },
        {
          "output_type": "stream",
          "name": "stdout",
          "text": [
            "INFO:tensorflow:*** Available Device: _DeviceAttributes(/job:worker/replica:0/task:0/device:TPU:7, TPU, 0, 0)\n"
          ]
        },
        {
          "output_type": "stream",
          "name": "stderr",
          "text": [
            "INFO:tensorflow:*** Available Device: _DeviceAttributes(/job:worker/replica:0/task:0/device:TPU:7, TPU, 0, 0)\n"
          ]
        },
        {
          "output_type": "stream",
          "name": "stdout",
          "text": [
            "INFO:tensorflow:*** Available Device: _DeviceAttributes(/job:worker/replica:0/task:0/device:TPU_SYSTEM:0, TPU_SYSTEM, 0, 0)\n"
          ]
        },
        {
          "output_type": "stream",
          "name": "stderr",
          "text": [
            "INFO:tensorflow:*** Available Device: _DeviceAttributes(/job:worker/replica:0/task:0/device:TPU_SYSTEM:0, TPU_SYSTEM, 0, 0)\n"
          ]
        },
        {
          "output_type": "stream",
          "name": "stdout",
          "text": [
            "INFO:tensorflow:*** Available Device: _DeviceAttributes(/job:worker/replica:0/task:0/device:XLA_CPU:0, XLA_CPU, 0, 0)\n"
          ]
        },
        {
          "output_type": "stream",
          "name": "stderr",
          "text": [
            "INFO:tensorflow:*** Available Device: _DeviceAttributes(/job:worker/replica:0/task:0/device:XLA_CPU:0, XLA_CPU, 0, 0)\n",
            "Some layers from the model checkpoint at distilbert-base-uncased were not used when initializing TFDistilBertModel: ['vocab_layer_norm', 'vocab_projector', 'activation_13', 'vocab_transform']\n",
            "- This IS expected if you are initializing TFDistilBertModel from the checkpoint of a model trained on another task or with another architecture (e.g. initializing a BertForSequenceClassification model from a BertForPreTraining model).\n",
            "- This IS NOT expected if you are initializing TFDistilBertModel from the checkpoint of a model that you expect to be exactly identical (initializing a BertForSequenceClassification model from a BertForSequenceClassification model).\n",
            "All the layers of TFDistilBertModel were initialized from the model checkpoint at distilbert-base-uncased.\n",
            "If your task is similar to the task the model of the checkpoint was trained on, you can already use TFDistilBertModel for predictions without further training.\n"
          ]
        },
        {
          "output_type": "stream",
          "name": "stdout",
          "text": [
            "Model: \"Model4_CNN\"\n",
            "__________________________________________________________________________________________________\n",
            " Layer (type)                   Output Shape         Param #     Connected to                     \n",
            "==================================================================================================\n",
            " input_token (InputLayer)       [(None, 128)]        0           []                               \n",
            "                                                                                                  \n",
            " masked_token (InputLayer)      [(None, 128)]        0           []                               \n",
            "                                                                                                  \n",
            " tf_distil_bert_model_1 (TFDist  TFBaseModelOutput(l  66362880   ['input_token[0][0]',            \n",
            " ilBertModel)                   ast_hidden_state=(N               'masked_token[0][0]']           \n",
            "                                one, 128, 768),                                                   \n",
            "                                 hidden_states=None                                               \n",
            "                                , attentions=None)                                                \n",
            "                                                                                                  \n",
            " CNN1D (Conv1D)                 (None, 128, 100)     460900      ['tf_distil_bert_model_1[0][0]'] \n",
            "                                                                                                  \n",
            " MaxPool (GlobalMaxPooling1D)   (None, 100)          0           ['CNN1D[0][0]']                  \n",
            "                                                                                                  \n",
            " Hidden_1 (Dense)               (None, 50)           5050        ['MaxPool[0][0]']                \n",
            "                                                                                                  \n",
            " Output (Dense)                 (None, 6)            306         ['Hidden_1[0][0]']               \n",
            "                                                                                                  \n",
            "==================================================================================================\n",
            "Total params: 66,829,136\n",
            "Trainable params: 66,829,136\n",
            "Non-trainable params: 0\n",
            "__________________________________________________________________________________________________\n"
          ]
        }
      ],
      "source": [
        "import tensorflow as tf\n",
        "EMBED_SIZE = 100\n",
        "hidden_layer = 50\n",
        "\n",
        "def cnn():\n",
        "  input_ids_in = tf.keras.layers.Input(shape=(128,), name='input_token', dtype='int32')\n",
        "  input_masks_in = tf.keras.layers.Input(shape=(128,), name='masked_token', dtype='int32') \n",
        "\n",
        "  bert_embeddings = get_BERT_layer()\n",
        "  embedded_sent = bert_embeddings(input_ids_in, attention_mask=input_masks_in)[0]\n",
        "\n",
        "  CNN_sent=Conv1D(filters=100,\n",
        "                 kernel_size=6,\n",
        "                  padding='same',\n",
        "                  activation='relu',\n",
        "                  strides=1,name='CNN1D')(embedded_sent)                             # CNN\n",
        "  pooled_sent=GlobalMaxPooling1D(name='MaxPool')(CNN_sent)\n",
        "  hidden_output=Dense(50,input_shape=(EMBED_SIZE,),activation='sigmoid',kernel_initializer='glorot_uniform',name='Hidden_1')(pooled_sent)\n",
        "  label=Dense(6,input_shape=(hidden_layer,),activation='softmax',kernel_initializer='glorot_uniform',name='Output')(hidden_output)\n",
        "  return Model(inputs=[input_ids_in,input_masks_in], outputs=[label],name='Model4_CNN')\n",
        "\n",
        "use_tpu = True\n",
        "if use_tpu:\n",
        "  # Create distribution strategy\n",
        "  tpu = tf.distribute.cluster_resolver.TPUClusterResolver()\n",
        "  tf.config.experimental_connect_to_cluster(tpu)\n",
        "  tf.tpu.experimental.initialize_tpu_system(tpu)\n",
        "  strategy = tf.distribute.experimental.TPUStrategy(tpu)\n",
        "\n",
        "  # Create model\n",
        "  with strategy.scope():\n",
        "    model4 = cnn()\n",
        "    optimizer4 = tf.keras.optimizers.Adam(learning_rate=2e-5)\n",
        "    model4.compile(optimizer=optimizer4, loss='categorical_crossentropy', metrics=['accuracy'])\n",
        "else:\n",
        "  model4 = cnn()\n",
        "  model4.compile(optimizer='adam',\n",
        "              loss='categorical_crossentropy',\n",
        "              metrics=['accuracy'])\n",
        "\n",
        "model4.summary()"
      ]
    },
    {
      "cell_type": "code",
      "execution_count": null,
      "metadata": {
        "colab": {
          "base_uri": "https://localhost:8080/"
        },
        "outputId": "acfdefcf-3824-4c92-babc-a802eb17c12f",
        "id": "dMA7CxoRwrVS"
      },
      "outputs": [
        {
          "output_type": "stream",
          "name": "stdout",
          "text": [
            "Epoch 1/10\n",
            "344/344 [==============================] - 84s 62ms/step - loss: 1.3431 - accuracy: 0.5277 - val_loss: 1.0897 - val_accuracy: 0.6076\n",
            "Epoch 2/10\n",
            "344/344 [==============================] - 17s 49ms/step - loss: 1.0213 - accuracy: 0.6343 - val_loss: 0.9890 - val_accuracy: 0.6555\n",
            "Epoch 3/10\n",
            "344/344 [==============================] - 18s 51ms/step - loss: 0.8235 - accuracy: 0.7289 - val_loss: 0.9755 - val_accuracy: 0.6526\n",
            "Epoch 4/10\n",
            "344/344 [==============================] - 17s 50ms/step - loss: 0.6684 - accuracy: 0.7882 - val_loss: 0.9622 - val_accuracy: 0.6788\n",
            "Epoch 5/10\n",
            "344/344 [==============================] - 17s 50ms/step - loss: 0.4994 - accuracy: 0.8646 - val_loss: 1.0129 - val_accuracy: 0.6599\n",
            "Epoch 6/10\n",
            "344/344 [==============================] - 17s 49ms/step - loss: 0.4039 - accuracy: 0.8934 - val_loss: 1.0498 - val_accuracy: 0.6512\n",
            "Epoch 7/10\n",
            "344/344 [==============================] - 17s 50ms/step - loss: 0.3067 - accuracy: 0.9272 - val_loss: 1.1634 - val_accuracy: 0.6453\n",
            "Epoch 8/10\n",
            "344/344 [==============================] - 17s 50ms/step - loss: 0.2551 - accuracy: 0.9440 - val_loss: 1.1364 - val_accuracy: 0.6424\n",
            "Epoch 9/10\n",
            "344/344 [==============================] - 18s 52ms/step - loss: 0.2027 - accuracy: 0.9647 - val_loss: 1.2122 - val_accuracy: 0.6468\n",
            "Epoch 10/10\n",
            "344/344 [==============================] - 17s 50ms/step - loss: 0.1812 - accuracy: 0.9658 - val_loss: 1.2214 - val_accuracy: 0.6439\n"
          ]
        }
      ],
      "source": [
        "history = model4.fit([x_train2_int_np,x_train2_mask_np],\n",
        "                    y_train2,\n",
        "                    epochs=10,\n",
        "                    batch_size=8,\n",
        "                    validation_data=([x_val2_int_np,x_val2_mask_np], y_val2),\n",
        "                    verbose=1)"
      ]
    },
    {
      "cell_type": "code",
      "execution_count": null,
      "metadata": {
        "id": "i_fSB1iXwrVS"
      },
      "outputs": [],
      "source": [
        "y_pred4 = model4.predict([x_test2_int_np,x_test2_mask_np],batch_size=512)"
      ]
    },
    {
      "cell_type": "code",
      "execution_count": null,
      "metadata": {
        "id": "IingB8CawrVS",
        "colab": {
          "base_uri": "https://localhost:8080/",
          "height": 759
        },
        "outputId": "78819433-8aaf-4f46-f85f-7bdadbb295f5"
      },
      "outputs": [
        {
          "output_type": "stream",
          "name": "stdout",
          "text": [
            "              precision    recall  f1-score   support\n",
            "\n",
            "           0     0.3415    0.3256    0.3333       215\n",
            "           1     0.4531    0.4394    0.4462       198\n",
            "           2     0.4722    0.4533    0.4626       150\n",
            "           3     0.6146    0.2252    0.3296       262\n",
            "           4     0.5266    0.6246    0.5714       333\n",
            "           5     0.6828    0.7648    0.7215      1050\n",
            "\n",
            "    accuracy                         0.5865      2208\n",
            "   macro avg     0.5151    0.4721    0.4774      2208\n",
            "weighted avg     0.5830    0.5865    0.5723      2208\n",
            "\n"
          ]
        },
        {
          "output_type": "display_data",
          "data": {
            "text/plain": [
              "<Figure size 360x360 with 1 Axes>"
            ],
            "image/png": "[encoded data removed]"
          },
          "metadata": {
            "needs_background": "light"
          }
        }
      ],
      "source": [
        "from sklearn.metrics import classification_report, accuracy_score\n",
        "y_pred4_bool = np.argmax(y_pred4, axis=1)\n",
        "print(classification_report(np.argmax(y_test2, axis=1), y_pred4_bool,digits=4))\n",
        "\n",
        "# Build the confusion matrix off these predictions\n",
        "import seaborn as sns\n",
        "from sklearn.metrics import confusion_matrix\n",
        "import pandas as pd\n",
        "matrix = confusion_matrix(np.argmax(y_test2, axis=1), y_pred4_bool)\n",
        "fig, ax = plt.subplots(figsize=(5,5))\n",
        "plot = sns.heatmap(matrix, square=True, annot=True, cmap='Blues', fmt='d', cbar=False, linewidths=10, ax=ax, annot_kws={\"size\":10},xticklabels=['non-sexist','ideological-inequality','stereotyping-dominance','objectification', 'sexual-violence', 'misogyny-non-sexual-violence'], yticklabels=['non-sexist','ideological-inequality','stereotyping-dominance','objectification', 'sexual-violence', 'misogyny-non-sexual-violence'])\n",
        "plot.set_title('Confusion Matrix\\n\\n');\n",
        "plot.set_xlabel('\\nPrediction')\n",
        "plot.set_ylabel('\\nTruth');"
      ]
    },
    {
      "cell_type": "markdown",
      "metadata": {
        "id": "VrMT-jGrf8_t"
      },
      "source": [
        "# Model5 - DistilBERT + multi CNN"
      ]
    },
    {
      "cell_type": "code",
      "execution_count": null,
      "metadata": {
        "id": "kNyFgtSRf8_1"
      },
      "outputs": [],
      "source": [
        "class GlobalAveragePooling1DMasked(GlobalAveragePooling1D):\n",
        "    def call(self, x, mask=None):\n",
        "        if mask != None:\n",
        "            return K.sum(x, axis=1) / K.sum(mask, axis=1)\n",
        "        else:\n",
        "            return super().call(x)"
      ]
    },
    {
      "cell_type": "code",
      "execution_count": null,
      "metadata": {
        "id": "n1Lcn0SVf8_1"
      },
      "outputs": [],
      "source": [
        "from transformers import TFDistilBertModel, DistilBertConfig\n",
        "\n",
        "def get_BERT_layer():\n",
        "  distil_bert = 'distilbert-base-uncased'\n",
        "  config = DistilBertConfig(dropout=0.2, attention_dropout=0.2)\n",
        "  config.output_hidden_states = False\n",
        "  return TFDistilBertModel.from_pretrained(distil_bert, config = config)\n"
      ]
    },
    {
      "cell_type": "code",
      "execution_count": null,
      "metadata": {
        "colab": {
          "base_uri": "https://localhost:8080/"
        },
        "outputId": "1b2b8d36-57d8-4b6d-a7fb-0d10009c6767",
        "id": "w71hpvSPf8_1"
      },
      "outputs": [
        {
          "output_type": "stream",
          "name": "stdout",
          "text": [
            "INFO:tensorflow:Deallocate tpu buffers before initializing tpu system.\n"
          ]
        },
        {
          "output_type": "stream",
          "name": "stderr",
          "text": [
            "INFO:tensorflow:Deallocate tpu buffers before initializing tpu system.\n"
          ]
        },
        {
          "output_type": "stream",
          "name": "stdout",
          "text": [
            "WARNING:tensorflow:TPU system grpc://10.122.89.50:8470 has already been initialized. Reinitializing the TPU can cause previously created variables on TPU to be lost.\n"
          ]
        },
        {
          "output_type": "stream",
          "name": "stderr",
          "text": [
            "WARNING:tensorflow:TPU system grpc://10.122.89.50:8470 has already been initialized. Reinitializing the TPU can cause previously created variables on TPU to be lost.\n"
          ]
        },
        {
          "output_type": "stream",
          "name": "stdout",
          "text": [
            "INFO:tensorflow:Initializing the TPU system: grpc://10.122.89.50:8470\n"
          ]
        },
        {
          "output_type": "stream",
          "name": "stderr",
          "text": [
            "INFO:tensorflow:Initializing the TPU system: grpc://10.122.89.50:8470\n"
          ]
        },
        {
          "output_type": "stream",
          "name": "stdout",
          "text": [
            "INFO:tensorflow:Finished initializing TPU system.\n"
          ]
        },
        {
          "output_type": "stream",
          "name": "stderr",
          "text": [
            "INFO:tensorflow:Finished initializing TPU system.\n",
            "WARNING:absl:`tf.distribute.experimental.TPUStrategy` is deprecated, please use  the non experimental symbol `tf.distribute.TPUStrategy` instead.\n"
          ]
        },
        {
          "output_type": "stream",
          "name": "stdout",
          "text": [
            "INFO:tensorflow:Found TPU system:\n"
          ]
        },
        {
          "output_type": "stream",
          "name": "stderr",
          "text": [
            "INFO:tensorflow:Found TPU system:\n"
          ]
        },
        {
          "output_type": "stream",
          "name": "stdout",
          "text": [
            "INFO:tensorflow:*** Num TPU Cores: 8\n"
          ]
        },
        {
          "output_type": "stream",
          "name": "stderr",
          "text": [
            "INFO:tensorflow:*** Num TPU Cores: 8\n"
          ]
        },
        {
          "output_type": "stream",
          "name": "stdout",
          "text": [
            "INFO:tensorflow:*** Num TPU Workers: 1\n"
          ]
        },
        {
          "output_type": "stream",
          "name": "stderr",
          "text": [
            "INFO:tensorflow:*** Num TPU Workers: 1\n"
          ]
        },
        {
          "output_type": "stream",
          "name": "stdout",
          "text": [
            "INFO:tensorflow:*** Num TPU Cores Per Worker: 8\n"
          ]
        },
        {
          "output_type": "stream",
          "name": "stderr",
          "text": [
            "INFO:tensorflow:*** Num TPU Cores Per Worker: 8\n"
          ]
        },
        {
          "output_type": "stream",
          "name": "stdout",
          "text": [
            "INFO:tensorflow:*** Available Device: _DeviceAttributes(/job:localhost/replica:0/task:0/device:CPU:0, CPU, 0, 0)\n"
          ]
        },
        {
          "output_type": "stream",
          "name": "stderr",
          "text": [
            "INFO:tensorflow:*** Available Device: _DeviceAttributes(/job:localhost/replica:0/task:0/device:CPU:0, CPU, 0, 0)\n"
          ]
        },
        {
          "output_type": "stream",
          "name": "stdout",
          "text": [
            "INFO:tensorflow:*** Available Device: _DeviceAttributes(/job:worker/replica:0/task:0/device:CPU:0, CPU, 0, 0)\n"
          ]
        },
        {
          "output_type": "stream",
          "name": "stderr",
          "text": [
            "INFO:tensorflow:*** Available Device: _DeviceAttributes(/job:worker/replica:0/task:0/device:CPU:0, CPU, 0, 0)\n"
          ]
        },
        {
          "output_type": "stream",
          "name": "stdout",
          "text": [
            "INFO:tensorflow:*** Available Device: _DeviceAttributes(/job:worker/replica:0/task:0/device:TPU:0, TPU, 0, 0)\n"
          ]
        },
        {
          "output_type": "stream",
          "name": "stderr",
          "text": [
            "INFO:tensorflow:*** Available Device: _DeviceAttributes(/job:worker/replica:0/task:0/device:TPU:0, TPU, 0, 0)\n"
          ]
        },
        {
          "output_type": "stream",
          "name": "stdout",
          "text": [
            "INFO:tensorflow:*** Available Device: _DeviceAttributes(/job:worker/replica:0/task:0/device:TPU:1, TPU, 0, 0)\n"
          ]
        },
        {
          "output_type": "stream",
          "name": "stderr",
          "text": [
            "INFO:tensorflow:*** Available Device: _DeviceAttributes(/job:worker/replica:0/task:0/device:TPU:1, TPU, 0, 0)\n"
          ]
        },
        {
          "output_type": "stream",
          "name": "stdout",
          "text": [
            "INFO:tensorflow:*** Available Device: _DeviceAttributes(/job:worker/replica:0/task:0/device:TPU:2, TPU, 0, 0)\n"
          ]
        },
        {
          "output_type": "stream",
          "name": "stderr",
          "text": [
            "INFO:tensorflow:*** Available Device: _DeviceAttributes(/job:worker/replica:0/task:0/device:TPU:2, TPU, 0, 0)\n"
          ]
        },
        {
          "output_type": "stream",
          "name": "stdout",
          "text": [
            "INFO:tensorflow:*** Available Device: _DeviceAttributes(/job:worker/replica:0/task:0/device:TPU:3, TPU, 0, 0)\n"
          ]
        },
        {
          "output_type": "stream",
          "name": "stderr",
          "text": [
            "INFO:tensorflow:*** Available Device: _DeviceAttributes(/job:worker/replica:0/task:0/device:TPU:3, TPU, 0, 0)\n"
          ]
        },
        {
          "output_type": "stream",
          "name": "stdout",
          "text": [
            "INFO:tensorflow:*** Available Device: _DeviceAttributes(/job:worker/replica:0/task:0/device:TPU:4, TPU, 0, 0)\n"
          ]
        },
        {
          "output_type": "stream",
          "name": "stderr",
          "text": [
            "INFO:tensorflow:*** Available Device: _DeviceAttributes(/job:worker/replica:0/task:0/device:TPU:4, TPU, 0, 0)\n"
          ]
        },
        {
          "output_type": "stream",
          "name": "stdout",
          "text": [
            "INFO:tensorflow:*** Available Device: _DeviceAttributes(/job:worker/replica:0/task:0/device:TPU:5, TPU, 0, 0)\n"
          ]
        },
        {
          "output_type": "stream",
          "name": "stderr",
          "text": [
            "INFO:tensorflow:*** Available Device: _DeviceAttributes(/job:worker/replica:0/task:0/device:TPU:5, TPU, 0, 0)\n"
          ]
        },
        {
          "output_type": "stream",
          "name": "stdout",
          "text": [
            "INFO:tensorflow:*** Available Device: _DeviceAttributes(/job:worker/replica:0/task:0/device:TPU:6, TPU, 0, 0)\n"
          ]
        },
        {
          "output_type": "stream",
          "name": "stderr",
          "text": [
            "INFO:tensorflow:*** Available Device: _DeviceAttributes(/job:worker/replica:0/task:0/device:TPU:6, TPU, 0, 0)\n"
          ]
        },
        {
          "output_type": "stream",
          "name": "stdout",
          "text": [
            "INFO:tensorflow:*** Available Device: _DeviceAttributes(/job:worker/replica:0/task:0/device:TPU:7, TPU, 0, 0)\n"
          ]
        },
        {
          "output_type": "stream",
          "name": "stderr",
          "text": [
            "INFO:tensorflow:*** Available Device: _DeviceAttributes(/job:worker/replica:0/task:0/device:TPU:7, TPU, 0, 0)\n"
          ]
        },
        {
          "output_type": "stream",
          "name": "stdout",
          "text": [
            "INFO:tensorflow:*** Available Device: _DeviceAttributes(/job:worker/replica:0/task:0/device:TPU_SYSTEM:0, TPU_SYSTEM, 0, 0)\n"
          ]
        },
        {
          "output_type": "stream",
          "name": "stderr",
          "text": [
            "INFO:tensorflow:*** Available Device: _DeviceAttributes(/job:worker/replica:0/task:0/device:TPU_SYSTEM:0, TPU_SYSTEM, 0, 0)\n"
          ]
        },
        {
          "output_type": "stream",
          "name": "stdout",
          "text": [
            "INFO:tensorflow:*** Available Device: _DeviceAttributes(/job:worker/replica:0/task:0/device:XLA_CPU:0, XLA_CPU, 0, 0)\n"
          ]
        },
        {
          "output_type": "stream",
          "name": "stderr",
          "text": [
            "INFO:tensorflow:*** Available Device: _DeviceAttributes(/job:worker/replica:0/task:0/device:XLA_CPU:0, XLA_CPU, 0, 0)\n",
            "Some layers from the model checkpoint at distilbert-base-uncased were not used when initializing TFDistilBertModel: ['vocab_layer_norm', 'vocab_projector', 'activation_13', 'vocab_transform']\n",
            "- This IS expected if you are initializing TFDistilBertModel from the checkpoint of a model trained on another task or with another architecture (e.g. initializing a BertForSequenceClassification model from a BertForPreTraining model).\n",
            "- This IS NOT expected if you are initializing TFDistilBertModel from the checkpoint of a model that you expect to be exactly identical (initializing a BertForSequenceClassification model from a BertForSequenceClassification model).\n",
            "All the layers of TFDistilBertModel were initialized from the model checkpoint at distilbert-base-uncased.\n",
            "If your task is similar to the task the model of the checkpoint was trained on, you can already use TFDistilBertModel for predictions without further training.\n"
          ]
        },
        {
          "output_type": "stream",
          "name": "stdout",
          "text": [
            "Model: \"Model5_multiCNN\"\n",
            "__________________________________________________________________________________________________\n",
            " Layer (type)                   Output Shape         Param #     Connected to                     \n",
            "==================================================================================================\n",
            " input_token (InputLayer)       [(None, 128)]        0           []                               \n",
            "                                                                                                  \n",
            " masked_token (InputLayer)      [(None, 128)]        0           []                               \n",
            "                                                                                                  \n",
            " tf_distil_bert_model_2 (TFDist  TFBaseModelOutput(l  66362880   ['input_token[0][0]',            \n",
            " ilBertModel)                   ast_hidden_state=(N               'masked_token[0][0]']           \n",
            "                                one, 128, 768),                                                   \n",
            "                                 hidden_states=None                                               \n",
            "                                , attentions=None)                                                \n",
            "                                                                                                  \n",
            " CNN1 (Conv1D)                  (None, 128, 100)     230500      ['tf_distil_bert_model_2[0][0]'] \n",
            "                                                                                                  \n",
            " CNN2 (Conv1D)                  (None, 128, 100)     384100      ['tf_distil_bert_model_2[0][0]'] \n",
            "                                                                                                  \n",
            " CNN3 (Conv1D)                  (None, 128, 100)     537700      ['tf_distil_bert_model_2[0][0]'] \n",
            "                                                                                                  \n",
            " MaxPool1 (GlobalMaxPooling1D)  (None, 100)          0           ['CNN1[0][0]']                   \n",
            "                                                                                                  \n",
            " MaxPool2 (GlobalMaxPooling1D)  (None, 100)          0           ['CNN2[0][0]']                   \n",
            "                                                                                                  \n",
            " MaxPool3 (GlobalMaxPooling1D)  (None, 100)          0           ['CNN3[0][0]']                   \n",
            "                                                                                                  \n",
            " concatenate (Concatenate)      (None, 300)          0           ['MaxPool1[0][0]',               \n",
            "                                                                  'MaxPool2[0][0]',               \n",
            "                                                                  'MaxPool3[0][0]']               \n",
            "                                                                                                  \n",
            " Hidden_1 (Dense)               (None, 50)           15050       ['concatenate[0][0]']            \n",
            "                                                                                                  \n",
            " Output (Dense)                 (None, 6)            306         ['Hidden_1[0][0]']               \n",
            "                                                                                                  \n",
            "==================================================================================================\n",
            "Total params: 67,530,536\n",
            "Trainable params: 67,530,536\n",
            "Non-trainable params: 0\n",
            "__________________________________________________________________________________________________\n"
          ]
        }
      ],
      "source": [
        "import tensorflow as tf\n",
        "from keras.layers import Concatenate\n",
        "EMBED_SIZE = 100\n",
        "hidden_layer = 50\n",
        "\n",
        "def multicnn():\n",
        "  input_ids_in = tf.keras.layers.Input(shape=(128,), name='input_token', dtype='int32')\n",
        "  input_masks_in = tf.keras.layers.Input(shape=(128,), name='masked_token', dtype='int32') \n",
        "\n",
        "  bert_embeddings = get_BERT_layer()\n",
        "  embedded_sent = bert_embeddings(input_ids_in, attention_mask=input_masks_in)[0]\n",
        "  \n",
        "  conv_blocks = []\n",
        "  CNN_sent1=Conv1D(filters=100,\n",
        "                 kernel_size=3,\n",
        "                  padding='same',\n",
        "                  activation='relu',\n",
        "                  strides=1,name='CNN1')(embedded_sent)                             # CNN1\n",
        "  pooled_sent1=GlobalMaxPooling1D(name='MaxPool1')(CNN_sent1)  \n",
        "  CNN_sent2=Conv1D(filters=100,\n",
        "                 kernel_size=5,\n",
        "                  padding='same',\n",
        "                  activation='relu',\n",
        "                  strides=1,name='CNN2')(embedded_sent)                             # CNN2\n",
        "  pooled_sent2=GlobalMaxPooling1D(name='MaxPool2')(CNN_sent2)\n",
        "  CNN_sent3=Conv1D(filters=100,\n",
        "                 kernel_size=7,\n",
        "                  padding='same',\n",
        "                  activation='relu',\n",
        "                  strides=1,name='CNN3')(embedded_sent)                             # CNN3\n",
        "  pooled_sent3=GlobalMaxPooling1D(name='MaxPool3')(CNN_sent3)\n",
        "  conv_blocks.append(pooled_sent1)\n",
        "  conv_blocks.append(pooled_sent2)\n",
        "  conv_blocks.append(pooled_sent3)\n",
        "\n",
        "  #merge\n",
        "  combined = Concatenate()(conv_blocks)\n",
        "\n",
        "  hidden_output=Dense(50,input_shape=(EMBED_SIZE,),activation='sigmoid',kernel_initializer='glorot_uniform',name='Hidden_1')(combined)\n",
        "  label=Dense(6,input_shape=(hidden_layer,),activation='softmax',kernel_initializer='glorot_uniform',name='Output')(hidden_output)\n",
        "  return Model(inputs=[input_ids_in,input_masks_in], outputs=[label],name='Model5_multiCNN')\n",
        "\n",
        "use_tpu = True\n",
        "if use_tpu:\n",
        "  # Create distribution strategy\n",
        "  tpu = tf.distribute.cluster_resolver.TPUClusterResolver()\n",
        "  tf.config.experimental_connect_to_cluster(tpu)\n",
        "  tf.tpu.experimental.initialize_tpu_system(tpu)\n",
        "  strategy = tf.distribute.experimental.TPUStrategy(tpu)\n",
        "\n",
        "  # Create model\n",
        "  with strategy.scope():\n",
        "    model5 = multicnn()\n",
        "    optimizer5 = tf.keras.optimizers.Adam(learning_rate=2e-5)\n",
        "    model5.compile(optimizer=optimizer5, loss='categorical_crossentropy', metrics=['accuracy'])\n",
        "else:\n",
        "  model5 = multicnn()\n",
        "  model5.compile(optimizer='adam',\n",
        "              loss='categorical_crossentropy',\n",
        "              metrics=['accuracy'])\n",
        "\n",
        "model5.summary()"
      ]
    },
    {
      "cell_type": "code",
      "execution_count": null,
      "metadata": {
        "colab": {
          "base_uri": "https://localhost:8080/"
        },
        "outputId": "4f2fa04f-4062-4657-e0b9-663d2045f6d4",
        "id": "53eizqq7f8_2"
      },
      "outputs": [
        {
          "output_type": "stream",
          "name": "stdout",
          "text": [
            "Epoch 1/10\n",
            "344/344 [==============================] - 77s 63ms/step - loss: 1.3023 - accuracy: 0.5484 - val_loss: 1.0781 - val_accuracy: 0.6090\n",
            "Epoch 2/10\n",
            "344/344 [==============================] - 18s 51ms/step - loss: 0.9730 - accuracy: 0.6623 - val_loss: 0.9297 - val_accuracy: 0.6686\n",
            "Epoch 3/10\n",
            "344/344 [==============================] - 17s 49ms/step - loss: 0.7499 - accuracy: 0.7438 - val_loss: 0.9051 - val_accuracy: 0.6817\n",
            "Epoch 4/10\n",
            "344/344 [==============================] - 17s 50ms/step - loss: 0.5691 - accuracy: 0.8242 - val_loss: 0.9370 - val_accuracy: 0.6715\n",
            "Epoch 5/10\n",
            "344/344 [==============================] - 17s 50ms/step - loss: 0.4174 - accuracy: 0.8861 - val_loss: 0.9577 - val_accuracy: 0.6773\n",
            "Epoch 6/10\n",
            "344/344 [==============================] - 17s 51ms/step - loss: 0.3323 - accuracy: 0.9214 - val_loss: 0.9690 - val_accuracy: 0.6642\n",
            "Epoch 7/10\n",
            "344/344 [==============================] - 17s 51ms/step - loss: 0.2446 - accuracy: 0.9487 - val_loss: 1.0166 - val_accuracy: 0.6744\n",
            "Epoch 8/10\n",
            "344/344 [==============================] - 17s 50ms/step - loss: 0.2074 - accuracy: 0.9607 - val_loss: 1.0753 - val_accuracy: 0.6642\n",
            "Epoch 9/10\n",
            "344/344 [==============================] - 17s 51ms/step - loss: 0.1953 - accuracy: 0.9618 - val_loss: 1.1133 - val_accuracy: 0.6555\n",
            "Epoch 10/10\n",
            "344/344 [==============================] - 18s 53ms/step - loss: 0.1569 - accuracy: 0.9742 - val_loss: 1.1435 - val_accuracy: 0.6526\n"
          ]
        }
      ],
      "source": [
        "history = model5.fit([x_train2_int_np,x_train2_mask_np],\n",
        "                    y_train2,\n",
        "                    epochs=10,\n",
        "                    batch_size=8,\n",
        "                    validation_data=([x_val2_int_np,x_val2_mask_np], y_val2),\n",
        "                    verbose=1)"
      ]
    },
    {
      "cell_type": "code",
      "execution_count": null,
      "metadata": {
        "id": "I2yxWzu0f8_2"
      },
      "outputs": [],
      "source": [
        "y_pred5 = model5.predict([x_test2_int_np,x_test2_mask_np],batch_size=512)"
      ]
    },
    {
      "cell_type": "code",
      "execution_count": null,
      "metadata": {
        "id": "ShG3c0aQf8_2",
        "colab": {
          "base_uri": "https://localhost:8080/",
          "height": 759
        },
        "outputId": "618531c2-c339-4bac-fe00-d52a65b46cd5"
      },
      "outputs": [
        {
          "output_type": "stream",
          "name": "stdout",
          "text": [
            "              precision    recall  f1-score   support\n",
            "\n",
            "           0     0.3494    0.4047    0.3750       215\n",
            "           1     0.4605    0.5303    0.4930       198\n",
            "           2     0.3450    0.5933    0.4363       150\n",
            "           3     0.4921    0.4733    0.4825       262\n",
            "           4     0.6975    0.4985    0.5814       333\n",
            "           5     0.7477    0.7000    0.7231      1050\n",
            "\n",
            "    accuracy                         0.5915      2208\n",
            "   macro avg     0.5154    0.5333    0.5152      2208\n",
            "weighted avg     0.6179    0.5915    0.5992      2208\n",
            "\n"
          ]
        },
        {
          "output_type": "display_data",
          "data": {
            "text/plain": [
              "<Figure size 360x360 with 1 Axes>"
            ],
            "image/png": "[encoded data removed]"
          },
          "metadata": {
            "needs_background": "light"
          }
        }
      ],
      "source": [
        "from sklearn.metrics import classification_report, accuracy_score\n",
        "y_pred5_bool = np.argmax(y_pred5, axis=1)\n",
        "print(classification_report(np.argmax(y_test2, axis=1), y_pred5_bool,digits=4))\n",
        "#print(\"Accuracy: \" + str(accuracy_score(y_test1, y_pred5_bool)))\n",
        "\n",
        "# Build the confusion matrix off these predictions\n",
        "import seaborn as sns\n",
        "from sklearn.metrics import confusion_matrix\n",
        "import pandas as pd\n",
        "matrix = confusion_matrix(np.argmax(y_test2, axis=1), y_pred5_bool)\n",
        "fig, ax = plt.subplots(figsize=(5,5))\n",
        "plot = sns.heatmap(matrix, square=True, annot=True, cmap='Blues', fmt='d', cbar=False, linewidths=10, ax=ax, annot_kws={\"size\":10},xticklabels=['non-sexist','ideological-inequality','stereotyping-dominance','objectification', 'sexual-violence', 'misogyny-non-sexual-violence'], yticklabels=['non-sexist','ideological-inequality','stereotyping-dominance','objectification', 'sexual-violence', 'misogyny-non-sexual-violence'])\n",
        "plot.set_title('Confusion Matrix\\n\\n');\n",
        "plot.set_xlabel('\\nPrediction')\n",
        "plot.set_ylabel('\\nTruth');"
      ]
    },
    {
      "cell_type": "markdown",
      "source": [
        "# Bert Tokenization"
      ],
      "metadata": {
        "id": "gzT9p0Pt5hLr"
      }
    },
    {
      "cell_type": "code",
      "source": [
        "#tokenizer for Bert base model\n",
        "from transformers import BertTokenizer\n",
        "import tqdm\n",
        "bert = 'bert-base-uncased' # Pick any desired pre-trained model\n",
        "\n",
        "# Defining DistilBERT tokonizer\n",
        "bert_tokenizer = BertTokenizer.from_pretrained(bert, do_lower_case=True, add_special_tokens=True,\n",
        "                                                max_length=128, pad_to_max_length=True)\n",
        "\n",
        "def bert_tokenize(sentences, bert_tokenizer, pad_length=128, pad_to_max_length=True ):\n",
        "    if type(sentences) == str:\n",
        "        inputs = bert_tokenizer.encode_plus(sentences, add_special_tokens=True, max_length=pad_length, pad_to_max_length=pad_to_max_length, \n",
        "                                             return_attention_mask=True, return_token_type_ids=True)\n",
        "        #print(inputs,'end of inputs')\n",
        "        return np.asarray(inputs['input_ids'], dtype='int32'), np.asarray(inputs['attention_mask'], dtype='int32'), np.asarray(inputs['token_type_ids'], dtype='int32')\n",
        "    input_ids, input_masks, input_segments = [],[],[]\n",
        "    for sentence in sentences:\n",
        "        inputs = bert_tokenizer.encode_plus(sentence, add_special_tokens=True, max_length=pad_length, pad_to_max_length=pad_to_max_length, \n",
        "                                             return_attention_mask=True, return_token_type_ids=True)\n",
        "        input_ids.append(inputs['input_ids'])\n",
        "        input_masks.append(inputs['attention_mask'])\n",
        "        input_segments.append(inputs['token_type_ids']) \n",
        "        #print(inputs,'end of inputs')       \n",
        "        \n",
        "    return np.asarray(input_ids, dtype='int32'), np.asarray(input_masks, dtype='int32'), np.asarray(input_segments, dtype='int32')"
      ],
      "metadata": {
        "id": "vu0Zrv0OtKLf",
        "colab": {
          "base_uri": "https://localhost:8080/",
          "height": 113,
          "referenced_widgets": [
            "ecf37fc1869b49bfb7db8a884e3abeeb",
            "e0311608bf6045098e19d3ef0ee69c9d",
            "e2ed0491500a4b1f9df5906e731ec579",
            "2209e1c5ecaf41ac9842ddc4c807d898",
            "f0e189d288244dd5b1d864432624d215",
            "3041ea21f1924323970edc65aa0e0c88",
            "bda8e3c522c946ebaa58fd0d46adb101",
            "1ff8226f27a94c4a88be3bc86eb7d622",
            "dab62e8e304e4cbbbbe1978fddf67281",
            "5c24b91954f94d90bf97e207bd36a5c1",
            "5cf557af675f4eaa8d7499e4a3f10402",
            "576e7386a0264325bde45bad026e94ea",
            "1836b12dbd1f40999700eac19be007ad",
            "ac71e153c5ee4d459a8d0af8de1158b1",
            "26fa549b7bb943ed97a270a26eaf351e",
            "03bb3753d9924ec38eba4fd5752f9a5a",
            "dbd2fa90e0f44d74848e26a6ec666be6",
            "b4b923bcdd684a73a13bf54a6290e11f",
            "046940c9af1f4daa99096451dd90421c",
            "cacac563ee594da0bbc5301c11c727e3",
            "026e4e3a71684e7b8f8843f49b0f8daf",
            "d16042c1e93c4c2d940155aced958536",
            "ef0d9a7766b446ecbb5fa14507142235",
            "ad6377f3cba040ef94d39291de199382",
            "205bca29c69741f984c816a8bb99a085",
            "58577fec7108455387507e3248ef5d25",
            "f934225b2dcb43c380b2835ddeccb4f9",
            "35c3637faa524a4c834f42b9777efb4f",
            "59f114a73c394806a95a2bbd02ec917b",
            "f82f82fcf7b44d57977a39777dc94566",
            "12ed049186514beebaee02c1b007ca80",
            "9146f6e82edb468d83a5fae98de9cf0a",
            "5303a8336c1643e8a50b94438e91cf45"
          ]
        },
        "outputId": "b75541d5-9395-42a9-f6eb-857e753964c4"
      },
      "execution_count": null,
      "outputs": [
        {
          "output_type": "display_data",
          "data": {
            "text/plain": [
              "Downloading vocab.txt:   0%|          | 0.00/226k [00:00<?, ?B/s]"
            ],
            "application/vnd.jupyter.widget-view+json": {
              "version_major": 2,
              "version_minor": 0,
              "model_id": "ecf37fc1869b49bfb7db8a884e3abeeb"
            }
          },
          "metadata": {}
        },
        {
          "output_type": "display_data",
          "data": {
            "text/plain": [
              "Downloading tokenizer_config.json:   0%|          | 0.00/28.0 [00:00<?, ?B/s]"
            ],
            "application/vnd.jupyter.widget-view+json": {
              "version_major": 2,
              "version_minor": 0,
              "model_id": "576e7386a0264325bde45bad026e94ea"
            }
          },
          "metadata": {}
        },
        {
          "output_type": "display_data",
          "data": {
            "text/plain": [
              "Downloading config.json:   0%|          | 0.00/570 [00:00<?, ?B/s]"
            ],
            "application/vnd.jupyter.widget-view+json": {
              "version_major": 2,
              "version_minor": 0,
              "model_id": "ef0d9a7766b446ecbb5fa14507142235"
            }
          },
          "metadata": {}
        }
      ]
    },
    {
      "cell_type": "code",
      "source": [
        "#example testing\n",
        "inputs = bert_tokenizer.tokenize(\"The capital of France is [MASK].\")\n",
        "print(inputs,'\\n')\n",
        "ids,masks,segments = bert_tokenize(\"The capital of France is [MASK].\", bert_tokenizer)\n",
        "print(ids)\n",
        "print(masks)\n",
        "print(bert_tokenizer.convert_ids_to_tokens(ids),\"\\n\")"
      ],
      "metadata": {
        "colab": {
          "base_uri": "https://localhost:8080/"
        },
        "id": "1tqPcc_O4zTi",
        "outputId": "466d983f-dfbe-4fcb-976d-3659c9d195ff"
      },
      "execution_count": null,
      "outputs": [
        {
          "output_type": "stream",
          "name": "stderr",
          "text": [
            "Truncation was not explicitly activated but `max_length` is provided a specific value, please use `truncation=True` to explicitly truncate examples to max length. Defaulting to 'longest_first' truncation strategy. If you encode pairs of sequences (GLUE-style) with the tokenizer you can select this strategy more precisely by providing a specific strategy to `truncation`.\n"
          ]
        },
        {
          "output_type": "stream",
          "name": "stdout",
          "text": [
            "['the', 'capital', 'of', 'france', 'is', '[MASK]', '.'] \n",
            "\n",
            "[ 101 1996 3007 1997 2605 2003  103 1012  102    0    0    0    0    0\n",
            "    0    0    0    0    0    0    0    0    0    0    0    0    0    0\n",
            "    0    0    0    0    0    0    0    0    0    0    0    0    0    0\n",
            "    0    0    0    0    0    0    0    0    0    0    0    0    0    0\n",
            "    0    0    0    0    0    0    0    0    0    0    0    0    0    0\n",
            "    0    0    0    0    0    0    0    0    0    0    0    0    0    0\n",
            "    0    0    0    0    0    0    0    0    0    0    0    0    0    0\n",
            "    0    0    0    0    0    0    0    0    0    0    0    0    0    0\n",
            "    0    0    0    0    0    0    0    0    0    0    0    0    0    0\n",
            "    0    0]\n",
            "[1 1 1 1 1 1 1 1 1 0 0 0 0 0 0 0 0 0 0 0 0 0 0 0 0 0 0 0 0 0 0 0 0 0 0 0 0\n",
            " 0 0 0 0 0 0 0 0 0 0 0 0 0 0 0 0 0 0 0 0 0 0 0 0 0 0 0 0 0 0 0 0 0 0 0 0 0\n",
            " 0 0 0 0 0 0 0 0 0 0 0 0 0 0 0 0 0 0 0 0 0 0 0 0 0 0 0 0 0 0 0 0 0 0 0 0 0\n",
            " 0 0 0 0 0 0 0 0 0 0 0 0 0 0 0 0 0]\n",
            "['[CLS]', 'the', 'capital', 'of', 'france', 'is', '[MASK]', '.', '[SEP]', '[PAD]', '[PAD]', '[PAD]', '[PAD]', '[PAD]', '[PAD]', '[PAD]', '[PAD]', '[PAD]', '[PAD]', '[PAD]', '[PAD]', '[PAD]', '[PAD]', '[PAD]', '[PAD]', '[PAD]', '[PAD]', '[PAD]', '[PAD]', '[PAD]', '[PAD]', '[PAD]', '[PAD]', '[PAD]', '[PAD]', '[PAD]', '[PAD]', '[PAD]', '[PAD]', '[PAD]', '[PAD]', '[PAD]', '[PAD]', '[PAD]', '[PAD]', '[PAD]', '[PAD]', '[PAD]', '[PAD]', '[PAD]', '[PAD]', '[PAD]', '[PAD]', '[PAD]', '[PAD]', '[PAD]', '[PAD]', '[PAD]', '[PAD]', '[PAD]', '[PAD]', '[PAD]', '[PAD]', '[PAD]', '[PAD]', '[PAD]', '[PAD]', '[PAD]', '[PAD]', '[PAD]', '[PAD]', '[PAD]', '[PAD]', '[PAD]', '[PAD]', '[PAD]', '[PAD]', '[PAD]', '[PAD]', '[PAD]', '[PAD]', '[PAD]', '[PAD]', '[PAD]', '[PAD]', '[PAD]', '[PAD]', '[PAD]', '[PAD]', '[PAD]', '[PAD]', '[PAD]', '[PAD]', '[PAD]', '[PAD]', '[PAD]', '[PAD]', '[PAD]', '[PAD]', '[PAD]', '[PAD]', '[PAD]', '[PAD]', '[PAD]', '[PAD]', '[PAD]', '[PAD]', '[PAD]', '[PAD]', '[PAD]', '[PAD]', '[PAD]', '[PAD]', '[PAD]', '[PAD]', '[PAD]', '[PAD]', '[PAD]', '[PAD]', '[PAD]', '[PAD]', '[PAD]', '[PAD]', '[PAD]', '[PAD]', '[PAD]', '[PAD]', '[PAD]'] \n",
            "\n"
          ]
        },
        {
          "output_type": "stream",
          "name": "stderr",
          "text": [
            "/usr/local/lib/python3.7/dist-packages/transformers/tokenization_utils_base.py:2329: FutureWarning: The `pad_to_max_length` argument is deprecated and will be removed in a future version, use `padding=True` or `padding='longest'` to pad to the longest sequence in the batch, or use `padding='max_length'` to pad to a max length. In this case, you can give a specific length with `max_length` (e.g. `max_length=45`) or leave max_length to None to pad to the maximal input size of the model (e.g. 512 for Bert).\n",
            "  FutureWarning,\n"
          ]
        }
      ]
    },
    {
      "cell_type": "code",
      "source": [
        "#task2\n",
        "x_train2_int = [bert_tokenize(x_train2[i[0]][0],bert_tokenizer)[0] for i in enumerate(x_train2)]\n",
        "x_train2_mask = [bert_tokenize(x_train2[i[0]][0],bert_tokenizer)[1] for i in enumerate(x_train2)]\n",
        "\n",
        "x_val2_int = [bert_tokenize(x_val2[i[0]][0],bert_tokenizer)[0] for i in enumerate(x_val2)]\n",
        "x_val2_mask = [bert_tokenize(x_val2[i[0]][0],bert_tokenizer)[1] for i in enumerate(x_val2)]\n",
        "\n",
        "x_test2_int = [bert_tokenize(x_test[i[0]][0],bert_tokenizer)[0] for i in enumerate(x_test)]\n",
        "x_test2_mask = [bert_tokenize(x_test[i[0]][0],bert_tokenizer)[1] for i in enumerate(x_test)]\n",
        "\n",
        "x_train2_int_np = np.array(x_train2_int)\n",
        "x_train2_mask_np = np.array(x_train2_mask)\n",
        "x_val2_int_np = np.array(x_val2_int)\n",
        "x_val2_mask_np = np.array(x_val2_mask)\n",
        "x_test2_int_np = np.array(x_test2_int)\n",
        "x_test2_mask_np = np.array(x_test2_mask)"
      ],
      "metadata": {
        "colab": {
          "base_uri": "https://localhost:8080/"
        },
        "id": "TYSLMNyi6bhu",
        "outputId": "dc0cd533-14aa-42ef-bda9-03c753c3168c"
      },
      "execution_count": null,
      "outputs": [
        {
          "output_type": "stream",
          "name": "stderr",
          "text": [
            "Truncation was not explicitly activated but `max_length` is provided a specific value, please use `truncation=True` to explicitly truncate examples to max length. Defaulting to 'longest_first' truncation strategy. If you encode pairs of sequences (GLUE-style) with the tokenizer you can select this strategy more precisely by providing a specific strategy to `truncation`.\n",
            "/usr/local/lib/python3.7/dist-packages/transformers/tokenization_utils_base.py:2329: FutureWarning: The `pad_to_max_length` argument is deprecated and will be removed in a future version, use `padding=True` or `padding='longest'` to pad to the longest sequence in the batch, or use `padding='max_length'` to pad to a max length. In this case, you can give a specific length with `max_length` (e.g. `max_length=45`) or leave max_length to None to pad to the maximal input size of the model (e.g. 512 for Bert).\n",
            "  FutureWarning,\n"
          ]
        }
      ]
    },
    {
      "cell_type": "markdown",
      "metadata": {
        "id": "mwWUK01z7Dm_"
      },
      "source": [
        "# Model6 - BERT Sequence Classification"
      ]
    },
    {
      "cell_type": "code",
      "execution_count": null,
      "metadata": {
        "colab": {
          "base_uri": "https://localhost:8080/",
          "height": 830,
          "referenced_widgets": [
            "ef1220698e9d4113a0079c72618c3594",
            "34463520d3c34e259d2b0c396c31e4a0",
            "dd91106a5339485fb02ed2968fd67fc0",
            "041d58335b484c2280bd409d8b283c75",
            "f48c0be111924d4794603ce6ade8a9d5",
            "5b0dae61ef8c4897aaf159aef83dfc81",
            "646cf81543194e81ad6ba7277354f90e",
            "416c2dffb1ea46cd90d3ff029bfac076",
            "3f54a65f055041c4b2ead84b23ef109c",
            "3e3d123977cf4bcc86a967397c945de4",
            "bc0a28d4a7f14679aeac6e94c5459617"
          ]
        },
        "outputId": "bb6e8f02-0b60-4520-ba18-d22e53f95a4c",
        "id": "uK3sw-DW7DnA"
      },
      "outputs": [
        {
          "output_type": "stream",
          "name": "stdout",
          "text": [
            "INFO:tensorflow:Deallocate tpu buffers before initializing tpu system.\n"
          ]
        },
        {
          "output_type": "stream",
          "name": "stderr",
          "text": [
            "INFO:tensorflow:Deallocate tpu buffers before initializing tpu system.\n"
          ]
        },
        {
          "output_type": "stream",
          "name": "stdout",
          "text": [
            "WARNING:tensorflow:TPU system grpc://10.122.89.50:8470 has already been initialized. Reinitializing the TPU can cause previously created variables on TPU to be lost.\n"
          ]
        },
        {
          "output_type": "stream",
          "name": "stderr",
          "text": [
            "WARNING:tensorflow:TPU system grpc://10.122.89.50:8470 has already been initialized. Reinitializing the TPU can cause previously created variables on TPU to be lost.\n"
          ]
        },
        {
          "output_type": "stream",
          "name": "stdout",
          "text": [
            "INFO:tensorflow:Initializing the TPU system: grpc://10.122.89.50:8470\n"
          ]
        },
        {
          "output_type": "stream",
          "name": "stderr",
          "text": [
            "INFO:tensorflow:Initializing the TPU system: grpc://10.122.89.50:8470\n"
          ]
        },
        {
          "output_type": "stream",
          "name": "stdout",
          "text": [
            "INFO:tensorflow:Finished initializing TPU system.\n"
          ]
        },
        {
          "output_type": "stream",
          "name": "stderr",
          "text": [
            "INFO:tensorflow:Finished initializing TPU system.\n",
            "WARNING:absl:`tf.distribute.experimental.TPUStrategy` is deprecated, please use  the non experimental symbol `tf.distribute.TPUStrategy` instead.\n"
          ]
        },
        {
          "output_type": "stream",
          "name": "stdout",
          "text": [
            "INFO:tensorflow:Found TPU system:\n"
          ]
        },
        {
          "output_type": "stream",
          "name": "stderr",
          "text": [
            "INFO:tensorflow:Found TPU system:\n"
          ]
        },
        {
          "output_type": "stream",
          "name": "stdout",
          "text": [
            "INFO:tensorflow:*** Num TPU Cores: 8\n"
          ]
        },
        {
          "output_type": "stream",
          "name": "stderr",
          "text": [
            "INFO:tensorflow:*** Num TPU Cores: 8\n"
          ]
        },
        {
          "output_type": "stream",
          "name": "stdout",
          "text": [
            "INFO:tensorflow:*** Num TPU Workers: 1\n"
          ]
        },
        {
          "output_type": "stream",
          "name": "stderr",
          "text": [
            "INFO:tensorflow:*** Num TPU Workers: 1\n"
          ]
        },
        {
          "output_type": "stream",
          "name": "stdout",
          "text": [
            "INFO:tensorflow:*** Num TPU Cores Per Worker: 8\n"
          ]
        },
        {
          "output_type": "stream",
          "name": "stderr",
          "text": [
            "INFO:tensorflow:*** Num TPU Cores Per Worker: 8\n"
          ]
        },
        {
          "output_type": "stream",
          "name": "stdout",
          "text": [
            "INFO:tensorflow:*** Available Device: _DeviceAttributes(/job:localhost/replica:0/task:0/device:CPU:0, CPU, 0, 0)\n"
          ]
        },
        {
          "output_type": "stream",
          "name": "stderr",
          "text": [
            "INFO:tensorflow:*** Available Device: _DeviceAttributes(/job:localhost/replica:0/task:0/device:CPU:0, CPU, 0, 0)\n"
          ]
        },
        {
          "output_type": "stream",
          "name": "stdout",
          "text": [
            "INFO:tensorflow:*** Available Device: _DeviceAttributes(/job:worker/replica:0/task:0/device:CPU:0, CPU, 0, 0)\n"
          ]
        },
        {
          "output_type": "stream",
          "name": "stderr",
          "text": [
            "INFO:tensorflow:*** Available Device: _DeviceAttributes(/job:worker/replica:0/task:0/device:CPU:0, CPU, 0, 0)\n"
          ]
        },
        {
          "output_type": "stream",
          "name": "stdout",
          "text": [
            "INFO:tensorflow:*** Available Device: _DeviceAttributes(/job:worker/replica:0/task:0/device:TPU:0, TPU, 0, 0)\n"
          ]
        },
        {
          "output_type": "stream",
          "name": "stderr",
          "text": [
            "INFO:tensorflow:*** Available Device: _DeviceAttributes(/job:worker/replica:0/task:0/device:TPU:0, TPU, 0, 0)\n"
          ]
        },
        {
          "output_type": "stream",
          "name": "stdout",
          "text": [
            "INFO:tensorflow:*** Available Device: _DeviceAttributes(/job:worker/replica:0/task:0/device:TPU:1, TPU, 0, 0)\n"
          ]
        },
        {
          "output_type": "stream",
          "name": "stderr",
          "text": [
            "INFO:tensorflow:*** Available Device: _DeviceAttributes(/job:worker/replica:0/task:0/device:TPU:1, TPU, 0, 0)\n"
          ]
        },
        {
          "output_type": "stream",
          "name": "stdout",
          "text": [
            "INFO:tensorflow:*** Available Device: _DeviceAttributes(/job:worker/replica:0/task:0/device:TPU:2, TPU, 0, 0)\n"
          ]
        },
        {
          "output_type": "stream",
          "name": "stderr",
          "text": [
            "INFO:tensorflow:*** Available Device: _DeviceAttributes(/job:worker/replica:0/task:0/device:TPU:2, TPU, 0, 0)\n"
          ]
        },
        {
          "output_type": "stream",
          "name": "stdout",
          "text": [
            "INFO:tensorflow:*** Available Device: _DeviceAttributes(/job:worker/replica:0/task:0/device:TPU:3, TPU, 0, 0)\n"
          ]
        },
        {
          "output_type": "stream",
          "name": "stderr",
          "text": [
            "INFO:tensorflow:*** Available Device: _DeviceAttributes(/job:worker/replica:0/task:0/device:TPU:3, TPU, 0, 0)\n"
          ]
        },
        {
          "output_type": "stream",
          "name": "stdout",
          "text": [
            "INFO:tensorflow:*** Available Device: _DeviceAttributes(/job:worker/replica:0/task:0/device:TPU:4, TPU, 0, 0)\n"
          ]
        },
        {
          "output_type": "stream",
          "name": "stderr",
          "text": [
            "INFO:tensorflow:*** Available Device: _DeviceAttributes(/job:worker/replica:0/task:0/device:TPU:4, TPU, 0, 0)\n"
          ]
        },
        {
          "output_type": "stream",
          "name": "stdout",
          "text": [
            "INFO:tensorflow:*** Available Device: _DeviceAttributes(/job:worker/replica:0/task:0/device:TPU:5, TPU, 0, 0)\n"
          ]
        },
        {
          "output_type": "stream",
          "name": "stderr",
          "text": [
            "INFO:tensorflow:*** Available Device: _DeviceAttributes(/job:worker/replica:0/task:0/device:TPU:5, TPU, 0, 0)\n"
          ]
        },
        {
          "output_type": "stream",
          "name": "stdout",
          "text": [
            "INFO:tensorflow:*** Available Device: _DeviceAttributes(/job:worker/replica:0/task:0/device:TPU:6, TPU, 0, 0)\n"
          ]
        },
        {
          "output_type": "stream",
          "name": "stderr",
          "text": [
            "INFO:tensorflow:*** Available Device: _DeviceAttributes(/job:worker/replica:0/task:0/device:TPU:6, TPU, 0, 0)\n"
          ]
        },
        {
          "output_type": "stream",
          "name": "stdout",
          "text": [
            "INFO:tensorflow:*** Available Device: _DeviceAttributes(/job:worker/replica:0/task:0/device:TPU:7, TPU, 0, 0)\n"
          ]
        },
        {
          "output_type": "stream",
          "name": "stderr",
          "text": [
            "INFO:tensorflow:*** Available Device: _DeviceAttributes(/job:worker/replica:0/task:0/device:TPU:7, TPU, 0, 0)\n"
          ]
        },
        {
          "output_type": "stream",
          "name": "stdout",
          "text": [
            "INFO:tensorflow:*** Available Device: _DeviceAttributes(/job:worker/replica:0/task:0/device:TPU_SYSTEM:0, TPU_SYSTEM, 0, 0)\n"
          ]
        },
        {
          "output_type": "stream",
          "name": "stderr",
          "text": [
            "INFO:tensorflow:*** Available Device: _DeviceAttributes(/job:worker/replica:0/task:0/device:TPU_SYSTEM:0, TPU_SYSTEM, 0, 0)\n"
          ]
        },
        {
          "output_type": "stream",
          "name": "stdout",
          "text": [
            "INFO:tensorflow:*** Available Device: _DeviceAttributes(/job:worker/replica:0/task:0/device:XLA_CPU:0, XLA_CPU, 0, 0)\n"
          ]
        },
        {
          "output_type": "stream",
          "name": "stderr",
          "text": [
            "INFO:tensorflow:*** Available Device: _DeviceAttributes(/job:worker/replica:0/task:0/device:XLA_CPU:0, XLA_CPU, 0, 0)\n"
          ]
        },
        {
          "output_type": "display_data",
          "data": {
            "text/plain": [
              "Downloading tf_model.h5:   0%|          | 0.00/511M [00:00<?, ?B/s]"
            ],
            "application/vnd.jupyter.widget-view+json": {
              "version_major": 2,
              "version_minor": 0,
              "model_id": "ef1220698e9d4113a0079c72618c3594"
            }
          },
          "metadata": {}
        },
        {
          "output_type": "stream",
          "name": "stderr",
          "text": [
            "All model checkpoint layers were used when initializing TFBertForSequenceClassification.\n",
            "\n",
            "Some layers of TFBertForSequenceClassification were not initialized from the model checkpoint at bert-base-uncased and are newly initialized: ['classifier']\n",
            "You should probably TRAIN this model on a down-stream task to be able to use it for predictions and inference.\n"
          ]
        }
      ],
      "source": [
        "from transformers import TFBertForSequenceClassification, BertConfig\n",
        "import tensorflow as tf\n",
        "\n",
        "bert = 'bert-base-uncased'\n",
        "config = BertConfig(num_labels=6)\n",
        "config.output_hidden_states = False\n",
        "\n",
        "def create_BertForSequenceClassification():\n",
        "  transformer_model = TFBertForSequenceClassification.from_pretrained(bert, config = config)\n",
        "  input_ids = tf.keras.layers.Input(shape=(128,), name='input_token', dtype='int32')\n",
        "  input_masks_ids = tf.keras.layers.Input(shape=(128,), name='masked_token', dtype='int32')\n",
        "  X = transformer_model(input_ids, input_masks_ids)\n",
        "  return tf.keras.Model(inputs=[input_ids, input_masks_ids], outputs = X)\n",
        "\n",
        "use_tpu = True\n",
        "if use_tpu:\n",
        "  # Create distribution strategy\n",
        "  tpu = tf.distribute.cluster_resolver.TPUClusterResolver()\n",
        "  tf.config.experimental_connect_to_cluster(tpu)\n",
        "  tf.tpu.experimental.initialize_tpu_system(tpu)\n",
        "  strategy = tf.distribute.experimental.TPUStrategy(tpu)\n",
        "\n",
        "  # Create model on TPU:\n",
        "  with strategy.scope():\n",
        "    model6 = create_BertForSequenceClassification()\n",
        "    optimizer6 = tf.keras.optimizers.Adam(learning_rate=2e-5)\n",
        "    model6.compile(optimizer=optimizer6, loss='categorical_crossentropy', metrics=['accuracy'])\n",
        "else:\n",
        "  model6 = create_BertForSequenceClassification()\n",
        "  model6.compile(optimizer='adam',\n",
        "              loss='categorical_crossentropy',\n",
        "              metrics=['accuracy'])\n"
      ]
    },
    {
      "cell_type": "code",
      "execution_count": null,
      "metadata": {
        "colab": {
          "base_uri": "https://localhost:8080/"
        },
        "outputId": "3ade118d-5ea9-4174-fec3-3472fe1a6cbd",
        "id": "TKW4VQfX7DnA"
      },
      "outputs": [
        {
          "output_type": "stream",
          "name": "stdout",
          "text": [
            "Model: \"model_1\"\n",
            "__________________________________________________________________________________________________\n",
            " Layer (type)                   Output Shape         Param #     Connected to                     \n",
            "==================================================================================================\n",
            " input_token (InputLayer)       [(None, 128)]        0           []                               \n",
            "                                                                                                  \n",
            " masked_token (InputLayer)      [(None, 128)]        0           []                               \n",
            "                                                                                                  \n",
            " tf_bert_for_sequence_classific  TFSequenceClassifie  109486854  ['input_token[0][0]',            \n",
            " ation (TFBertForSequenceClassi  rOutput(loss=None,               'masked_token[0][0]']           \n",
            " fication)                      logits=(None, 6),                                                 \n",
            "                                 hidden_states=None                                               \n",
            "                                , attentions=None)                                                \n",
            "                                                                                                  \n",
            "==================================================================================================\n",
            "Total params: 109,486,854\n",
            "Trainable params: 109,486,854\n",
            "Non-trainable params: 0\n",
            "__________________________________________________________________________________________________\n"
          ]
        }
      ],
      "source": [
        "model6.summary()"
      ]
    },
    {
      "cell_type": "code",
      "execution_count": null,
      "metadata": {
        "colab": {
          "base_uri": "https://localhost:8080/",
          "height": 1000
        },
        "outputId": "8bf84d6c-d2bb-4972-dc42-59283462e054",
        "id": "gMkJ5ew97DnA"
      },
      "outputs": [
        {
          "output_type": "stream",
          "name": "stdout",
          "text": [
            "Epoch 1/10\n",
            "344/344 [==============================] - 121s 93ms/step - loss: 4.9035 - accuracy: 0.0786 - val_loss: 5.4586 - val_accuracy: 0.0640\n",
            "Epoch 2/10\n",
            "344/344 [==============================] - 25s 74ms/step - loss: 7.8091 - accuracy: 0.0764 - val_loss: 6.3174 - val_accuracy: 0.0785\n",
            "Epoch 3/10\n",
            "344/344 [==============================] - 26s 75ms/step - loss: 7.5334 - accuracy: 0.1044 - val_loss: 10.5362 - val_accuracy: 0.1206\n",
            "Epoch 4/10\n",
            "344/344 [==============================] - 26s 76ms/step - loss: 6.9964 - accuracy: 0.0975 - val_loss: 11.2285 - val_accuracy: 0.0625\n",
            "Epoch 5/10\n",
            "344/344 [==============================] - 26s 75ms/step - loss: 8.4831 - accuracy: 0.0910 - val_loss: 9.6818 - val_accuracy: 0.1206\n",
            "Epoch 6/10\n",
            "344/344 [==============================] - 26s 74ms/step - loss: 7.6797 - accuracy: 0.1070 - val_loss: 10.9640 - val_accuracy: 0.1206\n",
            "Epoch 7/10\n",
            "344/344 [==============================] - 26s 75ms/step - loss: 9.2329 - accuracy: 0.1088 - val_loss: 11.1749 - val_accuracy: 0.1192\n",
            "Epoch 8/10\n",
            "344/344 [==============================] - 26s 74ms/step - loss: 9.3438 - accuracy: 0.1023 - val_loss: 11.1749 - val_accuracy: 0.1192\n",
            "Epoch 9/10\n",
            "344/344 [==============================] - 26s 74ms/step - loss: 8.7865 - accuracy: 0.1008 - val_loss: 11.0812 - val_accuracy: 0.1192\n",
            "Epoch 10/10\n",
            "344/344 [==============================] - 26s 74ms/step - loss: 8.4699 - accuracy: 0.1004 - val_loss: 8.1527 - val_accuracy: 0.1177\n"
          ]
        },
        {
          "output_type": "stream",
          "name": "stderr",
          "text": [
            "/usr/local/lib/python3.7/dist-packages/sklearn/metrics/_classification.py:1318: UndefinedMetricWarning: Precision and F-score are ill-defined and being set to 0.0 in labels with no predicted samples. Use `zero_division` parameter to control this behavior.\n",
            "  _warn_prf(average, modifier, msg_start, len(result))\n",
            "/usr/local/lib/python3.7/dist-packages/sklearn/metrics/_classification.py:1318: UndefinedMetricWarning: Precision and F-score are ill-defined and being set to 0.0 in labels with no predicted samples. Use `zero_division` parameter to control this behavior.\n",
            "  _warn_prf(average, modifier, msg_start, len(result))\n",
            "/usr/local/lib/python3.7/dist-packages/sklearn/metrics/_classification.py:1318: UndefinedMetricWarning: Precision and F-score are ill-defined and being set to 0.0 in labels with no predicted samples. Use `zero_division` parameter to control this behavior.\n",
            "  _warn_prf(average, modifier, msg_start, len(result))\n"
          ]
        },
        {
          "output_type": "stream",
          "name": "stdout",
          "text": [
            "              precision    recall  f1-score   support\n",
            "\n",
            "           0     0.0625    0.0140    0.0228       215\n",
            "           1     0.0000    0.0000    0.0000       198\n",
            "           2     0.0000    0.0000    0.0000       150\n",
            "           3     0.0000    0.0000    0.0000       262\n",
            "           4     0.1495    0.9700    0.2591       333\n",
            "           5     0.0000    0.0000    0.0000      1050\n",
            "\n",
            "    accuracy                         0.1476      2208\n",
            "   macro avg     0.0353    0.1640    0.0470      2208\n",
            "weighted avg     0.0286    0.1476    0.0413      2208\n",
            "\n"
          ]
        },
        {
          "output_type": "display_data",
          "data": {
            "text/plain": [
              "<Figure size 360x360 with 1 Axes>"
            ],
            "image/png": "[encoded data removed]"
          },
          "metadata": {
            "needs_background": "light"
          }
        }
      ],
      "source": [
        "history = model6.fit([x_train2_int_np,x_train2_mask_np],\n",
        "                    y_train2,\n",
        "                    epochs=10,\n",
        "                    batch_size=8,\n",
        "                    validation_data=([x_val2_int_np,x_val2_mask_np], y_val2),\n",
        "                    verbose=1)\n",
        "\n",
        "y_pred6 = model6.predict([x_test2_int_np,x_test2_mask_np],batch_size=512)\n",
        "\n",
        "from sklearn.metrics import classification_report, accuracy_score\n",
        "y_pred6_bool = np.argmax(y_pred6.logits, axis=1)\n",
        "print(classification_report(np.argmax(y_test2, axis=1), y_pred6_bool,digits=4))\n",
        "#print(\"Accuracy: \" + str(accuracy_score(y_test1, y_pred6_bool)))\n",
        "\n",
        "# Build the confusion matrix off these predictions\n",
        "import seaborn as sns\n",
        "from sklearn.metrics import confusion_matrix\n",
        "import pandas as pd\n",
        "matrix = confusion_matrix(np.argmax(y_test2, axis=1), y_pred6_bool)\n",
        "fig, ax = plt.subplots(figsize=(5,5))\n",
        "plot = sns.heatmap(matrix, square=True, annot=True, cmap='Blues', fmt='d', cbar=False, linewidths=10, ax=ax, annot_kws={\"size\":10},xticklabels=['non-sexist','ideological-inequality','stereotyping-dominance','objectification', 'sexual-violence', 'misogyny-non-sexual-violence'], yticklabels=['non-sexist','ideological-inequality','stereotyping-dominance','objectification', 'sexual-violence', 'misogyny-non-sexual-violence'])\n",
        "plot.set_title('Confusion Matrix\\n\\n');\n",
        "plot.set_xlabel('\\nPrediction')\n",
        "plot.set_ylabel('\\nTruth');"
      ]
    },
    {
      "cell_type": "markdown",
      "metadata": {
        "id": "NDgm0qvz-p4g"
      },
      "source": [
        "# Model7 - BERT + NBOW"
      ]
    },
    {
      "cell_type": "code",
      "execution_count": null,
      "metadata": {
        "id": "qoZ-El_y-p4h"
      },
      "outputs": [],
      "source": [
        "class GlobalAveragePooling1DMasked(GlobalAveragePooling1D):\n",
        "    def call(self, x, mask=None):\n",
        "        if mask != None:\n",
        "            return K.sum(x, axis=1) / K.sum(mask, axis=1)\n",
        "        else:\n",
        "            return super().call(x)"
      ]
    },
    {
      "cell_type": "code",
      "execution_count": null,
      "metadata": {
        "id": "rEYLjXZ8-p4h"
      },
      "outputs": [],
      "source": [
        "from transformers import TFBertModel, BertConfig\n",
        "\n",
        "def get_BERT_layer():\n",
        "  bert = 'bert-base-uncased'\n",
        "  config = BertConfig(dropout=0.2, attention_dropout=0.2)\n",
        "  config.output_hidden_states = False\n",
        "  return TFBertModel.from_pretrained(bert, config = config)\n"
      ]
    },
    {
      "cell_type": "code",
      "execution_count": null,
      "metadata": {
        "colab": {
          "base_uri": "https://localhost:8080/"
        },
        "outputId": "c69448e1-b7c2-4d0b-c371-f3884654933b",
        "id": "M8lDyOdm-p4h"
      },
      "outputs": [
        {
          "output_type": "stream",
          "name": "stdout",
          "text": [
            "INFO:tensorflow:Deallocate tpu buffers before initializing tpu system.\n"
          ]
        },
        {
          "output_type": "stream",
          "name": "stderr",
          "text": [
            "INFO:tensorflow:Deallocate tpu buffers before initializing tpu system.\n"
          ]
        },
        {
          "output_type": "stream",
          "name": "stdout",
          "text": [
            "WARNING:tensorflow:TPU system grpc://10.122.89.50:8470 has already been initialized. Reinitializing the TPU can cause previously created variables on TPU to be lost.\n"
          ]
        },
        {
          "output_type": "stream",
          "name": "stderr",
          "text": [
            "WARNING:tensorflow:TPU system grpc://10.122.89.50:8470 has already been initialized. Reinitializing the TPU can cause previously created variables on TPU to be lost.\n"
          ]
        },
        {
          "output_type": "stream",
          "name": "stdout",
          "text": [
            "INFO:tensorflow:Initializing the TPU system: grpc://10.122.89.50:8470\n"
          ]
        },
        {
          "output_type": "stream",
          "name": "stderr",
          "text": [
            "INFO:tensorflow:Initializing the TPU system: grpc://10.122.89.50:8470\n"
          ]
        },
        {
          "output_type": "stream",
          "name": "stdout",
          "text": [
            "INFO:tensorflow:Finished initializing TPU system.\n"
          ]
        },
        {
          "output_type": "stream",
          "name": "stderr",
          "text": [
            "INFO:tensorflow:Finished initializing TPU system.\n",
            "WARNING:absl:`tf.distribute.experimental.TPUStrategy` is deprecated, please use  the non experimental symbol `tf.distribute.TPUStrategy` instead.\n"
          ]
        },
        {
          "output_type": "stream",
          "name": "stdout",
          "text": [
            "INFO:tensorflow:Found TPU system:\n"
          ]
        },
        {
          "output_type": "stream",
          "name": "stderr",
          "text": [
            "INFO:tensorflow:Found TPU system:\n"
          ]
        },
        {
          "output_type": "stream",
          "name": "stdout",
          "text": [
            "INFO:tensorflow:*** Num TPU Cores: 8\n"
          ]
        },
        {
          "output_type": "stream",
          "name": "stderr",
          "text": [
            "INFO:tensorflow:*** Num TPU Cores: 8\n"
          ]
        },
        {
          "output_type": "stream",
          "name": "stdout",
          "text": [
            "INFO:tensorflow:*** Num TPU Workers: 1\n"
          ]
        },
        {
          "output_type": "stream",
          "name": "stderr",
          "text": [
            "INFO:tensorflow:*** Num TPU Workers: 1\n"
          ]
        },
        {
          "output_type": "stream",
          "name": "stdout",
          "text": [
            "INFO:tensorflow:*** Num TPU Cores Per Worker: 8\n"
          ]
        },
        {
          "output_type": "stream",
          "name": "stderr",
          "text": [
            "INFO:tensorflow:*** Num TPU Cores Per Worker: 8\n"
          ]
        },
        {
          "output_type": "stream",
          "name": "stdout",
          "text": [
            "INFO:tensorflow:*** Available Device: _DeviceAttributes(/job:localhost/replica:0/task:0/device:CPU:0, CPU, 0, 0)\n"
          ]
        },
        {
          "output_type": "stream",
          "name": "stderr",
          "text": [
            "INFO:tensorflow:*** Available Device: _DeviceAttributes(/job:localhost/replica:0/task:0/device:CPU:0, CPU, 0, 0)\n"
          ]
        },
        {
          "output_type": "stream",
          "name": "stdout",
          "text": [
            "INFO:tensorflow:*** Available Device: _DeviceAttributes(/job:worker/replica:0/task:0/device:CPU:0, CPU, 0, 0)\n"
          ]
        },
        {
          "output_type": "stream",
          "name": "stderr",
          "text": [
            "INFO:tensorflow:*** Available Device: _DeviceAttributes(/job:worker/replica:0/task:0/device:CPU:0, CPU, 0, 0)\n"
          ]
        },
        {
          "output_type": "stream",
          "name": "stdout",
          "text": [
            "INFO:tensorflow:*** Available Device: _DeviceAttributes(/job:worker/replica:0/task:0/device:TPU:0, TPU, 0, 0)\n"
          ]
        },
        {
          "output_type": "stream",
          "name": "stderr",
          "text": [
            "INFO:tensorflow:*** Available Device: _DeviceAttributes(/job:worker/replica:0/task:0/device:TPU:0, TPU, 0, 0)\n"
          ]
        },
        {
          "output_type": "stream",
          "name": "stdout",
          "text": [
            "INFO:tensorflow:*** Available Device: _DeviceAttributes(/job:worker/replica:0/task:0/device:TPU:1, TPU, 0, 0)\n"
          ]
        },
        {
          "output_type": "stream",
          "name": "stderr",
          "text": [
            "INFO:tensorflow:*** Available Device: _DeviceAttributes(/job:worker/replica:0/task:0/device:TPU:1, TPU, 0, 0)\n"
          ]
        },
        {
          "output_type": "stream",
          "name": "stdout",
          "text": [
            "INFO:tensorflow:*** Available Device: _DeviceAttributes(/job:worker/replica:0/task:0/device:TPU:2, TPU, 0, 0)\n"
          ]
        },
        {
          "output_type": "stream",
          "name": "stderr",
          "text": [
            "INFO:tensorflow:*** Available Device: _DeviceAttributes(/job:worker/replica:0/task:0/device:TPU:2, TPU, 0, 0)\n"
          ]
        },
        {
          "output_type": "stream",
          "name": "stdout",
          "text": [
            "INFO:tensorflow:*** Available Device: _DeviceAttributes(/job:worker/replica:0/task:0/device:TPU:3, TPU, 0, 0)\n"
          ]
        },
        {
          "output_type": "stream",
          "name": "stderr",
          "text": [
            "INFO:tensorflow:*** Available Device: _DeviceAttributes(/job:worker/replica:0/task:0/device:TPU:3, TPU, 0, 0)\n"
          ]
        },
        {
          "output_type": "stream",
          "name": "stdout",
          "text": [
            "INFO:tensorflow:*** Available Device: _DeviceAttributes(/job:worker/replica:0/task:0/device:TPU:4, TPU, 0, 0)\n"
          ]
        },
        {
          "output_type": "stream",
          "name": "stderr",
          "text": [
            "INFO:tensorflow:*** Available Device: _DeviceAttributes(/job:worker/replica:0/task:0/device:TPU:4, TPU, 0, 0)\n"
          ]
        },
        {
          "output_type": "stream",
          "name": "stdout",
          "text": [
            "INFO:tensorflow:*** Available Device: _DeviceAttributes(/job:worker/replica:0/task:0/device:TPU:5, TPU, 0, 0)\n"
          ]
        },
        {
          "output_type": "stream",
          "name": "stderr",
          "text": [
            "INFO:tensorflow:*** Available Device: _DeviceAttributes(/job:worker/replica:0/task:0/device:TPU:5, TPU, 0, 0)\n"
          ]
        },
        {
          "output_type": "stream",
          "name": "stdout",
          "text": [
            "INFO:tensorflow:*** Available Device: _DeviceAttributes(/job:worker/replica:0/task:0/device:TPU:6, TPU, 0, 0)\n"
          ]
        },
        {
          "output_type": "stream",
          "name": "stderr",
          "text": [
            "INFO:tensorflow:*** Available Device: _DeviceAttributes(/job:worker/replica:0/task:0/device:TPU:6, TPU, 0, 0)\n"
          ]
        },
        {
          "output_type": "stream",
          "name": "stdout",
          "text": [
            "INFO:tensorflow:*** Available Device: _DeviceAttributes(/job:worker/replica:0/task:0/device:TPU:7, TPU, 0, 0)\n"
          ]
        },
        {
          "output_type": "stream",
          "name": "stderr",
          "text": [
            "INFO:tensorflow:*** Available Device: _DeviceAttributes(/job:worker/replica:0/task:0/device:TPU:7, TPU, 0, 0)\n"
          ]
        },
        {
          "output_type": "stream",
          "name": "stdout",
          "text": [
            "INFO:tensorflow:*** Available Device: _DeviceAttributes(/job:worker/replica:0/task:0/device:TPU_SYSTEM:0, TPU_SYSTEM, 0, 0)\n"
          ]
        },
        {
          "output_type": "stream",
          "name": "stderr",
          "text": [
            "INFO:tensorflow:*** Available Device: _DeviceAttributes(/job:worker/replica:0/task:0/device:TPU_SYSTEM:0, TPU_SYSTEM, 0, 0)\n"
          ]
        },
        {
          "output_type": "stream",
          "name": "stdout",
          "text": [
            "INFO:tensorflow:*** Available Device: _DeviceAttributes(/job:worker/replica:0/task:0/device:XLA_CPU:0, XLA_CPU, 0, 0)\n"
          ]
        },
        {
          "output_type": "stream",
          "name": "stderr",
          "text": [
            "INFO:tensorflow:*** Available Device: _DeviceAttributes(/job:worker/replica:0/task:0/device:XLA_CPU:0, XLA_CPU, 0, 0)\n",
            "Some layers from the model checkpoint at distilbert-base-uncased were not used when initializing TFDistilBertModel: ['vocab_layer_norm', 'vocab_projector', 'activation_13', 'vocab_transform']\n",
            "- This IS expected if you are initializing TFDistilBertModel from the checkpoint of a model trained on another task or with another architecture (e.g. initializing a BertForSequenceClassification model from a BertForPreTraining model).\n",
            "- This IS NOT expected if you are initializing TFDistilBertModel from the checkpoint of a model that you expect to be exactly identical (initializing a BertForSequenceClassification model from a BertForSequenceClassification model).\n",
            "All the layers of TFDistilBertModel were initialized from the model checkpoint at distilbert-base-uncased.\n",
            "If your task is similar to the task the model of the checkpoint was trained on, you can already use TFDistilBertModel for predictions without further training.\n"
          ]
        },
        {
          "output_type": "stream",
          "name": "stdout",
          "text": [
            "Model: \"Model7_BERT\"\n",
            "__________________________________________________________________________________________________\n",
            " Layer (type)                   Output Shape         Param #     Connected to                     \n",
            "==================================================================================================\n",
            " input_token (InputLayer)       [(None, 128)]        0           []                               \n",
            "                                                                                                  \n",
            " masked_token (InputLayer)      [(None, 128)]        0           []                               \n",
            "                                                                                                  \n",
            " tf_distil_bert_model_3 (TFDist  TFBaseModelOutput(l  66362880   ['input_token[0][0]',            \n",
            " ilBertModel)                   ast_hidden_state=(N               'masked_token[0][0]']           \n",
            "                                one, 128, 768),                                                   \n",
            "                                 hidden_states=None                                               \n",
            "                                , attentions=None)                                                \n",
            "                                                                                                  \n",
            " global_average_pooling1d_maske  (None, 768)         0           ['tf_distil_bert_model_3[0][0]'] \n",
            " d_8 (GlobalAveragePooling1DMas                                                                   \n",
            " ked)                                                                                             \n",
            "                                                                                                  \n",
            " dense_4 (Dense)                (None, 50)           38450       ['global_average_pooling1d_masked\n",
            "                                                                 _8[0][0]']                       \n",
            "                                                                                                  \n",
            " dense_5 (Dense)                (None, 6)            306         ['dense_4[0][0]']                \n",
            "                                                                                                  \n",
            "==================================================================================================\n",
            "Total params: 66,401,636\n",
            "Trainable params: 66,401,636\n",
            "Non-trainable params: 0\n",
            "__________________________________________________________________________________________________\n"
          ]
        }
      ],
      "source": [
        "import tensorflow as tf\n",
        "hdepth=50\n",
        "MAX_SEQUENCE_LENGTH = 128\n",
        "EMBED_SIZE=100\n",
        "\n",
        "\n",
        "def create_bag_of_words_BERT():\n",
        "  input_ids_in = tf.keras.layers.Input(shape=(128,), name='input_token', dtype='int32')\n",
        "  input_masks_in = tf.keras.layers.Input(shape=(128,), name='masked_token', dtype='int32') \n",
        "  bert_embeddings = get_BERT_layer()\n",
        "  embedded_sent = bert_embeddings(input_ids_in, attention_mask=input_masks_in)[0]\n",
        "  pooled_sent=GlobalAveragePooling1DMasked()(embedded_sent)\n",
        "  hidden_output=Dense(hdepth,input_shape=(MAX_SEQUENCE_LENGTH,EMBED_SIZE),activation='sigmoid',kernel_initializer='glorot_uniform')(pooled_sent) # Sigmoid\n",
        "  label=Dense(6,input_shape=(hdepth,),activation='softmax',kernel_initializer='glorot_uniform')(hidden_output)\n",
        "  return Model(inputs=[input_ids_in,input_masks_in], outputs=[label],name='Model7_BERT')\n",
        "\n",
        "use_tpu = True\n",
        "if use_tpu:\n",
        "  # Create distribution strategy\n",
        "  tpu = tf.distribute.cluster_resolver.TPUClusterResolver()\n",
        "  tf.config.experimental_connect_to_cluster(tpu)\n",
        "  tf.tpu.experimental.initialize_tpu_system(tpu)\n",
        "  strategy = tf.distribute.experimental.TPUStrategy(tpu)\n",
        "\n",
        "  # Create model\n",
        "  with strategy.scope():\n",
        "    model7 = create_bag_of_words_BERT()\n",
        "    optimizer7 = tf.keras.optimizers.Adam(learning_rate=2e-5)\n",
        "    model7.compile(optimizer=optimizer7, loss='categorical_crossentropy', metrics=['accuracy'])\n",
        "else:\n",
        "  model7 = create_bag_of_words_BERT()\n",
        "  model7.compile(optimizer='adam',\n",
        "              loss='categorical_crossentropy',\n",
        "              metrics=['accuracy'])\n",
        "\n",
        "model7.summary()"
      ]
    },
    {
      "cell_type": "code",
      "source": [
        "history = model7.fit([x_train2_int_np,x_train2_mask_np],\n",
        "                    y_train2,\n",
        "                    epochs=10,\n",
        "                    batch_size=8,\n",
        "                    validation_data=([x_val2_int_np,x_val2_mask_np], y_val2),\n",
        "                    verbose=1)"
      ],
      "metadata": {
        "colab": {
          "base_uri": "https://localhost:8080/"
        },
        "id": "ItuSacGBnBvX",
        "outputId": "0961142c-9997-4a4c-a7ff-5d7ac8ee344d"
      },
      "execution_count": null,
      "outputs": [
        {
          "output_type": "stream",
          "name": "stdout",
          "text": [
            "Epoch 1/10\n",
            "344/344 [==============================] - 76s 60ms/step - loss: 1.1886 - accuracy: 0.5862 - val_loss: 0.9546 - val_accuracy: 0.6424\n",
            "Epoch 2/10\n",
            "344/344 [==============================] - 18s 51ms/step - loss: 0.8737 - accuracy: 0.6812 - val_loss: 0.9049 - val_accuracy: 0.6584\n",
            "Epoch 3/10\n",
            "344/344 [==============================] - 17s 50ms/step - loss: 0.6731 - accuracy: 0.7697 - val_loss: 0.8873 - val_accuracy: 0.6701\n",
            "Epoch 4/10\n",
            "344/344 [==============================] - 17s 50ms/step - loss: 0.4931 - accuracy: 0.8453 - val_loss: 0.9441 - val_accuracy: 0.6599\n",
            "Epoch 5/10\n",
            "344/344 [==============================] - 17s 50ms/step - loss: 0.3593 - accuracy: 0.8967 - val_loss: 0.9983 - val_accuracy: 0.6497\n",
            "Epoch 6/10\n",
            "344/344 [==============================] - 17s 50ms/step - loss: 0.2684 - accuracy: 0.9367 - val_loss: 1.0723 - val_accuracy: 0.6613\n",
            "Epoch 7/10\n",
            "344/344 [==============================] - 17s 50ms/step - loss: 0.2166 - accuracy: 0.9491 - val_loss: 1.0989 - val_accuracy: 0.6483\n",
            "Epoch 8/10\n",
            "344/344 [==============================] - 17s 50ms/step - loss: 0.1655 - accuracy: 0.9698 - val_loss: 1.1188 - val_accuracy: 0.6526\n",
            "Epoch 9/10\n",
            "344/344 [==============================] - 17s 50ms/step - loss: 0.1404 - accuracy: 0.9749 - val_loss: 1.1546 - val_accuracy: 0.6642\n",
            "Epoch 10/10\n",
            "344/344 [==============================] - 17s 49ms/step - loss: 0.1345 - accuracy: 0.9727 - val_loss: 1.2138 - val_accuracy: 0.6352\n"
          ]
        }
      ]
    },
    {
      "cell_type": "code",
      "execution_count": null,
      "metadata": {
        "colab": {
          "base_uri": "https://localhost:8080/",
          "height": 759
        },
        "outputId": "912dddae-d0e5-48f9-8a43-820ff84d23b9",
        "id": "5n0bHTSa-p4i"
      },
      "outputs": [
        {
          "output_type": "stream",
          "name": "stdout",
          "text": [
            "              precision    recall  f1-score   support\n",
            "\n",
            "           0     0.3750    0.3628    0.3688       215\n",
            "           1     0.4330    0.5707    0.4924       198\n",
            "           2     0.3237    0.5200    0.3990       150\n",
            "           3     0.4751    0.3282    0.3883       262\n",
            "           4     0.6280    0.5526    0.5879       333\n",
            "           5     0.7256    0.7076    0.7165      1050\n",
            "\n",
            "    accuracy                         0.5806      2208\n",
            "   macro avg     0.4934    0.5070    0.4921      2208\n",
            "weighted avg     0.5935    0.5806    0.5826      2208\n",
            "\n"
          ]
        },
        {
          "output_type": "display_data",
          "data": {
            "text/plain": [
              "<Figure size 360x360 with 1 Axes>"
            ],
            "image/png": "[encoded data removed]"
          },
          "metadata": {
            "needs_background": "light"
          }
        }
      ],
      "source": [
        "y_pred7 = model7.predict([x_test2_int_np,x_test2_mask_np],batch_size=512)\n",
        "\n",
        "from sklearn.metrics import classification_report, accuracy_score\n",
        "y_pred7_bool = np.argmax(y_pred7, axis=1)\n",
        "print(classification_report(np.argmax(y_test2, axis=1), y_pred7_bool,digits=4))\n",
        "#print(\"Accuracy: \" + str(accuracy_score(y_test1, y_pred7_bool)))\n",
        "\n",
        "# Build the confusion matrix off these predictions\n",
        "import seaborn as sns\n",
        "from sklearn.metrics import confusion_matrix\n",
        "import pandas as pd\n",
        "matrix = confusion_matrix(np.argmax(y_test2, axis=1), y_pred7_bool)\n",
        "fig, ax = plt.subplots(figsize=(5,5))\n",
        "plot = sns.heatmap(matrix, square=True, annot=True, cmap='Blues', fmt='d', cbar=False, linewidths=10, ax=ax, annot_kws={\"size\":10},xticklabels=['non-sexist','ideological-inequality','stereotyping-dominance','objectification', 'sexual-violence', 'misogyny-non-sexual-violence'], yticklabels=['non-sexist','ideological-inequality','stereotyping-dominance','objectification', 'sexual-violence', 'misogyny-non-sexual-violence'])\n",
        "plot.set_title('Confusion Matrix\\n\\n');\n",
        "plot.set_xlabel('\\nPrediction')\n",
        "plot.set_ylabel('\\nTruth');"
      ]
    },
    {
      "cell_type": "code",
      "source": [
        ""
      ],
      "metadata": {
        "id": "lBxjDpTXdAMj"
      },
      "execution_count": null,
      "outputs": []
    },
    {
      "cell_type": "markdown",
      "source": [
        "# Model 8 - BERT + LSTM"
      ],
      "metadata": {
        "id": "LUh5J2hwmbgH"
      }
    },
    {
      "cell_type": "code",
      "source": [
        "import tensorflow as tf\n",
        "EMBED_SIZE = 100\n",
        "hidden_layer = 50\n",
        "\n",
        "def lstm():\n",
        "  input_ids_in = tf.keras.layers.Input(shape=(128,), name='input_token', dtype='int32')\n",
        "  input_masks_in = tf.keras.layers.Input(shape=(128,), name='masked_token', dtype='int32') \n",
        "\n",
        "  bert_embeddings = get_BERT_layer()\n",
        "  embedded_sent = bert_embeddings(input_ids_in, attention_mask=input_masks_in)[0]\n",
        "\n",
        "  LSTM_sent=LSTM(100,name='LSTM')(embedded_sent)                             # LSTM\n",
        "  hidden_output=Dense(50,input_shape=(EMBED_SIZE,),activation='sigmoid',kernel_initializer='glorot_uniform',name='Hidden_1')(LSTM_sent)\n",
        "  label=Dense(6,input_shape=(hidden_layer,),activation='softmax',kernel_initializer='glorot_uniform',name='Output')(hidden_output)\n",
        "  #label=Dense(3,input_shape=(EMBED_SIZE,),activation='softmax',kernel_initializer='glorot_uniform',name='Output')(LSTM_sent)\n",
        "  return Model(inputs=[input_ids_in,input_masks_in], outputs=[label],name='Model8_LSTM')\n",
        "\n",
        "use_tpu = True\n",
        "if use_tpu:\n",
        "  # Create distribution strategy\n",
        "  tpu = tf.distribute.cluster_resolver.TPUClusterResolver()\n",
        "  tf.config.experimental_connect_to_cluster(tpu)\n",
        "  tf.tpu.experimental.initialize_tpu_system(tpu)\n",
        "  strategy = tf.distribute.experimental.TPUStrategy(tpu)\n",
        "\n",
        "  # Create model\n",
        "  with strategy.scope():\n",
        "    model8 = lstm()\n",
        "    optimizer8 = tf.keras.optimizers.Adam(learning_rate=2e-5)\n",
        "    model8.compile(optimizer=optimizer8, loss='categorical_crossentropy', metrics=['accuracy'])\n",
        "else:\n",
        "  model8 = create_bag_of_words_BERT()\n",
        "  model8.compile(optimizer='adam',\n",
        "              loss='categorical_crossentropy',\n",
        "              metrics=['accuracy'])\n",
        "\n",
        "model8.summary()"
      ],
      "metadata": {
        "colab": {
          "base_uri": "https://localhost:8080/"
        },
        "id": "ns1aKaJAwN01",
        "outputId": "c4213059-8f66-4bb1-f4fc-bc30d4c4b7a2"
      },
      "execution_count": null,
      "outputs": [
        {
          "output_type": "stream",
          "name": "stdout",
          "text": [
            "INFO:tensorflow:Deallocate tpu buffers before initializing tpu system.\n"
          ]
        },
        {
          "output_type": "stream",
          "name": "stderr",
          "text": [
            "INFO:tensorflow:Deallocate tpu buffers before initializing tpu system.\n"
          ]
        },
        {
          "output_type": "stream",
          "name": "stdout",
          "text": [
            "WARNING:tensorflow:TPU system grpc://10.122.89.50:8470 has already been initialized. Reinitializing the TPU can cause previously created variables on TPU to be lost.\n"
          ]
        },
        {
          "output_type": "stream",
          "name": "stderr",
          "text": [
            "WARNING:tensorflow:TPU system grpc://10.122.89.50:8470 has already been initialized. Reinitializing the TPU can cause previously created variables on TPU to be lost.\n"
          ]
        },
        {
          "output_type": "stream",
          "name": "stdout",
          "text": [
            "INFO:tensorflow:Initializing the TPU system: grpc://10.122.89.50:8470\n"
          ]
        },
        {
          "output_type": "stream",
          "name": "stderr",
          "text": [
            "INFO:tensorflow:Initializing the TPU system: grpc://10.122.89.50:8470\n"
          ]
        },
        {
          "output_type": "stream",
          "name": "stdout",
          "text": [
            "INFO:tensorflow:Finished initializing TPU system.\n"
          ]
        },
        {
          "output_type": "stream",
          "name": "stderr",
          "text": [
            "INFO:tensorflow:Finished initializing TPU system.\n",
            "WARNING:absl:`tf.distribute.experimental.TPUStrategy` is deprecated, please use  the non experimental symbol `tf.distribute.TPUStrategy` instead.\n"
          ]
        },
        {
          "output_type": "stream",
          "name": "stdout",
          "text": [
            "INFO:tensorflow:Found TPU system:\n"
          ]
        },
        {
          "output_type": "stream",
          "name": "stderr",
          "text": [
            "INFO:tensorflow:Found TPU system:\n"
          ]
        },
        {
          "output_type": "stream",
          "name": "stdout",
          "text": [
            "INFO:tensorflow:*** Num TPU Cores: 8\n"
          ]
        },
        {
          "output_type": "stream",
          "name": "stderr",
          "text": [
            "INFO:tensorflow:*** Num TPU Cores: 8\n"
          ]
        },
        {
          "output_type": "stream",
          "name": "stdout",
          "text": [
            "INFO:tensorflow:*** Num TPU Workers: 1\n"
          ]
        },
        {
          "output_type": "stream",
          "name": "stderr",
          "text": [
            "INFO:tensorflow:*** Num TPU Workers: 1\n"
          ]
        },
        {
          "output_type": "stream",
          "name": "stdout",
          "text": [
            "INFO:tensorflow:*** Num TPU Cores Per Worker: 8\n"
          ]
        },
        {
          "output_type": "stream",
          "name": "stderr",
          "text": [
            "INFO:tensorflow:*** Num TPU Cores Per Worker: 8\n"
          ]
        },
        {
          "output_type": "stream",
          "name": "stdout",
          "text": [
            "INFO:tensorflow:*** Available Device: _DeviceAttributes(/job:localhost/replica:0/task:0/device:CPU:0, CPU, 0, 0)\n"
          ]
        },
        {
          "output_type": "stream",
          "name": "stderr",
          "text": [
            "INFO:tensorflow:*** Available Device: _DeviceAttributes(/job:localhost/replica:0/task:0/device:CPU:0, CPU, 0, 0)\n"
          ]
        },
        {
          "output_type": "stream",
          "name": "stdout",
          "text": [
            "INFO:tensorflow:*** Available Device: _DeviceAttributes(/job:worker/replica:0/task:0/device:CPU:0, CPU, 0, 0)\n"
          ]
        },
        {
          "output_type": "stream",
          "name": "stderr",
          "text": [
            "INFO:tensorflow:*** Available Device: _DeviceAttributes(/job:worker/replica:0/task:0/device:CPU:0, CPU, 0, 0)\n"
          ]
        },
        {
          "output_type": "stream",
          "name": "stdout",
          "text": [
            "INFO:tensorflow:*** Available Device: _DeviceAttributes(/job:worker/replica:0/task:0/device:TPU:0, TPU, 0, 0)\n"
          ]
        },
        {
          "output_type": "stream",
          "name": "stderr",
          "text": [
            "INFO:tensorflow:*** Available Device: _DeviceAttributes(/job:worker/replica:0/task:0/device:TPU:0, TPU, 0, 0)\n"
          ]
        },
        {
          "output_type": "stream",
          "name": "stdout",
          "text": [
            "INFO:tensorflow:*** Available Device: _DeviceAttributes(/job:worker/replica:0/task:0/device:TPU:1, TPU, 0, 0)\n"
          ]
        },
        {
          "output_type": "stream",
          "name": "stderr",
          "text": [
            "INFO:tensorflow:*** Available Device: _DeviceAttributes(/job:worker/replica:0/task:0/device:TPU:1, TPU, 0, 0)\n"
          ]
        },
        {
          "output_type": "stream",
          "name": "stdout",
          "text": [
            "INFO:tensorflow:*** Available Device: _DeviceAttributes(/job:worker/replica:0/task:0/device:TPU:2, TPU, 0, 0)\n"
          ]
        },
        {
          "output_type": "stream",
          "name": "stderr",
          "text": [
            "INFO:tensorflow:*** Available Device: _DeviceAttributes(/job:worker/replica:0/task:0/device:TPU:2, TPU, 0, 0)\n"
          ]
        },
        {
          "output_type": "stream",
          "name": "stdout",
          "text": [
            "INFO:tensorflow:*** Available Device: _DeviceAttributes(/job:worker/replica:0/task:0/device:TPU:3, TPU, 0, 0)\n"
          ]
        },
        {
          "output_type": "stream",
          "name": "stderr",
          "text": [
            "INFO:tensorflow:*** Available Device: _DeviceAttributes(/job:worker/replica:0/task:0/device:TPU:3, TPU, 0, 0)\n"
          ]
        },
        {
          "output_type": "stream",
          "name": "stdout",
          "text": [
            "INFO:tensorflow:*** Available Device: _DeviceAttributes(/job:worker/replica:0/task:0/device:TPU:4, TPU, 0, 0)\n"
          ]
        },
        {
          "output_type": "stream",
          "name": "stderr",
          "text": [
            "INFO:tensorflow:*** Available Device: _DeviceAttributes(/job:worker/replica:0/task:0/device:TPU:4, TPU, 0, 0)\n"
          ]
        },
        {
          "output_type": "stream",
          "name": "stdout",
          "text": [
            "INFO:tensorflow:*** Available Device: _DeviceAttributes(/job:worker/replica:0/task:0/device:TPU:5, TPU, 0, 0)\n"
          ]
        },
        {
          "output_type": "stream",
          "name": "stderr",
          "text": [
            "INFO:tensorflow:*** Available Device: _DeviceAttributes(/job:worker/replica:0/task:0/device:TPU:5, TPU, 0, 0)\n"
          ]
        },
        {
          "output_type": "stream",
          "name": "stdout",
          "text": [
            "INFO:tensorflow:*** Available Device: _DeviceAttributes(/job:worker/replica:0/task:0/device:TPU:6, TPU, 0, 0)\n"
          ]
        },
        {
          "output_type": "stream",
          "name": "stderr",
          "text": [
            "INFO:tensorflow:*** Available Device: _DeviceAttributes(/job:worker/replica:0/task:0/device:TPU:6, TPU, 0, 0)\n"
          ]
        },
        {
          "output_type": "stream",
          "name": "stdout",
          "text": [
            "INFO:tensorflow:*** Available Device: _DeviceAttributes(/job:worker/replica:0/task:0/device:TPU:7, TPU, 0, 0)\n"
          ]
        },
        {
          "output_type": "stream",
          "name": "stderr",
          "text": [
            "INFO:tensorflow:*** Available Device: _DeviceAttributes(/job:worker/replica:0/task:0/device:TPU:7, TPU, 0, 0)\n"
          ]
        },
        {
          "output_type": "stream",
          "name": "stdout",
          "text": [
            "INFO:tensorflow:*** Available Device: _DeviceAttributes(/job:worker/replica:0/task:0/device:TPU_SYSTEM:0, TPU_SYSTEM, 0, 0)\n"
          ]
        },
        {
          "output_type": "stream",
          "name": "stderr",
          "text": [
            "INFO:tensorflow:*** Available Device: _DeviceAttributes(/job:worker/replica:0/task:0/device:TPU_SYSTEM:0, TPU_SYSTEM, 0, 0)\n"
          ]
        },
        {
          "output_type": "stream",
          "name": "stdout",
          "text": [
            "INFO:tensorflow:*** Available Device: _DeviceAttributes(/job:worker/replica:0/task:0/device:XLA_CPU:0, XLA_CPU, 0, 0)\n"
          ]
        },
        {
          "output_type": "stream",
          "name": "stderr",
          "text": [
            "INFO:tensorflow:*** Available Device: _DeviceAttributes(/job:worker/replica:0/task:0/device:XLA_CPU:0, XLA_CPU, 0, 0)\n",
            "Some layers from the model checkpoint at distilbert-base-uncased were not used when initializing TFDistilBertModel: ['vocab_layer_norm', 'vocab_projector', 'activation_13', 'vocab_transform']\n",
            "- This IS expected if you are initializing TFDistilBertModel from the checkpoint of a model trained on another task or with another architecture (e.g. initializing a BertForSequenceClassification model from a BertForPreTraining model).\n",
            "- This IS NOT expected if you are initializing TFDistilBertModel from the checkpoint of a model that you expect to be exactly identical (initializing a BertForSequenceClassification model from a BertForSequenceClassification model).\n",
            "All the layers of TFDistilBertModel were initialized from the model checkpoint at distilbert-base-uncased.\n",
            "If your task is similar to the task the model of the checkpoint was trained on, you can already use TFDistilBertModel for predictions without further training.\n"
          ]
        },
        {
          "output_type": "stream",
          "name": "stdout",
          "text": [
            "Model: \"Model8_LSTM\"\n",
            "__________________________________________________________________________________________________\n",
            " Layer (type)                   Output Shape         Param #     Connected to                     \n",
            "==================================================================================================\n",
            " input_token (InputLayer)       [(None, 128)]        0           []                               \n",
            "                                                                                                  \n",
            " masked_token (InputLayer)      [(None, 128)]        0           []                               \n",
            "                                                                                                  \n",
            " tf_distil_bert_model_4 (TFDist  TFBaseModelOutput(l  66362880   ['input_token[0][0]',            \n",
            " ilBertModel)                   ast_hidden_state=(N               'masked_token[0][0]']           \n",
            "                                one, 128, 768),                                                   \n",
            "                                 hidden_states=None                                               \n",
            "                                , attentions=None)                                                \n",
            "                                                                                                  \n",
            " LSTM (LSTM)                    (None, 100)          347600      ['tf_distil_bert_model_4[0][0]'] \n",
            "                                                                                                  \n",
            " Hidden_1 (Dense)               (None, 50)           5050        ['LSTM[0][0]']                   \n",
            "                                                                                                  \n",
            " Output (Dense)                 (None, 6)            306         ['Hidden_1[0][0]']               \n",
            "                                                                                                  \n",
            "==================================================================================================\n",
            "Total params: 66,715,836\n",
            "Trainable params: 66,715,836\n",
            "Non-trainable params: 0\n",
            "__________________________________________________________________________________________________\n"
          ]
        }
      ]
    },
    {
      "cell_type": "code",
      "source": [
        "history = model8.fit([x_train2_int_np,x_train2_mask_np],\n",
        "                    y_train2,\n",
        "                    epochs=10,\n",
        "                    batch_size=8,\n",
        "                    validation_data=([x_val2_int_np,x_val2_mask_np], y_val2),\n",
        "                    verbose=1)"
      ],
      "metadata": {
        "colab": {
          "base_uri": "https://localhost:8080/"
        },
        "id": "l-YKAdTpwN3e",
        "outputId": "d9d637c6-30d6-47aa-b9dc-c76743c3f3ff"
      },
      "execution_count": null,
      "outputs": [
        {
          "output_type": "stream",
          "name": "stdout",
          "text": [
            "Epoch 1/10\n",
            "344/344 [==============================] - 98s 76ms/step - loss: 1.3242 - accuracy: 0.5404 - val_loss: 1.1054 - val_accuracy: 0.5945\n",
            "Epoch 2/10\n",
            "344/344 [==============================] - 22s 63ms/step - loss: 1.0582 - accuracy: 0.5935 - val_loss: 1.0242 - val_accuracy: 0.6250\n",
            "Epoch 3/10\n",
            "344/344 [==============================] - 21s 62ms/step - loss: 0.9024 - accuracy: 0.6951 - val_loss: 0.9951 - val_accuracy: 0.6468\n",
            "Epoch 4/10\n",
            "344/344 [==============================] - 22s 63ms/step - loss: 0.7677 - accuracy: 0.7700 - val_loss: 0.9628 - val_accuracy: 0.6701\n",
            "Epoch 5/10\n",
            "344/344 [==============================] - 21s 62ms/step - loss: 0.6480 - accuracy: 0.8279 - val_loss: 1.0007 - val_accuracy: 0.6642\n",
            "Epoch 6/10\n",
            "344/344 [==============================] - 22s 63ms/step - loss: 0.5586 - accuracy: 0.8664 - val_loss: 1.0522 - val_accuracy: 0.6250\n",
            "Epoch 7/10\n",
            "344/344 [==============================] - 22s 63ms/step - loss: 0.4854 - accuracy: 0.8948 - val_loss: 1.0165 - val_accuracy: 0.6570\n",
            "Epoch 8/10\n",
            "344/344 [==============================] - 22s 64ms/step - loss: 0.4170 - accuracy: 0.9203 - val_loss: 1.0986 - val_accuracy: 0.6541\n",
            "Epoch 9/10\n",
            "344/344 [==============================] - 22s 64ms/step - loss: 0.3828 - accuracy: 0.9269 - val_loss: 1.0468 - val_accuracy: 0.6424\n",
            "Epoch 10/10\n",
            "344/344 [==============================] - 22s 64ms/step - loss: 0.3331 - accuracy: 0.9447 - val_loss: 1.0554 - val_accuracy: 0.6323\n"
          ]
        }
      ]
    },
    {
      "cell_type": "code",
      "source": [
        "y_pred8 = model8.predict([x_test2_int_np,x_test2_mask_np],batch_size=512)\n",
        "from sklearn.metrics import classification_report, accuracy_score\n",
        "y_pred8_bool = np.argmax(y_pred8, axis=1)\n",
        "print(classification_report(np.argmax(y_test2, axis=1), y_pred8_bool,digits=4))\n",
        "#print(\"Accuracy: \" + str(accuracy_score(y_test1, y_pred8_bool)))\n",
        "\n",
        "# Build the confusion matrix off these predictions\n",
        "import seaborn as sns\n",
        "from sklearn.metrics import confusion_matrix\n",
        "import pandas as pd\n",
        "matrix = confusion_matrix(np.argmax(y_test2, axis=1), y_pred8_bool)\n",
        "fig, ax = plt.subplots(figsize=(5,5))\n",
        "plot = sns.heatmap(matrix, square=True, annot=True, cmap='Blues', fmt='d', cbar=False, linewidths=10, ax=ax, annot_kws={\"size\":10},xticklabels=['non-sexist','ideological-inequality','stereotyping-dominance','objectification', 'sexual-violence', 'misogyny-non-sexual-violence'], yticklabels=['non-sexist','ideological-inequality','stereotyping-dominance','objectification', 'sexual-violence', 'misogyny-non-sexual-violence'])\n",
        "plot.set_title('Confusion Matrix\\n\\n');\n",
        "plot.set_xlabel('\\nPrediction')\n",
        "plot.set_ylabel('\\nTruth');"
      ],
      "metadata": {
        "colab": {
          "base_uri": "https://localhost:8080/",
          "height": 759
        },
        "id": "TwBWj-zzwN8o",
        "outputId": "d0a6b9a1-0d69-43e5-90b4-9e1b51831d62"
      },
      "execution_count": null,
      "outputs": [
        {
          "output_type": "stream",
          "name": "stdout",
          "text": [
            "              precision    recall  f1-score   support\n",
            "\n",
            "           0     0.3609    0.2837    0.3177       215\n",
            "           1     0.4905    0.5202    0.5049       198\n",
            "           2     0.3591    0.5267    0.4270       150\n",
            "           3     0.4508    0.5076    0.4776       262\n",
            "           4     0.5584    0.6456    0.5989       333\n",
            "           5     0.7707    0.6819    0.7236      1050\n",
            "\n",
            "    accuracy                         0.5919      2208\n",
            "   macro avg     0.4984    0.5276    0.5083      2208\n",
            "weighted avg     0.6078    0.5919    0.5963      2208\n",
            "\n"
          ]
        },
        {
          "output_type": "display_data",
          "data": {
            "text/plain": [
              "<Figure size 360x360 with 1 Axes>"
            ],
            "image/png": "[encoded data removed]"
          },
          "metadata": {
            "needs_background": "light"
          }
        }
      ]
    },
    {
      "cell_type": "markdown",
      "source": [
        "# NModel 9 - BERT + single CNN"
      ],
      "metadata": {
        "id": "XhQ9L40Imc1G"
      }
    },
    {
      "cell_type": "code",
      "source": [
        "class GlobalAveragePooling1DMasked(GlobalAveragePooling1D):\n",
        "    def call(self, x, mask=None):\n",
        "        if mask != None:\n",
        "            return K.sum(x, axis=1) / K.sum(mask, axis=1)\n",
        "        else:\n",
        "            return super().call(x)"
      ],
      "metadata": {
        "id": "T9el3GvQ5a2r"
      },
      "execution_count": null,
      "outputs": []
    },
    {
      "cell_type": "code",
      "source": [
        "from transformers import TFBertModel, BertConfig\n",
        "\n",
        "def get_BERT_layer():\n",
        "  bert = 'bert-base-uncased'\n",
        "  config = BertConfig(dropout=0.2, attention_dropout=0.2)\n",
        "  config.output_hidden_states = False\n",
        "  return TFBertModel.from_pretrained(bert, config = config)\n"
      ],
      "metadata": {
        "id": "dhpwx2RM5seD"
      },
      "execution_count": null,
      "outputs": []
    },
    {
      "cell_type": "code",
      "source": [
        "import tensorflow as tf\n",
        "EMBED_SIZE = 100\n",
        "hidden_layer = 50\n",
        "\n",
        "def cnn():\n",
        "  input_ids_in = tf.keras.layers.Input(shape=(128,), name='input_token', dtype='int32')\n",
        "  input_masks_in = tf.keras.layers.Input(shape=(128,), name='masked_token', dtype='int32') \n",
        "\n",
        "  bert_embeddings = get_BERT_layer()\n",
        "  embedded_sent = bert_embeddings(input_ids_in, attention_mask=input_masks_in)[0]\n",
        "\n",
        "  CNN_sent=Conv1D(filters=100,\n",
        "                 kernel_size=6,\n",
        "                  padding='same',\n",
        "                  activation='relu',\n",
        "                  strides=1,name='CNN1D')(embedded_sent)                             # CNN\n",
        "  pooled_sent=GlobalMaxPooling1D(name='MaxPool')(CNN_sent)\n",
        "  hidden_output=Dense(50,input_shape=(EMBED_SIZE,),activation='sigmoid',kernel_initializer='glorot_uniform',name='Hidden_1')(pooled_sent)\n",
        "  label=Dense(6,input_shape=(hidden_layer,),activation='softmax',kernel_initializer='glorot_uniform',name='Output')(hidden_output)\n",
        "  return Model(inputs=[input_ids_in,input_masks_in], outputs=[label],name='Model4_CNN')\n",
        "\n",
        "use_tpu = True\n",
        "if use_tpu:\n",
        "  # Create distribution strategy\n",
        "  tpu = tf.distribute.cluster_resolver.TPUClusterResolver()\n",
        "  tf.config.experimental_connect_to_cluster(tpu)\n",
        "  tf.tpu.experimental.initialize_tpu_system(tpu)\n",
        "  strategy = tf.distribute.experimental.TPUStrategy(tpu)\n",
        "\n",
        "  # Create model\n",
        "  with strategy.scope():\n",
        "    model9 = cnn()\n",
        "    optimizer9 = tf.keras.optimizers.Adam(learning_rate=2e-5)\n",
        "    model9.compile(optimizer=optimizer9, loss='categorical_crossentropy', metrics=['accuracy'])\n",
        "else:\n",
        "  model9 = cnn()\n",
        "  model9.compile(optimizer='adam',\n",
        "              loss='categorical_crossentropy',\n",
        "              metrics=['accuracy'])\n",
        "\n",
        "model9.summary()"
      ],
      "metadata": {
        "colab": {
          "base_uri": "https://localhost:8080/"
        },
        "id": "BK3ZHa2B0DL9",
        "outputId": "90349334-533d-4784-e30b-8283c59d8efe"
      },
      "execution_count": null,
      "outputs": [
        {
          "output_type": "stream",
          "name": "stdout",
          "text": [
            "INFO:tensorflow:Deallocate tpu buffers before initializing tpu system.\n"
          ]
        },
        {
          "output_type": "stream",
          "name": "stderr",
          "text": [
            "INFO:tensorflow:Deallocate tpu buffers before initializing tpu system.\n"
          ]
        },
        {
          "output_type": "stream",
          "name": "stdout",
          "text": [
            "WARNING:tensorflow:TPU system grpc://10.122.89.50:8470 has already been initialized. Reinitializing the TPU can cause previously created variables on TPU to be lost.\n"
          ]
        },
        {
          "output_type": "stream",
          "name": "stderr",
          "text": [
            "WARNING:tensorflow:TPU system grpc://10.122.89.50:8470 has already been initialized. Reinitializing the TPU can cause previously created variables on TPU to be lost.\n"
          ]
        },
        {
          "output_type": "stream",
          "name": "stdout",
          "text": [
            "INFO:tensorflow:Initializing the TPU system: grpc://10.122.89.50:8470\n"
          ]
        },
        {
          "output_type": "stream",
          "name": "stderr",
          "text": [
            "INFO:tensorflow:Initializing the TPU system: grpc://10.122.89.50:8470\n"
          ]
        },
        {
          "output_type": "stream",
          "name": "stdout",
          "text": [
            "INFO:tensorflow:Finished initializing TPU system.\n"
          ]
        },
        {
          "output_type": "stream",
          "name": "stderr",
          "text": [
            "INFO:tensorflow:Finished initializing TPU system.\n",
            "WARNING:absl:`tf.distribute.experimental.TPUStrategy` is deprecated, please use  the non experimental symbol `tf.distribute.TPUStrategy` instead.\n"
          ]
        },
        {
          "output_type": "stream",
          "name": "stdout",
          "text": [
            "INFO:tensorflow:Found TPU system:\n"
          ]
        },
        {
          "output_type": "stream",
          "name": "stderr",
          "text": [
            "INFO:tensorflow:Found TPU system:\n"
          ]
        },
        {
          "output_type": "stream",
          "name": "stdout",
          "text": [
            "INFO:tensorflow:*** Num TPU Cores: 8\n"
          ]
        },
        {
          "output_type": "stream",
          "name": "stderr",
          "text": [
            "INFO:tensorflow:*** Num TPU Cores: 8\n"
          ]
        },
        {
          "output_type": "stream",
          "name": "stdout",
          "text": [
            "INFO:tensorflow:*** Num TPU Workers: 1\n"
          ]
        },
        {
          "output_type": "stream",
          "name": "stderr",
          "text": [
            "INFO:tensorflow:*** Num TPU Workers: 1\n"
          ]
        },
        {
          "output_type": "stream",
          "name": "stdout",
          "text": [
            "INFO:tensorflow:*** Num TPU Cores Per Worker: 8\n"
          ]
        },
        {
          "output_type": "stream",
          "name": "stderr",
          "text": [
            "INFO:tensorflow:*** Num TPU Cores Per Worker: 8\n"
          ]
        },
        {
          "output_type": "stream",
          "name": "stdout",
          "text": [
            "INFO:tensorflow:*** Available Device: _DeviceAttributes(/job:localhost/replica:0/task:0/device:CPU:0, CPU, 0, 0)\n"
          ]
        },
        {
          "output_type": "stream",
          "name": "stderr",
          "text": [
            "INFO:tensorflow:*** Available Device: _DeviceAttributes(/job:localhost/replica:0/task:0/device:CPU:0, CPU, 0, 0)\n"
          ]
        },
        {
          "output_type": "stream",
          "name": "stdout",
          "text": [
            "INFO:tensorflow:*** Available Device: _DeviceAttributes(/job:worker/replica:0/task:0/device:CPU:0, CPU, 0, 0)\n"
          ]
        },
        {
          "output_type": "stream",
          "name": "stderr",
          "text": [
            "INFO:tensorflow:*** Available Device: _DeviceAttributes(/job:worker/replica:0/task:0/device:CPU:0, CPU, 0, 0)\n"
          ]
        },
        {
          "output_type": "stream",
          "name": "stdout",
          "text": [
            "INFO:tensorflow:*** Available Device: _DeviceAttributes(/job:worker/replica:0/task:0/device:TPU:0, TPU, 0, 0)\n"
          ]
        },
        {
          "output_type": "stream",
          "name": "stderr",
          "text": [
            "INFO:tensorflow:*** Available Device: _DeviceAttributes(/job:worker/replica:0/task:0/device:TPU:0, TPU, 0, 0)\n"
          ]
        },
        {
          "output_type": "stream",
          "name": "stdout",
          "text": [
            "INFO:tensorflow:*** Available Device: _DeviceAttributes(/job:worker/replica:0/task:0/device:TPU:1, TPU, 0, 0)\n"
          ]
        },
        {
          "output_type": "stream",
          "name": "stderr",
          "text": [
            "INFO:tensorflow:*** Available Device: _DeviceAttributes(/job:worker/replica:0/task:0/device:TPU:1, TPU, 0, 0)\n"
          ]
        },
        {
          "output_type": "stream",
          "name": "stdout",
          "text": [
            "INFO:tensorflow:*** Available Device: _DeviceAttributes(/job:worker/replica:0/task:0/device:TPU:2, TPU, 0, 0)\n"
          ]
        },
        {
          "output_type": "stream",
          "name": "stderr",
          "text": [
            "INFO:tensorflow:*** Available Device: _DeviceAttributes(/job:worker/replica:0/task:0/device:TPU:2, TPU, 0, 0)\n"
          ]
        },
        {
          "output_type": "stream",
          "name": "stdout",
          "text": [
            "INFO:tensorflow:*** Available Device: _DeviceAttributes(/job:worker/replica:0/task:0/device:TPU:3, TPU, 0, 0)\n"
          ]
        },
        {
          "output_type": "stream",
          "name": "stderr",
          "text": [
            "INFO:tensorflow:*** Available Device: _DeviceAttributes(/job:worker/replica:0/task:0/device:TPU:3, TPU, 0, 0)\n"
          ]
        },
        {
          "output_type": "stream",
          "name": "stdout",
          "text": [
            "INFO:tensorflow:*** Available Device: _DeviceAttributes(/job:worker/replica:0/task:0/device:TPU:4, TPU, 0, 0)\n"
          ]
        },
        {
          "output_type": "stream",
          "name": "stderr",
          "text": [
            "INFO:tensorflow:*** Available Device: _DeviceAttributes(/job:worker/replica:0/task:0/device:TPU:4, TPU, 0, 0)\n"
          ]
        },
        {
          "output_type": "stream",
          "name": "stdout",
          "text": [
            "INFO:tensorflow:*** Available Device: _DeviceAttributes(/job:worker/replica:0/task:0/device:TPU:5, TPU, 0, 0)\n"
          ]
        },
        {
          "output_type": "stream",
          "name": "stderr",
          "text": [
            "INFO:tensorflow:*** Available Device: _DeviceAttributes(/job:worker/replica:0/task:0/device:TPU:5, TPU, 0, 0)\n"
          ]
        },
        {
          "output_type": "stream",
          "name": "stdout",
          "text": [
            "INFO:tensorflow:*** Available Device: _DeviceAttributes(/job:worker/replica:0/task:0/device:TPU:6, TPU, 0, 0)\n"
          ]
        },
        {
          "output_type": "stream",
          "name": "stderr",
          "text": [
            "INFO:tensorflow:*** Available Device: _DeviceAttributes(/job:worker/replica:0/task:0/device:TPU:6, TPU, 0, 0)\n"
          ]
        },
        {
          "output_type": "stream",
          "name": "stdout",
          "text": [
            "INFO:tensorflow:*** Available Device: _DeviceAttributes(/job:worker/replica:0/task:0/device:TPU:7, TPU, 0, 0)\n"
          ]
        },
        {
          "output_type": "stream",
          "name": "stderr",
          "text": [
            "INFO:tensorflow:*** Available Device: _DeviceAttributes(/job:worker/replica:0/task:0/device:TPU:7, TPU, 0, 0)\n"
          ]
        },
        {
          "output_type": "stream",
          "name": "stdout",
          "text": [
            "INFO:tensorflow:*** Available Device: _DeviceAttributes(/job:worker/replica:0/task:0/device:TPU_SYSTEM:0, TPU_SYSTEM, 0, 0)\n"
          ]
        },
        {
          "output_type": "stream",
          "name": "stderr",
          "text": [
            "INFO:tensorflow:*** Available Device: _DeviceAttributes(/job:worker/replica:0/task:0/device:TPU_SYSTEM:0, TPU_SYSTEM, 0, 0)\n"
          ]
        },
        {
          "output_type": "stream",
          "name": "stdout",
          "text": [
            "INFO:tensorflow:*** Available Device: _DeviceAttributes(/job:worker/replica:0/task:0/device:XLA_CPU:0, XLA_CPU, 0, 0)\n"
          ]
        },
        {
          "output_type": "stream",
          "name": "stderr",
          "text": [
            "INFO:tensorflow:*** Available Device: _DeviceAttributes(/job:worker/replica:0/task:0/device:XLA_CPU:0, XLA_CPU, 0, 0)\n",
            "Some layers from the model checkpoint at distilbert-base-uncased were not used when initializing TFDistilBertModel: ['vocab_layer_norm', 'vocab_projector', 'activation_13', 'vocab_transform']\n",
            "- This IS expected if you are initializing TFDistilBertModel from the checkpoint of a model trained on another task or with another architecture (e.g. initializing a BertForSequenceClassification model from a BertForPreTraining model).\n",
            "- This IS NOT expected if you are initializing TFDistilBertModel from the checkpoint of a model that you expect to be exactly identical (initializing a BertForSequenceClassification model from a BertForSequenceClassification model).\n",
            "All the layers of TFDistilBertModel were initialized from the model checkpoint at distilbert-base-uncased.\n",
            "If your task is similar to the task the model of the checkpoint was trained on, you can already use TFDistilBertModel for predictions without further training.\n"
          ]
        },
        {
          "output_type": "stream",
          "name": "stdout",
          "text": [
            "Model: \"Model4_CNN\"\n",
            "__________________________________________________________________________________________________\n",
            " Layer (type)                   Output Shape         Param #     Connected to                     \n",
            "==================================================================================================\n",
            " input_token (InputLayer)       [(None, 128)]        0           []                               \n",
            "                                                                                                  \n",
            " masked_token (InputLayer)      [(None, 128)]        0           []                               \n",
            "                                                                                                  \n",
            " tf_distil_bert_model_7 (TFDist  TFBaseModelOutput(l  66362880   ['input_token[0][0]',            \n",
            " ilBertModel)                   ast_hidden_state=(N               'masked_token[0][0]']           \n",
            "                                one, 128, 768),                                                   \n",
            "                                 hidden_states=None                                               \n",
            "                                , attentions=None)                                                \n",
            "                                                                                                  \n",
            " CNN1D (Conv1D)                 (None, 128, 100)     460900      ['tf_distil_bert_model_7[0][0]'] \n",
            "                                                                                                  \n",
            " MaxPool (GlobalMaxPooling1D)   (None, 100)          0           ['CNN1D[0][0]']                  \n",
            "                                                                                                  \n",
            " Hidden_1 (Dense)               (None, 50)           5050        ['MaxPool[0][0]']                \n",
            "                                                                                                  \n",
            " Output (Dense)                 (None, 6)            306         ['Hidden_1[0][0]']               \n",
            "                                                                                                  \n",
            "==================================================================================================\n",
            "Total params: 66,829,136\n",
            "Trainable params: 66,829,136\n",
            "Non-trainable params: 0\n",
            "__________________________________________________________________________________________________\n"
          ]
        }
      ]
    },
    {
      "cell_type": "code",
      "source": [
        "history = model9.fit([x_train2_int_np,x_train2_mask_np],\n",
        "                    y_train2,\n",
        "                    epochs=10,\n",
        "                    batch_size=8,\n",
        "                    validation_data=([x_val2_int_np,x_val2_mask_np], y_val2),\n",
        "                    verbose=1)\n",
        "\n",
        "y_pred9 = model9.predict([x_test2_int_np,x_test2_mask_np],batch_size=512)\n",
        "\n",
        "from sklearn.metrics import classification_report, accuracy_score\n",
        "y_pred9_bool = np.argmax(y_pred9, axis=1)\n",
        "print(classification_report(np.argmax(y_test2, axis=1), y_pred9_bool,digits=4))\n",
        "#print(\"Accuracy: \" + str(accuracy_score(y_test1, y_pred9_bool)))\n",
        "\n",
        "# Build the confusion matrix off these predictions\n",
        "import seaborn as sns\n",
        "from sklearn.metrics import confusion_matrix\n",
        "import pandas as pd\n",
        "matrix = confusion_matrix(np.argmax(y_test2, axis=1), y_pred9_bool)\n",
        "fig, ax = plt.subplots(figsize=(5,5))\n",
        "plot = sns.heatmap(matrix, square=True, annot=True, cmap='Blues', fmt='d', cbar=False, linewidths=10, ax=ax, annot_kws={\"size\":10},xticklabels=['non-sexist','ideological-inequality','stereotyping-dominance','objectification', 'sexual-violence', 'misogyny-non-sexual-violence'], yticklabels=['non-sexist','ideological-inequality','stereotyping-dominance','objectification', 'sexual-violence', 'misogyny-non-sexual-violence'])\n",
        "plot.set_title('Confusion Matrix\\n\\n');\n",
        "plot.set_xlabel('\\nPrediction')\n",
        "plot.set_ylabel('\\nTruth');"
      ],
      "metadata": {
        "colab": {
          "base_uri": "https://localhost:8080/",
          "height": 1000
        },
        "id": "dTfs2xhRz-F-",
        "outputId": "4e7c9210-25e3-4bb3-9889-29e88462d7af"
      },
      "execution_count": null,
      "outputs": [
        {
          "output_type": "stream",
          "name": "stdout",
          "text": [
            "Epoch 1/10\n",
            "344/344 [==============================] - 74s 62ms/step - loss: 1.2777 - accuracy: 0.5553 - val_loss: 1.0460 - val_accuracy: 0.6294\n",
            "Epoch 2/10\n",
            "344/344 [==============================] - 17s 50ms/step - loss: 0.9578 - accuracy: 0.6641 - val_loss: 0.9599 - val_accuracy: 0.6497\n",
            "Epoch 3/10\n",
            "344/344 [==============================] - 17s 51ms/step - loss: 0.7619 - accuracy: 0.7475 - val_loss: 0.9129 - val_accuracy: 0.6730\n",
            "Epoch 4/10\n",
            "344/344 [==============================] - 17s 50ms/step - loss: 0.5853 - accuracy: 0.8206 - val_loss: 0.9402 - val_accuracy: 0.6701\n",
            "Epoch 5/10\n",
            "344/344 [==============================] - 17s 50ms/step - loss: 0.4261 - accuracy: 0.8792 - val_loss: 0.9913 - val_accuracy: 0.6730\n",
            "Epoch 6/10\n",
            "344/344 [==============================] - 17s 50ms/step - loss: 0.3188 - accuracy: 0.9207 - val_loss: 1.0039 - val_accuracy: 0.6599\n",
            "Epoch 7/10\n",
            "344/344 [==============================] - 17s 50ms/step - loss: 0.2472 - accuracy: 0.9472 - val_loss: 1.0585 - val_accuracy: 0.6541\n",
            "Epoch 8/10\n",
            "344/344 [==============================] - 17s 51ms/step - loss: 0.1963 - accuracy: 0.9632 - val_loss: 1.1332 - val_accuracy: 0.6410\n",
            "Epoch 9/10\n",
            "344/344 [==============================] - 17s 50ms/step - loss: 0.1769 - accuracy: 0.9698 - val_loss: 1.1660 - val_accuracy: 0.6381\n",
            "Epoch 10/10\n",
            "344/344 [==============================] - 19s 54ms/step - loss: 0.1625 - accuracy: 0.9713 - val_loss: 1.1200 - val_accuracy: 0.6584\n",
            "              precision    recall  f1-score   support\n",
            "\n",
            "           0     0.3705    0.3860    0.3781       215\n",
            "           1     0.4419    0.4798    0.4600       198\n",
            "           2     0.4134    0.4933    0.4498       150\n",
            "           3     0.4409    0.5840    0.5025       262\n",
            "           4     0.6246    0.5646    0.5931       333\n",
            "           5     0.7643    0.6857    0.7229      1050\n",
            "\n",
            "    accuracy                         0.5947      2208\n",
            "   macro avg     0.5093    0.5322    0.5177      2208\n",
            "weighted avg     0.6138    0.5947    0.6015      2208\n",
            "\n"
          ]
        },
        {
          "output_type": "display_data",
          "data": {
            "text/plain": [
              "<Figure size 360x360 with 1 Axes>"
            ],
            "image/png": "[encoded data removed]"
          },
          "metadata": {
            "needs_background": "light"
          }
        }
      ]
    },
    {
      "cell_type": "markdown",
      "metadata": {
        "id": "4f7mQgj3weTO"
      },
      "source": [
        "# Model10 - BERT + multi CNN"
      ]
    },
    {
      "cell_type": "code",
      "execution_count": null,
      "metadata": {
        "id": "NzH0RqMBweTO"
      },
      "outputs": [],
      "source": [
        "class GlobalAveragePooling1DMasked(GlobalAveragePooling1D):\n",
        "    def call(self, x, mask=None):\n",
        "        if mask != None:\n",
        "            return K.sum(x, axis=1) / K.sum(mask, axis=1)\n",
        "        else:\n",
        "            return super().call(x)"
      ]
    },
    {
      "cell_type": "code",
      "execution_count": null,
      "metadata": {
        "id": "Ymk249ZOweTP"
      },
      "outputs": [],
      "source": [
        "from transformers import TFBertModel, BertConfig\n",
        "\n",
        "def get_BERT_layer():\n",
        "  bert = 'bert-base-uncased'\n",
        "  config = BertConfig(dropout=0.2, attention_dropout=0.2)\n",
        "  config.output_hidden_states = False\n",
        "  return TFBertModel.from_pretrained(bert, config = config)\n"
      ]
    },
    {
      "cell_type": "code",
      "execution_count": null,
      "metadata": {
        "colab": {
          "base_uri": "https://localhost:8080/"
        },
        "outputId": "f5801bd5-cb85-4e30-e072-df46edf77a0f",
        "id": "qT6ueEHEweTP"
      },
      "outputs": [
        {
          "output_type": "stream",
          "name": "stdout",
          "text": [
            "INFO:tensorflow:Deallocate tpu buffers before initializing tpu system.\n"
          ]
        },
        {
          "output_type": "stream",
          "name": "stderr",
          "text": [
            "INFO:tensorflow:Deallocate tpu buffers before initializing tpu system.\n"
          ]
        },
        {
          "output_type": "stream",
          "name": "stdout",
          "text": [
            "WARNING:tensorflow:TPU system grpc://10.122.89.50:8470 has already been initialized. Reinitializing the TPU can cause previously created variables on TPU to be lost.\n"
          ]
        },
        {
          "output_type": "stream",
          "name": "stderr",
          "text": [
            "WARNING:tensorflow:TPU system grpc://10.122.89.50:8470 has already been initialized. Reinitializing the TPU can cause previously created variables on TPU to be lost.\n"
          ]
        },
        {
          "output_type": "stream",
          "name": "stdout",
          "text": [
            "INFO:tensorflow:Initializing the TPU system: grpc://10.122.89.50:8470\n"
          ]
        },
        {
          "output_type": "stream",
          "name": "stderr",
          "text": [
            "INFO:tensorflow:Initializing the TPU system: grpc://10.122.89.50:8470\n"
          ]
        },
        {
          "output_type": "stream",
          "name": "stdout",
          "text": [
            "INFO:tensorflow:Finished initializing TPU system.\n"
          ]
        },
        {
          "output_type": "stream",
          "name": "stderr",
          "text": [
            "INFO:tensorflow:Finished initializing TPU system.\n",
            "WARNING:absl:`tf.distribute.experimental.TPUStrategy` is deprecated, please use  the non experimental symbol `tf.distribute.TPUStrategy` instead.\n"
          ]
        },
        {
          "output_type": "stream",
          "name": "stdout",
          "text": [
            "INFO:tensorflow:Found TPU system:\n"
          ]
        },
        {
          "output_type": "stream",
          "name": "stderr",
          "text": [
            "INFO:tensorflow:Found TPU system:\n"
          ]
        },
        {
          "output_type": "stream",
          "name": "stdout",
          "text": [
            "INFO:tensorflow:*** Num TPU Cores: 8\n"
          ]
        },
        {
          "output_type": "stream",
          "name": "stderr",
          "text": [
            "INFO:tensorflow:*** Num TPU Cores: 8\n"
          ]
        },
        {
          "output_type": "stream",
          "name": "stdout",
          "text": [
            "INFO:tensorflow:*** Num TPU Workers: 1\n"
          ]
        },
        {
          "output_type": "stream",
          "name": "stderr",
          "text": [
            "INFO:tensorflow:*** Num TPU Workers: 1\n"
          ]
        },
        {
          "output_type": "stream",
          "name": "stdout",
          "text": [
            "INFO:tensorflow:*** Num TPU Cores Per Worker: 8\n"
          ]
        },
        {
          "output_type": "stream",
          "name": "stderr",
          "text": [
            "INFO:tensorflow:*** Num TPU Cores Per Worker: 8\n"
          ]
        },
        {
          "output_type": "stream",
          "name": "stdout",
          "text": [
            "INFO:tensorflow:*** Available Device: _DeviceAttributes(/job:localhost/replica:0/task:0/device:CPU:0, CPU, 0, 0)\n"
          ]
        },
        {
          "output_type": "stream",
          "name": "stderr",
          "text": [
            "INFO:tensorflow:*** Available Device: _DeviceAttributes(/job:localhost/replica:0/task:0/device:CPU:0, CPU, 0, 0)\n"
          ]
        },
        {
          "output_type": "stream",
          "name": "stdout",
          "text": [
            "INFO:tensorflow:*** Available Device: _DeviceAttributes(/job:worker/replica:0/task:0/device:CPU:0, CPU, 0, 0)\n"
          ]
        },
        {
          "output_type": "stream",
          "name": "stderr",
          "text": [
            "INFO:tensorflow:*** Available Device: _DeviceAttributes(/job:worker/replica:0/task:0/device:CPU:0, CPU, 0, 0)\n"
          ]
        },
        {
          "output_type": "stream",
          "name": "stdout",
          "text": [
            "INFO:tensorflow:*** Available Device: _DeviceAttributes(/job:worker/replica:0/task:0/device:TPU:0, TPU, 0, 0)\n"
          ]
        },
        {
          "output_type": "stream",
          "name": "stderr",
          "text": [
            "INFO:tensorflow:*** Available Device: _DeviceAttributes(/job:worker/replica:0/task:0/device:TPU:0, TPU, 0, 0)\n"
          ]
        },
        {
          "output_type": "stream",
          "name": "stdout",
          "text": [
            "INFO:tensorflow:*** Available Device: _DeviceAttributes(/job:worker/replica:0/task:0/device:TPU:1, TPU, 0, 0)\n"
          ]
        },
        {
          "output_type": "stream",
          "name": "stderr",
          "text": [
            "INFO:tensorflow:*** Available Device: _DeviceAttributes(/job:worker/replica:0/task:0/device:TPU:1, TPU, 0, 0)\n"
          ]
        },
        {
          "output_type": "stream",
          "name": "stdout",
          "text": [
            "INFO:tensorflow:*** Available Device: _DeviceAttributes(/job:worker/replica:0/task:0/device:TPU:2, TPU, 0, 0)\n"
          ]
        },
        {
          "output_type": "stream",
          "name": "stderr",
          "text": [
            "INFO:tensorflow:*** Available Device: _DeviceAttributes(/job:worker/replica:0/task:0/device:TPU:2, TPU, 0, 0)\n"
          ]
        },
        {
          "output_type": "stream",
          "name": "stdout",
          "text": [
            "INFO:tensorflow:*** Available Device: _DeviceAttributes(/job:worker/replica:0/task:0/device:TPU:3, TPU, 0, 0)\n"
          ]
        },
        {
          "output_type": "stream",
          "name": "stderr",
          "text": [
            "INFO:tensorflow:*** Available Device: _DeviceAttributes(/job:worker/replica:0/task:0/device:TPU:3, TPU, 0, 0)\n"
          ]
        },
        {
          "output_type": "stream",
          "name": "stdout",
          "text": [
            "INFO:tensorflow:*** Available Device: _DeviceAttributes(/job:worker/replica:0/task:0/device:TPU:4, TPU, 0, 0)\n"
          ]
        },
        {
          "output_type": "stream",
          "name": "stderr",
          "text": [
            "INFO:tensorflow:*** Available Device: _DeviceAttributes(/job:worker/replica:0/task:0/device:TPU:4, TPU, 0, 0)\n"
          ]
        },
        {
          "output_type": "stream",
          "name": "stdout",
          "text": [
            "INFO:tensorflow:*** Available Device: _DeviceAttributes(/job:worker/replica:0/task:0/device:TPU:5, TPU, 0, 0)\n"
          ]
        },
        {
          "output_type": "stream",
          "name": "stderr",
          "text": [
            "INFO:tensorflow:*** Available Device: _DeviceAttributes(/job:worker/replica:0/task:0/device:TPU:5, TPU, 0, 0)\n"
          ]
        },
        {
          "output_type": "stream",
          "name": "stdout",
          "text": [
            "INFO:tensorflow:*** Available Device: _DeviceAttributes(/job:worker/replica:0/task:0/device:TPU:6, TPU, 0, 0)\n"
          ]
        },
        {
          "output_type": "stream",
          "name": "stderr",
          "text": [
            "INFO:tensorflow:*** Available Device: _DeviceAttributes(/job:worker/replica:0/task:0/device:TPU:6, TPU, 0, 0)\n"
          ]
        },
        {
          "output_type": "stream",
          "name": "stdout",
          "text": [
            "INFO:tensorflow:*** Available Device: _DeviceAttributes(/job:worker/replica:0/task:0/device:TPU:7, TPU, 0, 0)\n"
          ]
        },
        {
          "output_type": "stream",
          "name": "stderr",
          "text": [
            "INFO:tensorflow:*** Available Device: _DeviceAttributes(/job:worker/replica:0/task:0/device:TPU:7, TPU, 0, 0)\n"
          ]
        },
        {
          "output_type": "stream",
          "name": "stdout",
          "text": [
            "INFO:tensorflow:*** Available Device: _DeviceAttributes(/job:worker/replica:0/task:0/device:TPU_SYSTEM:0, TPU_SYSTEM, 0, 0)\n"
          ]
        },
        {
          "output_type": "stream",
          "name": "stderr",
          "text": [
            "INFO:tensorflow:*** Available Device: _DeviceAttributes(/job:worker/replica:0/task:0/device:TPU_SYSTEM:0, TPU_SYSTEM, 0, 0)\n"
          ]
        },
        {
          "output_type": "stream",
          "name": "stdout",
          "text": [
            "INFO:tensorflow:*** Available Device: _DeviceAttributes(/job:worker/replica:0/task:0/device:XLA_CPU:0, XLA_CPU, 0, 0)\n"
          ]
        },
        {
          "output_type": "stream",
          "name": "stderr",
          "text": [
            "INFO:tensorflow:*** Available Device: _DeviceAttributes(/job:worker/replica:0/task:0/device:XLA_CPU:0, XLA_CPU, 0, 0)\n",
            "Some layers from the model checkpoint at distilbert-base-uncased were not used when initializing TFDistilBertModel: ['vocab_layer_norm', 'vocab_projector', 'activation_13', 'vocab_transform']\n",
            "- This IS expected if you are initializing TFDistilBertModel from the checkpoint of a model trained on another task or with another architecture (e.g. initializing a BertForSequenceClassification model from a BertForPreTraining model).\n",
            "- This IS NOT expected if you are initializing TFDistilBertModel from the checkpoint of a model that you expect to be exactly identical (initializing a BertForSequenceClassification model from a BertForSequenceClassification model).\n",
            "All the layers of TFDistilBertModel were initialized from the model checkpoint at distilbert-base-uncased.\n",
            "If your task is similar to the task the model of the checkpoint was trained on, you can already use TFDistilBertModel for predictions without further training.\n"
          ]
        },
        {
          "output_type": "stream",
          "name": "stdout",
          "text": [
            "Model: \"Model10_BERT_multiCNN\"\n",
            "__________________________________________________________________________________________________\n",
            " Layer (type)                   Output Shape         Param #     Connected to                     \n",
            "==================================================================================================\n",
            " input_token (InputLayer)       [(None, 128)]        0           []                               \n",
            "                                                                                                  \n",
            " masked_token (InputLayer)      [(None, 128)]        0           []                               \n",
            "                                                                                                  \n",
            " tf_distil_bert_model_9 (TFDist  TFBaseModelOutput(l  66362880   ['input_token[0][0]',            \n",
            " ilBertModel)                   ast_hidden_state=(N               'masked_token[0][0]']           \n",
            "                                one, 128, 768),                                                   \n",
            "                                 hidden_states=None                                               \n",
            "                                , attentions=None)                                                \n",
            "                                                                                                  \n",
            " CNN1 (Conv1D)                  (None, 128, 100)     230500      ['tf_distil_bert_model_9[0][0]'] \n",
            "                                                                                                  \n",
            " CNN2 (Conv1D)                  (None, 128, 100)     384100      ['tf_distil_bert_model_9[0][0]'] \n",
            "                                                                                                  \n",
            " CNN3 (Conv1D)                  (None, 128, 100)     537700      ['tf_distil_bert_model_9[0][0]'] \n",
            "                                                                                                  \n",
            " MaxPool1 (GlobalMaxPooling1D)  (None, 100)          0           ['CNN1[0][0]']                   \n",
            "                                                                                                  \n",
            " MaxPool2 (GlobalMaxPooling1D)  (None, 100)          0           ['CNN2[0][0]']                   \n",
            "                                                                                                  \n",
            " MaxPool3 (GlobalMaxPooling1D)  (None, 100)          0           ['CNN3[0][0]']                   \n",
            "                                                                                                  \n",
            " concatenate_2 (Concatenate)    (None, 300)          0           ['MaxPool1[0][0]',               \n",
            "                                                                  'MaxPool2[0][0]',               \n",
            "                                                                  'MaxPool3[0][0]']               \n",
            "                                                                                                  \n",
            " Hidden_1 (Dense)               (None, 50)           15050       ['concatenate_2[0][0]']          \n",
            "                                                                                                  \n",
            " Output (Dense)                 (None, 6)            306         ['Hidden_1[0][0]']               \n",
            "                                                                                                  \n",
            "==================================================================================================\n",
            "Total params: 67,530,536\n",
            "Trainable params: 67,530,536\n",
            "Non-trainable params: 0\n",
            "__________________________________________________________________________________________________\n"
          ]
        }
      ],
      "source": [
        "import tensorflow as tf\n",
        "from keras.layers import Concatenate\n",
        "EMBED_SIZE = 100\n",
        "hidden_layer = 50\n",
        "\n",
        "def multicnn():\n",
        "  input_ids_in = tf.keras.layers.Input(shape=(128,), name='input_token', dtype='int32')\n",
        "  input_masks_in = tf.keras.layers.Input(shape=(128,), name='masked_token', dtype='int32') \n",
        "  bert_embeddings = get_BERT_layer()\n",
        "  embedded_sent = bert_embeddings(input_ids_in, attention_mask=input_masks_in)[0]\n",
        "  conv_blocks = []\n",
        "  CNN_sent1=Conv1D(filters=100,\n",
        "                 kernel_size=3,\n",
        "                  padding='same',\n",
        "                  activation='relu',\n",
        "                  strides=1,name='CNN1')(embedded_sent)                             # CNN1\n",
        "  pooled_sent1=GlobalMaxPooling1D(name='MaxPool1')(CNN_sent1)  \n",
        "  CNN_sent2=Conv1D(filters=100,\n",
        "                 kernel_size=5,\n",
        "                  padding='same',\n",
        "                  activation='relu',\n",
        "                  strides=1,name='CNN2')(embedded_sent)                             # CNN2\n",
        "  pooled_sent2=GlobalMaxPooling1D(name='MaxPool2')(CNN_sent2)\n",
        "  CNN_sent3=Conv1D(filters=100,\n",
        "                 kernel_size=7,\n",
        "                  padding='same',\n",
        "                  activation='relu',\n",
        "                  strides=1,name='CNN3')(embedded_sent)                             # CNN3\n",
        "  pooled_sent3=GlobalMaxPooling1D(name='MaxPool3')(CNN_sent3)\n",
        "  conv_blocks.append(pooled_sent1)\n",
        "  conv_blocks.append(pooled_sent2)\n",
        "  conv_blocks.append(pooled_sent3)\n",
        "\n",
        "  #merge\n",
        "  combined = Concatenate()(conv_blocks)\n",
        "\n",
        "  hidden_output=Dense(50,input_shape=(EMBED_SIZE,),activation='sigmoid',kernel_initializer='glorot_uniform',name='Hidden_1')(combined)\n",
        "  label=Dense(6,input_shape=(hidden_layer,),activation='softmax',kernel_initializer='glorot_uniform',name='Output')(hidden_output)\n",
        "  return Model(inputs=[input_ids_in,input_masks_in], outputs=[label],name='Model10_BERT_multiCNN')\n",
        "\n",
        "use_tpu = True\n",
        "if use_tpu:\n",
        "  # Create distribution strategy\n",
        "  tpu = tf.distribute.cluster_resolver.TPUClusterResolver()\n",
        "  tf.config.experimental_connect_to_cluster(tpu)\n",
        "  tf.tpu.experimental.initialize_tpu_system(tpu)\n",
        "  strategy = tf.distribute.experimental.TPUStrategy(tpu)\n",
        "\n",
        "  # Create model\n",
        "  with strategy.scope():\n",
        "    model10 = multicnn()\n",
        "    optimizer10 = tf.keras.optimizers.Adam(learning_rate=5e-5)\n",
        "    model10.compile(optimizer=optimizer10, loss='categorical_crossentropy', metrics=['accuracy'])\n",
        "else:\n",
        "  model10 = multicnn()\n",
        "  model10.compile(optimizer='adam',\n",
        "              loss='categorical_crossentropy',\n",
        "              metrics=['accuracy'])\n",
        "\n",
        "model10.summary()"
      ]
    },
    {
      "cell_type": "code",
      "execution_count": null,
      "metadata": {
        "colab": {
          "base_uri": "https://localhost:8080/"
        },
        "outputId": "3deeb790-5b01-425e-84dc-1c1bd91a03a7",
        "id": "FR1d7MSmweTQ"
      },
      "outputs": [
        {
          "output_type": "stream",
          "name": "stdout",
          "text": [
            "Epoch 1/10\n",
            "344/344 [==============================] - 76s 62ms/step - loss: 1.2710 - accuracy: 0.5488 - val_loss: 1.0069 - val_accuracy: 0.6337\n",
            "Epoch 2/10\n",
            "344/344 [==============================] - 17s 50ms/step - loss: 0.9423 - accuracy: 0.6536 - val_loss: 0.9542 - val_accuracy: 0.6773\n",
            "Epoch 3/10\n",
            "344/344 [==============================] - 17s 50ms/step - loss: 0.7192 - accuracy: 0.7566 - val_loss: 0.9429 - val_accuracy: 0.6628\n",
            "Epoch 4/10\n",
            "344/344 [==============================] - 18s 51ms/step - loss: 0.5059 - accuracy: 0.8486 - val_loss: 1.0492 - val_accuracy: 0.6221\n",
            "Epoch 5/10\n",
            "344/344 [==============================] - 18s 51ms/step - loss: 0.3736 - accuracy: 0.8905 - val_loss: 1.0191 - val_accuracy: 0.6642\n",
            "Epoch 6/10\n",
            "344/344 [==============================] - 18s 51ms/step - loss: 0.2781 - accuracy: 0.9250 - val_loss: 1.0660 - val_accuracy: 0.6599\n",
            "Epoch 7/10\n",
            "344/344 [==============================] - 18s 51ms/step - loss: 0.2122 - accuracy: 0.9429 - val_loss: 1.2612 - val_accuracy: 0.6105\n",
            "Epoch 8/10\n",
            "344/344 [==============================] - 17s 50ms/step - loss: 0.1748 - accuracy: 0.9574 - val_loss: 1.2481 - val_accuracy: 0.6206\n",
            "Epoch 9/10\n",
            "344/344 [==============================] - 17s 50ms/step - loss: 0.1662 - accuracy: 0.9632 - val_loss: 1.3120 - val_accuracy: 0.6453\n",
            "Epoch 10/10\n",
            "344/344 [==============================] - 17s 50ms/step - loss: 0.1340 - accuracy: 0.9698 - val_loss: 1.3066 - val_accuracy: 0.6483\n"
          ]
        }
      ],
      "source": [
        "history = model10.fit([x_train2_int_np,x_train2_mask_np],\n",
        "                    y_train2,\n",
        "                    epochs=10,\n",
        "                    batch_size=8,\n",
        "                    validation_data=([x_val2_int_np,x_val2_mask_np], y_val2),\n",
        "                    verbose=1)"
      ]
    },
    {
      "cell_type": "code",
      "execution_count": null,
      "metadata": {
        "id": "VLj-nEaQweTR"
      },
      "outputs": [],
      "source": [
        "y_pred10 = model10.predict([x_test2_int_np,x_test2_mask_np],batch_size=512)"
      ]
    },
    {
      "cell_type": "code",
      "execution_count": null,
      "metadata": {
        "id": "nxw-DpT_weTR",
        "colab": {
          "base_uri": "https://localhost:8080/",
          "height": 759
        },
        "outputId": "065b2ac6-dfa6-49a0-b0f0-6e94e21d4ece"
      },
      "outputs": [
        {
          "output_type": "stream",
          "name": "stdout",
          "text": [
            "              precision    recall  f1-score   support\n",
            "\n",
            "           0     0.3889    0.4558    0.4197       215\n",
            "           1     0.4426    0.4091    0.4252       198\n",
            "           2     0.5385    0.1867    0.2772       150\n",
            "           3     0.4435    0.3893    0.4146       262\n",
            "           4     0.5521    0.5405    0.5463       333\n",
            "           5     0.6807    0.7552    0.7160      1050\n",
            "\n",
            "    accuracy                         0.5806      2208\n",
            "   macro avg     0.5077    0.4561    0.4665      2208\n",
            "weighted avg     0.5737    0.5806    0.5699      2208\n",
            "\n"
          ]
        },
        {
          "output_type": "display_data",
          "data": {
            "text/plain": [
              "<Figure size 360x360 with 1 Axes>"
            ],
            "image/png": "[encoded data removed]"
          },
          "metadata": {
            "needs_background": "light"
          }
        }
      ],
      "source": [
        "from sklearn.metrics import classification_report, accuracy_score\n",
        "y_pred10_bool = np.argmax(y_pred10, axis=1)\n",
        "print(classification_report(np.argmax(y_test2, axis=1), y_pred10_bool,digits=4))\n",
        "#print(\"Accuracy: \" + str(accuracy_score(y_test1, y_pred10_bool)))\n",
        "\n",
        "# Build the confusion matrix off these predictions\n",
        "import seaborn as sns\n",
        "from sklearn.metrics import confusion_matrix\n",
        "import pandas as pd\n",
        "matrix = confusion_matrix(np.argmax(y_test2, axis=1), y_pred10_bool)\n",
        "fig, ax = plt.subplots(figsize=(5,5))\n",
        "plot = sns.heatmap(matrix, square=True, annot=True, cmap='Blues', fmt='d', cbar=False, linewidths=10, ax=ax, annot_kws={\"size\":10},xticklabels=['non-sexist','ideological-inequality','stereotyping-dominance','objectification', 'sexual-violence', 'misogyny-non-sexual-violence'], yticklabels=['non-sexist','ideological-inequality','stereotyping-dominance','objectification', 'sexual-violence', 'misogyny-non-sexual-violence'])\n",
        "plot.set_title('Confusion Matrix\\n\\n');\n",
        "plot.set_xlabel('\\nPrediction')\n",
        "plot.set_ylabel('\\nTruth');"
      ]
    }
  ],
  "metadata": {
    "accelerator": "TPU",
    "colab": {
      "name": "Basic_Model_task2_v3.ipynb",
      "provenance": [],
      "collapsed_sections": [
        "rFNX6aPUcuFT",
        "FX6W8qEacg5t",
        "IXZ2k2WtUCtp",
        "fgyflpJf37ug",
        "hhDgNmOXejWd",
        "S7l4XMielPYd",
        "xG5Kw_XvlzOs",
        "aKgS-DHkmRvD",
        "gUqlYDJjuI_k",
        "qKpJDt4fhAlj",
        "Pp2Ek8U8UjBn",
        "QjrEeUNJwrVJ",
        "VrMT-jGrf8_t",
        "Us6c8Srf8qkD"
      ],
      "toc_visible": true
    },
    "gpuClass": "standard",
    "kernelspec": {
      "display_name": "Python 3",
      "name": "python3"
    },
    "language_info": {
      "name": "python"
    },
    "widgets": {
      "application/vnd.jupyter.widget-state+json": {
        "bdd1152292464445827c13888811126b": {
          "model_module": "@jupyter-widgets/controls",
          "model_name": "HBoxModel",
          "model_module_version": "1.5.0",
          "state": {
            "_dom_classes": [],
            "_model_module": "@jupyter-widgets/controls",
            "_model_module_version": "1.5.0",
            "_model_name": "HBoxModel",
            "_view_count": null,
            "_view_module": "@jupyter-widgets/controls",
            "_view_module_version": "1.5.0",
            "_view_name": "HBoxView",
            "box_style": "",
            "children": [
              "IPY_MODEL_8658de2bf70d4d549bebc16191c0cc27",
              "IPY_MODEL_41502bb4f88546419058e17b18e03984",
              "IPY_MODEL_4208a0ab7f9345cb982ae69987684d78"
            ],
            "layout": "IPY_MODEL_69d659a1b6ae471d9a9d4154c4856235"
          }
        },
        "8658de2bf70d4d549bebc16191c0cc27": {
          "model_module": "@jupyter-widgets/controls",
          "model_name": "HTMLModel",
          "model_module_version": "1.5.0",
          "state": {
            "_dom_classes": [],
            "_model_module": "@jupyter-widgets/controls",
            "_model_module_version": "1.5.0",
            "_model_name": "HTMLModel",
            "_view_count": null,
            "_view_module": "@jupyter-widgets/controls",
            "_view_module_version": "1.5.0",
            "_view_name": "HTMLView",
            "description": "",
            "description_tooltip": null,
            "layout": "IPY_MODEL_4479c341e1484e71aeb9f182c07361ca",
            "placeholder": "​",
            "style": "IPY_MODEL_b2f197b36f2648a88c60dc64f776fc08",
            "value": "Downloading vocab.txt: 100%"
          }
        },
        "41502bb4f88546419058e17b18e03984": {
          "model_module": "@jupyter-widgets/controls",
          "model_name": "FloatProgressModel",
          "model_module_version": "1.5.0",
          "state": {
            "_dom_classes": [],
            "_model_module": "@jupyter-widgets/controls",
            "_model_module_version": "1.5.0",
            "_model_name": "FloatProgressModel",
            "_view_count": null,
            "_view_module": "@jupyter-widgets/controls",
            "_view_module_version": "1.5.0",
            "_view_name": "ProgressView",
            "bar_style": "success",
            "description": "",
            "description_tooltip": null,
            "layout": "IPY_MODEL_40206696d9474fc499dba187171aedbc",
            "max": 231508,
            "min": 0,
            "orientation": "horizontal",
            "style": "IPY_MODEL_e510d96a63e8472e801e875def1713e6",
            "value": 231508
          }
        },
        "4208a0ab7f9345cb982ae69987684d78": {
          "model_module": "@jupyter-widgets/controls",
          "model_name": "HTMLModel",
          "model_module_version": "1.5.0",
          "state": {
            "_dom_classes": [],
            "_model_module": "@jupyter-widgets/controls",
            "_model_module_version": "1.5.0",
            "_model_name": "HTMLModel",
            "_view_count": null,
            "_view_module": "@jupyter-widgets/controls",
            "_view_module_version": "1.5.0",
            "_view_name": "HTMLView",
            "description": "",
            "description_tooltip": null,
            "layout": "IPY_MODEL_c8339fd91815472298a3dde143b053f7",
            "placeholder": "​",
            "style": "IPY_MODEL_632175524bc54f41b51d58179478a696",
            "value": " 226k/226k [00:00&lt;00:00, 1.05MB/s]"
          }
        },
        "69d659a1b6ae471d9a9d4154c4856235": {
          "model_module": "@jupyter-widgets/base",
          "model_name": "LayoutModel",
          "model_module_version": "1.2.0",
          "state": {
            "_model_module": "@jupyter-widgets/base",
            "_model_module_version": "1.2.0",
            "_model_name": "LayoutModel",
            "_view_count": null,
            "_view_module": "@jupyter-widgets/base",
            "_view_module_version": "1.2.0",
            "_view_name": "LayoutView",
            "align_content": null,
            "align_items": null,
            "align_self": null,
            "border": null,
            "bottom": null,
            "display": null,
            "flex": null,
            "flex_flow": null,
            "grid_area": null,
            "grid_auto_columns": null,
            "grid_auto_flow": null,
            "grid_auto_rows": null,
            "grid_column": null,
            "grid_gap": null,
            "grid_row": null,
            "grid_template_areas": null,
            "grid_template_columns": null,
            "grid_template_rows": null,
            "height": null,
            "justify_content": null,
            "justify_items": null,
            "left": null,
            "margin": null,
            "max_height": null,
            "max_width": null,
            "min_height": null,
            "min_width": null,
            "object_fit": null,
            "object_position": null,
            "order": null,
            "overflow": null,
            "overflow_x": null,
            "overflow_y": null,
            "padding": null,
            "right": null,
            "top": null,
            "visibility": null,
            "width": null
          }
        },
        "4479c341e1484e71aeb9f182c07361ca": {
          "model_module": "@jupyter-widgets/base",
          "model_name": "LayoutModel",
          "model_module_version": "1.2.0",
          "state": {
            "_model_module": "@jupyter-widgets/base",
            "_model_module_version": "1.2.0",
            "_model_name": "LayoutModel",
            "_view_count": null,
            "_view_module": "@jupyter-widgets/base",
            "_view_module_version": "1.2.0",
            "_view_name": "LayoutView",
            "align_content": null,
            "align_items": null,
            "align_self": null,
            "border": null,
            "bottom": null,
            "display": null,
            "flex": null,
            "flex_flow": null,
            "grid_area": null,
            "grid_auto_columns": null,
            "grid_auto_flow": null,
            "grid_auto_rows": null,
            "grid_column": null,
            "grid_gap": null,
            "grid_row": null,
            "grid_template_areas": null,
            "grid_template_columns": null,
            "grid_template_rows": null,
            "height": null,
            "justify_content": null,
            "justify_items": null,
            "left": null,
            "margin": null,
            "max_height": null,
            "max_width": null,
            "min_height": null,
            "min_width": null,
            "object_fit": null,
            "object_position": null,
            "order": null,
            "overflow": null,
            "overflow_x": null,
            "overflow_y": null,
            "padding": null,
            "right": null,
            "top": null,
            "visibility": null,
            "width": null
          }
        },
        "b2f197b36f2648a88c60dc64f776fc08": {
          "model_module": "@jupyter-widgets/controls",
          "model_name": "DescriptionStyleModel",
          "model_module_version": "1.5.0",
          "state": {
            "_model_module": "@jupyter-widgets/controls",
            "_model_module_version": "1.5.0",
            "_model_name": "DescriptionStyleModel",
            "_view_count": null,
            "_view_module": "@jupyter-widgets/base",
            "_view_module_version": "1.2.0",
            "_view_name": "StyleView",
            "description_width": ""
          }
        },
        "40206696d9474fc499dba187171aedbc": {
          "model_module": "@jupyter-widgets/base",
          "model_name": "LayoutModel",
          "model_module_version": "1.2.0",
          "state": {
            "_model_module": "@jupyter-widgets/base",
            "_model_module_version": "1.2.0",
            "_model_name": "LayoutModel",
            "_view_count": null,
            "_view_module": "@jupyter-widgets/base",
            "_view_module_version": "1.2.0",
            "_view_name": "LayoutView",
            "align_content": null,
            "align_items": null,
            "align_self": null,
            "border": null,
            "bottom": null,
            "display": null,
            "flex": null,
            "flex_flow": null,
            "grid_area": null,
            "grid_auto_columns": null,
            "grid_auto_flow": null,
            "grid_auto_rows": null,
            "grid_column": null,
            "grid_gap": null,
            "grid_row": null,
            "grid_template_areas": null,
            "grid_template_columns": null,
            "grid_template_rows": null,
            "height": null,
            "justify_content": null,
            "justify_items": null,
            "left": null,
            "margin": null,
            "max_height": null,
            "max_width": null,
            "min_height": null,
            "min_width": null,
            "object_fit": null,
            "object_position": null,
            "order": null,
            "overflow": null,
            "overflow_x": null,
            "overflow_y": null,
            "padding": null,
            "right": null,
            "top": null,
            "visibility": null,
            "width": null
          }
        },
        "e510d96a63e8472e801e875def1713e6": {
          "model_module": "@jupyter-widgets/controls",
          "model_name": "ProgressStyleModel",
          "model_module_version": "1.5.0",
          "state": {
            "_model_module": "@jupyter-widgets/controls",
            "_model_module_version": "1.5.0",
            "_model_name": "ProgressStyleModel",
            "_view_count": null,
            "_view_module": "@jupyter-widgets/base",
            "_view_module_version": "1.2.0",
            "_view_name": "StyleView",
            "bar_color": null,
            "description_width": ""
          }
        },
        "c8339fd91815472298a3dde143b053f7": {
          "model_module": "@jupyter-widgets/base",
          "model_name": "LayoutModel",
          "model_module_version": "1.2.0",
          "state": {
            "_model_module": "@jupyter-widgets/base",
            "_model_module_version": "1.2.0",
            "_model_name": "LayoutModel",
            "_view_count": null,
            "_view_module": "@jupyter-widgets/base",
            "_view_module_version": "1.2.0",
            "_view_name": "LayoutView",
            "align_content": null,
            "align_items": null,
            "align_self": null,
            "border": null,
            "bottom": null,
            "display": null,
            "flex": null,
            "flex_flow": null,
            "grid_area": null,
            "grid_auto_columns": null,
            "grid_auto_flow": null,
            "grid_auto_rows": null,
            "grid_column": null,
            "grid_gap": null,
            "grid_row": null,
            "grid_template_areas": null,
            "grid_template_columns": null,
            "grid_template_rows": null,
            "height": null,
            "justify_content": null,
            "justify_items": null,
            "left": null,
            "margin": null,
            "max_height": null,
            "max_width": null,
            "min_height": null,
            "min_width": null,
            "object_fit": null,
            "object_position": null,
            "order": null,
            "overflow": null,
            "overflow_x": null,
            "overflow_y": null,
            "padding": null,
            "right": null,
            "top": null,
            "visibility": null,
            "width": null
          }
        },
        "632175524bc54f41b51d58179478a696": {
          "model_module": "@jupyter-widgets/controls",
          "model_name": "DescriptionStyleModel",
          "model_module_version": "1.5.0",
          "state": {
            "_model_module": "@jupyter-widgets/controls",
            "_model_module_version": "1.5.0",
            "_model_name": "DescriptionStyleModel",
            "_view_count": null,
            "_view_module": "@jupyter-widgets/base",
            "_view_module_version": "1.2.0",
            "_view_name": "StyleView",
            "description_width": ""
          }
        },
        "6cf91362c8ed42acbf599998c4b655e7": {
          "model_module": "@jupyter-widgets/controls",
          "model_name": "HBoxModel",
          "model_module_version": "1.5.0",
          "state": {
            "_dom_classes": [],
            "_model_module": "@jupyter-widgets/controls",
            "_model_module_version": "1.5.0",
            "_model_name": "HBoxModel",
            "_view_count": null,
            "_view_module": "@jupyter-widgets/controls",
            "_view_module_version": "1.5.0",
            "_view_name": "HBoxView",
            "box_style": "",
            "children": [
              "IPY_MODEL_7f05625bce7a4264b13757fe92811f7d",
              "IPY_MODEL_4252c5cf85d54e6288ce8da34a3fdf36",
              "IPY_MODEL_3fd6c50b65d7408f88f9a5ec0c853719"
            ],
            "layout": "IPY_MODEL_63defdd96e39488ba1997d0ceecdaf7b"
          }
        },
        "7f05625bce7a4264b13757fe92811f7d": {
          "model_module": "@jupyter-widgets/controls",
          "model_name": "HTMLModel",
          "model_module_version": "1.5.0",
          "state": {
            "_dom_classes": [],
            "_model_module": "@jupyter-widgets/controls",
            "_model_module_version": "1.5.0",
            "_model_name": "HTMLModel",
            "_view_count": null,
            "_view_module": "@jupyter-widgets/controls",
            "_view_module_version": "1.5.0",
            "_view_name": "HTMLView",
            "description": "",
            "description_tooltip": null,
            "layout": "IPY_MODEL_16520263527745d6b84d69f9693c12db",
            "placeholder": "​",
            "style": "IPY_MODEL_f99a660c5f394da68c7544054af515e4",
            "value": "Downloading tokenizer_config.json: 100%"
          }
        },
        "4252c5cf85d54e6288ce8da34a3fdf36": {
          "model_module": "@jupyter-widgets/controls",
          "model_name": "FloatProgressModel",
          "model_module_version": "1.5.0",
          "state": {
            "_dom_classes": [],
            "_model_module": "@jupyter-widgets/controls",
            "_model_module_version": "1.5.0",
            "_model_name": "FloatProgressModel",
            "_view_count": null,
            "_view_module": "@jupyter-widgets/controls",
            "_view_module_version": "1.5.0",
            "_view_name": "ProgressView",
            "bar_style": "success",
            "description": "",
            "description_tooltip": null,
            "layout": "IPY_MODEL_469bda556f6c4604be0c11c6e2b02167",
            "max": 28,
            "min": 0,
            "orientation": "horizontal",
            "style": "IPY_MODEL_145235ed2ed94ac5b1c3f05318c5c2fd",
            "value": 28
          }
        },
        "3fd6c50b65d7408f88f9a5ec0c853719": {
          "model_module": "@jupyter-widgets/controls",
          "model_name": "HTMLModel",
          "model_module_version": "1.5.0",
          "state": {
            "_dom_classes": [],
            "_model_module": "@jupyter-widgets/controls",
            "_model_module_version": "1.5.0",
            "_model_name": "HTMLModel",
            "_view_count": null,
            "_view_module": "@jupyter-widgets/controls",
            "_view_module_version": "1.5.0",
            "_view_name": "HTMLView",
            "description": "",
            "description_tooltip": null,
            "layout": "IPY_MODEL_9b69ea60ae5e43d495da81983e952955",
            "placeholder": "​",
            "style": "IPY_MODEL_8be1017f1c6342299596a69b561398e9",
            "value": " 28.0/28.0 [00:00&lt;00:00, 423B/s]"
          }
        },
        "63defdd96e39488ba1997d0ceecdaf7b": {
          "model_module": "@jupyter-widgets/base",
          "model_name": "LayoutModel",
          "model_module_version": "1.2.0",
          "state": {
            "_model_module": "@jupyter-widgets/base",
            "_model_module_version": "1.2.0",
            "_model_name": "LayoutModel",
            "_view_count": null,
            "_view_module": "@jupyter-widgets/base",
            "_view_module_version": "1.2.0",
            "_view_name": "LayoutView",
            "align_content": null,
            "align_items": null,
            "align_self": null,
            "border": null,
            "bottom": null,
            "display": null,
            "flex": null,
            "flex_flow": null,
            "grid_area": null,
            "grid_auto_columns": null,
            "grid_auto_flow": null,
            "grid_auto_rows": null,
            "grid_column": null,
            "grid_gap": null,
            "grid_row": null,
            "grid_template_areas": null,
            "grid_template_columns": null,
            "grid_template_rows": null,
            "height": null,
            "justify_content": null,
            "justify_items": null,
            "left": null,
            "margin": null,
            "max_height": null,
            "max_width": null,
            "min_height": null,
            "min_width": null,
            "object_fit": null,
            "object_position": null,
            "order": null,
            "overflow": null,
            "overflow_x": null,
            "overflow_y": null,
            "padding": null,
            "right": null,
            "top": null,
            "visibility": null,
            "width": null
          }
        },
        "16520263527745d6b84d69f9693c12db": {
          "model_module": "@jupyter-widgets/base",
          "model_name": "LayoutModel",
          "model_module_version": "1.2.0",
          "state": {
            "_model_module": "@jupyter-widgets/base",
            "_model_module_version": "1.2.0",
            "_model_name": "LayoutModel",
            "_view_count": null,
            "_view_module": "@jupyter-widgets/base",
            "_view_module_version": "1.2.0",
            "_view_name": "LayoutView",
            "align_content": null,
            "align_items": null,
            "align_self": null,
            "border": null,
            "bottom": null,
            "display": null,
            "flex": null,
            "flex_flow": null,
            "grid_area": null,
            "grid_auto_columns": null,
            "grid_auto_flow": null,
            "grid_auto_rows": null,
            "grid_column": null,
            "grid_gap": null,
            "grid_row": null,
            "grid_template_areas": null,
            "grid_template_columns": null,
            "grid_template_rows": null,
            "height": null,
            "justify_content": null,
            "justify_items": null,
            "left": null,
            "margin": null,
            "max_height": null,
            "max_width": null,
            "min_height": null,
            "min_width": null,
            "object_fit": null,
            "object_position": null,
            "order": null,
            "overflow": null,
            "overflow_x": null,
            "overflow_y": null,
            "padding": null,
            "right": null,
            "top": null,
            "visibility": null,
            "width": null
          }
        },
        "f99a660c5f394da68c7544054af515e4": {
          "model_module": "@jupyter-widgets/controls",
          "model_name": "DescriptionStyleModel",
          "model_module_version": "1.5.0",
          "state": {
            "_model_module": "@jupyter-widgets/controls",
            "_model_module_version": "1.5.0",
            "_model_name": "DescriptionStyleModel",
            "_view_count": null,
            "_view_module": "@jupyter-widgets/base",
            "_view_module_version": "1.2.0",
            "_view_name": "StyleView",
            "description_width": ""
          }
        },
        "469bda556f6c4604be0c11c6e2b02167": {
          "model_module": "@jupyter-widgets/base",
          "model_name": "LayoutModel",
          "model_module_version": "1.2.0",
          "state": {
            "_model_module": "@jupyter-widgets/base",
            "_model_module_version": "1.2.0",
            "_model_name": "LayoutModel",
            "_view_count": null,
            "_view_module": "@jupyter-widgets/base",
            "_view_module_version": "1.2.0",
            "_view_name": "LayoutView",
            "align_content": null,
            "align_items": null,
            "align_self": null,
            "border": null,
            "bottom": null,
            "display": null,
            "flex": null,
            "flex_flow": null,
            "grid_area": null,
            "grid_auto_columns": null,
            "grid_auto_flow": null,
            "grid_auto_rows": null,
            "grid_column": null,
            "grid_gap": null,
            "grid_row": null,
            "grid_template_areas": null,
            "grid_template_columns": null,
            "grid_template_rows": null,
            "height": null,
            "justify_content": null,
            "justify_items": null,
            "left": null,
            "margin": null,
            "max_height": null,
            "max_width": null,
            "min_height": null,
            "min_width": null,
            "object_fit": null,
            "object_position": null,
            "order": null,
            "overflow": null,
            "overflow_x": null,
            "overflow_y": null,
            "padding": null,
            "right": null,
            "top": null,
            "visibility": null,
            "width": null
          }
        },
        "145235ed2ed94ac5b1c3f05318c5c2fd": {
          "model_module": "@jupyter-widgets/controls",
          "model_name": "ProgressStyleModel",
          "model_module_version": "1.5.0",
          "state": {
            "_model_module": "@jupyter-widgets/controls",
            "_model_module_version": "1.5.0",
            "_model_name": "ProgressStyleModel",
            "_view_count": null,
            "_view_module": "@jupyter-widgets/base",
            "_view_module_version": "1.2.0",
            "_view_name": "StyleView",
            "bar_color": null,
            "description_width": ""
          }
        },
        "9b69ea60ae5e43d495da81983e952955": {
          "model_module": "@jupyter-widgets/base",
          "model_name": "LayoutModel",
          "model_module_version": "1.2.0",
          "state": {
            "_model_module": "@jupyter-widgets/base",
            "_model_module_version": "1.2.0",
            "_model_name": "LayoutModel",
            "_view_count": null,
            "_view_module": "@jupyter-widgets/base",
            "_view_module_version": "1.2.0",
            "_view_name": "LayoutView",
            "align_content": null,
            "align_items": null,
            "align_self": null,
            "border": null,
            "bottom": null,
            "display": null,
            "flex": null,
            "flex_flow": null,
            "grid_area": null,
            "grid_auto_columns": null,
            "grid_auto_flow": null,
            "grid_auto_rows": null,
            "grid_column": null,
            "grid_gap": null,
            "grid_row": null,
            "grid_template_areas": null,
            "grid_template_columns": null,
            "grid_template_rows": null,
            "height": null,
            "justify_content": null,
            "justify_items": null,
            "left": null,
            "margin": null,
            "max_height": null,
            "max_width": null,
            "min_height": null,
            "min_width": null,
            "object_fit": null,
            "object_position": null,
            "order": null,
            "overflow": null,
            "overflow_x": null,
            "overflow_y": null,
            "padding": null,
            "right": null,
            "top": null,
            "visibility": null,
            "width": null
          }
        },
        "8be1017f1c6342299596a69b561398e9": {
          "model_module": "@jupyter-widgets/controls",
          "model_name": "DescriptionStyleModel",
          "model_module_version": "1.5.0",
          "state": {
            "_model_module": "@jupyter-widgets/controls",
            "_model_module_version": "1.5.0",
            "_model_name": "DescriptionStyleModel",
            "_view_count": null,
            "_view_module": "@jupyter-widgets/base",
            "_view_module_version": "1.2.0",
            "_view_name": "StyleView",
            "description_width": ""
          }
        },
        "62d2e996ff224f4b8657a999cd641072": {
          "model_module": "@jupyter-widgets/controls",
          "model_name": "HBoxModel",
          "model_module_version": "1.5.0",
          "state": {
            "_dom_classes": [],
            "_model_module": "@jupyter-widgets/controls",
            "_model_module_version": "1.5.0",
            "_model_name": "HBoxModel",
            "_view_count": null,
            "_view_module": "@jupyter-widgets/controls",
            "_view_module_version": "1.5.0",
            "_view_name": "HBoxView",
            "box_style": "",
            "children": [
              "IPY_MODEL_be7d5524dc6f49c7bca603ab67f5784d",
              "IPY_MODEL_dac7aefc6b5b449e987ee4dd9f005d35",
              "IPY_MODEL_0cdcaba3e58b4108a75556731d0ea22b"
            ],
            "layout": "IPY_MODEL_9f32405e8056447187cbbc0a4e802a2f"
          }
        },
        "be7d5524dc6f49c7bca603ab67f5784d": {
          "model_module": "@jupyter-widgets/controls",
          "model_name": "HTMLModel",
          "model_module_version": "1.5.0",
          "state": {
            "_dom_classes": [],
            "_model_module": "@jupyter-widgets/controls",
            "_model_module_version": "1.5.0",
            "_model_name": "HTMLModel",
            "_view_count": null,
            "_view_module": "@jupyter-widgets/controls",
            "_view_module_version": "1.5.0",
            "_view_name": "HTMLView",
            "description": "",
            "description_tooltip": null,
            "layout": "IPY_MODEL_9fe217c75d56446582265bca9d79c507",
            "placeholder": "​",
            "style": "IPY_MODEL_af9d5b199dfb4e5a9a746d61788b5508",
            "value": "Downloading config.json: 100%"
          }
        },
        "dac7aefc6b5b449e987ee4dd9f005d35": {
          "model_module": "@jupyter-widgets/controls",
          "model_name": "FloatProgressModel",
          "model_module_version": "1.5.0",
          "state": {
            "_dom_classes": [],
            "_model_module": "@jupyter-widgets/controls",
            "_model_module_version": "1.5.0",
            "_model_name": "FloatProgressModel",
            "_view_count": null,
            "_view_module": "@jupyter-widgets/controls",
            "_view_module_version": "1.5.0",
            "_view_name": "ProgressView",
            "bar_style": "success",
            "description": "",
            "description_tooltip": null,
            "layout": "IPY_MODEL_c0abc500e2934ec1aba9aa7fc74fe6f7",
            "max": 483,
            "min": 0,
            "orientation": "horizontal",
            "style": "IPY_MODEL_7d01ee4c1fbc4c988a5055bf2bd62d03",
            "value": 483
          }
        },
        "0cdcaba3e58b4108a75556731d0ea22b": {
          "model_module": "@jupyter-widgets/controls",
          "model_name": "HTMLModel",
          "model_module_version": "1.5.0",
          "state": {
            "_dom_classes": [],
            "_model_module": "@jupyter-widgets/controls",
            "_model_module_version": "1.5.0",
            "_model_name": "HTMLModel",
            "_view_count": null,
            "_view_module": "@jupyter-widgets/controls",
            "_view_module_version": "1.5.0",
            "_view_name": "HTMLView",
            "description": "",
            "description_tooltip": null,
            "layout": "IPY_MODEL_6aca0bc7564945f4ae4afc8da63fc100",
            "placeholder": "​",
            "style": "IPY_MODEL_e3e0986d60a14508ad50a3d1ee1ca78c",
            "value": " 483/483 [00:00&lt;00:00, 9.09kB/s]"
          }
        },
        "9f32405e8056447187cbbc0a4e802a2f": {
          "model_module": "@jupyter-widgets/base",
          "model_name": "LayoutModel",
          "model_module_version": "1.2.0",
          "state": {
            "_model_module": "@jupyter-widgets/base",
            "_model_module_version": "1.2.0",
            "_model_name": "LayoutModel",
            "_view_count": null,
            "_view_module": "@jupyter-widgets/base",
            "_view_module_version": "1.2.0",
            "_view_name": "LayoutView",
            "align_content": null,
            "align_items": null,
            "align_self": null,
            "border": null,
            "bottom": null,
            "display": null,
            "flex": null,
            "flex_flow": null,
            "grid_area": null,
            "grid_auto_columns": null,
            "grid_auto_flow": null,
            "grid_auto_rows": null,
            "grid_column": null,
            "grid_gap": null,
            "grid_row": null,
            "grid_template_areas": null,
            "grid_template_columns": null,
            "grid_template_rows": null,
            "height": null,
            "justify_content": null,
            "justify_items": null,
            "left": null,
            "margin": null,
            "max_height": null,
            "max_width": null,
            "min_height": null,
            "min_width": null,
            "object_fit": null,
            "object_position": null,
            "order": null,
            "overflow": null,
            "overflow_x": null,
            "overflow_y": null,
            "padding": null,
            "right": null,
            "top": null,
            "visibility": null,
            "width": null
          }
        },
        "9fe217c75d56446582265bca9d79c507": {
          "model_module": "@jupyter-widgets/base",
          "model_name": "LayoutModel",
          "model_module_version": "1.2.0",
          "state": {
            "_model_module": "@jupyter-widgets/base",
            "_model_module_version": "1.2.0",
            "_model_name": "LayoutModel",
            "_view_count": null,
            "_view_module": "@jupyter-widgets/base",
            "_view_module_version": "1.2.0",
            "_view_name": "LayoutView",
            "align_content": null,
            "align_items": null,
            "align_self": null,
            "border": null,
            "bottom": null,
            "display": null,
            "flex": null,
            "flex_flow": null,
            "grid_area": null,
            "grid_auto_columns": null,
            "grid_auto_flow": null,
            "grid_auto_rows": null,
            "grid_column": null,
            "grid_gap": null,
            "grid_row": null,
            "grid_template_areas": null,
            "grid_template_columns": null,
            "grid_template_rows": null,
            "height": null,
            "justify_content": null,
            "justify_items": null,
            "left": null,
            "margin": null,
            "max_height": null,
            "max_width": null,
            "min_height": null,
            "min_width": null,
            "object_fit": null,
            "object_position": null,
            "order": null,
            "overflow": null,
            "overflow_x": null,
            "overflow_y": null,
            "padding": null,
            "right": null,
            "top": null,
            "visibility": null,
            "width": null
          }
        },
        "af9d5b199dfb4e5a9a746d61788b5508": {
          "model_module": "@jupyter-widgets/controls",
          "model_name": "DescriptionStyleModel",
          "model_module_version": "1.5.0",
          "state": {
            "_model_module": "@jupyter-widgets/controls",
            "_model_module_version": "1.5.0",
            "_model_name": "DescriptionStyleModel",
            "_view_count": null,
            "_view_module": "@jupyter-widgets/base",
            "_view_module_version": "1.2.0",
            "_view_name": "StyleView",
            "description_width": ""
          }
        },
        "c0abc500e2934ec1aba9aa7fc74fe6f7": {
          "model_module": "@jupyter-widgets/base",
          "model_name": "LayoutModel",
          "model_module_version": "1.2.0",
          "state": {
            "_model_module": "@jupyter-widgets/base",
            "_model_module_version": "1.2.0",
            "_model_name": "LayoutModel",
            "_view_count": null,
            "_view_module": "@jupyter-widgets/base",
            "_view_module_version": "1.2.0",
            "_view_name": "LayoutView",
            "align_content": null,
            "align_items": null,
            "align_self": null,
            "border": null,
            "bottom": null,
            "display": null,
            "flex": null,
            "flex_flow": null,
            "grid_area": null,
            "grid_auto_columns": null,
            "grid_auto_flow": null,
            "grid_auto_rows": null,
            "grid_column": null,
            "grid_gap": null,
            "grid_row": null,
            "grid_template_areas": null,
            "grid_template_columns": null,
            "grid_template_rows": null,
            "height": null,
            "justify_content": null,
            "justify_items": null,
            "left": null,
            "margin": null,
            "max_height": null,
            "max_width": null,
            "min_height": null,
            "min_width": null,
            "object_fit": null,
            "object_position": null,
            "order": null,
            "overflow": null,
            "overflow_x": null,
            "overflow_y": null,
            "padding": null,
            "right": null,
            "top": null,
            "visibility": null,
            "width": null
          }
        },
        "7d01ee4c1fbc4c988a5055bf2bd62d03": {
          "model_module": "@jupyter-widgets/controls",
          "model_name": "ProgressStyleModel",
          "model_module_version": "1.5.0",
          "state": {
            "_model_module": "@jupyter-widgets/controls",
            "_model_module_version": "1.5.0",
            "_model_name": "ProgressStyleModel",
            "_view_count": null,
            "_view_module": "@jupyter-widgets/base",
            "_view_module_version": "1.2.0",
            "_view_name": "StyleView",
            "bar_color": null,
            "description_width": ""
          }
        },
        "6aca0bc7564945f4ae4afc8da63fc100": {
          "model_module": "@jupyter-widgets/base",
          "model_name": "LayoutModel",
          "model_module_version": "1.2.0",
          "state": {
            "_model_module": "@jupyter-widgets/base",
            "_model_module_version": "1.2.0",
            "_model_name": "LayoutModel",
            "_view_count": null,
            "_view_module": "@jupyter-widgets/base",
            "_view_module_version": "1.2.0",
            "_view_name": "LayoutView",
            "align_content": null,
            "align_items": null,
            "align_self": null,
            "border": null,
            "bottom": null,
            "display": null,
            "flex": null,
            "flex_flow": null,
            "grid_area": null,
            "grid_auto_columns": null,
            "grid_auto_flow": null,
            "grid_auto_rows": null,
            "grid_column": null,
            "grid_gap": null,
            "grid_row": null,
            "grid_template_areas": null,
            "grid_template_columns": null,
            "grid_template_rows": null,
            "height": null,
            "justify_content": null,
            "justify_items": null,
            "left": null,
            "margin": null,
            "max_height": null,
            "max_width": null,
            "min_height": null,
            "min_width": null,
            "object_fit": null,
            "object_position": null,
            "order": null,
            "overflow": null,
            "overflow_x": null,
            "overflow_y": null,
            "padding": null,
            "right": null,
            "top": null,
            "visibility": null,
            "width": null
          }
        },
        "e3e0986d60a14508ad50a3d1ee1ca78c": {
          "model_module": "@jupyter-widgets/controls",
          "model_name": "DescriptionStyleModel",
          "model_module_version": "1.5.0",
          "state": {
            "_model_module": "@jupyter-widgets/controls",
            "_model_module_version": "1.5.0",
            "_model_name": "DescriptionStyleModel",
            "_view_count": null,
            "_view_module": "@jupyter-widgets/base",
            "_view_module_version": "1.2.0",
            "_view_name": "StyleView",
            "description_width": ""
          }
        },
        "e4b277cfcdde4ae5bfcfb3853b5fdacf": {
          "model_module": "@jupyter-widgets/controls",
          "model_name": "HBoxModel",
          "model_module_version": "1.5.0",
          "state": {
            "_dom_classes": [],
            "_model_module": "@jupyter-widgets/controls",
            "_model_module_version": "1.5.0",
            "_model_name": "HBoxModel",
            "_view_count": null,
            "_view_module": "@jupyter-widgets/controls",
            "_view_module_version": "1.5.0",
            "_view_name": "HBoxView",
            "box_style": "",
            "children": [
              "IPY_MODEL_4bf8c0baa2f444419f55e07aa19a2c1a",
              "IPY_MODEL_3409ed2b991a44a8a63fc169fd2fd100",
              "IPY_MODEL_80bf68ade34143d6be14f167a575f717"
            ],
            "layout": "IPY_MODEL_66702c95b21849f8a2c3dc3d3f45b126"
          }
        },
        "4bf8c0baa2f444419f55e07aa19a2c1a": {
          "model_module": "@jupyter-widgets/controls",
          "model_name": "HTMLModel",
          "model_module_version": "1.5.0",
          "state": {
            "_dom_classes": [],
            "_model_module": "@jupyter-widgets/controls",
            "_model_module_version": "1.5.0",
            "_model_name": "HTMLModel",
            "_view_count": null,
            "_view_module": "@jupyter-widgets/controls",
            "_view_module_version": "1.5.0",
            "_view_name": "HTMLView",
            "description": "",
            "description_tooltip": null,
            "layout": "IPY_MODEL_56e609db2cb24bea9fc5fc4254454f0b",
            "placeholder": "​",
            "style": "IPY_MODEL_4bc07af174c14b4bb17c039edbbc2239",
            "value": "Downloading tf_model.h5: 100%"
          }
        },
        "3409ed2b991a44a8a63fc169fd2fd100": {
          "model_module": "@jupyter-widgets/controls",
          "model_name": "FloatProgressModel",
          "model_module_version": "1.5.0",
          "state": {
            "_dom_classes": [],
            "_model_module": "@jupyter-widgets/controls",
            "_model_module_version": "1.5.0",
            "_model_name": "FloatProgressModel",
            "_view_count": null,
            "_view_module": "@jupyter-widgets/controls",
            "_view_module_version": "1.5.0",
            "_view_name": "ProgressView",
            "bar_style": "success",
            "description": "",
            "description_tooltip": null,
            "layout": "IPY_MODEL_7d58bc2181dd4a848d3633ef6b45793d",
            "max": 363423424,
            "min": 0,
            "orientation": "horizontal",
            "style": "IPY_MODEL_88b788b4ca96482c97bbe11025eeb589",
            "value": 363423424
          }
        },
        "80bf68ade34143d6be14f167a575f717": {
          "model_module": "@jupyter-widgets/controls",
          "model_name": "HTMLModel",
          "model_module_version": "1.5.0",
          "state": {
            "_dom_classes": [],
            "_model_module": "@jupyter-widgets/controls",
            "_model_module_version": "1.5.0",
            "_model_name": "HTMLModel",
            "_view_count": null,
            "_view_module": "@jupyter-widgets/controls",
            "_view_module_version": "1.5.0",
            "_view_name": "HTMLView",
            "description": "",
            "description_tooltip": null,
            "layout": "IPY_MODEL_887c525f713f4f19bc83720fd808c923",
            "placeholder": "​",
            "style": "IPY_MODEL_f93ba9afd04d4ebebb7e0c9d32980a40",
            "value": " 347M/347M [00:15&lt;00:00, 50.5MB/s]"
          }
        },
        "66702c95b21849f8a2c3dc3d3f45b126": {
          "model_module": "@jupyter-widgets/base",
          "model_name": "LayoutModel",
          "model_module_version": "1.2.0",
          "state": {
            "_model_module": "@jupyter-widgets/base",
            "_model_module_version": "1.2.0",
            "_model_name": "LayoutModel",
            "_view_count": null,
            "_view_module": "@jupyter-widgets/base",
            "_view_module_version": "1.2.0",
            "_view_name": "LayoutView",
            "align_content": null,
            "align_items": null,
            "align_self": null,
            "border": null,
            "bottom": null,
            "display": null,
            "flex": null,
            "flex_flow": null,
            "grid_area": null,
            "grid_auto_columns": null,
            "grid_auto_flow": null,
            "grid_auto_rows": null,
            "grid_column": null,
            "grid_gap": null,
            "grid_row": null,
            "grid_template_areas": null,
            "grid_template_columns": null,
            "grid_template_rows": null,
            "height": null,
            "justify_content": null,
            "justify_items": null,
            "left": null,
            "margin": null,
            "max_height": null,
            "max_width": null,
            "min_height": null,
            "min_width": null,
            "object_fit": null,
            "object_position": null,
            "order": null,
            "overflow": null,
            "overflow_x": null,
            "overflow_y": null,
            "padding": null,
            "right": null,
            "top": null,
            "visibility": null,
            "width": null
          }
        },
        "56e609db2cb24bea9fc5fc4254454f0b": {
          "model_module": "@jupyter-widgets/base",
          "model_name": "LayoutModel",
          "model_module_version": "1.2.0",
          "state": {
            "_model_module": "@jupyter-widgets/base",
            "_model_module_version": "1.2.0",
            "_model_name": "LayoutModel",
            "_view_count": null,
            "_view_module": "@jupyter-widgets/base",
            "_view_module_version": "1.2.0",
            "_view_name": "LayoutView",
            "align_content": null,
            "align_items": null,
            "align_self": null,
            "border": null,
            "bottom": null,
            "display": null,
            "flex": null,
            "flex_flow": null,
            "grid_area": null,
            "grid_auto_columns": null,
            "grid_auto_flow": null,
            "grid_auto_rows": null,
            "grid_column": null,
            "grid_gap": null,
            "grid_row": null,
            "grid_template_areas": null,
            "grid_template_columns": null,
            "grid_template_rows": null,
            "height": null,
            "justify_content": null,
            "justify_items": null,
            "left": null,
            "margin": null,
            "max_height": null,
            "max_width": null,
            "min_height": null,
            "min_width": null,
            "object_fit": null,
            "object_position": null,
            "order": null,
            "overflow": null,
            "overflow_x": null,
            "overflow_y": null,
            "padding": null,
            "right": null,
            "top": null,
            "visibility": null,
            "width": null
          }
        },
        "4bc07af174c14b4bb17c039edbbc2239": {
          "model_module": "@jupyter-widgets/controls",
          "model_name": "DescriptionStyleModel",
          "model_module_version": "1.5.0",
          "state": {
            "_model_module": "@jupyter-widgets/controls",
            "_model_module_version": "1.5.0",
            "_model_name": "DescriptionStyleModel",
            "_view_count": null,
            "_view_module": "@jupyter-widgets/base",
            "_view_module_version": "1.2.0",
            "_view_name": "StyleView",
            "description_width": ""
          }
        },
        "7d58bc2181dd4a848d3633ef6b45793d": {
          "model_module": "@jupyter-widgets/base",
          "model_name": "LayoutModel",
          "model_module_version": "1.2.0",
          "state": {
            "_model_module": "@jupyter-widgets/base",
            "_model_module_version": "1.2.0",
            "_model_name": "LayoutModel",
            "_view_count": null,
            "_view_module": "@jupyter-widgets/base",
            "_view_module_version": "1.2.0",
            "_view_name": "LayoutView",
            "align_content": null,
            "align_items": null,
            "align_self": null,
            "border": null,
            "bottom": null,
            "display": null,
            "flex": null,
            "flex_flow": null,
            "grid_area": null,
            "grid_auto_columns": null,
            "grid_auto_flow": null,
            "grid_auto_rows": null,
            "grid_column": null,
            "grid_gap": null,
            "grid_row": null,
            "grid_template_areas": null,
            "grid_template_columns": null,
            "grid_template_rows": null,
            "height": null,
            "justify_content": null,
            "justify_items": null,
            "left": null,
            "margin": null,
            "max_height": null,
            "max_width": null,
            "min_height": null,
            "min_width": null,
            "object_fit": null,
            "object_position": null,
            "order": null,
            "overflow": null,
            "overflow_x": null,
            "overflow_y": null,
            "padding": null,
            "right": null,
            "top": null,
            "visibility": null,
            "width": null
          }
        },
        "88b788b4ca96482c97bbe11025eeb589": {
          "model_module": "@jupyter-widgets/controls",
          "model_name": "ProgressStyleModel",
          "model_module_version": "1.5.0",
          "state": {
            "_model_module": "@jupyter-widgets/controls",
            "_model_module_version": "1.5.0",
            "_model_name": "ProgressStyleModel",
            "_view_count": null,
            "_view_module": "@jupyter-widgets/base",
            "_view_module_version": "1.2.0",
            "_view_name": "StyleView",
            "bar_color": null,
            "description_width": ""
          }
        },
        "887c525f713f4f19bc83720fd808c923": {
          "model_module": "@jupyter-widgets/base",
          "model_name": "LayoutModel",
          "model_module_version": "1.2.0",
          "state": {
            "_model_module": "@jupyter-widgets/base",
            "_model_module_version": "1.2.0",
            "_model_name": "LayoutModel",
            "_view_count": null,
            "_view_module": "@jupyter-widgets/base",
            "_view_module_version": "1.2.0",
            "_view_name": "LayoutView",
            "align_content": null,
            "align_items": null,
            "align_self": null,
            "border": null,
            "bottom": null,
            "display": null,
            "flex": null,
            "flex_flow": null,
            "grid_area": null,
            "grid_auto_columns": null,
            "grid_auto_flow": null,
            "grid_auto_rows": null,
            "grid_column": null,
            "grid_gap": null,
            "grid_row": null,
            "grid_template_areas": null,
            "grid_template_columns": null,
            "grid_template_rows": null,
            "height": null,
            "justify_content": null,
            "justify_items": null,
            "left": null,
            "margin": null,
            "max_height": null,
            "max_width": null,
            "min_height": null,
            "min_width": null,
            "object_fit": null,
            "object_position": null,
            "order": null,
            "overflow": null,
            "overflow_x": null,
            "overflow_y": null,
            "padding": null,
            "right": null,
            "top": null,
            "visibility": null,
            "width": null
          }
        },
        "f93ba9afd04d4ebebb7e0c9d32980a40": {
          "model_module": "@jupyter-widgets/controls",
          "model_name": "DescriptionStyleModel",
          "model_module_version": "1.5.0",
          "state": {
            "_model_module": "@jupyter-widgets/controls",
            "_model_module_version": "1.5.0",
            "_model_name": "DescriptionStyleModel",
            "_view_count": null,
            "_view_module": "@jupyter-widgets/base",
            "_view_module_version": "1.2.0",
            "_view_name": "StyleView",
            "description_width": ""
          }
        },
        "ecf37fc1869b49bfb7db8a884e3abeeb": {
          "model_module": "@jupyter-widgets/controls",
          "model_name": "HBoxModel",
          "model_module_version": "1.5.0",
          "state": {
            "_dom_classes": [],
            "_model_module": "@jupyter-widgets/controls",
            "_model_module_version": "1.5.0",
            "_model_name": "HBoxModel",
            "_view_count": null,
            "_view_module": "@jupyter-widgets/controls",
            "_view_module_version": "1.5.0",
            "_view_name": "HBoxView",
            "box_style": "",
            "children": [
              "IPY_MODEL_e0311608bf6045098e19d3ef0ee69c9d",
              "IPY_MODEL_e2ed0491500a4b1f9df5906e731ec579",
              "IPY_MODEL_2209e1c5ecaf41ac9842ddc4c807d898"
            ],
            "layout": "IPY_MODEL_f0e189d288244dd5b1d864432624d215"
          }
        },
        "e0311608bf6045098e19d3ef0ee69c9d": {
          "model_module": "@jupyter-widgets/controls",
          "model_name": "HTMLModel",
          "model_module_version": "1.5.0",
          "state": {
            "_dom_classes": [],
            "_model_module": "@jupyter-widgets/controls",
            "_model_module_version": "1.5.0",
            "_model_name": "HTMLModel",
            "_view_count": null,
            "_view_module": "@jupyter-widgets/controls",
            "_view_module_version": "1.5.0",
            "_view_name": "HTMLView",
            "description": "",
            "description_tooltip": null,
            "layout": "IPY_MODEL_3041ea21f1924323970edc65aa0e0c88",
            "placeholder": "​",
            "style": "IPY_MODEL_bda8e3c522c946ebaa58fd0d46adb101",
            "value": "Downloading vocab.txt: 100%"
          }
        },
        "e2ed0491500a4b1f9df5906e731ec579": {
          "model_module": "@jupyter-widgets/controls",
          "model_name": "FloatProgressModel",
          "model_module_version": "1.5.0",
          "state": {
            "_dom_classes": [],
            "_model_module": "@jupyter-widgets/controls",
            "_model_module_version": "1.5.0",
            "_model_name": "FloatProgressModel",
            "_view_count": null,
            "_view_module": "@jupyter-widgets/controls",
            "_view_module_version": "1.5.0",
            "_view_name": "ProgressView",
            "bar_style": "success",
            "description": "",
            "description_tooltip": null,
            "layout": "IPY_MODEL_1ff8226f27a94c4a88be3bc86eb7d622",
            "max": 231508,
            "min": 0,
            "orientation": "horizontal",
            "style": "IPY_MODEL_dab62e8e304e4cbbbbe1978fddf67281",
            "value": 231508
          }
        },
        "2209e1c5ecaf41ac9842ddc4c807d898": {
          "model_module": "@jupyter-widgets/controls",
          "model_name": "HTMLModel",
          "model_module_version": "1.5.0",
          "state": {
            "_dom_classes": [],
            "_model_module": "@jupyter-widgets/controls",
            "_model_module_version": "1.5.0",
            "_model_name": "HTMLModel",
            "_view_count": null,
            "_view_module": "@jupyter-widgets/controls",
            "_view_module_version": "1.5.0",
            "_view_name": "HTMLView",
            "description": "",
            "description_tooltip": null,
            "layout": "IPY_MODEL_5c24b91954f94d90bf97e207bd36a5c1",
            "placeholder": "​",
            "style": "IPY_MODEL_5cf557af675f4eaa8d7499e4a3f10402",
            "value": " 226k/226k [00:00&lt;00:00, 1.24MB/s]"
          }
        },
        "f0e189d288244dd5b1d864432624d215": {
          "model_module": "@jupyter-widgets/base",
          "model_name": "LayoutModel",
          "model_module_version": "1.2.0",
          "state": {
            "_model_module": "@jupyter-widgets/base",
            "_model_module_version": "1.2.0",
            "_model_name": "LayoutModel",
            "_view_count": null,
            "_view_module": "@jupyter-widgets/base",
            "_view_module_version": "1.2.0",
            "_view_name": "LayoutView",
            "align_content": null,
            "align_items": null,
            "align_self": null,
            "border": null,
            "bottom": null,
            "display": null,
            "flex": null,
            "flex_flow": null,
            "grid_area": null,
            "grid_auto_columns": null,
            "grid_auto_flow": null,
            "grid_auto_rows": null,
            "grid_column": null,
            "grid_gap": null,
            "grid_row": null,
            "grid_template_areas": null,
            "grid_template_columns": null,
            "grid_template_rows": null,
            "height": null,
            "justify_content": null,
            "justify_items": null,
            "left": null,
            "margin": null,
            "max_height": null,
            "max_width": null,
            "min_height": null,
            "min_width": null,
            "object_fit": null,
            "object_position": null,
            "order": null,
            "overflow": null,
            "overflow_x": null,
            "overflow_y": null,
            "padding": null,
            "right": null,
            "top": null,
            "visibility": null,
            "width": null
          }
        },
        "3041ea21f1924323970edc65aa0e0c88": {
          "model_module": "@jupyter-widgets/base",
          "model_name": "LayoutModel",
          "model_module_version": "1.2.0",
          "state": {
            "_model_module": "@jupyter-widgets/base",
            "_model_module_version": "1.2.0",
            "_model_name": "LayoutModel",
            "_view_count": null,
            "_view_module": "@jupyter-widgets/base",
            "_view_module_version": "1.2.0",
            "_view_name": "LayoutView",
            "align_content": null,
            "align_items": null,
            "align_self": null,
            "border": null,
            "bottom": null,
            "display": null,
            "flex": null,
            "flex_flow": null,
            "grid_area": null,
            "grid_auto_columns": null,
            "grid_auto_flow": null,
            "grid_auto_rows": null,
            "grid_column": null,
            "grid_gap": null,
            "grid_row": null,
            "grid_template_areas": null,
            "grid_template_columns": null,
            "grid_template_rows": null,
            "height": null,
            "justify_content": null,
            "justify_items": null,
            "left": null,
            "margin": null,
            "max_height": null,
            "max_width": null,
            "min_height": null,
            "min_width": null,
            "object_fit": null,
            "object_position": null,
            "order": null,
            "overflow": null,
            "overflow_x": null,
            "overflow_y": null,
            "padding": null,
            "right": null,
            "top": null,
            "visibility": null,
            "width": null
          }
        },
        "bda8e3c522c946ebaa58fd0d46adb101": {
          "model_module": "@jupyter-widgets/controls",
          "model_name": "DescriptionStyleModel",
          "model_module_version": "1.5.0",
          "state": {
            "_model_module": "@jupyter-widgets/controls",
            "_model_module_version": "1.5.0",
            "_model_name": "DescriptionStyleModel",
            "_view_count": null,
            "_view_module": "@jupyter-widgets/base",
            "_view_module_version": "1.2.0",
            "_view_name": "StyleView",
            "description_width": ""
          }
        },
        "1ff8226f27a94c4a88be3bc86eb7d622": {
          "model_module": "@jupyter-widgets/base",
          "model_name": "LayoutModel",
          "model_module_version": "1.2.0",
          "state": {
            "_model_module": "@jupyter-widgets/base",
            "_model_module_version": "1.2.0",
            "_model_name": "LayoutModel",
            "_view_count": null,
            "_view_module": "@jupyter-widgets/base",
            "_view_module_version": "1.2.0",
            "_view_name": "LayoutView",
            "align_content": null,
            "align_items": null,
            "align_self": null,
            "border": null,
            "bottom": null,
            "display": null,
            "flex": null,
            "flex_flow": null,
            "grid_area": null,
            "grid_auto_columns": null,
            "grid_auto_flow": null,
            "grid_auto_rows": null,
            "grid_column": null,
            "grid_gap": null,
            "grid_row": null,
            "grid_template_areas": null,
            "grid_template_columns": null,
            "grid_template_rows": null,
            "height": null,
            "justify_content": null,
            "justify_items": null,
            "left": null,
            "margin": null,
            "max_height": null,
            "max_width": null,
            "min_height": null,
            "min_width": null,
            "object_fit": null,
            "object_position": null,
            "order": null,
            "overflow": null,
            "overflow_x": null,
            "overflow_y": null,
            "padding": null,
            "right": null,
            "top": null,
            "visibility": null,
            "width": null
          }
        },
        "dab62e8e304e4cbbbbe1978fddf67281": {
          "model_module": "@jupyter-widgets/controls",
          "model_name": "ProgressStyleModel",
          "model_module_version": "1.5.0",
          "state": {
            "_model_module": "@jupyter-widgets/controls",
            "_model_module_version": "1.5.0",
            "_model_name": "ProgressStyleModel",
            "_view_count": null,
            "_view_module": "@jupyter-widgets/base",
            "_view_module_version": "1.2.0",
            "_view_name": "StyleView",
            "bar_color": null,
            "description_width": ""
          }
        },
        "5c24b91954f94d90bf97e207bd36a5c1": {
          "model_module": "@jupyter-widgets/base",
          "model_name": "LayoutModel",
          "model_module_version": "1.2.0",
          "state": {
            "_model_module": "@jupyter-widgets/base",
            "_model_module_version": "1.2.0",
            "_model_name": "LayoutModel",
            "_view_count": null,
            "_view_module": "@jupyter-widgets/base",
            "_view_module_version": "1.2.0",
            "_view_name": "LayoutView",
            "align_content": null,
            "align_items": null,
            "align_self": null,
            "border": null,
            "bottom": null,
            "display": null,
            "flex": null,
            "flex_flow": null,
            "grid_area": null,
            "grid_auto_columns": null,
            "grid_auto_flow": null,
            "grid_auto_rows": null,
            "grid_column": null,
            "grid_gap": null,
            "grid_row": null,
            "grid_template_areas": null,
            "grid_template_columns": null,
            "grid_template_rows": null,
            "height": null,
            "justify_content": null,
            "justify_items": null,
            "left": null,
            "margin": null,
            "max_height": null,
            "max_width": null,
            "min_height": null,
            "min_width": null,
            "object_fit": null,
            "object_position": null,
            "order": null,
            "overflow": null,
            "overflow_x": null,
            "overflow_y": null,
            "padding": null,
            "right": null,
            "top": null,
            "visibility": null,
            "width": null
          }
        },
        "5cf557af675f4eaa8d7499e4a3f10402": {
          "model_module": "@jupyter-widgets/controls",
          "model_name": "DescriptionStyleModel",
          "model_module_version": "1.5.0",
          "state": {
            "_model_module": "@jupyter-widgets/controls",
            "_model_module_version": "1.5.0",
            "_model_name": "DescriptionStyleModel",
            "_view_count": null,
            "_view_module": "@jupyter-widgets/base",
            "_view_module_version": "1.2.0",
            "_view_name": "StyleView",
            "description_width": ""
          }
        },
        "576e7386a0264325bde45bad026e94ea": {
          "model_module": "@jupyter-widgets/controls",
          "model_name": "HBoxModel",
          "model_module_version": "1.5.0",
          "state": {
            "_dom_classes": [],
            "_model_module": "@jupyter-widgets/controls",
            "_model_module_version": "1.5.0",
            "_model_name": "HBoxModel",
            "_view_count": null,
            "_view_module": "@jupyter-widgets/controls",
            "_view_module_version": "1.5.0",
            "_view_name": "HBoxView",
            "box_style": "",
            "children": [
              "IPY_MODEL_1836b12dbd1f40999700eac19be007ad",
              "IPY_MODEL_ac71e153c5ee4d459a8d0af8de1158b1",
              "IPY_MODEL_26fa549b7bb943ed97a270a26eaf351e"
            ],
            "layout": "IPY_MODEL_03bb3753d9924ec38eba4fd5752f9a5a"
          }
        },
        "1836b12dbd1f40999700eac19be007ad": {
          "model_module": "@jupyter-widgets/controls",
          "model_name": "HTMLModel",
          "model_module_version": "1.5.0",
          "state": {
            "_dom_classes": [],
            "_model_module": "@jupyter-widgets/controls",
            "_model_module_version": "1.5.0",
            "_model_name": "HTMLModel",
            "_view_count": null,
            "_view_module": "@jupyter-widgets/controls",
            "_view_module_version": "1.5.0",
            "_view_name": "HTMLView",
            "description": "",
            "description_tooltip": null,
            "layout": "IPY_MODEL_dbd2fa90e0f44d74848e26a6ec666be6",
            "placeholder": "​",
            "style": "IPY_MODEL_b4b923bcdd684a73a13bf54a6290e11f",
            "value": "Downloading tokenizer_config.json: 100%"
          }
        },
        "ac71e153c5ee4d459a8d0af8de1158b1": {
          "model_module": "@jupyter-widgets/controls",
          "model_name": "FloatProgressModel",
          "model_module_version": "1.5.0",
          "state": {
            "_dom_classes": [],
            "_model_module": "@jupyter-widgets/controls",
            "_model_module_version": "1.5.0",
            "_model_name": "FloatProgressModel",
            "_view_count": null,
            "_view_module": "@jupyter-widgets/controls",
            "_view_module_version": "1.5.0",
            "_view_name": "ProgressView",
            "bar_style": "success",
            "description": "",
            "description_tooltip": null,
            "layout": "IPY_MODEL_046940c9af1f4daa99096451dd90421c",
            "max": 28,
            "min": 0,
            "orientation": "horizontal",
            "style": "IPY_MODEL_cacac563ee594da0bbc5301c11c727e3",
            "value": 28
          }
        },
        "26fa549b7bb943ed97a270a26eaf351e": {
          "model_module": "@jupyter-widgets/controls",
          "model_name": "HTMLModel",
          "model_module_version": "1.5.0",
          "state": {
            "_dom_classes": [],
            "_model_module": "@jupyter-widgets/controls",
            "_model_module_version": "1.5.0",
            "_model_name": "HTMLModel",
            "_view_count": null,
            "_view_module": "@jupyter-widgets/controls",
            "_view_module_version": "1.5.0",
            "_view_name": "HTMLView",
            "description": "",
            "description_tooltip": null,
            "layout": "IPY_MODEL_026e4e3a71684e7b8f8843f49b0f8daf",
            "placeholder": "​",
            "style": "IPY_MODEL_d16042c1e93c4c2d940155aced958536",
            "value": " 28.0/28.0 [00:00&lt;00:00, 493B/s]"
          }
        },
        "03bb3753d9924ec38eba4fd5752f9a5a": {
          "model_module": "@jupyter-widgets/base",
          "model_name": "LayoutModel",
          "model_module_version": "1.2.0",
          "state": {
            "_model_module": "@jupyter-widgets/base",
            "_model_module_version": "1.2.0",
            "_model_name": "LayoutModel",
            "_view_count": null,
            "_view_module": "@jupyter-widgets/base",
            "_view_module_version": "1.2.0",
            "_view_name": "LayoutView",
            "align_content": null,
            "align_items": null,
            "align_self": null,
            "border": null,
            "bottom": null,
            "display": null,
            "flex": null,
            "flex_flow": null,
            "grid_area": null,
            "grid_auto_columns": null,
            "grid_auto_flow": null,
            "grid_auto_rows": null,
            "grid_column": null,
            "grid_gap": null,
            "grid_row": null,
            "grid_template_areas": null,
            "grid_template_columns": null,
            "grid_template_rows": null,
            "height": null,
            "justify_content": null,
            "justify_items": null,
            "left": null,
            "margin": null,
            "max_height": null,
            "max_width": null,
            "min_height": null,
            "min_width": null,
            "object_fit": null,
            "object_position": null,
            "order": null,
            "overflow": null,
            "overflow_x": null,
            "overflow_y": null,
            "padding": null,
            "right": null,
            "top": null,
            "visibility": null,
            "width": null
          }
        },
        "dbd2fa90e0f44d74848e26a6ec666be6": {
          "model_module": "@jupyter-widgets/base",
          "model_name": "LayoutModel",
          "model_module_version": "1.2.0",
          "state": {
            "_model_module": "@jupyter-widgets/base",
            "_model_module_version": "1.2.0",
            "_model_name": "LayoutModel",
            "_view_count": null,
            "_view_module": "@jupyter-widgets/base",
            "_view_module_version": "1.2.0",
            "_view_name": "LayoutView",
            "align_content": null,
            "align_items": null,
            "align_self": null,
            "border": null,
            "bottom": null,
            "display": null,
            "flex": null,
            "flex_flow": null,
            "grid_area": null,
            "grid_auto_columns": null,
            "grid_auto_flow": null,
            "grid_auto_rows": null,
            "grid_column": null,
            "grid_gap": null,
            "grid_row": null,
            "grid_template_areas": null,
            "grid_template_columns": null,
            "grid_template_rows": null,
            "height": null,
            "justify_content": null,
            "justify_items": null,
            "left": null,
            "margin": null,
            "max_height": null,
            "max_width": null,
            "min_height": null,
            "min_width": null,
            "object_fit": null,
            "object_position": null,
            "order": null,
            "overflow": null,
            "overflow_x": null,
            "overflow_y": null,
            "padding": null,
            "right": null,
            "top": null,
            "visibility": null,
            "width": null
          }
        },
        "b4b923bcdd684a73a13bf54a6290e11f": {
          "model_module": "@jupyter-widgets/controls",
          "model_name": "DescriptionStyleModel",
          "model_module_version": "1.5.0",
          "state": {
            "_model_module": "@jupyter-widgets/controls",
            "_model_module_version": "1.5.0",
            "_model_name": "DescriptionStyleModel",
            "_view_count": null,
            "_view_module": "@jupyter-widgets/base",
            "_view_module_version": "1.2.0",
            "_view_name": "StyleView",
            "description_width": ""
          }
        },
        "046940c9af1f4daa99096451dd90421c": {
          "model_module": "@jupyter-widgets/base",
          "model_name": "LayoutModel",
          "model_module_version": "1.2.0",
          "state": {
            "_model_module": "@jupyter-widgets/base",
            "_model_module_version": "1.2.0",
            "_model_name": "LayoutModel",
            "_view_count": null,
            "_view_module": "@jupyter-widgets/base",
            "_view_module_version": "1.2.0",
            "_view_name": "LayoutView",
            "align_content": null,
            "align_items": null,
            "align_self": null,
            "border": null,
            "bottom": null,
            "display": null,
            "flex": null,
            "flex_flow": null,
            "grid_area": null,
            "grid_auto_columns": null,
            "grid_auto_flow": null,
            "grid_auto_rows": null,
            "grid_column": null,
            "grid_gap": null,
            "grid_row": null,
            "grid_template_areas": null,
            "grid_template_columns": null,
            "grid_template_rows": null,
            "height": null,
            "justify_content": null,
            "justify_items": null,
            "left": null,
            "margin": null,
            "max_height": null,
            "max_width": null,
            "min_height": null,
            "min_width": null,
            "object_fit": null,
            "object_position": null,
            "order": null,
            "overflow": null,
            "overflow_x": null,
            "overflow_y": null,
            "padding": null,
            "right": null,
            "top": null,
            "visibility": null,
            "width": null
          }
        },
        "cacac563ee594da0bbc5301c11c727e3": {
          "model_module": "@jupyter-widgets/controls",
          "model_name": "ProgressStyleModel",
          "model_module_version": "1.5.0",
          "state": {
            "_model_module": "@jupyter-widgets/controls",
            "_model_module_version": "1.5.0",
            "_model_name": "ProgressStyleModel",
            "_view_count": null,
            "_view_module": "@jupyter-widgets/base",
            "_view_module_version": "1.2.0",
            "_view_name": "StyleView",
            "bar_color": null,
            "description_width": ""
          }
        },
        "026e4e3a71684e7b8f8843f49b0f8daf": {
          "model_module": "@jupyter-widgets/base",
          "model_name": "LayoutModel",
          "model_module_version": "1.2.0",
          "state": {
            "_model_module": "@jupyter-widgets/base",
            "_model_module_version": "1.2.0",
            "_model_name": "LayoutModel",
            "_view_count": null,
            "_view_module": "@jupyter-widgets/base",
            "_view_module_version": "1.2.0",
            "_view_name": "LayoutView",
            "align_content": null,
            "align_items": null,
            "align_self": null,
            "border": null,
            "bottom": null,
            "display": null,
            "flex": null,
            "flex_flow": null,
            "grid_area": null,
            "grid_auto_columns": null,
            "grid_auto_flow": null,
            "grid_auto_rows": null,
            "grid_column": null,
            "grid_gap": null,
            "grid_row": null,
            "grid_template_areas": null,
            "grid_template_columns": null,
            "grid_template_rows": null,
            "height": null,
            "justify_content": null,
            "justify_items": null,
            "left": null,
            "margin": null,
            "max_height": null,
            "max_width": null,
            "min_height": null,
            "min_width": null,
            "object_fit": null,
            "object_position": null,
            "order": null,
            "overflow": null,
            "overflow_x": null,
            "overflow_y": null,
            "padding": null,
            "right": null,
            "top": null,
            "visibility": null,
            "width": null
          }
        },
        "d16042c1e93c4c2d940155aced958536": {
          "model_module": "@jupyter-widgets/controls",
          "model_name": "DescriptionStyleModel",
          "model_module_version": "1.5.0",
          "state": {
            "_model_module": "@jupyter-widgets/controls",
            "_model_module_version": "1.5.0",
            "_model_name": "DescriptionStyleModel",
            "_view_count": null,
            "_view_module": "@jupyter-widgets/base",
            "_view_module_version": "1.2.0",
            "_view_name": "StyleView",
            "description_width": ""
          }
        },
        "ef0d9a7766b446ecbb5fa14507142235": {
          "model_module": "@jupyter-widgets/controls",
          "model_name": "HBoxModel",
          "model_module_version": "1.5.0",
          "state": {
            "_dom_classes": [],
            "_model_module": "@jupyter-widgets/controls",
            "_model_module_version": "1.5.0",
            "_model_name": "HBoxModel",
            "_view_count": null,
            "_view_module": "@jupyter-widgets/controls",
            "_view_module_version": "1.5.0",
            "_view_name": "HBoxView",
            "box_style": "",
            "children": [
              "IPY_MODEL_ad6377f3cba040ef94d39291de199382",
              "IPY_MODEL_205bca29c69741f984c816a8bb99a085",
              "IPY_MODEL_58577fec7108455387507e3248ef5d25"
            ],
            "layout": "IPY_MODEL_f934225b2dcb43c380b2835ddeccb4f9"
          }
        },
        "ad6377f3cba040ef94d39291de199382": {
          "model_module": "@jupyter-widgets/controls",
          "model_name": "HTMLModel",
          "model_module_version": "1.5.0",
          "state": {
            "_dom_classes": [],
            "_model_module": "@jupyter-widgets/controls",
            "_model_module_version": "1.5.0",
            "_model_name": "HTMLModel",
            "_view_count": null,
            "_view_module": "@jupyter-widgets/controls",
            "_view_module_version": "1.5.0",
            "_view_name": "HTMLView",
            "description": "",
            "description_tooltip": null,
            "layout": "IPY_MODEL_35c3637faa524a4c834f42b9777efb4f",
            "placeholder": "​",
            "style": "IPY_MODEL_59f114a73c394806a95a2bbd02ec917b",
            "value": "Downloading config.json: 100%"
          }
        },
        "205bca29c69741f984c816a8bb99a085": {
          "model_module": "@jupyter-widgets/controls",
          "model_name": "FloatProgressModel",
          "model_module_version": "1.5.0",
          "state": {
            "_dom_classes": [],
            "_model_module": "@jupyter-widgets/controls",
            "_model_module_version": "1.5.0",
            "_model_name": "FloatProgressModel",
            "_view_count": null,
            "_view_module": "@jupyter-widgets/controls",
            "_view_module_version": "1.5.0",
            "_view_name": "ProgressView",
            "bar_style": "success",
            "description": "",
            "description_tooltip": null,
            "layout": "IPY_MODEL_f82f82fcf7b44d57977a39777dc94566",
            "max": 570,
            "min": 0,
            "orientation": "horizontal",
            "style": "IPY_MODEL_12ed049186514beebaee02c1b007ca80",
            "value": 570
          }
        },
        "58577fec7108455387507e3248ef5d25": {
          "model_module": "@jupyter-widgets/controls",
          "model_name": "HTMLModel",
          "model_module_version": "1.5.0",
          "state": {
            "_dom_classes": [],
            "_model_module": "@jupyter-widgets/controls",
            "_model_module_version": "1.5.0",
            "_model_name": "HTMLModel",
            "_view_count": null,
            "_view_module": "@jupyter-widgets/controls",
            "_view_module_version": "1.5.0",
            "_view_name": "HTMLView",
            "description": "",
            "description_tooltip": null,
            "layout": "IPY_MODEL_9146f6e82edb468d83a5fae98de9cf0a",
            "placeholder": "​",
            "style": "IPY_MODEL_5303a8336c1643e8a50b94438e91cf45",
            "value": " 570/570 [00:00&lt;00:00, 9.23kB/s]"
          }
        },
        "f934225b2dcb43c380b2835ddeccb4f9": {
          "model_module": "@jupyter-widgets/base",
          "model_name": "LayoutModel",
          "model_module_version": "1.2.0",
          "state": {
            "_model_module": "@jupyter-widgets/base",
            "_model_module_version": "1.2.0",
            "_model_name": "LayoutModel",
            "_view_count": null,
            "_view_module": "@jupyter-widgets/base",
            "_view_module_version": "1.2.0",
            "_view_name": "LayoutView",
            "align_content": null,
            "align_items": null,
            "align_self": null,
            "border": null,
            "bottom": null,
            "display": null,
            "flex": null,
            "flex_flow": null,
            "grid_area": null,
            "grid_auto_columns": null,
            "grid_auto_flow": null,
            "grid_auto_rows": null,
            "grid_column": null,
            "grid_gap": null,
            "grid_row": null,
            "grid_template_areas": null,
            "grid_template_columns": null,
            "grid_template_rows": null,
            "height": null,
            "justify_content": null,
            "justify_items": null,
            "left": null,
            "margin": null,
            "max_height": null,
            "max_width": null,
            "min_height": null,
            "min_width": null,
            "object_fit": null,
            "object_position": null,
            "order": null,
            "overflow": null,
            "overflow_x": null,
            "overflow_y": null,
            "padding": null,
            "right": null,
            "top": null,
            "visibility": null,
            "width": null
          }
        },
        "35c3637faa524a4c834f42b9777efb4f": {
          "model_module": "@jupyter-widgets/base",
          "model_name": "LayoutModel",
          "model_module_version": "1.2.0",
          "state": {
            "_model_module": "@jupyter-widgets/base",
            "_model_module_version": "1.2.0",
            "_model_name": "LayoutModel",
            "_view_count": null,
            "_view_module": "@jupyter-widgets/base",
            "_view_module_version": "1.2.0",
            "_view_name": "LayoutView",
            "align_content": null,
            "align_items": null,
            "align_self": null,
            "border": null,
            "bottom": null,
            "display": null,
            "flex": null,
            "flex_flow": null,
            "grid_area": null,
            "grid_auto_columns": null,
            "grid_auto_flow": null,
            "grid_auto_rows": null,
            "grid_column": null,
            "grid_gap": null,
            "grid_row": null,
            "grid_template_areas": null,
            "grid_template_columns": null,
            "grid_template_rows": null,
            "height": null,
            "justify_content": null,
            "justify_items": null,
            "left": null,
            "margin": null,
            "max_height": null,
            "max_width": null,
            "min_height": null,
            "min_width": null,
            "object_fit": null,
            "object_position": null,
            "order": null,
            "overflow": null,
            "overflow_x": null,
            "overflow_y": null,
            "padding": null,
            "right": null,
            "top": null,
            "visibility": null,
            "width": null
          }
        },
        "59f114a73c394806a95a2bbd02ec917b": {
          "model_module": "@jupyter-widgets/controls",
          "model_name": "DescriptionStyleModel",
          "model_module_version": "1.5.0",
          "state": {
            "_model_module": "@jupyter-widgets/controls",
            "_model_module_version": "1.5.0",
            "_model_name": "DescriptionStyleModel",
            "_view_count": null,
            "_view_module": "@jupyter-widgets/base",
            "_view_module_version": "1.2.0",
            "_view_name": "StyleView",
            "description_width": ""
          }
        },
        "f82f82fcf7b44d57977a39777dc94566": {
          "model_module": "@jupyter-widgets/base",
          "model_name": "LayoutModel",
          "model_module_version": "1.2.0",
          "state": {
            "_model_module": "@jupyter-widgets/base",
            "_model_module_version": "1.2.0",
            "_model_name": "LayoutModel",
            "_view_count": null,
            "_view_module": "@jupyter-widgets/base",
            "_view_module_version": "1.2.0",
            "_view_name": "LayoutView",
            "align_content": null,
            "align_items": null,
            "align_self": null,
            "border": null,
            "bottom": null,
            "display": null,
            "flex": null,
            "flex_flow": null,
            "grid_area": null,
            "grid_auto_columns": null,
            "grid_auto_flow": null,
            "grid_auto_rows": null,
            "grid_column": null,
            "grid_gap": null,
            "grid_row": null,
            "grid_template_areas": null,
            "grid_template_columns": null,
            "grid_template_rows": null,
            "height": null,
            "justify_content": null,
            "justify_items": null,
            "left": null,
            "margin": null,
            "max_height": null,
            "max_width": null,
            "min_height": null,
            "min_width": null,
            "object_fit": null,
            "object_position": null,
            "order": null,
            "overflow": null,
            "overflow_x": null,
            "overflow_y": null,
            "padding": null,
            "right": null,
            "top": null,
            "visibility": null,
            "width": null
          }
        },
        "12ed049186514beebaee02c1b007ca80": {
          "model_module": "@jupyter-widgets/controls",
          "model_name": "ProgressStyleModel",
          "model_module_version": "1.5.0",
          "state": {
            "_model_module": "@jupyter-widgets/controls",
            "_model_module_version": "1.5.0",
            "_model_name": "ProgressStyleModel",
            "_view_count": null,
            "_view_module": "@jupyter-widgets/base",
            "_view_module_version": "1.2.0",
            "_view_name": "StyleView",
            "bar_color": null,
            "description_width": ""
          }
        },
        "9146f6e82edb468d83a5fae98de9cf0a": {
          "model_module": "@jupyter-widgets/base",
          "model_name": "LayoutModel",
          "model_module_version": "1.2.0",
          "state": {
            "_model_module": "@jupyter-widgets/base",
            "_model_module_version": "1.2.0",
            "_model_name": "LayoutModel",
            "_view_count": null,
            "_view_module": "@jupyter-widgets/base",
            "_view_module_version": "1.2.0",
            "_view_name": "LayoutView",
            "align_content": null,
            "align_items": null,
            "align_self": null,
            "border": null,
            "bottom": null,
            "display": null,
            "flex": null,
            "flex_flow": null,
            "grid_area": null,
            "grid_auto_columns": null,
            "grid_auto_flow": null,
            "grid_auto_rows": null,
            "grid_column": null,
            "grid_gap": null,
            "grid_row": null,
            "grid_template_areas": null,
            "grid_template_columns": null,
            "grid_template_rows": null,
            "height": null,
            "justify_content": null,
            "justify_items": null,
            "left": null,
            "margin": null,
            "max_height": null,
            "max_width": null,
            "min_height": null,
            "min_width": null,
            "object_fit": null,
            "object_position": null,
            "order": null,
            "overflow": null,
            "overflow_x": null,
            "overflow_y": null,
            "padding": null,
            "right": null,
            "top": null,
            "visibility": null,
            "width": null
          }
        },
        "5303a8336c1643e8a50b94438e91cf45": {
          "model_module": "@jupyter-widgets/controls",
          "model_name": "DescriptionStyleModel",
          "model_module_version": "1.5.0",
          "state": {
            "_model_module": "@jupyter-widgets/controls",
            "_model_module_version": "1.5.0",
            "_model_name": "DescriptionStyleModel",
            "_view_count": null,
            "_view_module": "@jupyter-widgets/base",
            "_view_module_version": "1.2.0",
            "_view_name": "StyleView",
            "description_width": ""
          }
        },
        "ef1220698e9d4113a0079c72618c3594": {
          "model_module": "@jupyter-widgets/controls",
          "model_name": "HBoxModel",
          "model_module_version": "1.5.0",
          "state": {
            "_dom_classes": [],
            "_model_module": "@jupyter-widgets/controls",
            "_model_module_version": "1.5.0",
            "_model_name": "HBoxModel",
            "_view_count": null,
            "_view_module": "@jupyter-widgets/controls",
            "_view_module_version": "1.5.0",
            "_view_name": "HBoxView",
            "box_style": "",
            "children": [
              "IPY_MODEL_34463520d3c34e259d2b0c396c31e4a0",
              "IPY_MODEL_dd91106a5339485fb02ed2968fd67fc0",
              "IPY_MODEL_041d58335b484c2280bd409d8b283c75"
            ],
            "layout": "IPY_MODEL_f48c0be111924d4794603ce6ade8a9d5"
          }
        },
        "34463520d3c34e259d2b0c396c31e4a0": {
          "model_module": "@jupyter-widgets/controls",
          "model_name": "HTMLModel",
          "model_module_version": "1.5.0",
          "state": {
            "_dom_classes": [],
            "_model_module": "@jupyter-widgets/controls",
            "_model_module_version": "1.5.0",
            "_model_name": "HTMLModel",
            "_view_count": null,
            "_view_module": "@jupyter-widgets/controls",
            "_view_module_version": "1.5.0",
            "_view_name": "HTMLView",
            "description": "",
            "description_tooltip": null,
            "layout": "IPY_MODEL_5b0dae61ef8c4897aaf159aef83dfc81",
            "placeholder": "​",
            "style": "IPY_MODEL_646cf81543194e81ad6ba7277354f90e",
            "value": "Downloading tf_model.h5: 100%"
          }
        },
        "dd91106a5339485fb02ed2968fd67fc0": {
          "model_module": "@jupyter-widgets/controls",
          "model_name": "FloatProgressModel",
          "model_module_version": "1.5.0",
          "state": {
            "_dom_classes": [],
            "_model_module": "@jupyter-widgets/controls",
            "_model_module_version": "1.5.0",
            "_model_name": "FloatProgressModel",
            "_view_count": null,
            "_view_module": "@jupyter-widgets/controls",
            "_view_module_version": "1.5.0",
            "_view_name": "ProgressView",
            "bar_style": "success",
            "description": "",
            "description_tooltip": null,
            "layout": "IPY_MODEL_416c2dffb1ea46cd90d3ff029bfac076",
            "max": 536063208,
            "min": 0,
            "orientation": "horizontal",
            "style": "IPY_MODEL_3f54a65f055041c4b2ead84b23ef109c",
            "value": 536063208
          }
        },
        "041d58335b484c2280bd409d8b283c75": {
          "model_module": "@jupyter-widgets/controls",
          "model_name": "HTMLModel",
          "model_module_version": "1.5.0",
          "state": {
            "_dom_classes": [],
            "_model_module": "@jupyter-widgets/controls",
            "_model_module_version": "1.5.0",
            "_model_name": "HTMLModel",
            "_view_count": null,
            "_view_module": "@jupyter-widgets/controls",
            "_view_module_version": "1.5.0",
            "_view_name": "HTMLView",
            "description": "",
            "description_tooltip": null,
            "layout": "IPY_MODEL_3e3d123977cf4bcc86a967397c945de4",
            "placeholder": "​",
            "style": "IPY_MODEL_bc0a28d4a7f14679aeac6e94c5459617",
            "value": " 511M/511M [00:13&lt;00:00, 39.3MB/s]"
          }
        },
        "f48c0be111924d4794603ce6ade8a9d5": {
          "model_module": "@jupyter-widgets/base",
          "model_name": "LayoutModel",
          "model_module_version": "1.2.0",
          "state": {
            "_model_module": "@jupyter-widgets/base",
            "_model_module_version": "1.2.0",
            "_model_name": "LayoutModel",
            "_view_count": null,
            "_view_module": "@jupyter-widgets/base",
            "_view_module_version": "1.2.0",
            "_view_name": "LayoutView",
            "align_content": null,
            "align_items": null,
            "align_self": null,
            "border": null,
            "bottom": null,
            "display": null,
            "flex": null,
            "flex_flow": null,
            "grid_area": null,
            "grid_auto_columns": null,
            "grid_auto_flow": null,
            "grid_auto_rows": null,
            "grid_column": null,
            "grid_gap": null,
            "grid_row": null,
            "grid_template_areas": null,
            "grid_template_columns": null,
            "grid_template_rows": null,
            "height": null,
            "justify_content": null,
            "justify_items": null,
            "left": null,
            "margin": null,
            "max_height": null,
            "max_width": null,
            "min_height": null,
            "min_width": null,
            "object_fit": null,
            "object_position": null,
            "order": null,
            "overflow": null,
            "overflow_x": null,
            "overflow_y": null,
            "padding": null,
            "right": null,
            "top": null,
            "visibility": null,
            "width": null
          }
        },
        "5b0dae61ef8c4897aaf159aef83dfc81": {
          "model_module": "@jupyter-widgets/base",
          "model_name": "LayoutModel",
          "model_module_version": "1.2.0",
          "state": {
            "_model_module": "@jupyter-widgets/base",
            "_model_module_version": "1.2.0",
            "_model_name": "LayoutModel",
            "_view_count": null,
            "_view_module": "@jupyter-widgets/base",
            "_view_module_version": "1.2.0",
            "_view_name": "LayoutView",
            "align_content": null,
            "align_items": null,
            "align_self": null,
            "border": null,
            "bottom": null,
            "display": null,
            "flex": null,
            "flex_flow": null,
            "grid_area": null,
            "grid_auto_columns": null,
            "grid_auto_flow": null,
            "grid_auto_rows": null,
            "grid_column": null,
            "grid_gap": null,
            "grid_row": null,
            "grid_template_areas": null,
            "grid_template_columns": null,
            "grid_template_rows": null,
            "height": null,
            "justify_content": null,
            "justify_items": null,
            "left": null,
            "margin": null,
            "max_height": null,
            "max_width": null,
            "min_height": null,
            "min_width": null,
            "object_fit": null,
            "object_position": null,
            "order": null,
            "overflow": null,
            "overflow_x": null,
            "overflow_y": null,
            "padding": null,
            "right": null,
            "top": null,
            "visibility": null,
            "width": null
          }
        },
        "646cf81543194e81ad6ba7277354f90e": {
          "model_module": "@jupyter-widgets/controls",
          "model_name": "DescriptionStyleModel",
          "model_module_version": "1.5.0",
          "state": {
            "_model_module": "@jupyter-widgets/controls",
            "_model_module_version": "1.5.0",
            "_model_name": "DescriptionStyleModel",
            "_view_count": null,
            "_view_module": "@jupyter-widgets/base",
            "_view_module_version": "1.2.0",
            "_view_name": "StyleView",
            "description_width": ""
          }
        },
        "416c2dffb1ea46cd90d3ff029bfac076": {
          "model_module": "@jupyter-widgets/base",
          "model_name": "LayoutModel",
          "model_module_version": "1.2.0",
          "state": {
            "_model_module": "@jupyter-widgets/base",
            "_model_module_version": "1.2.0",
            "_model_name": "LayoutModel",
            "_view_count": null,
            "_view_module": "@jupyter-widgets/base",
            "_view_module_version": "1.2.0",
            "_view_name": "LayoutView",
            "align_content": null,
            "align_items": null,
            "align_self": null,
            "border": null,
            "bottom": null,
            "display": null,
            "flex": null,
            "flex_flow": null,
            "grid_area": null,
            "grid_auto_columns": null,
            "grid_auto_flow": null,
            "grid_auto_rows": null,
            "grid_column": null,
            "grid_gap": null,
            "grid_row": null,
            "grid_template_areas": null,
            "grid_template_columns": null,
            "grid_template_rows": null,
            "height": null,
            "justify_content": null,
            "justify_items": null,
            "left": null,
            "margin": null,
            "max_height": null,
            "max_width": null,
            "min_height": null,
            "min_width": null,
            "object_fit": null,
            "object_position": null,
            "order": null,
            "overflow": null,
            "overflow_x": null,
            "overflow_y": null,
            "padding": null,
            "right": null,
            "top": null,
            "visibility": null,
            "width": null
          }
        },
        "3f54a65f055041c4b2ead84b23ef109c": {
          "model_module": "@jupyter-widgets/controls",
          "model_name": "ProgressStyleModel",
          "model_module_version": "1.5.0",
          "state": {
            "_model_module": "@jupyter-widgets/controls",
            "_model_module_version": "1.5.0",
            "_model_name": "ProgressStyleModel",
            "_view_count": null,
            "_view_module": "@jupyter-widgets/base",
            "_view_module_version": "1.2.0",
            "_view_name": "StyleView",
            "bar_color": null,
            "description_width": ""
          }
        },
        "3e3d123977cf4bcc86a967397c945de4": {
          "model_module": "@jupyter-widgets/base",
          "model_name": "LayoutModel",
          "model_module_version": "1.2.0",
          "state": {
            "_model_module": "@jupyter-widgets/base",
            "_model_module_version": "1.2.0",
            "_model_name": "LayoutModel",
            "_view_count": null,
            "_view_module": "@jupyter-widgets/base",
            "_view_module_version": "1.2.0",
            "_view_name": "LayoutView",
            "align_content": null,
            "align_items": null,
            "align_self": null,
            "border": null,
            "bottom": null,
            "display": null,
            "flex": null,
            "flex_flow": null,
            "grid_area": null,
            "grid_auto_columns": null,
            "grid_auto_flow": null,
            "grid_auto_rows": null,
            "grid_column": null,
            "grid_gap": null,
            "grid_row": null,
            "grid_template_areas": null,
            "grid_template_columns": null,
            "grid_template_rows": null,
            "height": null,
            "justify_content": null,
            "justify_items": null,
            "left": null,
            "margin": null,
            "max_height": null,
            "max_width": null,
            "min_height": null,
            "min_width": null,
            "object_fit": null,
            "object_position": null,
            "order": null,
            "overflow": null,
            "overflow_x": null,
            "overflow_y": null,
            "padding": null,
            "right": null,
            "top": null,
            "visibility": null,
            "width": null
          }
        },
        "bc0a28d4a7f14679aeac6e94c5459617": {
          "model_module": "@jupyter-widgets/controls",
          "model_name": "DescriptionStyleModel",
          "model_module_version": "1.5.0",
          "state": {
            "_model_module": "@jupyter-widgets/controls",
            "_model_module_version": "1.5.0",
            "_model_name": "DescriptionStyleModel",
            "_view_count": null,
            "_view_module": "@jupyter-widgets/base",
            "_view_module_version": "1.2.0",
            "_view_name": "StyleView",
            "description_width": ""
          }
        }
      }
    }
  },
  "nbformat": 4,
  "nbformat_minor": 0
}